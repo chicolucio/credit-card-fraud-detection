{
  "cells": [
    {
      "cell_type": "markdown",
      "metadata": {
        "id": "view-in-github",
        "colab_type": "text"
      },
      "source": [
        "<a href=\"https://colab.research.google.com/github/chicolucio/credit-card-fraud-detection/blob/master/projeto_fraude_cartao_credito_colab.ipynb\" target=\"_parent\"><img src=\"https://colab.research.google.com/assets/colab-badge.svg\" alt=\"Open In Colab\"/></a>"
      ]
    },
    {
      "cell_type": "markdown",
      "id": "7138c8ff",
      "metadata": {
        "id": "7138c8ff"
      },
      "source": [
        "# Detecção de fraudes em cartões de crédito\n",
        "\n",
        "Por: [Francisco Bustamante](https://franciscobustamante.com.br/)\n",
        "\n",
        "*Recomendada a abertura do notebook do Google Colab para uma melhor visualização.*\n",
        "\n",
        "---"
      ]
    },
    {
      "cell_type": "markdown",
      "id": "0ef0e47a",
      "metadata": {
        "id": "0ef0e47a"
      },
      "source": [
        "<center>\n",
        "    <img alt=\"fraud\" src=\"https://raw.githubusercontent.com/chicolucio/credit-card-fraud-detection/master/img/fraud.jpg\">\n",
        "</center>\n",
        "\n",
        "Nas últimas décadas, com o aumento constante de operações financeiras realizadas, fraudes com cartões de crédito têm se tornado um problema considerável. Grande poder computacional é direcionado para tentar detectar operações fraudulentas, especialmente com o uso cada mais intensivo de bancos online e e-commerce. Diversas estratégias de Data Mining e Machine Learning vêm sendo empregadas neste contexto.\n",
        "\n",
        "Neste trabalho, utilizaremos uma base com dados de transações feitas com cartões de crédito e estudaremos diferentes algoritmos que podem ser utilizados para classificar uma determinada transação como fraudulenta ou não."
      ]
    },
    {
      "cell_type": "markdown",
      "id": "967ff575",
      "metadata": {
        "id": "967ff575"
      },
      "source": [
        "## Contextualização"
      ]
    },
    {
      "cell_type": "markdown",
      "id": "644f1561",
      "metadata": {
        "id": "644f1561"
      },
      "source": [
        "<center>\n",
        "    <img alt=\"hacked\" src=\"https://raw.githubusercontent.com/chicolucio/credit-card-fraud-detection/master/img/hacked.jpg\">\n",
        "</center>\n",
        "\n",
        "### Breve descrição de um sistema de detecção de fraudes\n",
        "\n",
        "Muitos tipos de fraudes podem ser realizados, desde omissão de fontes de renda, passando por lavagem de dinheiro, até clonagem de cartão. Na tentativa de se prevenir, a indústria financeira faz uso dos chamados *Sistemas Baseados em Regras*, também chamados de *Sistemas de Produção*, que armazenam e manipulam dados buscando inferir se uma determinada operação é fraudulenta ou não. Atualmente, tais sistemas fazem uso de ferramentas de machine learning.\n",
        "\n",
        "Podemos imaginar um sistema de detecção de fraude em um banco como a figura a seguir. Há o banco de dados da instituição sobre o qual são realizados treinamentos de algoritmos gerando modelos que representam as características das transações armazenadas.\n",
        "\n",
        "<a href=\"https://linktr.ee/flsbustamante\"><img src=\"https://raw.githubusercontent.com/chicolucio/credit-card-fraud-detection/master/img/fraud_flux.png\" alt=\"fraud flux\"></a>\n",
        "\n",
        "<center>    \n",
        "    <p style=\"font-size:80%;color:gray\">Fluxograma de um Sistema de Detecção de Fraudes. Adaptado <a href=\"https://doi.org/10.22937/IJCSNS.2021.21.9.4\">da literatura.</a></p>\n",
        "</center>\n",
        "\n",
        "\n",
        "O modelo, então, é usado para decidir se novas transações serão aceitas como genuínas ou recusadas como fraudulentas. Uma transação aceita será executada e adicionada ao banco de dados para melhorar o modelo. Uma recusada, será destinada para avaliação manual. Se for considerada genuína, será executada e adicionada à base de dados como tal. Caso se confirme a fraude, será confirmada a rejeição e registrada na base como efetivamente fraude.\n",
        "\n",
        "Como vemos, parte crucial do processo é treinar um modelo que seja eficaz. Um modelo bem desenvolvido identificaria não apenas fraudes mas, também, determinaria a probabilidade de um comportamento fraudulento.\n",
        "\n",
        "### Base de dados utilizada neste estudo\n",
        "\n",
        "O dataset utilizado neste trabalho pode ser baixado [deste link do Kaggle](https://www.kaggle.com/mlg-ulb/creditcardfraud). Trata-se de uma base de dados com transações de cartões de crédito registradas por operadoras europeias em dois dias do mês de setembro de 2013. São 284.807 transações das quais apenas 492 foram registradas como fraudes. Observe a quantidade elevada de transações considerando que são apenas de dois dias (e de 8 anos atrás, imagine quanto deve ser o volume atualmente para um mesmo intervalo de tempo) e como é uma base de dados muito desbalanceada, já que somente 0,172 % do total de registros são fraudelentos.\n",
        "\n",
        "Na próxima seção, faremos uma melhor descrição do dataset e começaremos a direcionar nossos esforços para como treinar um modelo eficaz com tal desbalanceamento."
      ]
    },
    {
      "cell_type": "markdown",
      "id": "4042390c",
      "metadata": {
        "id": "4042390c"
      },
      "source": [
        "## Importando bibliotecas e dados"
      ]
    },
    {
      "cell_type": "markdown",
      "id": "6d4faa79",
      "metadata": {
        "id": "6d4faa79"
      },
      "source": [
        "A biblioteca [Imbalanced Learn](https://imbalanced-learn.org/stable/), como o nome indica, é uma biblioteca construída sobre o Scikit-Learn com o intuito de lidar melhor com datasets desbalanceados. Ela não vem em uma instalação padrão do Anaconda e não vem por padrão em uma máquina virtual do Google Colaboratory. Logo, se precisar instalar em seu ambiente, descomente e rode o código da célula a seguir. O código da célula a seguir também atualiza o Matplotlib para que alguns recursos gráficos utilizados estejam disponíveis:"
      ]
    },
    {
      "cell_type": "code",
      "execution_count": 1,
      "id": "451aedcb",
      "metadata": {
        "id": "451aedcb"
      },
      "outputs": [],
      "source": [
        "# reinicie o kernel/runtime do Colab após rodar esta célula\n",
        "\n",
        "!pip install -U imbalanced-learn -q &> /dev/null\n",
        "!pip install matplotlib==3.5.0 -q &> /dev/null"
      ]
    },
    {
      "cell_type": "markdown",
      "id": "9a08bd84",
      "metadata": {
        "id": "9a08bd84"
      },
      "source": [
        "Para facilitar a reprodução do presente estudo, o código da célula seguinte fornece as versões das bibliotecas utilizadas e a versão do interpretador Python utilizado:"
      ]
    },
    {
      "cell_type": "code",
      "execution_count": 2,
      "id": "1f88ccc3",
      "metadata": {
        "colab": {
          "base_uri": "https://localhost:8080/"
        },
        "id": "1f88ccc3",
        "outputId": "c4a77e60-9e0b-4be3-917f-87a684a9cca6"
      },
      "outputs": [
        {
          "output_type": "stream",
          "name": "stdout",
          "text": [
            "Versões das bibliotecas utilizadas no estudo:\n",
            "\n",
            "-------------------- | ----------\n",
            "     Biblioteca      |   Versão  \n",
            "-------------------- | ----------\n",
            "Pandas               |      1.1.5\n",
            "Matplotlib           |      3.5.0\n",
            "Seaborn              |     0.11.2\n",
            "Numpy                |     1.19.5\n",
            "Scikit-Learn         |      1.0.1\n",
            "Imbalanced-Learn     |      0.8.1\n",
            "\n",
            "Versão do Python: 3.7.12\n"
          ]
        }
      ],
      "source": [
        "import pandas as pd\n",
        "import matplotlib\n",
        "import seaborn as sns\n",
        "import numpy as np\n",
        "import imblearn\n",
        "import sklearn\n",
        "from platform import python_version\n",
        "\n",
        "packages = {'Pandas': pd,\n",
        "            'Matplotlib': matplotlib,\n",
        "            'Seaborn': sns,\n",
        "            'Numpy': np,\n",
        "            'Scikit-Learn': sklearn,\n",
        "            'Imbalanced-Learn': imblearn}\n",
        "\n",
        "print('Versões das bibliotecas utilizadas no estudo:\\n')\n",
        "print('{0:-^20} | {1:-^10}'.format('', ''))\n",
        "print('{0:^20} | {1:^10}'.format('Biblioteca', 'Versão'))\n",
        "print('{0:-^20} | {1:-^10}'.format('', ''))\n",
        "\n",
        "for name, alias in packages.items():\n",
        "    print(f'{name:<20} | {alias.__version__:>10}')\n",
        "\n",
        "print()\n",
        "print('{0}: {1}'.format('Versão do Python', python_version()))"
      ]
    },
    {
      "cell_type": "markdown",
      "id": "e4940200",
      "metadata": {
        "id": "e4940200"
      },
      "source": [
        "Na célula seguinte, todos os métodos e classes necessários serão importados. O papel de cada um será descrito no decorrer do trabalho."
      ]
    },
    {
      "cell_type": "code",
      "execution_count": 3,
      "id": "744af1b7",
      "metadata": {
        "id": "744af1b7"
      },
      "outputs": [],
      "source": [
        "# plots\n",
        "import matplotlib.pyplot as plt\n",
        "from matplotlib.ticker import EngFormatter\n",
        "\n",
        "# scaling\n",
        "from sklearn.preprocessing import RobustScaler\n",
        "\n",
        "# model selection\n",
        "from sklearn.model_selection import train_test_split\n",
        "from sklearn.model_selection import RepeatedStratifiedKFold\n",
        "from sklearn.model_selection import cross_val_score, cross_validate\n",
        "from sklearn.model_selection import GridSearchCV\n",
        "\n",
        "# imbalanced\n",
        "from imblearn.under_sampling import RandomUnderSampler\n",
        "from imblearn.pipeline import Pipeline\n",
        "\n",
        "# classifiers\n",
        "from sklearn.dummy import DummyClassifier\n",
        "from sklearn.linear_model import LogisticRegression\n",
        "from sklearn.tree import DecisionTreeClassifier\n",
        "from sklearn.neighbors import KNeighborsClassifier\n",
        "from sklearn.discriminant_analysis import LinearDiscriminantAnalysis\n",
        "from sklearn.naive_bayes import GaussianNB\n",
        "from sklearn.svm import SVC\n",
        "\n",
        "# metrics\n",
        "from sklearn.metrics import precision_recall_curve, average_precision_score\n",
        "from sklearn.metrics import auc\n",
        "from sklearn.metrics import make_scorer\n",
        "from sklearn.metrics import classification_report\n",
        "from sklearn.metrics import roc_auc_score, roc_curve, accuracy_score\n",
        "from sklearn.metrics import recall_score, precision_score, f1_score\n",
        "from sklearn.metrics import confusion_matrix, ConfusionMatrixDisplay"
      ]
    },
    {
      "cell_type": "markdown",
      "id": "bee65854",
      "metadata": {
        "id": "bee65854"
      },
      "source": [
        "A seguir, consideramos que o dataset foi baixado para uma pasta `data` na raiz do projeto. E, com o método `head`, vemos as 5 primeiras entradas da base de dados:"
      ]
    },
    {
      "cell_type": "code",
      "execution_count": 4,
      "id": "7fd79af0",
      "metadata": {
        "colab": {
          "base_uri": "https://localhost:8080/",
          "height": 270
        },
        "id": "7fd79af0",
        "outputId": "ae3b2068-8370-469f-b723-9a01d9491031"
      },
      "outputs": [
        {
          "output_type": "execute_result",
          "data": {
            "text/html": [
              "\n",
              "  <div id=\"df-65b6a39c-db4d-4630-b5b8-203266a7d451\">\n",
              "    <div class=\"colab-df-container\">\n",
              "      <div>\n",
              "<style scoped>\n",
              "    .dataframe tbody tr th:only-of-type {\n",
              "        vertical-align: middle;\n",
              "    }\n",
              "\n",
              "    .dataframe tbody tr th {\n",
              "        vertical-align: top;\n",
              "    }\n",
              "\n",
              "    .dataframe thead th {\n",
              "        text-align: right;\n",
              "    }\n",
              "</style>\n",
              "<table border=\"1\" class=\"dataframe\">\n",
              "  <thead>\n",
              "    <tr style=\"text-align: right;\">\n",
              "      <th></th>\n",
              "      <th>Time</th>\n",
              "      <th>V1</th>\n",
              "      <th>V2</th>\n",
              "      <th>V3</th>\n",
              "      <th>V4</th>\n",
              "      <th>V5</th>\n",
              "      <th>V6</th>\n",
              "      <th>V7</th>\n",
              "      <th>V8</th>\n",
              "      <th>V9</th>\n",
              "      <th>V10</th>\n",
              "      <th>V11</th>\n",
              "      <th>V12</th>\n",
              "      <th>V13</th>\n",
              "      <th>V14</th>\n",
              "      <th>V15</th>\n",
              "      <th>V16</th>\n",
              "      <th>V17</th>\n",
              "      <th>V18</th>\n",
              "      <th>V19</th>\n",
              "      <th>V20</th>\n",
              "      <th>V21</th>\n",
              "      <th>V22</th>\n",
              "      <th>V23</th>\n",
              "      <th>V24</th>\n",
              "      <th>V25</th>\n",
              "      <th>V26</th>\n",
              "      <th>V27</th>\n",
              "      <th>V28</th>\n",
              "      <th>Amount</th>\n",
              "      <th>Class</th>\n",
              "    </tr>\n",
              "  </thead>\n",
              "  <tbody>\n",
              "    <tr>\n",
              "      <th>0</th>\n",
              "      <td>0.0</td>\n",
              "      <td>-1.359807</td>\n",
              "      <td>-0.072781</td>\n",
              "      <td>2.536347</td>\n",
              "      <td>1.378155</td>\n",
              "      <td>-0.338321</td>\n",
              "      <td>0.462388</td>\n",
              "      <td>0.239599</td>\n",
              "      <td>0.098698</td>\n",
              "      <td>0.363787</td>\n",
              "      <td>0.090794</td>\n",
              "      <td>-0.551600</td>\n",
              "      <td>-0.617801</td>\n",
              "      <td>-0.991390</td>\n",
              "      <td>-0.311169</td>\n",
              "      <td>1.468177</td>\n",
              "      <td>-0.470401</td>\n",
              "      <td>0.207971</td>\n",
              "      <td>0.025791</td>\n",
              "      <td>0.403993</td>\n",
              "      <td>0.251412</td>\n",
              "      <td>-0.018307</td>\n",
              "      <td>0.277838</td>\n",
              "      <td>-0.110474</td>\n",
              "      <td>0.066928</td>\n",
              "      <td>0.128539</td>\n",
              "      <td>-0.189115</td>\n",
              "      <td>0.133558</td>\n",
              "      <td>-0.021053</td>\n",
              "      <td>149.62</td>\n",
              "      <td>0</td>\n",
              "    </tr>\n",
              "    <tr>\n",
              "      <th>1</th>\n",
              "      <td>0.0</td>\n",
              "      <td>1.191857</td>\n",
              "      <td>0.266151</td>\n",
              "      <td>0.166480</td>\n",
              "      <td>0.448154</td>\n",
              "      <td>0.060018</td>\n",
              "      <td>-0.082361</td>\n",
              "      <td>-0.078803</td>\n",
              "      <td>0.085102</td>\n",
              "      <td>-0.255425</td>\n",
              "      <td>-0.166974</td>\n",
              "      <td>1.612727</td>\n",
              "      <td>1.065235</td>\n",
              "      <td>0.489095</td>\n",
              "      <td>-0.143772</td>\n",
              "      <td>0.635558</td>\n",
              "      <td>0.463917</td>\n",
              "      <td>-0.114805</td>\n",
              "      <td>-0.183361</td>\n",
              "      <td>-0.145783</td>\n",
              "      <td>-0.069083</td>\n",
              "      <td>-0.225775</td>\n",
              "      <td>-0.638672</td>\n",
              "      <td>0.101288</td>\n",
              "      <td>-0.339846</td>\n",
              "      <td>0.167170</td>\n",
              "      <td>0.125895</td>\n",
              "      <td>-0.008983</td>\n",
              "      <td>0.014724</td>\n",
              "      <td>2.69</td>\n",
              "      <td>0</td>\n",
              "    </tr>\n",
              "    <tr>\n",
              "      <th>2</th>\n",
              "      <td>1.0</td>\n",
              "      <td>-1.358354</td>\n",
              "      <td>-1.340163</td>\n",
              "      <td>1.773209</td>\n",
              "      <td>0.379780</td>\n",
              "      <td>-0.503198</td>\n",
              "      <td>1.800499</td>\n",
              "      <td>0.791461</td>\n",
              "      <td>0.247676</td>\n",
              "      <td>-1.514654</td>\n",
              "      <td>0.207643</td>\n",
              "      <td>0.624501</td>\n",
              "      <td>0.066084</td>\n",
              "      <td>0.717293</td>\n",
              "      <td>-0.165946</td>\n",
              "      <td>2.345865</td>\n",
              "      <td>-2.890083</td>\n",
              "      <td>1.109969</td>\n",
              "      <td>-0.121359</td>\n",
              "      <td>-2.261857</td>\n",
              "      <td>0.524980</td>\n",
              "      <td>0.247998</td>\n",
              "      <td>0.771679</td>\n",
              "      <td>0.909412</td>\n",
              "      <td>-0.689281</td>\n",
              "      <td>-0.327642</td>\n",
              "      <td>-0.139097</td>\n",
              "      <td>-0.055353</td>\n",
              "      <td>-0.059752</td>\n",
              "      <td>378.66</td>\n",
              "      <td>0</td>\n",
              "    </tr>\n",
              "    <tr>\n",
              "      <th>3</th>\n",
              "      <td>1.0</td>\n",
              "      <td>-0.966272</td>\n",
              "      <td>-0.185226</td>\n",
              "      <td>1.792993</td>\n",
              "      <td>-0.863291</td>\n",
              "      <td>-0.010309</td>\n",
              "      <td>1.247203</td>\n",
              "      <td>0.237609</td>\n",
              "      <td>0.377436</td>\n",
              "      <td>-1.387024</td>\n",
              "      <td>-0.054952</td>\n",
              "      <td>-0.226487</td>\n",
              "      <td>0.178228</td>\n",
              "      <td>0.507757</td>\n",
              "      <td>-0.287924</td>\n",
              "      <td>-0.631418</td>\n",
              "      <td>-1.059647</td>\n",
              "      <td>-0.684093</td>\n",
              "      <td>1.965775</td>\n",
              "      <td>-1.232622</td>\n",
              "      <td>-0.208038</td>\n",
              "      <td>-0.108300</td>\n",
              "      <td>0.005274</td>\n",
              "      <td>-0.190321</td>\n",
              "      <td>-1.175575</td>\n",
              "      <td>0.647376</td>\n",
              "      <td>-0.221929</td>\n",
              "      <td>0.062723</td>\n",
              "      <td>0.061458</td>\n",
              "      <td>123.50</td>\n",
              "      <td>0</td>\n",
              "    </tr>\n",
              "    <tr>\n",
              "      <th>4</th>\n",
              "      <td>2.0</td>\n",
              "      <td>-1.158233</td>\n",
              "      <td>0.877737</td>\n",
              "      <td>1.548718</td>\n",
              "      <td>0.403034</td>\n",
              "      <td>-0.407193</td>\n",
              "      <td>0.095921</td>\n",
              "      <td>0.592941</td>\n",
              "      <td>-0.270533</td>\n",
              "      <td>0.817739</td>\n",
              "      <td>0.753074</td>\n",
              "      <td>-0.822843</td>\n",
              "      <td>0.538196</td>\n",
              "      <td>1.345852</td>\n",
              "      <td>-1.119670</td>\n",
              "      <td>0.175121</td>\n",
              "      <td>-0.451449</td>\n",
              "      <td>-0.237033</td>\n",
              "      <td>-0.038195</td>\n",
              "      <td>0.803487</td>\n",
              "      <td>0.408542</td>\n",
              "      <td>-0.009431</td>\n",
              "      <td>0.798278</td>\n",
              "      <td>-0.137458</td>\n",
              "      <td>0.141267</td>\n",
              "      <td>-0.206010</td>\n",
              "      <td>0.502292</td>\n",
              "      <td>0.219422</td>\n",
              "      <td>0.215153</td>\n",
              "      <td>69.99</td>\n",
              "      <td>0</td>\n",
              "    </tr>\n",
              "  </tbody>\n",
              "</table>\n",
              "</div>\n",
              "      <button class=\"colab-df-convert\" onclick=\"convertToInteractive('df-65b6a39c-db4d-4630-b5b8-203266a7d451')\"\n",
              "              title=\"Convert this dataframe to an interactive table.\"\n",
              "              style=\"display:none;\">\n",
              "        \n",
              "  <svg xmlns=\"http://www.w3.org/2000/svg\" height=\"24px\"viewBox=\"0 0 24 24\"\n",
              "       width=\"24px\">\n",
              "    <path d=\"M0 0h24v24H0V0z\" fill=\"none\"/>\n",
              "    <path d=\"M18.56 5.44l.94 2.06.94-2.06 2.06-.94-2.06-.94-.94-2.06-.94 2.06-2.06.94zm-11 1L8.5 8.5l.94-2.06 2.06-.94-2.06-.94L8.5 2.5l-.94 2.06-2.06.94zm10 10l.94 2.06.94-2.06 2.06-.94-2.06-.94-.94-2.06-.94 2.06-2.06.94z\"/><path d=\"M17.41 7.96l-1.37-1.37c-.4-.4-.92-.59-1.43-.59-.52 0-1.04.2-1.43.59L10.3 9.45l-7.72 7.72c-.78.78-.78 2.05 0 2.83L4 21.41c.39.39.9.59 1.41.59.51 0 1.02-.2 1.41-.59l7.78-7.78 2.81-2.81c.8-.78.8-2.07 0-2.86zM5.41 20L4 18.59l7.72-7.72 1.47 1.35L5.41 20z\"/>\n",
              "  </svg>\n",
              "      </button>\n",
              "      \n",
              "  <style>\n",
              "    .colab-df-container {\n",
              "      display:flex;\n",
              "      flex-wrap:wrap;\n",
              "      gap: 12px;\n",
              "    }\n",
              "\n",
              "    .colab-df-convert {\n",
              "      background-color: #E8F0FE;\n",
              "      border: none;\n",
              "      border-radius: 50%;\n",
              "      cursor: pointer;\n",
              "      display: none;\n",
              "      fill: #1967D2;\n",
              "      height: 32px;\n",
              "      padding: 0 0 0 0;\n",
              "      width: 32px;\n",
              "    }\n",
              "\n",
              "    .colab-df-convert:hover {\n",
              "      background-color: #E2EBFA;\n",
              "      box-shadow: 0px 1px 2px rgba(60, 64, 67, 0.3), 0px 1px 3px 1px rgba(60, 64, 67, 0.15);\n",
              "      fill: #174EA6;\n",
              "    }\n",
              "\n",
              "    [theme=dark] .colab-df-convert {\n",
              "      background-color: #3B4455;\n",
              "      fill: #D2E3FC;\n",
              "    }\n",
              "\n",
              "    [theme=dark] .colab-df-convert:hover {\n",
              "      background-color: #434B5C;\n",
              "      box-shadow: 0px 1px 3px 1px rgba(0, 0, 0, 0.15);\n",
              "      filter: drop-shadow(0px 1px 2px rgba(0, 0, 0, 0.3));\n",
              "      fill: #FFFFFF;\n",
              "    }\n",
              "  </style>\n",
              "\n",
              "      <script>\n",
              "        const buttonEl =\n",
              "          document.querySelector('#df-65b6a39c-db4d-4630-b5b8-203266a7d451 button.colab-df-convert');\n",
              "        buttonEl.style.display =\n",
              "          google.colab.kernel.accessAllowed ? 'block' : 'none';\n",
              "\n",
              "        async function convertToInteractive(key) {\n",
              "          const element = document.querySelector('#df-65b6a39c-db4d-4630-b5b8-203266a7d451');\n",
              "          const dataTable =\n",
              "            await google.colab.kernel.invokeFunction('convertToInteractive',\n",
              "                                                     [key], {});\n",
              "          if (!dataTable) return;\n",
              "\n",
              "          const docLinkHtml = 'Like what you see? Visit the ' +\n",
              "            '<a target=\"_blank\" href=https://colab.research.google.com/notebooks/data_table.ipynb>data table notebook</a>'\n",
              "            + ' to learn more about interactive tables.';\n",
              "          element.innerHTML = '';\n",
              "          dataTable['output_type'] = 'display_data';\n",
              "          await google.colab.output.renderOutput(dataTable, element);\n",
              "          const docLink = document.createElement('div');\n",
              "          docLink.innerHTML = docLinkHtml;\n",
              "          element.appendChild(docLink);\n",
              "        }\n",
              "      </script>\n",
              "    </div>\n",
              "  </div>\n",
              "  "
            ],
            "text/plain": [
              "   Time        V1        V2        V3  ...       V27       V28  Amount  Class\n",
              "0   0.0 -1.359807 -0.072781  2.536347  ...  0.133558 -0.021053  149.62      0\n",
              "1   0.0  1.191857  0.266151  0.166480  ... -0.008983  0.014724    2.69      0\n",
              "2   1.0 -1.358354 -1.340163  1.773209  ... -0.055353 -0.059752  378.66      0\n",
              "3   1.0 -0.966272 -0.185226  1.792993  ...  0.062723  0.061458  123.50      0\n",
              "4   2.0 -1.158233  0.877737  1.548718  ...  0.219422  0.215153   69.99      0\n",
              "\n",
              "[5 rows x 31 columns]"
            ]
          },
          "metadata": {},
          "execution_count": 4
        }
      ],
      "source": [
        "DATAFILE = 'https://www.dropbox.com/s/zfdjeypay1q98mu/creditcard.csv?dl=1'\n",
        "\n",
        "df = pd.read_csv(DATAFILE)\n",
        "df.head()"
      ]
    },
    {
      "cell_type": "markdown",
      "id": "1a600e4d",
      "metadata": {
        "id": "1a600e4d"
      },
      "source": [
        "Vamos entender um pouco mais de nosso dataset."
      ]
    },
    {
      "cell_type": "markdown",
      "id": "f40d9379",
      "metadata": {
        "id": "f40d9379"
      },
      "source": [
        "## Análise exploratória dos dados (EDA)\n",
        "\n",
        "<center>\n",
        "    <img alt=\"eda\" src=\"https://raw.githubusercontent.com/chicolucio/credit-card-fraud-detection/master/img/eda.jpg\">\n",
        "</center>"
      ]
    },
    {
      "cell_type": "markdown",
      "id": "e29a9662",
      "metadata": {
        "id": "e29a9662"
      },
      "source": [
        "### Resumo estatístico\n",
        "\n",
        "Vejamos as dimensões:"
      ]
    },
    {
      "cell_type": "code",
      "execution_count": 5,
      "id": "4d392001",
      "metadata": {
        "colab": {
          "base_uri": "https://localhost:8080/"
        },
        "id": "4d392001",
        "outputId": "566af0ab-d778-406f-f21e-2e0dce884bcd"
      },
      "outputs": [
        {
          "output_type": "stream",
          "name": "stdout",
          "text": [
            "Quantidade de entradas: 284807\n",
            "Quantidade de variáveis: 31\n"
          ]
        }
      ],
      "source": [
        "print(f'Quantidade de entradas: {df.shape[0]}')\n",
        "print(f'Quantidade de variáveis: {df.shape[1]}')"
      ]
    },
    {
      "cell_type": "markdown",
      "id": "fa4e0c16",
      "metadata": {
        "id": "fa4e0c16"
      },
      "source": [
        "Como já havíamos discutido na introdução, temos 284807 entradas e 31 variáveis. Na [descrição da base de dados no Kaggle](https://www.kaggle.com/mlg-ulb/creditcardfraud), são fornecidas algumas explicações acerca das variáveis:\n",
        "\n",
        "- por questões de confidencialidade, não são disponibilizadas as identificações de boa parte das variáveis originais;\n",
        "- as representadas como *V1, V2,... V28* são resultado de uma transformação de [análise de componentes principais - PCA](https://en.wikipedia.org/wiki/Principal_component_analysis), uma técnica utilizada para condensar a informação contida em várias variáveis originais em um conjunto menor de variáveis estatísticas (componentes) com uma perda mínima de informação. Mais adiante veremos algumas consequências dessa transformação em nossa análise;\n",
        "- as variáveis `Time` (tempo) e `Amount` (valor de cada transação) não passaram por PCA.\n",
        "    - o tempo se refere ao intervalo, em segundos, entre cada transação e a primeira no dataset\n",
        "- a variável `Class` é a variável alvo:\n",
        "    - o valor `0` significa transação genuína, legítima\n",
        "    - o valor `1` significa fraude"
      ]
    },
    {
      "cell_type": "markdown",
      "id": "35bd5344",
      "metadata": {
        "id": "35bd5344"
      },
      "source": [
        "Vejamos as informações que os métodos `info` e `describe` nos fornecem:"
      ]
    },
    {
      "cell_type": "code",
      "execution_count": 6,
      "id": "961ca627",
      "metadata": {
        "colab": {
          "base_uri": "https://localhost:8080/"
        },
        "id": "961ca627",
        "outputId": "b9695f89-9a4f-4abc-dfa7-363dff1d3bc2"
      },
      "outputs": [
        {
          "output_type": "stream",
          "name": "stdout",
          "text": [
            "<class 'pandas.core.frame.DataFrame'>\n",
            "RangeIndex: 284807 entries, 0 to 284806\n",
            "Data columns (total 31 columns):\n",
            " #   Column  Non-Null Count   Dtype  \n",
            "---  ------  --------------   -----  \n",
            " 0   Time    284807 non-null  float64\n",
            " 1   V1      284807 non-null  float64\n",
            " 2   V2      284807 non-null  float64\n",
            " 3   V3      284807 non-null  float64\n",
            " 4   V4      284807 non-null  float64\n",
            " 5   V5      284807 non-null  float64\n",
            " 6   V6      284807 non-null  float64\n",
            " 7   V7      284807 non-null  float64\n",
            " 8   V8      284807 non-null  float64\n",
            " 9   V9      284807 non-null  float64\n",
            " 10  V10     284807 non-null  float64\n",
            " 11  V11     284807 non-null  float64\n",
            " 12  V12     284807 non-null  float64\n",
            " 13  V13     284807 non-null  float64\n",
            " 14  V14     284807 non-null  float64\n",
            " 15  V15     284807 non-null  float64\n",
            " 16  V16     284807 non-null  float64\n",
            " 17  V17     284807 non-null  float64\n",
            " 18  V18     284807 non-null  float64\n",
            " 19  V19     284807 non-null  float64\n",
            " 20  V20     284807 non-null  float64\n",
            " 21  V21     284807 non-null  float64\n",
            " 22  V22     284807 non-null  float64\n",
            " 23  V23     284807 non-null  float64\n",
            " 24  V24     284807 non-null  float64\n",
            " 25  V25     284807 non-null  float64\n",
            " 26  V26     284807 non-null  float64\n",
            " 27  V27     284807 non-null  float64\n",
            " 28  V28     284807 non-null  float64\n",
            " 29  Amount  284807 non-null  float64\n",
            " 30  Class   284807 non-null  int64  \n",
            "dtypes: float64(30), int64(1)\n",
            "memory usage: 67.4 MB\n"
          ]
        }
      ],
      "source": [
        "df.info()"
      ]
    },
    {
      "cell_type": "code",
      "execution_count": 7,
      "id": "7ee2debe",
      "metadata": {
        "colab": {
          "base_uri": "https://localhost:8080/",
          "height": 364
        },
        "id": "7ee2debe",
        "outputId": "ee650073-b1b3-4bdc-abc6-86c275050ce3"
      },
      "outputs": [
        {
          "output_type": "display_data",
          "data": {
            "text/html": [
              "\n",
              "  <div id=\"df-df05454b-232d-4edc-bb1d-d8502603d194\">\n",
              "    <div class=\"colab-df-container\">\n",
              "      <div>\n",
              "<style scoped>\n",
              "    .dataframe tbody tr th:only-of-type {\n",
              "        vertical-align: middle;\n",
              "    }\n",
              "\n",
              "    .dataframe tbody tr th {\n",
              "        vertical-align: top;\n",
              "    }\n",
              "\n",
              "    .dataframe thead th {\n",
              "        text-align: right;\n",
              "    }\n",
              "</style>\n",
              "<table border=\"1\" class=\"dataframe\">\n",
              "  <thead>\n",
              "    <tr style=\"text-align: right;\">\n",
              "      <th></th>\n",
              "      <th>Time</th>\n",
              "      <th>V1</th>\n",
              "      <th>V2</th>\n",
              "      <th>V3</th>\n",
              "      <th>V4</th>\n",
              "      <th>V5</th>\n",
              "      <th>V6</th>\n",
              "      <th>V7</th>\n",
              "      <th>V8</th>\n",
              "      <th>V9</th>\n",
              "      <th>V10</th>\n",
              "      <th>V11</th>\n",
              "      <th>V12</th>\n",
              "      <th>V13</th>\n",
              "      <th>V14</th>\n",
              "      <th>V15</th>\n",
              "      <th>V16</th>\n",
              "      <th>V17</th>\n",
              "      <th>V18</th>\n",
              "      <th>V19</th>\n",
              "      <th>V20</th>\n",
              "      <th>V21</th>\n",
              "      <th>V22</th>\n",
              "      <th>V23</th>\n",
              "      <th>V24</th>\n",
              "      <th>V25</th>\n",
              "      <th>V26</th>\n",
              "      <th>V27</th>\n",
              "      <th>V28</th>\n",
              "      <th>Amount</th>\n",
              "      <th>Class</th>\n",
              "    </tr>\n",
              "  </thead>\n",
              "  <tbody>\n",
              "    <tr>\n",
              "      <th>count</th>\n",
              "      <td>284807.00</td>\n",
              "      <td>2.85e+05</td>\n",
              "      <td>2.85e+05</td>\n",
              "      <td>2.85e+05</td>\n",
              "      <td>2.85e+05</td>\n",
              "      <td>2.85e+05</td>\n",
              "      <td>2.85e+05</td>\n",
              "      <td>2.85e+05</td>\n",
              "      <td>2.85e+05</td>\n",
              "      <td>2.85e+05</td>\n",
              "      <td>2.85e+05</td>\n",
              "      <td>2.85e+05</td>\n",
              "      <td>2.85e+05</td>\n",
              "      <td>2.85e+05</td>\n",
              "      <td>2.85e+05</td>\n",
              "      <td>2.85e+05</td>\n",
              "      <td>2.85e+05</td>\n",
              "      <td>2.85e+05</td>\n",
              "      <td>2.85e+05</td>\n",
              "      <td>2.85e+05</td>\n",
              "      <td>2.85e+05</td>\n",
              "      <td>2.85e+05</td>\n",
              "      <td>2.85e+05</td>\n",
              "      <td>2.85e+05</td>\n",
              "      <td>2.85e+05</td>\n",
              "      <td>2.85e+05</td>\n",
              "      <td>2.85e+05</td>\n",
              "      <td>2.85e+05</td>\n",
              "      <td>2.85e+05</td>\n",
              "      <td>284807.00</td>\n",
              "      <td>2.85e+05</td>\n",
              "    </tr>\n",
              "    <tr>\n",
              "      <th>mean</th>\n",
              "      <td>94813.86</td>\n",
              "      <td>3.92e-15</td>\n",
              "      <td>5.69e-16</td>\n",
              "      <td>-8.77e-15</td>\n",
              "      <td>2.78e-15</td>\n",
              "      <td>-1.55e-15</td>\n",
              "      <td>2.01e-15</td>\n",
              "      <td>-1.69e-15</td>\n",
              "      <td>-1.93e-16</td>\n",
              "      <td>-3.14e-15</td>\n",
              "      <td>1.77e-15</td>\n",
              "      <td>9.17e-16</td>\n",
              "      <td>-1.81e-15</td>\n",
              "      <td>1.69e-15</td>\n",
              "      <td>1.48e-15</td>\n",
              "      <td>3.48e-15</td>\n",
              "      <td>1.39e-15</td>\n",
              "      <td>-7.53e-16</td>\n",
              "      <td>4.33e-16</td>\n",
              "      <td>9.05e-16</td>\n",
              "      <td>5.09e-16</td>\n",
              "      <td>1.54e-16</td>\n",
              "      <td>7.96e-16</td>\n",
              "      <td>5.37e-16</td>\n",
              "      <td>4.46e-15</td>\n",
              "      <td>1.45e-15</td>\n",
              "      <td>1.70e-15</td>\n",
              "      <td>-3.66e-16</td>\n",
              "      <td>-1.21e-16</td>\n",
              "      <td>88.35</td>\n",
              "      <td>1.73e-03</td>\n",
              "    </tr>\n",
              "    <tr>\n",
              "      <th>std</th>\n",
              "      <td>47488.15</td>\n",
              "      <td>1.96e+00</td>\n",
              "      <td>1.65e+00</td>\n",
              "      <td>1.52e+00</td>\n",
              "      <td>1.42e+00</td>\n",
              "      <td>1.38e+00</td>\n",
              "      <td>1.33e+00</td>\n",
              "      <td>1.24e+00</td>\n",
              "      <td>1.19e+00</td>\n",
              "      <td>1.10e+00</td>\n",
              "      <td>1.09e+00</td>\n",
              "      <td>1.02e+00</td>\n",
              "      <td>9.99e-01</td>\n",
              "      <td>9.95e-01</td>\n",
              "      <td>9.59e-01</td>\n",
              "      <td>9.15e-01</td>\n",
              "      <td>8.76e-01</td>\n",
              "      <td>8.49e-01</td>\n",
              "      <td>8.38e-01</td>\n",
              "      <td>8.14e-01</td>\n",
              "      <td>7.71e-01</td>\n",
              "      <td>7.35e-01</td>\n",
              "      <td>7.26e-01</td>\n",
              "      <td>6.24e-01</td>\n",
              "      <td>6.06e-01</td>\n",
              "      <td>5.21e-01</td>\n",
              "      <td>4.82e-01</td>\n",
              "      <td>4.04e-01</td>\n",
              "      <td>3.30e-01</td>\n",
              "      <td>250.12</td>\n",
              "      <td>4.15e-02</td>\n",
              "    </tr>\n",
              "    <tr>\n",
              "      <th>min</th>\n",
              "      <td>0.00</td>\n",
              "      <td>-5.64e+01</td>\n",
              "      <td>-7.27e+01</td>\n",
              "      <td>-4.83e+01</td>\n",
              "      <td>-5.68e+00</td>\n",
              "      <td>-1.14e+02</td>\n",
              "      <td>-2.62e+01</td>\n",
              "      <td>-4.36e+01</td>\n",
              "      <td>-7.32e+01</td>\n",
              "      <td>-1.34e+01</td>\n",
              "      <td>-2.46e+01</td>\n",
              "      <td>-4.80e+00</td>\n",
              "      <td>-1.87e+01</td>\n",
              "      <td>-5.79e+00</td>\n",
              "      <td>-1.92e+01</td>\n",
              "      <td>-4.50e+00</td>\n",
              "      <td>-1.41e+01</td>\n",
              "      <td>-2.52e+01</td>\n",
              "      <td>-9.50e+00</td>\n",
              "      <td>-7.21e+00</td>\n",
              "      <td>-5.45e+01</td>\n",
              "      <td>-3.48e+01</td>\n",
              "      <td>-1.09e+01</td>\n",
              "      <td>-4.48e+01</td>\n",
              "      <td>-2.84e+00</td>\n",
              "      <td>-1.03e+01</td>\n",
              "      <td>-2.60e+00</td>\n",
              "      <td>-2.26e+01</td>\n",
              "      <td>-1.54e+01</td>\n",
              "      <td>0.00</td>\n",
              "      <td>0.00e+00</td>\n",
              "    </tr>\n",
              "    <tr>\n",
              "      <th>25%</th>\n",
              "      <td>54201.50</td>\n",
              "      <td>-9.20e-01</td>\n",
              "      <td>-5.99e-01</td>\n",
              "      <td>-8.90e-01</td>\n",
              "      <td>-8.49e-01</td>\n",
              "      <td>-6.92e-01</td>\n",
              "      <td>-7.68e-01</td>\n",
              "      <td>-5.54e-01</td>\n",
              "      <td>-2.09e-01</td>\n",
              "      <td>-6.43e-01</td>\n",
              "      <td>-5.35e-01</td>\n",
              "      <td>-7.62e-01</td>\n",
              "      <td>-4.06e-01</td>\n",
              "      <td>-6.49e-01</td>\n",
              "      <td>-4.26e-01</td>\n",
              "      <td>-5.83e-01</td>\n",
              "      <td>-4.68e-01</td>\n",
              "      <td>-4.84e-01</td>\n",
              "      <td>-4.99e-01</td>\n",
              "      <td>-4.56e-01</td>\n",
              "      <td>-2.12e-01</td>\n",
              "      <td>-2.28e-01</td>\n",
              "      <td>-5.42e-01</td>\n",
              "      <td>-1.62e-01</td>\n",
              "      <td>-3.55e-01</td>\n",
              "      <td>-3.17e-01</td>\n",
              "      <td>-3.27e-01</td>\n",
              "      <td>-7.08e-02</td>\n",
              "      <td>-5.30e-02</td>\n",
              "      <td>5.60</td>\n",
              "      <td>0.00e+00</td>\n",
              "    </tr>\n",
              "    <tr>\n",
              "      <th>50%</th>\n",
              "      <td>84692.00</td>\n",
              "      <td>1.81e-02</td>\n",
              "      <td>6.55e-02</td>\n",
              "      <td>1.80e-01</td>\n",
              "      <td>-1.98e-02</td>\n",
              "      <td>-5.43e-02</td>\n",
              "      <td>-2.74e-01</td>\n",
              "      <td>4.01e-02</td>\n",
              "      <td>2.24e-02</td>\n",
              "      <td>-5.14e-02</td>\n",
              "      <td>-9.29e-02</td>\n",
              "      <td>-3.28e-02</td>\n",
              "      <td>1.40e-01</td>\n",
              "      <td>-1.36e-02</td>\n",
              "      <td>5.06e-02</td>\n",
              "      <td>4.81e-02</td>\n",
              "      <td>6.64e-02</td>\n",
              "      <td>-6.57e-02</td>\n",
              "      <td>-3.64e-03</td>\n",
              "      <td>3.73e-03</td>\n",
              "      <td>-6.25e-02</td>\n",
              "      <td>-2.95e-02</td>\n",
              "      <td>6.78e-03</td>\n",
              "      <td>-1.12e-02</td>\n",
              "      <td>4.10e-02</td>\n",
              "      <td>1.66e-02</td>\n",
              "      <td>-5.21e-02</td>\n",
              "      <td>1.34e-03</td>\n",
              "      <td>1.12e-02</td>\n",
              "      <td>22.00</td>\n",
              "      <td>0.00e+00</td>\n",
              "    </tr>\n",
              "    <tr>\n",
              "      <th>75%</th>\n",
              "      <td>139320.50</td>\n",
              "      <td>1.32e+00</td>\n",
              "      <td>8.04e-01</td>\n",
              "      <td>1.03e+00</td>\n",
              "      <td>7.43e-01</td>\n",
              "      <td>6.12e-01</td>\n",
              "      <td>3.99e-01</td>\n",
              "      <td>5.70e-01</td>\n",
              "      <td>3.27e-01</td>\n",
              "      <td>5.97e-01</td>\n",
              "      <td>4.54e-01</td>\n",
              "      <td>7.40e-01</td>\n",
              "      <td>6.18e-01</td>\n",
              "      <td>6.63e-01</td>\n",
              "      <td>4.93e-01</td>\n",
              "      <td>6.49e-01</td>\n",
              "      <td>5.23e-01</td>\n",
              "      <td>4.00e-01</td>\n",
              "      <td>5.01e-01</td>\n",
              "      <td>4.59e-01</td>\n",
              "      <td>1.33e-01</td>\n",
              "      <td>1.86e-01</td>\n",
              "      <td>5.29e-01</td>\n",
              "      <td>1.48e-01</td>\n",
              "      <td>4.40e-01</td>\n",
              "      <td>3.51e-01</td>\n",
              "      <td>2.41e-01</td>\n",
              "      <td>9.10e-02</td>\n",
              "      <td>7.83e-02</td>\n",
              "      <td>77.16</td>\n",
              "      <td>0.00e+00</td>\n",
              "    </tr>\n",
              "    <tr>\n",
              "      <th>max</th>\n",
              "      <td>172792.00</td>\n",
              "      <td>2.45e+00</td>\n",
              "      <td>2.21e+01</td>\n",
              "      <td>9.38e+00</td>\n",
              "      <td>1.69e+01</td>\n",
              "      <td>3.48e+01</td>\n",
              "      <td>7.33e+01</td>\n",
              "      <td>1.21e+02</td>\n",
              "      <td>2.00e+01</td>\n",
              "      <td>1.56e+01</td>\n",
              "      <td>2.37e+01</td>\n",
              "      <td>1.20e+01</td>\n",
              "      <td>7.85e+00</td>\n",
              "      <td>7.13e+00</td>\n",
              "      <td>1.05e+01</td>\n",
              "      <td>8.88e+00</td>\n",
              "      <td>1.73e+01</td>\n",
              "      <td>9.25e+00</td>\n",
              "      <td>5.04e+00</td>\n",
              "      <td>5.59e+00</td>\n",
              "      <td>3.94e+01</td>\n",
              "      <td>2.72e+01</td>\n",
              "      <td>1.05e+01</td>\n",
              "      <td>2.25e+01</td>\n",
              "      <td>4.58e+00</td>\n",
              "      <td>7.52e+00</td>\n",
              "      <td>3.52e+00</td>\n",
              "      <td>3.16e+01</td>\n",
              "      <td>3.38e+01</td>\n",
              "      <td>25691.16</td>\n",
              "      <td>1.00e+00</td>\n",
              "    </tr>\n",
              "  </tbody>\n",
              "</table>\n",
              "</div>\n",
              "      <button class=\"colab-df-convert\" onclick=\"convertToInteractive('df-df05454b-232d-4edc-bb1d-d8502603d194')\"\n",
              "              title=\"Convert this dataframe to an interactive table.\"\n",
              "              style=\"display:none;\">\n",
              "        \n",
              "  <svg xmlns=\"http://www.w3.org/2000/svg\" height=\"24px\"viewBox=\"0 0 24 24\"\n",
              "       width=\"24px\">\n",
              "    <path d=\"M0 0h24v24H0V0z\" fill=\"none\"/>\n",
              "    <path d=\"M18.56 5.44l.94 2.06.94-2.06 2.06-.94-2.06-.94-.94-2.06-.94 2.06-2.06.94zm-11 1L8.5 8.5l.94-2.06 2.06-.94-2.06-.94L8.5 2.5l-.94 2.06-2.06.94zm10 10l.94 2.06.94-2.06 2.06-.94-2.06-.94-.94-2.06-.94 2.06-2.06.94z\"/><path d=\"M17.41 7.96l-1.37-1.37c-.4-.4-.92-.59-1.43-.59-.52 0-1.04.2-1.43.59L10.3 9.45l-7.72 7.72c-.78.78-.78 2.05 0 2.83L4 21.41c.39.39.9.59 1.41.59.51 0 1.02-.2 1.41-.59l7.78-7.78 2.81-2.81c.8-.78.8-2.07 0-2.86zM5.41 20L4 18.59l7.72-7.72 1.47 1.35L5.41 20z\"/>\n",
              "  </svg>\n",
              "      </button>\n",
              "      \n",
              "  <style>\n",
              "    .colab-df-container {\n",
              "      display:flex;\n",
              "      flex-wrap:wrap;\n",
              "      gap: 12px;\n",
              "    }\n",
              "\n",
              "    .colab-df-convert {\n",
              "      background-color: #E8F0FE;\n",
              "      border: none;\n",
              "      border-radius: 50%;\n",
              "      cursor: pointer;\n",
              "      display: none;\n",
              "      fill: #1967D2;\n",
              "      height: 32px;\n",
              "      padding: 0 0 0 0;\n",
              "      width: 32px;\n",
              "    }\n",
              "\n",
              "    .colab-df-convert:hover {\n",
              "      background-color: #E2EBFA;\n",
              "      box-shadow: 0px 1px 2px rgba(60, 64, 67, 0.3), 0px 1px 3px 1px rgba(60, 64, 67, 0.15);\n",
              "      fill: #174EA6;\n",
              "    }\n",
              "\n",
              "    [theme=dark] .colab-df-convert {\n",
              "      background-color: #3B4455;\n",
              "      fill: #D2E3FC;\n",
              "    }\n",
              "\n",
              "    [theme=dark] .colab-df-convert:hover {\n",
              "      background-color: #434B5C;\n",
              "      box-shadow: 0px 1px 3px 1px rgba(0, 0, 0, 0.15);\n",
              "      filter: drop-shadow(0px 1px 2px rgba(0, 0, 0, 0.3));\n",
              "      fill: #FFFFFF;\n",
              "    }\n",
              "  </style>\n",
              "\n",
              "      <script>\n",
              "        const buttonEl =\n",
              "          document.querySelector('#df-df05454b-232d-4edc-bb1d-d8502603d194 button.colab-df-convert');\n",
              "        buttonEl.style.display =\n",
              "          google.colab.kernel.accessAllowed ? 'block' : 'none';\n",
              "\n",
              "        async function convertToInteractive(key) {\n",
              "          const element = document.querySelector('#df-df05454b-232d-4edc-bb1d-d8502603d194');\n",
              "          const dataTable =\n",
              "            await google.colab.kernel.invokeFunction('convertToInteractive',\n",
              "                                                     [key], {});\n",
              "          if (!dataTable) return;\n",
              "\n",
              "          const docLinkHtml = 'Like what you see? Visit the ' +\n",
              "            '<a target=\"_blank\" href=https://colab.research.google.com/notebooks/data_table.ipynb>data table notebook</a>'\n",
              "            + ' to learn more about interactive tables.';\n",
              "          element.innerHTML = '';\n",
              "          dataTable['output_type'] = 'display_data';\n",
              "          await google.colab.output.renderOutput(dataTable, element);\n",
              "          const docLink = document.createElement('div');\n",
              "          docLink.innerHTML = docLinkHtml;\n",
              "          element.appendChild(docLink);\n",
              "        }\n",
              "      </script>\n",
              "    </div>\n",
              "  </div>\n",
              "  "
            ],
            "text/plain": [
              "            Time        V1        V2        V3        V4        V5        V6  \\\n",
              "count  284807.00  2.85e+05  2.85e+05  2.85e+05  2.85e+05  2.85e+05  2.85e+05   \n",
              "mean    94813.86  3.92e-15  5.69e-16 -8.77e-15  2.78e-15 -1.55e-15  2.01e-15   \n",
              "std     47488.15  1.96e+00  1.65e+00  1.52e+00  1.42e+00  1.38e+00  1.33e+00   \n",
              "min         0.00 -5.64e+01 -7.27e+01 -4.83e+01 -5.68e+00 -1.14e+02 -2.62e+01   \n",
              "25%     54201.50 -9.20e-01 -5.99e-01 -8.90e-01 -8.49e-01 -6.92e-01 -7.68e-01   \n",
              "50%     84692.00  1.81e-02  6.55e-02  1.80e-01 -1.98e-02 -5.43e-02 -2.74e-01   \n",
              "75%    139320.50  1.32e+00  8.04e-01  1.03e+00  7.43e-01  6.12e-01  3.99e-01   \n",
              "max    172792.00  2.45e+00  2.21e+01  9.38e+00  1.69e+01  3.48e+01  7.33e+01   \n",
              "\n",
              "             V7        V8        V9       V10       V11       V12       V13  \\\n",
              "count  2.85e+05  2.85e+05  2.85e+05  2.85e+05  2.85e+05  2.85e+05  2.85e+05   \n",
              "mean  -1.69e-15 -1.93e-16 -3.14e-15  1.77e-15  9.17e-16 -1.81e-15  1.69e-15   \n",
              "std    1.24e+00  1.19e+00  1.10e+00  1.09e+00  1.02e+00  9.99e-01  9.95e-01   \n",
              "min   -4.36e+01 -7.32e+01 -1.34e+01 -2.46e+01 -4.80e+00 -1.87e+01 -5.79e+00   \n",
              "25%   -5.54e-01 -2.09e-01 -6.43e-01 -5.35e-01 -7.62e-01 -4.06e-01 -6.49e-01   \n",
              "50%    4.01e-02  2.24e-02 -5.14e-02 -9.29e-02 -3.28e-02  1.40e-01 -1.36e-02   \n",
              "75%    5.70e-01  3.27e-01  5.97e-01  4.54e-01  7.40e-01  6.18e-01  6.63e-01   \n",
              "max    1.21e+02  2.00e+01  1.56e+01  2.37e+01  1.20e+01  7.85e+00  7.13e+00   \n",
              "\n",
              "            V14       V15       V16       V17       V18       V19       V20  \\\n",
              "count  2.85e+05  2.85e+05  2.85e+05  2.85e+05  2.85e+05  2.85e+05  2.85e+05   \n",
              "mean   1.48e-15  3.48e-15  1.39e-15 -7.53e-16  4.33e-16  9.05e-16  5.09e-16   \n",
              "std    9.59e-01  9.15e-01  8.76e-01  8.49e-01  8.38e-01  8.14e-01  7.71e-01   \n",
              "min   -1.92e+01 -4.50e+00 -1.41e+01 -2.52e+01 -9.50e+00 -7.21e+00 -5.45e+01   \n",
              "25%   -4.26e-01 -5.83e-01 -4.68e-01 -4.84e-01 -4.99e-01 -4.56e-01 -2.12e-01   \n",
              "50%    5.06e-02  4.81e-02  6.64e-02 -6.57e-02 -3.64e-03  3.73e-03 -6.25e-02   \n",
              "75%    4.93e-01  6.49e-01  5.23e-01  4.00e-01  5.01e-01  4.59e-01  1.33e-01   \n",
              "max    1.05e+01  8.88e+00  1.73e+01  9.25e+00  5.04e+00  5.59e+00  3.94e+01   \n",
              "\n",
              "            V21       V22       V23       V24       V25       V26       V27  \\\n",
              "count  2.85e+05  2.85e+05  2.85e+05  2.85e+05  2.85e+05  2.85e+05  2.85e+05   \n",
              "mean   1.54e-16  7.96e-16  5.37e-16  4.46e-15  1.45e-15  1.70e-15 -3.66e-16   \n",
              "std    7.35e-01  7.26e-01  6.24e-01  6.06e-01  5.21e-01  4.82e-01  4.04e-01   \n",
              "min   -3.48e+01 -1.09e+01 -4.48e+01 -2.84e+00 -1.03e+01 -2.60e+00 -2.26e+01   \n",
              "25%   -2.28e-01 -5.42e-01 -1.62e-01 -3.55e-01 -3.17e-01 -3.27e-01 -7.08e-02   \n",
              "50%   -2.95e-02  6.78e-03 -1.12e-02  4.10e-02  1.66e-02 -5.21e-02  1.34e-03   \n",
              "75%    1.86e-01  5.29e-01  1.48e-01  4.40e-01  3.51e-01  2.41e-01  9.10e-02   \n",
              "max    2.72e+01  1.05e+01  2.25e+01  4.58e+00  7.52e+00  3.52e+00  3.16e+01   \n",
              "\n",
              "            V28     Amount     Class  \n",
              "count  2.85e+05  284807.00  2.85e+05  \n",
              "mean  -1.21e-16      88.35  1.73e-03  \n",
              "std    3.30e-01     250.12  4.15e-02  \n",
              "min   -1.54e+01       0.00  0.00e+00  \n",
              "25%   -5.30e-02       5.60  0.00e+00  \n",
              "50%    1.12e-02      22.00  0.00e+00  \n",
              "75%    7.83e-02      77.16  0.00e+00  \n",
              "max    3.38e+01   25691.16  1.00e+00  "
            ]
          },
          "metadata": {}
        }
      ],
      "source": [
        "with pd.option_context('precision', 2, 'display.max_columns', 50):\n",
        "    display(df.describe())"
      ]
    },
    {
      "cell_type": "markdown",
      "id": "4d11355c",
      "metadata": {
        "id": "4d11355c"
      },
      "source": [
        "Vemos que:\n",
        "\n",
        "- todos as variáveis são de tipos numéricos do tipo float, com exceção da `Class`, nosso alvo, que é do tipo inteiro, possuindo apenas valores 0 ou 1; \n",
        "- as variáveis `Vx`, ou seja, *V1, V2,...V28*, possuem faixas de valores distintas\n",
        "- a variável `Amount` tem grande faixa de valores: de 0 até 25691.16. No entanto, predominam transações de pequeno valor já que o intervalo interquartil (IQR, de 25 a 75 %) vai de 5.60 até 77.16, com mediana de 22.00. A média é de 88.35, acima do limite superior do IQR. Há, portanto, a espectativa de muitos outliers na faixa de valores altos.\n",
        "\n",
        "Já vimos com `info` que aparentemente não há dados ausentes no dataset. Verifiquemos novamente com `isna`:"
      ]
    },
    {
      "cell_type": "code",
      "execution_count": 8,
      "id": "8891a36e",
      "metadata": {
        "colab": {
          "base_uri": "https://localhost:8080/"
        },
        "id": "8891a36e",
        "outputId": "4cc7884c-34a6-410c-e8bd-a4fe0b715810"
      },
      "outputs": [
        {
          "output_type": "execute_result",
          "data": {
            "text/plain": [
              "Time      0\n",
              "V1        0\n",
              "V2        0\n",
              "V3        0\n",
              "V4        0\n",
              "V5        0\n",
              "V6        0\n",
              "V7        0\n",
              "V8        0\n",
              "V9        0\n",
              "V10       0\n",
              "V11       0\n",
              "V12       0\n",
              "V13       0\n",
              "V14       0\n",
              "V15       0\n",
              "V16       0\n",
              "V17       0\n",
              "V18       0\n",
              "V19       0\n",
              "V20       0\n",
              "V21       0\n",
              "V22       0\n",
              "V23       0\n",
              "V24       0\n",
              "V25       0\n",
              "V26       0\n",
              "V27       0\n",
              "V28       0\n",
              "Amount    0\n",
              "Class     0\n",
              "dtype: int64"
            ]
          },
          "metadata": {},
          "execution_count": 8
        }
      ],
      "source": [
        "df.isna().sum()"
      ]
    },
    {
      "cell_type": "markdown",
      "id": "38c4c2eb",
      "metadata": {
        "id": "38c4c2eb"
      },
      "source": [
        "Quando lidamos com dados numéricos, também é uma boa prática verificar se há uma quantidade não usual de valores zero. Isto porque, de forma errônea, muitos colocam o valor zero como indicador de valor ausente e tal prática pode levar a distorções de análise:"
      ]
    },
    {
      "cell_type": "code",
      "execution_count": 9,
      "id": "80e1c286",
      "metadata": {
        "colab": {
          "base_uri": "https://localhost:8080/"
        },
        "id": "80e1c286",
        "outputId": "b9532864-cc5d-4bb8-c7e0-e8e86965a2a9"
      },
      "outputs": [
        {
          "output_type": "execute_result",
          "data": {
            "text/plain": [
              "Time           2\n",
              "V1             0\n",
              "V2             0\n",
              "V3             0\n",
              "V4             0\n",
              "V5             0\n",
              "V6             0\n",
              "V7             0\n",
              "V8             0\n",
              "V9             0\n",
              "V10            0\n",
              "V11            0\n",
              "V12            0\n",
              "V13            0\n",
              "V14            0\n",
              "V15            0\n",
              "V16            0\n",
              "V17            0\n",
              "V18            0\n",
              "V19            0\n",
              "V20            0\n",
              "V21            0\n",
              "V22            0\n",
              "V23            0\n",
              "V24            0\n",
              "V25            0\n",
              "V26            0\n",
              "V27            0\n",
              "V28            0\n",
              "Amount      1825\n",
              "Class     284315\n",
              "dtype: int64"
            ]
          },
          "metadata": {},
          "execution_count": 9
        }
      ],
      "source": [
        "df[df == 0].count()"
      ]
    },
    {
      "cell_type": "markdown",
      "id": "263a947e",
      "metadata": {
        "id": "263a947e"
      },
      "source": [
        "Por óbvio, `Class` possui muitos valores 0 já que tal valor nessa variável tem o significado de transação genuína. Vemos que há 1825 entradas de transações de valor 0 (variável `Amount`). Não está claro o que isto significa, se são casos de estorno, por exemplo, ou algo similar. Como é um número muito pequeno de casos frente à quantidade de entradas do dataset, tais entradas não serão retiradas."
      ]
    },
    {
      "cell_type": "markdown",
      "id": "1eb66a3a",
      "metadata": {
        "id": "1eb66a3a"
      },
      "source": [
        "Já vimos na introdução que o dataset é desbalanceado. Verifiquemos tal informação:"
      ]
    },
    {
      "cell_type": "code",
      "execution_count": 10,
      "id": "832409e4",
      "metadata": {
        "colab": {
          "base_uri": "https://localhost:8080/"
        },
        "id": "832409e4",
        "outputId": "bd7e1315-9ae3-4771-db82-7a42bb541455"
      },
      "outputs": [
        {
          "output_type": "execute_result",
          "data": {
            "text/plain": [
              "Class\n",
              "0    284315\n",
              "1       492\n",
              "dtype: int64"
            ]
          },
          "metadata": {},
          "execution_count": 10
        }
      ],
      "source": [
        "df.groupby('Class').size()"
      ]
    },
    {
      "cell_type": "code",
      "execution_count": 11,
      "id": "e23eeb6e",
      "metadata": {
        "colab": {
          "base_uri": "https://localhost:8080/"
        },
        "id": "e23eeb6e",
        "outputId": "c190289c-2433-41c5-ecf1-a4c632199a92"
      },
      "outputs": [
        {
          "output_type": "execute_result",
          "data": {
            "text/plain": [
              "Class\n",
              "0    99.827251\n",
              "1     0.172749\n",
              "dtype: float64"
            ]
          },
          "metadata": {},
          "execution_count": 11
        }
      ],
      "source": [
        "# percentual de cada classe:\n",
        "\n",
        "df.groupby('Class').size().transform(lambda x: x / x.sum()) * 100"
      ]
    },
    {
      "cell_type": "code",
      "execution_count": 12,
      "id": "3fcb7c6c",
      "metadata": {
        "colab": {
          "base_uri": "https://localhost:8080/",
          "height": 442
        },
        "id": "3fcb7c6c",
        "outputId": "b9021fd5-cf42-409b-baa6-2152ecb5ea2a"
      },
      "outputs": [
        {
          "output_type": "display_data",
          "data": {
            "image/png": "[encoded data removed]",
            "text/plain": [
              "<Figure size 1008x504 with 3 Axes>"
            ]
          },
          "metadata": {
            "needs_background": "light"
          }
        }
      ],
      "source": [
        "fig, (ax1, ax2, ax3) = plt.subplots(ncols=3, nrows=1, figsize=(14, 7))\n",
        "\n",
        "for ax in (ax2, ax3):\n",
        "    ax.axis('off')\n",
        "\n",
        "eng_format = EngFormatter(places=0)    \n",
        "labels = df.groupby('Class').size().values\n",
        "\n",
        "temp = df.groupby('Class')['Class'].size()\n",
        "\n",
        "temp.plot(kind='bar', ax=ax1)\n",
        "\n",
        "ax1.yaxis.set_major_formatter(EngFormatter())\n",
        "ax1.set_yscale('log')\n",
        "ax1.spines['right'].set_visible(False)\n",
        "ax1.spines['top'].set_visible(False)\n",
        "ax1.tick_params(axis='x', labelrotation=0)\n",
        "\n",
        "ax1.bar_label(ax1.containers[0], label_type='edge', \n",
        "              labels=map(eng_format, labels), color='black', fontsize=10, \n",
        "              weight='bold')\n",
        "\n",
        "ax2.text(-0.15, 0.81,\n",
        "         'Dos mais de 284 mil registros, \\napenas',\n",
        "         fontsize=19,\n",
        "         color='blue')\n",
        "\n",
        "ax2.text(-0.15, 0.58,\n",
        "         r'$\\bf{492}$', \n",
        "         fontsize=80,\n",
        "         color='purple')\n",
        "\n",
        "ax2.text(-0.15, 0.5,\n",
        "         # use mathtext \\\\bf for bold text\n",
        "         r'$\\mathrm{\\bf{correspondem\\ a\\ fraudes}}$',\n",
        "         fontsize=19,\n",
        "         color='red')\n",
        "\n",
        "ax3.text(0.15, 0.51,\n",
        "         'Uma proporção de',\n",
        "         fontsize=19,\n",
        "         color='gray')\n",
        "\n",
        "ax3.text(0.15, 0.28,\n",
        "         r'$\\mathrm{\\bf{0.17\\%}}$', \n",
        "         fontsize=80,\n",
        "         color='red')\n",
        "\n",
        "ax3.text(0.15, 0.2,\n",
        "         # use mathtext \\\\bf for bold text\n",
        "         r'$\\mathrm{\\bf{da\\ base\\ de\\ dados}}$',\n",
        "         fontsize=19,\n",
        "         color='blue')\n",
        "\n",
        "\n",
        "plt.show()"
      ]
    },
    {
      "cell_type": "markdown",
      "id": "a0291046",
      "metadata": {
        "id": "a0291046"
      },
      "source": [
        "### Visualizando a distribuição de cada variável"
      ]
    },
    {
      "cell_type": "markdown",
      "id": "49cf3e70",
      "metadata": {
        "id": "49cf3e70"
      },
      "source": [
        "Vamos agora avaliar a distribuição de cada variável graficamente. Para iniciar, vamos estabelecer algumas configurações básicas para nossos gráficos:"
      ]
    },
    {
      "cell_type": "code",
      "execution_count": 13,
      "id": "cca50de0",
      "metadata": {
        "id": "cca50de0"
      },
      "outputs": [],
      "source": [
        "params = {\n",
        "    'lines.linewidth': 2.0,\n",
        "    'axes.labelsize': 10,\n",
        "    'axes.titlesize': 10,\n",
        "    'axes.spines.top': False,\n",
        "    'axes.spines.right': False,\n",
        "    'xtick.labelsize': 10,\n",
        "    'ytick.labelsize': 10,\n",
        "    'figure.autolayout': True,\n",
        "    'figure.titlesize': 14,    \n",
        "    'figure.figsize': (8, 6),\n",
        "    'legend.shadow': False,    \n",
        "    'legend.fontsize': 8,\n",
        "}\n",
        "\n",
        "plt.rcParams.update(params)"
      ]
    },
    {
      "cell_type": "markdown",
      "id": "6a79f198",
      "metadata": {
        "id": "6a79f198"
      },
      "source": [
        "Comecemos com histogramas para as variáveis do dataset:"
      ]
    },
    {
      "cell_type": "code",
      "execution_count": 14,
      "id": "32e80e54",
      "metadata": {
        "colab": {
          "base_uri": "https://localhost:8080/",
          "height": 729
        },
        "id": "32e80e54",
        "outputId": "b922d0f8-8f2e-48d8-f228-82ec5c308f63"
      },
      "outputs": [
        {
          "output_type": "display_data",
          "data": {
            "image/png": "[encoded data removed]",
            "text/plain": [
              "<Figure size 864x720 with 36 Axes>"
            ]
          },
          "metadata": {
            "needs_background": "light"
          }
        }
      ],
      "source": [
        "df.hist(figsize=(12, 10));"
      ]
    },
    {
      "cell_type": "markdown",
      "id": "ab9ed0af",
      "metadata": {
        "id": "ab9ed0af"
      },
      "source": [
        "Vemos que todas as features `Vx` possuem valores centrados em zero, uma característica derivada do processo de PCA que as originou. \n",
        "\n",
        "A variável `Time` possui um perfil bimodal. Conforme citado anteriormente, o dataset é para transações de dois dias seguidos, sendo 0 o tempo inicial e os demais tempos registrados como o tempo, em segundos, entre cada transação após o momento inicial. Vemos que a primeira \"onda\" do perfil termina ao redor de 90.000 segundos, aproximadamente 25 h. Assim, considerando que o tempo zero seja meia-noite, o perfil bimodal é coerente com um maior registro de transações em horário comercial em cada dia.\n",
        "\n",
        "Quanto a `Amount`, vemos uma única barra em valores pequenos. Coerente com o já discutido de que há grande concentração em valores abaixo de 100.00. \n",
        "\n",
        "Em `Class`, o já discutido predomínio do valor 0 referente a transações legítimas."
      ]
    },
    {
      "cell_type": "markdown",
      "id": "18862fec",
      "metadata": {
        "id": "18862fec"
      },
      "source": [
        "Vamos avaliar agora os *boxplots* de cada variável:"
      ]
    },
    {
      "cell_type": "code",
      "execution_count": 15,
      "id": "977bd276",
      "metadata": {
        "colab": {
          "base_uri": "https://localhost:8080/",
          "height": 729
        },
        "id": "977bd276",
        "outputId": "2905a85f-8697-4d21-cb84-dfa02e616b68"
      },
      "outputs": [
        {
          "output_type": "display_data",
          "data": {
            "image/png": "[encoded data removed]",
            "text/plain": [
              "<Figure size 864x720 with 36 Axes>"
            ]
          },
          "metadata": {
            "needs_background": "light"
          }
        }
      ],
      "source": [
        "df.plot(kind='box', subplots=True, layout=(6, 6), \n",
        "        sharex=False, figsize=(12, 10));"
      ]
    },
    {
      "cell_type": "markdown",
      "id": "a886d567",
      "metadata": {
        "id": "a886d567"
      },
      "source": [
        "Novamente, vemos que as features `Vx` estão centradas em zero mas, agora, é possível ver que possuem faixas de valores bem distintas e diversos outliers. Quanto a `Amount`, mais uma indicação que possui outliers em valores elevados.\n",
        "\n",
        "As variáveis `Vx` são resultado de PCA e não temos informações sobre as variáveis originais. Assim, vamos avaliar como é a distribuição de cada classe alvo para cada variável. O intuito é tentar identificar quais dessas variáveis podem ser interessantes se em algum momento do estudo desejarmos selecionar features para melhorar nossos modelos. Usaremos [gráficos KDE](https://seaborn.pydata.org/tutorial/distributions.html#tutorial-kde):"
      ]
    },
    {
      "cell_type": "code",
      "execution_count": 16,
      "id": "77baf146",
      "metadata": {
        "colab": {
          "base_uri": "https://localhost:8080/",
          "height": 729
        },
        "id": "77baf146",
        "outputId": "6ce44492-ce84-4c0c-f01c-7657c186346c"
      },
      "outputs": [
        {
          "output_type": "display_data",
          "data": {
            "image/png": "[encoded data removed]",
            "text/plain": [
              "<Figure size 864x720 with 28 Axes>"
            ]
          },
          "metadata": {
            "needs_background": "light"
          }
        }
      ],
      "source": [
        "features = df.drop(['Time', 'Amount', 'Class'], axis=1).columns\n",
        "\n",
        "df_class_0 = df[df['Class'] == 0]\n",
        "df_class_1 = df[df['Class'] == 1]\n",
        "\n",
        "fig, ax = plt.subplots(nrows=7, ncols=4, figsize=(12, 10))\n",
        "\n",
        "for axis, feature in zip(ax.flatten(), features):\n",
        "    sns.kdeplot(df_class_0[feature], label='Class 0', shade=True, \n",
        "                ax=axis)\n",
        "    sns.kdeplot(df_class_1[feature], label='Class 1', shade=True, \n",
        "                ax=axis)\n",
        "    axis.set_title(feature)\n",
        "    axis.set_xlabel(None)\n",
        "    axis.set_ylabel(None)\n",
        "    axis.legend()"
      ]
    },
    {
      "cell_type": "markdown",
      "id": "2e10c7c5",
      "metadata": {
        "id": "2e10c7c5"
      },
      "source": [
        "Vemos que há variáveis onde a distinção das duas classes é bem clara: *V1-4*, *V9-12, V14*, e *V16-19*. Logo, podem ser de interesse em modelos. Mais adiante analisaremos diagramas de correlação que podem ratificar a escolha de tais variáveis."
      ]
    },
    {
      "cell_type": "markdown",
      "id": "f9dadc7c",
      "metadata": {
        "id": "f9dadc7c"
      },
      "source": [
        "Vejamos como é o comportamento de cada classe para a variável `Amount`:"
      ]
    },
    {
      "cell_type": "code",
      "execution_count": 17,
      "id": "b2545fba",
      "metadata": {
        "colab": {
          "base_uri": "https://localhost:8080/",
          "height": 441
        },
        "id": "b2545fba",
        "outputId": "c447b0b0-d171-4d03-cf45-b2a1aac268b0"
      },
      "outputs": [
        {
          "output_type": "display_data",
          "data": {
            "image/png": "[encoded data removed]",
            "text/plain": [
              "<Figure size 576x432 with 1 Axes>"
            ]
          },
          "metadata": {
            "needs_background": "light"
          }
        }
      ],
      "source": [
        "fig, ax = plt.subplots(sharex=True)\n",
        "\n",
        "sns.boxplot(x=df['Class'], y=df['Amount'], showmeans=True, ax=ax)\n",
        "ax.set_ylim((-20, 500))\n",
        "plt.show()"
      ]
    },
    {
      "cell_type": "markdown",
      "id": "24afa56b",
      "metadata": {
        "id": "24afa56b"
      },
      "source": [
        "Vemos que a mediana dos valores fraudulentos é menor que a de transações genuínas, embora a média seja maior. Vejamos um breve resumo estatístico das transações fraudulentas:"
      ]
    },
    {
      "cell_type": "code",
      "execution_count": 18,
      "id": "b4328f84",
      "metadata": {
        "colab": {
          "base_uri": "https://localhost:8080/"
        },
        "id": "b4328f84",
        "outputId": "9def7e17-3448-4fa3-c7c5-0bf092831ed9"
      },
      "outputs": [
        {
          "output_type": "execute_result",
          "data": {
            "text/plain": [
              "count     492.000000\n",
              "mean      122.211321\n",
              "std       256.683288\n",
              "min         0.000000\n",
              "25%         1.000000\n",
              "50%         9.250000\n",
              "75%       105.890000\n",
              "max      2125.870000\n",
              "Name: Amount, dtype: float64"
            ]
          },
          "metadata": {},
          "execution_count": 18
        }
      ],
      "source": [
        "df[(df['Class'] == 1)]['Amount'].describe()"
      ]
    },
    {
      "cell_type": "markdown",
      "id": "7e2e00e2",
      "metadata": {
        "id": "7e2e00e2"
      },
      "source": [
        "Vemos que o valor máximo é de 2125.87, a média de 122.21, e a mediana de 9.25."
      ]
    },
    {
      "cell_type": "markdown",
      "id": "ada1b5e4",
      "metadata": {
        "id": "ada1b5e4"
      },
      "source": [
        "### Matriz de correlação\n",
        "\n",
        "Vamos verificar a matriz de correlação entre as features de nosso dataset:"
      ]
    },
    {
      "cell_type": "code",
      "execution_count": 19,
      "id": "0c185a9d",
      "metadata": {
        "colab": {
          "base_uri": "https://localhost:8080/",
          "height": 729
        },
        "id": "0c185a9d",
        "outputId": "6c5ebb68-1056-49fd-b1d9-0f3bdd765648"
      },
      "outputs": [
        {
          "output_type": "display_data",
          "data": {
            "image/png": "[encoded data removed]",
            "text/plain": [
              "<Figure size 720x720 with 2 Axes>"
            ]
          },
          "metadata": {
            "needs_background": "light"
          }
        }
      ],
      "source": [
        "fig, ax = plt.subplots(figsize=(10, 10))\n",
        "\n",
        "ax = sns.heatmap(df.corr(), square=True, annot=False, fmt='.1f',\n",
        "                 linecolor='white', linewidth=0.5, cmap='RdBu',);\n",
        "\n",
        "plt.show()"
      ]
    },
    {
      "cell_type": "markdown",
      "id": "27445aa1",
      "metadata": {
        "id": "27445aa1"
      },
      "source": [
        "Veja que é uma matrix que não faz muito sentido. Basicamente, informa que não há correlação alguma (nem positiva nem negativa) entre todas as variáveis `Vx`. Na realidade, isto é consequência do desbalanceamento da base de dados. Como quase todos os registros são de classe 0, transações legítimas, não são detectadas correlações.\n",
        "\n",
        "Nosso próximo passo será preparar os dados para lidar com esse desbalanceamento."
      ]
    },
    {
      "cell_type": "markdown",
      "id": "a1a03743",
      "metadata": {
        "id": "a1a03743"
      },
      "source": [
        "## Preparando os dados\n",
        "\n",
        "<center>\n",
        "    <img alt=\"data\" src=\"https://raw.githubusercontent.com/chicolucio/credit-card-fraud-detection/master/img/data.jpg\">\n",
        "</center>"
      ]
    },
    {
      "cell_type": "markdown",
      "id": "87856103",
      "metadata": {
        "id": "87856103"
      },
      "source": [
        "### Escalando os dados"
      ]
    },
    {
      "cell_type": "markdown",
      "id": "b888789e",
      "metadata": {
        "id": "b888789e"
      },
      "source": [
        "Como já discutivo, as features `Amount` e `Time` não passaram por nenhum tipo de tratamento antes da disponibilização dos dados. Para alguns algoritmos como, por exemplo, o K-Nearest Neighbor (KNN), é interessante que os atributos tenham escalas similares. Há [diversos métodos para escalar os atributos](https://scikit-learn.org/stable/auto_examples/preprocessing/plot_all_scaling.html). Aqui, usaremos o `RobustScaler` por ser menos sensível a outliers muito discrepantes como os que ocorrem em `Amount`:"
      ]
    },
    {
      "cell_type": "code",
      "execution_count": null,
      "id": "74b1fcf2",
      "metadata": {
        "id": "74b1fcf2",
        "outputId": "f5b1714c-695c-43e9-a108-3b60776f6b84"
      },
      "outputs": [
        {
          "data": {
            "text/html": [
              "<div>\n",
              "<style scoped>\n",
              "    .dataframe tbody tr th:only-of-type {\n",
              "        vertical-align: middle;\n",
              "    }\n",
              "\n",
              "    .dataframe tbody tr th {\n",
              "        vertical-align: top;\n",
              "    }\n",
              "\n",
              "    .dataframe thead th {\n",
              "        text-align: right;\n",
              "    }\n",
              "</style>\n",
              "<table border=\"1\" class=\"dataframe\">\n",
              "  <thead>\n",
              "    <tr style=\"text-align: right;\">\n",
              "      <th></th>\n",
              "      <th>V1</th>\n",
              "      <th>V2</th>\n",
              "      <th>V3</th>\n",
              "      <th>V4</th>\n",
              "      <th>V5</th>\n",
              "      <th>V6</th>\n",
              "      <th>V7</th>\n",
              "      <th>V8</th>\n",
              "      <th>V9</th>\n",
              "      <th>V10</th>\n",
              "      <th>V11</th>\n",
              "      <th>V12</th>\n",
              "      <th>V13</th>\n",
              "      <th>V14</th>\n",
              "      <th>V15</th>\n",
              "      <th>V16</th>\n",
              "      <th>V17</th>\n",
              "      <th>V18</th>\n",
              "      <th>V19</th>\n",
              "      <th>V20</th>\n",
              "      <th>V21</th>\n",
              "      <th>V22</th>\n",
              "      <th>V23</th>\n",
              "      <th>V24</th>\n",
              "      <th>V25</th>\n",
              "      <th>V26</th>\n",
              "      <th>V27</th>\n",
              "      <th>V28</th>\n",
              "      <th>Class</th>\n",
              "      <th>scaled_amount</th>\n",
              "      <th>scaled_time</th>\n",
              "    </tr>\n",
              "  </thead>\n",
              "  <tbody>\n",
              "    <tr>\n",
              "      <th>0</th>\n",
              "      <td>-1.36</td>\n",
              "      <td>-0.07</td>\n",
              "      <td>2.54</td>\n",
              "      <td>1.38</td>\n",
              "      <td>-0.34</td>\n",
              "      <td>0.46</td>\n",
              "      <td>0.24</td>\n",
              "      <td>0.10</td>\n",
              "      <td>0.36</td>\n",
              "      <td>0.09</td>\n",
              "      <td>-0.55</td>\n",
              "      <td>-0.62</td>\n",
              "      <td>-0.99</td>\n",
              "      <td>-0.31</td>\n",
              "      <td>1.47</td>\n",
              "      <td>-0.47</td>\n",
              "      <td>0.21</td>\n",
              "      <td>0.03</td>\n",
              "      <td>0.40</td>\n",
              "      <td>0.25</td>\n",
              "      <td>-1.83e-02</td>\n",
              "      <td>2.78e-01</td>\n",
              "      <td>-0.11</td>\n",
              "      <td>0.07</td>\n",
              "      <td>0.13</td>\n",
              "      <td>-0.19</td>\n",
              "      <td>1.34e-01</td>\n",
              "      <td>-0.02</td>\n",
              "      <td>0</td>\n",
              "      <td>1.78</td>\n",
              "      <td>-0.99</td>\n",
              "    </tr>\n",
              "    <tr>\n",
              "      <th>1</th>\n",
              "      <td>1.19</td>\n",
              "      <td>0.27</td>\n",
              "      <td>0.17</td>\n",
              "      <td>0.45</td>\n",
              "      <td>0.06</td>\n",
              "      <td>-0.08</td>\n",
              "      <td>-0.08</td>\n",
              "      <td>0.09</td>\n",
              "      <td>-0.26</td>\n",
              "      <td>-0.17</td>\n",
              "      <td>1.61</td>\n",
              "      <td>1.07</td>\n",
              "      <td>0.49</td>\n",
              "      <td>-0.14</td>\n",
              "      <td>0.64</td>\n",
              "      <td>0.46</td>\n",
              "      <td>-0.11</td>\n",
              "      <td>-0.18</td>\n",
              "      <td>-0.15</td>\n",
              "      <td>-0.07</td>\n",
              "      <td>-2.26e-01</td>\n",
              "      <td>-6.39e-01</td>\n",
              "      <td>0.10</td>\n",
              "      <td>-0.34</td>\n",
              "      <td>0.17</td>\n",
              "      <td>0.13</td>\n",
              "      <td>-8.98e-03</td>\n",
              "      <td>0.01</td>\n",
              "      <td>0</td>\n",
              "      <td>-0.27</td>\n",
              "      <td>-0.99</td>\n",
              "    </tr>\n",
              "    <tr>\n",
              "      <th>2</th>\n",
              "      <td>-1.36</td>\n",
              "      <td>-1.34</td>\n",
              "      <td>1.77</td>\n",
              "      <td>0.38</td>\n",
              "      <td>-0.50</td>\n",
              "      <td>1.80</td>\n",
              "      <td>0.79</td>\n",
              "      <td>0.25</td>\n",
              "      <td>-1.51</td>\n",
              "      <td>0.21</td>\n",
              "      <td>0.62</td>\n",
              "      <td>0.07</td>\n",
              "      <td>0.72</td>\n",
              "      <td>-0.17</td>\n",
              "      <td>2.35</td>\n",
              "      <td>-2.89</td>\n",
              "      <td>1.11</td>\n",
              "      <td>-0.12</td>\n",
              "      <td>-2.26</td>\n",
              "      <td>0.52</td>\n",
              "      <td>2.48e-01</td>\n",
              "      <td>7.72e-01</td>\n",
              "      <td>0.91</td>\n",
              "      <td>-0.69</td>\n",
              "      <td>-0.33</td>\n",
              "      <td>-0.14</td>\n",
              "      <td>-5.54e-02</td>\n",
              "      <td>-0.06</td>\n",
              "      <td>0</td>\n",
              "      <td>4.98</td>\n",
              "      <td>-0.99</td>\n",
              "    </tr>\n",
              "    <tr>\n",
              "      <th>3</th>\n",
              "      <td>-0.97</td>\n",
              "      <td>-0.19</td>\n",
              "      <td>1.79</td>\n",
              "      <td>-0.86</td>\n",
              "      <td>-0.01</td>\n",
              "      <td>1.25</td>\n",
              "      <td>0.24</td>\n",
              "      <td>0.38</td>\n",
              "      <td>-1.39</td>\n",
              "      <td>-0.05</td>\n",
              "      <td>-0.23</td>\n",
              "      <td>0.18</td>\n",
              "      <td>0.51</td>\n",
              "      <td>-0.29</td>\n",
              "      <td>-0.63</td>\n",
              "      <td>-1.06</td>\n",
              "      <td>-0.68</td>\n",
              "      <td>1.97</td>\n",
              "      <td>-1.23</td>\n",
              "      <td>-0.21</td>\n",
              "      <td>-1.08e-01</td>\n",
              "      <td>5.27e-03</td>\n",
              "      <td>-0.19</td>\n",
              "      <td>-1.18</td>\n",
              "      <td>0.65</td>\n",
              "      <td>-0.22</td>\n",
              "      <td>6.27e-02</td>\n",
              "      <td>0.06</td>\n",
              "      <td>0</td>\n",
              "      <td>1.42</td>\n",
              "      <td>-0.99</td>\n",
              "    </tr>\n",
              "    <tr>\n",
              "      <th>4</th>\n",
              "      <td>-1.16</td>\n",
              "      <td>0.88</td>\n",
              "      <td>1.55</td>\n",
              "      <td>0.40</td>\n",
              "      <td>-0.41</td>\n",
              "      <td>0.10</td>\n",
              "      <td>0.59</td>\n",
              "      <td>-0.27</td>\n",
              "      <td>0.82</td>\n",
              "      <td>0.75</td>\n",
              "      <td>-0.82</td>\n",
              "      <td>0.54</td>\n",
              "      <td>1.35</td>\n",
              "      <td>-1.12</td>\n",
              "      <td>0.18</td>\n",
              "      <td>-0.45</td>\n",
              "      <td>-0.24</td>\n",
              "      <td>-0.04</td>\n",
              "      <td>0.80</td>\n",
              "      <td>0.41</td>\n",
              "      <td>-9.43e-03</td>\n",
              "      <td>7.98e-01</td>\n",
              "      <td>-0.14</td>\n",
              "      <td>0.14</td>\n",
              "      <td>-0.21</td>\n",
              "      <td>0.50</td>\n",
              "      <td>2.19e-01</td>\n",
              "      <td>0.22</td>\n",
              "      <td>0</td>\n",
              "      <td>0.67</td>\n",
              "      <td>-0.99</td>\n",
              "    </tr>\n",
              "  </tbody>\n",
              "</table>\n",
              "</div>"
            ],
            "text/plain": [
              "     V1    V2    V3    V4    V5    V6    V7    V8    V9   V10   V11   V12  \\\n",
              "0 -1.36 -0.07  2.54  1.38 -0.34  0.46  0.24  0.10  0.36  0.09 -0.55 -0.62   \n",
              "1  1.19  0.27  0.17  0.45  0.06 -0.08 -0.08  0.09 -0.26 -0.17  1.61  1.07   \n",
              "2 -1.36 -1.34  1.77  0.38 -0.50  1.80  0.79  0.25 -1.51  0.21  0.62  0.07   \n",
              "3 -0.97 -0.19  1.79 -0.86 -0.01  1.25  0.24  0.38 -1.39 -0.05 -0.23  0.18   \n",
              "4 -1.16  0.88  1.55  0.40 -0.41  0.10  0.59 -0.27  0.82  0.75 -0.82  0.54   \n",
              "\n",
              "    V13   V14   V15   V16   V17   V18   V19   V20       V21       V22   V23  \\\n",
              "0 -0.99 -0.31  1.47 -0.47  0.21  0.03  0.40  0.25 -1.83e-02  2.78e-01 -0.11   \n",
              "1  0.49 -0.14  0.64  0.46 -0.11 -0.18 -0.15 -0.07 -2.26e-01 -6.39e-01  0.10   \n",
              "2  0.72 -0.17  2.35 -2.89  1.11 -0.12 -2.26  0.52  2.48e-01  7.72e-01  0.91   \n",
              "3  0.51 -0.29 -0.63 -1.06 -0.68  1.97 -1.23 -0.21 -1.08e-01  5.27e-03 -0.19   \n",
              "4  1.35 -1.12  0.18 -0.45 -0.24 -0.04  0.80  0.41 -9.43e-03  7.98e-01 -0.14   \n",
              "\n",
              "    V24   V25   V26       V27   V28  Class  scaled_amount  scaled_time  \n",
              "0  0.07  0.13 -0.19  1.34e-01 -0.02      0           1.78        -0.99  \n",
              "1 -0.34  0.17  0.13 -8.98e-03  0.01      0          -0.27        -0.99  \n",
              "2 -0.69 -0.33 -0.14 -5.54e-02 -0.06      0           4.98        -0.99  \n",
              "3 -1.18  0.65 -0.22  6.27e-02  0.06      0           1.42        -0.99  \n",
              "4  0.14 -0.21  0.50  2.19e-01  0.22      0           0.67        -0.99  "
            ]
          },
          "metadata": {},
          "output_type": "display_data"
        }
      ],
      "source": [
        "rob_scaler = RobustScaler()\n",
        "\n",
        "amount_reshape = df['Amount'].values.reshape(-1,1)\n",
        "time_reshape = df['Time'].values.reshape(-1,1)\n",
        "\n",
        "df['scaled_amount'] = rob_scaler.fit_transform(amount_reshape)\n",
        "df['scaled_time'] = rob_scaler.fit_transform(time_reshape)\n",
        "\n",
        "df_scaled = df.drop(['Time','Amount'], axis=1)\n",
        "\n",
        "with pd.option_context('precision', 2, 'display.max_columns', 50):\n",
        "    display(df_scaled.head())"
      ]
    },
    {
      "cell_type": "markdown",
      "id": "cfd1971c",
      "metadata": {
        "id": "cfd1971c"
      },
      "source": [
        "### Dividindo o dataset (treino e teste)"
      ]
    },
    {
      "cell_type": "markdown",
      "id": "b59ab17c",
      "metadata": {
        "id": "b59ab17c"
      },
      "source": [
        "Para facilitar a reprodutibilidade deste estudo, em métodos que possuem parâmetros para controlar a semente de geração randômica, a seguinte semente será utilizada:"
      ]
    },
    {
      "cell_type": "code",
      "execution_count": null,
      "id": "8fd0e05d",
      "metadata": {
        "id": "8fd0e05d"
      },
      "outputs": [],
      "source": [
        "RANDOM_STATE = 42"
      ]
    },
    {
      "cell_type": "markdown",
      "id": "5ea585a7",
      "metadata": {
        "id": "5ea585a7"
      },
      "source": [
        "Em bases de dados com grande desbalanço na classe alvo, como o caso, é importante que a porção da base separada para treino dos modelos tenha a mesma proporção entre as classes da porção separada para teste. Em um primeiro momento, vamos fazer uma simples divisão com o método `train_test_split` passando ao parâmetro `stratify` a variável alvo para que a divisão seja feita com a proporção desta variável:"
      ]
    },
    {
      "cell_type": "code",
      "execution_count": null,
      "id": "501fb686",
      "metadata": {
        "id": "501fb686"
      },
      "outputs": [],
      "source": [
        "X = df_scaled.drop('Class', axis=1)\n",
        "y = df_scaled['Class']\n",
        "\n",
        "from sklearn.model_selection import train_test_split\n",
        "\n",
        "X_train, X_test, y_train, y_test = train_test_split(X, y, \n",
        "                                                    stratify=y, \n",
        "                                                    shuffle=True,\n",
        "                                                    random_state=RANDOM_STATE)"
      ]
    },
    {
      "cell_type": "markdown",
      "id": "e460818e",
      "metadata": {
        "id": "e460818e"
      },
      "source": [
        "Temos, então, pelas configurações padrão do método, 75 % do dataset separado para treino e os 25 % restantes, para teste:"
      ]
    },
    {
      "cell_type": "code",
      "execution_count": null,
      "id": "44c91aec",
      "metadata": {
        "id": "44c91aec",
        "outputId": "6c6c871c-41c8-49dc-a515-438de4903680"
      },
      "outputs": [
        {
          "name": "stdout",
          "output_type": "stream",
          "text": [
            "[213236    369] [71079   123]\n"
          ]
        }
      ],
      "source": [
        "print(f'{np.bincount(y_train)} {np.bincount(y_test)}')"
      ]
    },
    {
      "cell_type": "markdown",
      "id": "91bc655c",
      "metadata": {
        "id": "91bc655c"
      },
      "source": [
        "Vamos verificar que ambas as porções possuem o mesmo desbalanceamento:"
      ]
    },
    {
      "cell_type": "code",
      "execution_count": null,
      "id": "ae97bfce",
      "metadata": {
        "id": "ae97bfce",
        "outputId": "e569859a-2fa9-4573-b101-c9f3d23c18b5"
      },
      "outputs": [
        {
          "name": "stdout",
          "output_type": "stream",
          "text": [
            "[99.82725123  0.17274877]\n",
            "[99.82725204  0.17274796]\n"
          ]
        }
      ],
      "source": [
        "print(f'{np.bincount(y_train) / sum(np.bincount(y_train)) * 100}')\n",
        "print(f'{np.bincount(y_test)  / sum(np.bincount(y_test)) * 100}')"
      ]
    },
    {
      "cell_type": "markdown",
      "id": "6f8a5233",
      "metadata": {
        "id": "6f8a5233"
      },
      "source": [
        "### Balanceando o dataset"
      ]
    },
    {
      "cell_type": "markdown",
      "id": "83c7ec0e",
      "metadata": {
        "id": "83c7ec0e"
      },
      "source": [
        "Como vimos na matriz de correlação construída anteriormente, o desbalanceamento pode ser prejudicial para visualizar variáveis importantes e alguns algoritmos podem ter sua performance prejudicada com dados desbalanceados. Existem várias estratégias para lidar com esse problema:\n",
        "\n",
        "- Reestruturar os dados:\n",
        "    - Undersampling: reduzir o número de observações da classe majoritária para diminuir a diferença entre as categorias\n",
        "    - Oversampling: criar sinteticamente novas observações da classe minoritária, igualando a proporção das categorias\n",
        "- Utilizar um algoritmo mais resistente a problemas de desbalanceamento\n",
        "- Se possível, coletar mais dados\n",
        "- Usar modelos penalizados, ou seja, que penalizem mais erros de classificação da categoria minoritária\n",
        "- Selecionar cuidadosamente a métrica de treino, selecionando uma que avalie mais cuidadosamente erros da classe minoritária\n",
        "\n",
        "A única estratégia que não temos como adotar nesse estudo é a coleta de mais dados, é um dataset estático fornecido. Todas as demais estratégias terão participação neste estudo. Comecemos, então, pela reestruturação dos dados.\n",
        "\n",
        "Temos um dataset de tamanho significativo de forma que adotar a estratégia de *undersampling* pode ser interessante. Dentre as técnicas de undersampling, a utilizada neste estudo será a retirada aleatória de dados da classe majoritária, a *Random Undersampling*, através do `RandomUnderSampler` da bibliotecada Imbalanced-Learning."
      ]
    },
    {
      "cell_type": "code",
      "execution_count": null,
      "id": "ea93703b",
      "metadata": {
        "id": "ea93703b",
        "outputId": "517698ed-541f-4504-a6ea-704f9913d11a"
      },
      "outputs": [
        {
          "name": "stdout",
          "output_type": "stream",
          "text": [
            "0    369\n",
            "1    369\n",
            "Name: Class, dtype: int64\n"
          ]
        },
        {
          "data": {
            "image/png": "[encoded data removed]",
            "text/plain": [
              "<Figure size 576x432 with 1 Axes>"
            ]
          },
          "metadata": {
            "needs_background": "light"
          },
          "output_type": "display_data"
        }
      ],
      "source": [
        "rus = RandomUnderSampler(random_state=RANDOM_STATE)\n",
        "\n",
        "X_rus, y_rus = rus.fit_resample(X_train, y_train)\n",
        "\n",
        "print(y_rus.value_counts())\n",
        "\n",
        "sns.countplot(x=y_rus);"
      ]
    },
    {
      "cell_type": "markdown",
      "id": "bca783ac",
      "metadata": {
        "id": "bca783ac"
      },
      "source": [
        "Observe que o undersampling é realizado apenas na base de treino, gerando uma variável alvo que contém iguais quantidades. Vamos gerar um dataset com esses dados balanceados e analisá-lo:"
      ]
    },
    {
      "cell_type": "code",
      "execution_count": null,
      "id": "df386edb",
      "metadata": {
        "id": "df386edb",
        "outputId": "6b581a5a-15e4-44ad-97fb-51baf7cdf44b"
      },
      "outputs": [
        {
          "data": {
            "text/html": [
              "<div>\n",
              "<style scoped>\n",
              "    .dataframe tbody tr th:only-of-type {\n",
              "        vertical-align: middle;\n",
              "    }\n",
              "\n",
              "    .dataframe tbody tr th {\n",
              "        vertical-align: top;\n",
              "    }\n",
              "\n",
              "    .dataframe thead th {\n",
              "        text-align: right;\n",
              "    }\n",
              "</style>\n",
              "<table border=\"1\" class=\"dataframe\">\n",
              "  <thead>\n",
              "    <tr style=\"text-align: right;\">\n",
              "      <th></th>\n",
              "      <th>V1</th>\n",
              "      <th>V2</th>\n",
              "      <th>V3</th>\n",
              "      <th>V4</th>\n",
              "      <th>V5</th>\n",
              "      <th>V6</th>\n",
              "      <th>V7</th>\n",
              "      <th>V8</th>\n",
              "      <th>V9</th>\n",
              "      <th>V10</th>\n",
              "      <th>...</th>\n",
              "      <th>V22</th>\n",
              "      <th>V23</th>\n",
              "      <th>V24</th>\n",
              "      <th>V25</th>\n",
              "      <th>V26</th>\n",
              "      <th>V27</th>\n",
              "      <th>V28</th>\n",
              "      <th>scaled_amount</th>\n",
              "      <th>scaled_time</th>\n",
              "      <th>Class</th>\n",
              "    </tr>\n",
              "  </thead>\n",
              "  <tbody>\n",
              "    <tr>\n",
              "      <th>0</th>\n",
              "      <td>-0.245994</td>\n",
              "      <td>0.864456</td>\n",
              "      <td>0.138314</td>\n",
              "      <td>-0.627707</td>\n",
              "      <td>0.440627</td>\n",
              "      <td>-1.072989</td>\n",
              "      <td>0.941862</td>\n",
              "      <td>-0.239466</td>\n",
              "      <td>0.197495</td>\n",
              "      <td>-0.168526</td>\n",
              "      <td>...</td>\n",
              "      <td>-0.640062</td>\n",
              "      <td>0.139061</td>\n",
              "      <td>-0.135690</td>\n",
              "      <td>-0.494629</td>\n",
              "      <td>0.127075</td>\n",
              "      <td>-0.017464</td>\n",
              "      <td>0.087222</td>\n",
              "      <td>-0.269825</td>\n",
              "      <td>0.765246</td>\n",
              "      <td>0</td>\n",
              "    </tr>\n",
              "    <tr>\n",
              "      <th>1</th>\n",
              "      <td>2.169390</td>\n",
              "      <td>-0.874467</td>\n",
              "      <td>-1.661547</td>\n",
              "      <td>-0.993435</td>\n",
              "      <td>-0.218378</td>\n",
              "      <td>0.253062</td>\n",
              "      <td>-1.196605</td>\n",
              "      <td>0.260048</td>\n",
              "      <td>0.130298</td>\n",
              "      <td>0.290238</td>\n",
              "      <td>...</td>\n",
              "      <td>0.530401</td>\n",
              "      <td>0.028349</td>\n",
              "      <td>-0.505492</td>\n",
              "      <td>-0.098210</td>\n",
              "      <td>-0.066314</td>\n",
              "      <td>0.010599</td>\n",
              "      <td>-0.029377</td>\n",
              "      <td>-0.055893</td>\n",
              "      <td>0.787028</td>\n",
              "      <td>0</td>\n",
              "    </tr>\n",
              "    <tr>\n",
              "      <th>2</th>\n",
              "      <td>-1.466046</td>\n",
              "      <td>0.946201</td>\n",
              "      <td>-1.508302</td>\n",
              "      <td>-0.918113</td>\n",
              "      <td>2.266431</td>\n",
              "      <td>0.770354</td>\n",
              "      <td>0.767603</td>\n",
              "      <td>0.618772</td>\n",
              "      <td>-0.806902</td>\n",
              "      <td>-0.968734</td>\n",
              "      <td>...</td>\n",
              "      <td>0.534899</td>\n",
              "      <td>-0.426521</td>\n",
              "      <td>-0.988301</td>\n",
              "      <td>0.270773</td>\n",
              "      <td>0.762529</td>\n",
              "      <td>-0.492720</td>\n",
              "      <td>0.112220</td>\n",
              "      <td>-0.167819</td>\n",
              "      <td>0.597657</td>\n",
              "      <td>0</td>\n",
              "    </tr>\n",
              "    <tr>\n",
              "      <th>3</th>\n",
              "      <td>-0.777055</td>\n",
              "      <td>-0.117475</td>\n",
              "      <td>0.723841</td>\n",
              "      <td>-3.492441</td>\n",
              "      <td>-0.052029</td>\n",
              "      <td>0.571674</td>\n",
              "      <td>-0.439675</td>\n",
              "      <td>-0.503063</td>\n",
              "      <td>-2.027951</td>\n",
              "      <td>0.902438</td>\n",
              "      <td>...</td>\n",
              "      <td>-0.705686</td>\n",
              "      <td>-0.395879</td>\n",
              "      <td>-0.442375</td>\n",
              "      <td>0.853427</td>\n",
              "      <td>-0.076788</td>\n",
              "      <td>0.281768</td>\n",
              "      <td>0.090274</td>\n",
              "      <td>-0.167680</td>\n",
              "      <td>0.592183</td>\n",
              "      <td>0</td>\n",
              "    </tr>\n",
              "    <tr>\n",
              "      <th>4</th>\n",
              "      <td>1.308457</td>\n",
              "      <td>-1.176200</td>\n",
              "      <td>-0.022869</td>\n",
              "      <td>-1.397037</td>\n",
              "      <td>-1.222895</td>\n",
              "      <td>-0.639747</td>\n",
              "      <td>-0.643778</td>\n",
              "      <td>-0.054389</td>\n",
              "      <td>-2.277189</td>\n",
              "      <td>1.584824</td>\n",
              "      <td>...</td>\n",
              "      <td>-0.995555</td>\n",
              "      <td>0.148532</td>\n",
              "      <td>0.143905</td>\n",
              "      <td>0.140944</td>\n",
              "      <td>-0.453468</td>\n",
              "      <td>-0.005713</td>\n",
              "      <td>0.013661</td>\n",
              "      <td>0.878921</td>\n",
              "      <td>-0.359649</td>\n",
              "      <td>0</td>\n",
              "    </tr>\n",
              "  </tbody>\n",
              "</table>\n",
              "<p>5 rows × 31 columns</p>\n",
              "</div>"
            ],
            "text/plain": [
              "         V1        V2        V3        V4        V5        V6        V7  \\\n",
              "0 -0.245994  0.864456  0.138314 -0.627707  0.440627 -1.072989  0.941862   \n",
              "1  2.169390 -0.874467 -1.661547 -0.993435 -0.218378  0.253062 -1.196605   \n",
              "2 -1.466046  0.946201 -1.508302 -0.918113  2.266431  0.770354  0.767603   \n",
              "3 -0.777055 -0.117475  0.723841 -3.492441 -0.052029  0.571674 -0.439675   \n",
              "4  1.308457 -1.176200 -0.022869 -1.397037 -1.222895 -0.639747 -0.643778   \n",
              "\n",
              "         V8        V9       V10  ...       V22       V23       V24       V25  \\\n",
              "0 -0.239466  0.197495 -0.168526  ... -0.640062  0.139061 -0.135690 -0.494629   \n",
              "1  0.260048  0.130298  0.290238  ...  0.530401  0.028349 -0.505492 -0.098210   \n",
              "2  0.618772 -0.806902 -0.968734  ...  0.534899 -0.426521 -0.988301  0.270773   \n",
              "3 -0.503063 -2.027951  0.902438  ... -0.705686 -0.395879 -0.442375  0.853427   \n",
              "4 -0.054389 -2.277189  1.584824  ... -0.995555  0.148532  0.143905  0.140944   \n",
              "\n",
              "        V26       V27       V28  scaled_amount  scaled_time  Class  \n",
              "0  0.127075 -0.017464  0.087222      -0.269825     0.765246      0  \n",
              "1 -0.066314  0.010599 -0.029377      -0.055893     0.787028      0  \n",
              "2  0.762529 -0.492720  0.112220      -0.167819     0.597657      0  \n",
              "3 -0.076788  0.281768  0.090274      -0.167680     0.592183      0  \n",
              "4 -0.453468 -0.005713  0.013661       0.878921    -0.359649      0  \n",
              "\n",
              "[5 rows x 31 columns]"
            ]
          },
          "execution_count": 26,
          "metadata": {},
          "output_type": "execute_result"
        }
      ],
      "source": [
        "df_balanced = pd.concat([X_rus, y_rus], axis=1)\n",
        "\n",
        "df_balanced.head()"
      ]
    },
    {
      "cell_type": "code",
      "execution_count": null,
      "id": "e548480e",
      "metadata": {
        "id": "e548480e",
        "outputId": "cff8115f-f82c-4240-c4cb-67ca340e8e9b"
      },
      "outputs": [
        {
          "data": {
            "text/plain": [
              "(738, 31)"
            ]
          },
          "execution_count": 27,
          "metadata": {},
          "output_type": "execute_result"
        }
      ],
      "source": [
        "df_balanced.shape"
      ]
    },
    {
      "cell_type": "markdown",
      "id": "72f99be3",
      "metadata": {
        "id": "72f99be3"
      },
      "source": [
        "#### Matriz de correlação e principais features"
      ]
    },
    {
      "cell_type": "markdown",
      "id": "79c4ffac",
      "metadata": {
        "id": "79c4ffac"
      },
      "source": [
        "Vejamos como é a matriz de correlação deste novo dataset:"
      ]
    },
    {
      "cell_type": "code",
      "execution_count": null,
      "id": "6eb6c44e",
      "metadata": {
        "id": "6eb6c44e",
        "outputId": "bb06b772-142d-45cb-b9bd-88193afe89b3"
      },
      "outputs": [
        {
          "data": {
            "image/png": "[encoded data removed]",
            "text/plain": [
              "<Figure size 720x720 with 2 Axes>"
            ]
          },
          "metadata": {
            "needs_background": "light"
          },
          "output_type": "display_data"
        }
      ],
      "source": [
        "fig, ax = plt.subplots(figsize=(10, 10))\n",
        "\n",
        "ax = sns.heatmap(df_balanced.corr(), square=True, annot=False, fmt='.1f',\n",
        "                 linecolor='white', linewidth=0.5, cmap='RdBu',);\n",
        "\n",
        "plt.show()"
      ]
    },
    {
      "cell_type": "markdown",
      "id": "acab54f2",
      "metadata": {
        "id": "acab54f2"
      },
      "source": [
        "Agora temos uma matriz de correlação usual. Vemos que há várias features que se correlacionam entre si, positiva ou negativamente, e conseguimos identificar como cada feature se correlaciona com nossa variável alvo. Vamos separar as features entre as que se correlacionam positivamente e as que se correlacionam negativamente com a variável alvo:"
      ]
    },
    {
      "cell_type": "code",
      "execution_count": null,
      "id": "dccac249",
      "metadata": {
        "id": "dccac249",
        "outputId": "40977138-963e-41aa-c071-ce9e451d95b8"
      },
      "outputs": [
        {
          "data": {
            "text/plain": [
              "V14           -0.749573\n",
              "V12           -0.682799\n",
              "V10           -0.632799\n",
              "V16           -0.587845\n",
              "V9            -0.571227\n",
              "V3            -0.569337\n",
              "V17           -0.561425\n",
              "V7            -0.478392\n",
              "V18           -0.466059\n",
              "V1            -0.436271\n",
              "V6            -0.407284\n",
              "V5            -0.390976\n",
              "scaled_time   -0.148974\n",
              "V15           -0.090455\n",
              "V24           -0.081980\n",
              "V13           -0.069750\n",
              "V23           -0.027070\n",
              "Name: Class, dtype: float64"
            ]
          },
          "execution_count": 29,
          "metadata": {},
          "output_type": "execute_result"
        }
      ],
      "source": [
        "class_corr = df_balanced.corr()['Class']\n",
        "class_corr.loc[lambda value: value < 0].sort_values()"
      ]
    },
    {
      "cell_type": "code",
      "execution_count": null,
      "id": "8a1a0d2e",
      "metadata": {
        "id": "8a1a0d2e",
        "outputId": "d000ac6d-e840-4c19-a707-912612af5f14"
      },
      "outputs": [
        {
          "data": {
            "text/plain": [
              "Class            1.000000\n",
              "V4               0.719943\n",
              "V11              0.685746\n",
              "V2               0.503553\n",
              "V19              0.276873\n",
              "V20              0.132063\n",
              "V21              0.129718\n",
              "scaled_amount    0.075594\n",
              "V27              0.073456\n",
              "V28              0.071199\n",
              "V8               0.060089\n",
              "V26              0.038927\n",
              "V22              0.035328\n",
              "V25              0.008493\n",
              "Name: Class, dtype: float64"
            ]
          },
          "execution_count": 30,
          "metadata": {},
          "output_type": "execute_result"
        }
      ],
      "source": [
        "class_corr.loc[lambda value: value > 0].sort_values(ascending=False)"
      ]
    },
    {
      "cell_type": "markdown",
      "id": "8cd733b1",
      "metadata": {
        "id": "8cd733b1"
      },
      "source": [
        "Apenas para visualização e melhor compreensão, selecionemos as 4 features com maior correlação negativa e as 4 com maior correlação positiva:\n",
        "\n",
        "- Negativa: V10, V12, V14, V16\n",
        "- Positiva: V2, V4, V11, V19"
      ]
    },
    {
      "cell_type": "markdown",
      "id": "94a5da0b",
      "metadata": {
        "id": "94a5da0b"
      },
      "source": [
        "Vejamos os diagramas *boxplot* dessas features separando as classes de transações:"
      ]
    },
    {
      "cell_type": "code",
      "execution_count": null,
      "id": "6bbf0dce",
      "metadata": {
        "id": "6bbf0dce",
        "outputId": "b98b4522-7cab-4eab-8a8a-189c9dd8c03b"
      },
      "outputs": [
        {
          "data": {
            "image/png": "[encoded data removed]",
            "text/plain": [
              "<Figure size 864x288 with 4 Axes>"
            ]
          },
          "metadata": {
            "needs_background": "light"
          },
          "output_type": "display_data"
        }
      ],
      "source": [
        "fig, axes = plt.subplots(nrows=1, ncols=4, figsize=(12, 4))\n",
        "\n",
        "features_neg_corr = ('V10', 'V12', 'V14', 'V16')\n",
        "\n",
        "for ax, feature in enumerate(features_neg_corr):\n",
        "    sns.boxplot(x='Class', y=feature, data=df_balanced, ax=axes[ax])\n",
        "    \n",
        "plt.show()"
      ]
    },
    {
      "cell_type": "code",
      "execution_count": null,
      "id": "bc46067e",
      "metadata": {
        "id": "bc46067e",
        "outputId": "95c8f519-ba40-47c3-b753-c41795f1ee29"
      },
      "outputs": [
        {
          "data": {
            "image/png": "[encoded data removed]",
            "text/plain": [
              "<Figure size 864x288 with 4 Axes>"
            ]
          },
          "metadata": {
            "needs_background": "light"
          },
          "output_type": "display_data"
        }
      ],
      "source": [
        "fig, axes = plt.subplots(nrows=1, ncols=4, figsize=(12, 4))\n",
        "\n",
        "features_pos_corr = ('V2', 'V4', 'V11', 'V19')\n",
        "\n",
        "for ax, feature in enumerate(features_pos_corr):\n",
        "    sns.boxplot(x='Class', y=feature, data=df_balanced, ax=axes[ax])\n",
        "    \n",
        "plt.show()"
      ]
    },
    {
      "cell_type": "markdown",
      "id": "55461ded",
      "metadata": {
        "id": "55461ded"
      },
      "source": [
        "Observe que, nas features de correlação negativa com a feature alvo, temos que a faixa de valores das transações fraudulentas é menor que a de transações genuínas. O contrário é observado para as features com correlação positiva.\n",
        "\n",
        "Assim, caso no decorrer do estudo se resolva focar em algumas features já sabemos quais parecem as mais relevantes. Esse conhecimento pode ser útil, por exemplo, para fazer uma limpeza de outliers nessas features e verificar se há melhora nos modelos.\n",
        "\n",
        "Como o *random undersampling* retira amostras aleatórias do dataset original, vejamos se o mesmo perfil de comportamento se observa para estas features no dataset original:"
      ]
    },
    {
      "cell_type": "code",
      "execution_count": null,
      "id": "bc95871d",
      "metadata": {
        "id": "bc95871d",
        "outputId": "055ac754-2eb6-4dab-d9cf-3324d544f6f7"
      },
      "outputs": [
        {
          "data": {
            "image/png": "[encoded data removed]",
            "text/plain": [
              "<Figure size 864x288 with 4 Axes>"
            ]
          },
          "metadata": {
            "needs_background": "light"
          },
          "output_type": "display_data"
        }
      ],
      "source": [
        "fig, axes = plt.subplots(nrows=1, ncols=4, figsize=(12, 4))\n",
        "\n",
        "features_neg_corr = ('V10', 'V12', 'V14', 'V16')\n",
        "\n",
        "for ax, feature in enumerate(features_neg_corr):\n",
        "    sns.boxplot(x='Class', y=feature, data=df_scaled, ax=axes[ax])\n",
        "    \n",
        "plt.show()"
      ]
    },
    {
      "cell_type": "code",
      "execution_count": null,
      "id": "4fd9e3ee",
      "metadata": {
        "id": "4fd9e3ee",
        "outputId": "c5f34e2f-027d-476d-ed51-12781c9850e1"
      },
      "outputs": [
        {
          "data": {
            "image/png": "[encoded data removed]",
            "text/plain": [
              "<Figure size 864x288 with 4 Axes>"
            ]
          },
          "metadata": {
            "needs_background": "light"
          },
          "output_type": "display_data"
        }
      ],
      "source": [
        "fig, axes = plt.subplots(nrows=1, ncols=4, figsize=(12, 4))\n",
        "\n",
        "features_pos_corr = ('V2', 'V4', 'V11', 'V19')\n",
        "\n",
        "for ax, feature in enumerate(features_pos_corr):\n",
        "    sns.boxplot(x='Class', y=feature, data=df_scaled, ax=axes[ax])\n",
        "    \n",
        "plt.show()"
      ]
    },
    {
      "cell_type": "markdown",
      "id": "b64936b4",
      "metadata": {
        "id": "b64936b4"
      },
      "source": [
        "Observa-se o mesmo comportamento.\n",
        "\n",
        "Comecemos, então, a treinar modelos."
      ]
    },
    {
      "cell_type": "markdown",
      "id": "00a1bfc5",
      "metadata": {
        "id": "00a1bfc5"
      },
      "source": [
        "## Avaliando modelos\n",
        "\n",
        "<center>\n",
        "    <img alt=\"ai\" src=\"https://raw.githubusercontent.com/chicolucio/credit-card-fraud-detection/master/img/ai.jpg\">\n",
        "</center>"
      ]
    },
    {
      "cell_type": "markdown",
      "id": "37e4b3f6",
      "metadata": {
        "id": "37e4b3f6"
      },
      "source": [
        "### Um pouco sobre métricas"
      ]
    },
    {
      "cell_type": "markdown",
      "id": "95d2a4e3",
      "metadata": {
        "id": "95d2a4e3"
      },
      "source": [
        "Quando falamos de modelos, sempre surge a discussão de qual ou quais métricas serão consideradas para avaliar a performance comparativa de modelos para um determinado contexto. A [documentação do Scikit-Learn](https://scikit-learn.org/stable/modules/model_evaluation.html) possui muitas informações sobre o assunto e a Wikipedia possui [um artigo apenas para métricas de classificações binárias](https://en.wikipedia.org/wiki/Evaluation_of_binary_classifiers). Aqui, vamos abordar o mínimo necessário para entender a escolha de métrica feita no estudo.\n",
        "\n",
        "#### Matriz de confusão\n",
        "\n",
        "Comecemos lembrando de uma matriz de confusão binária e de algumas terminologias importantes:\n",
        "\n",
        "<center>\n",
        "    <img alt=\"cm\" src=\"https://raw.githubusercontent.com/chicolucio/credit-card-fraud-detection/master/img/confusion_matrix.png\">\n",
        "</center>\n",
        "\n",
        "#### Acurácia\n",
        "\n",
        "A métrica mais famosa, e, talvez, a mais erroneamente utilizada, é a **acurácia**. Para uma classificação binária:\n",
        "\n",
        "$$\n",
        "\\text{acurácia} = \\frac{TP + TN}{TP + TN + FP + FN}\n",
        "$$\n",
        "\n",
        "Veja, pela definição acima, que é uma métrica que considera a fração de acertos no total de predições. Logo, se a base de dados for muito desbalanceada, como no nosso caso onde mais 99 % das entradas são de uma das classes, altas acurácias serão obtidas facilmente. Afinal, basta prever que todas as entradas são da classe dominante e já teremos acurácias da ordem de 99 %. Caso tenha ficado com dúvidas, veja [este artigo sobre o paradoxo da acurácia](https://en.wikipedia.org/wiki/Accuracy_paradox), que é o nome deste fenômeno. Veremos isto na prática mais adiante neste estudo.\n",
        "\n",
        "#### Precisão e recall\n",
        "\n",
        "Em situações desbalanceadas, duas outras métricas costumam ser usadas no lugar da acurácia, a **precisão** e o **recall**, com as seguintes definições:\n",
        "\n",
        "$$\n",
        "\\text{precisão} = \\frac{TP}{TP + FP} \\qquad \\text{recall} = \\frac{TP}{TP + FN}\n",
        "$$\n",
        "\n",
        "Vemos que a precisão é a fração de verdadeiros positivos frente o total de previsões positivas. Ou seja, quanto seu modelo é bom em prever positivos. Buscar maximizar a precisão irá minimizar o número de erros de falsos positivos.\n",
        "\n",
        "Já o recall é fração de verdadeiros positivos frente ao total de positivos reais. Afinal, os falsos negativos são, na realidade, positivos. Logo, o recall quantifica a proporção de reais positivos que foram identificados. Buscar maximizar o recall irá minimizar o número de erros de falsos negativos.\n",
        "\n",
        "Considere nosso contexto de fraude em cartões de crédito. Ao classificar erroneamente uma transação fraudulenta como legítima, um usuário teve seu dinheiro roubado via, por exemplo, clonagem do cartão. A compania do cartão terá que reembolsar o usuário. Por outro lado, uma transação legítima ser considerada fraudulenta significa que o usuário terá seu cartão bloqueado indevidamente, causando conflito e desconforto no cliente.\n",
        "\n",
        "#### F-measure\n",
        "\n",
        "Observe que há um *trade-off* entre essas duas métricas. Uma busca por aumentar a precisão pode diminuir o recall e vice-versa. Assim, há uma métrica, a **F-measure** (medida F), que é a média harmônica entre precisão e recall:\n",
        "\n",
        "$$\n",
        "\\text{F-measure} = \\frac{2 \\times \\text{precisão} \\times \\text{recall}}{\\text{precisão} + \\text{recall}}\n",
        "$$\n",
        "\n",
        "#### AUROC\n",
        "\n",
        "Podemos avaliar este trade-off por outras métricas. O recall também é chamado de *TPR - true positive rate* (taxa de verdadeiros positivos). Há, também, a chamada *FPR - false positive rate* (taxa de falsos positivos) definida por:\n",
        "\n",
        "$$\n",
        "\\text{FPR} = \\frac{FP}{TN + FP}\n",
        "$$\n",
        "\n",
        "Com estas duas definições, podemos construir um gráfico de **Receiver Operating Characteristics (ROC)** ou, em português, Curva Característica de Operação do Receptor. Tal curva, para um dado modelo de classificação binária, mostra o trade-off de tal modelo entre benefícios (verdadeiros positivos) e custos (falsos positivos):\n",
        "\n",
        "<img alt='ROC curves' src='https://upload.wikimedia.org/wikipedia/commons/thumb/3/3d/Curva_ROC.svg/640px-Curva_ROC.svg.png'>\n",
        "\n",
        "<center>    \n",
        "    <p style=\"font-size:80%;color:gray\">Curva ROC. <a href=\"https://pt.wikipedia.org/wiki/Caracter%C3%ADstica_de_Opera%C3%A7%C3%A3o_do_Receptor\">Fonte.</a></p>\n",
        "</center>\n",
        "\n",
        "A métrica utilizada para comparar diferentes modelos é a área sob a curva (**AUC - area under the curve**),  daí ser comum a sigla AUROC.\n",
        "\n",
        "<img alt='AUC' src='https://paulvanderlaken.files.wordpress.com/2019/08/95971-1pk05qgzowhcgriifbz-okq.png'>\n",
        "\n",
        "<center>    \n",
        "    <p style=\"font-size:80%;color:gray\">Área sob a curva (AUC). <a href=\"https://towardsdatascience.com/understanding-auc-roc-curve-68b2303cc9c5\">Fonte.</a></p>\n",
        "</center>\n",
        "\n",
        "Na animação abaixo, vemos o comportamento de um modelo. Veja como a busta por mais verdadeiros positivos aumenta a taxa de falsos positivos e como a busca por diminuir falsos positivos leva à diminuição de verdadeiros positivos.\n",
        "\n",
        "<img alt='AUC cutoff' src='https://raw.githubusercontent.com/dariyasydykova/open_projects/master/ROC_animation/animations/cutoff.gif'>\n",
        "\n",
        "<center>    \n",
        "    <p style=\"font-size:80%;color:gray\">AUROC e distribuições das classes. <a href=\"https://github.com/dariyasydykova/open_projects\">Fonte.</a></p>\n",
        "</center>\n",
        "\n",
        "O formato da curva ROC muda de acordo com a capacidade que o  modelo tem de classificar corretamente cada classe. A animação a seguir começa com as distribuições de cada classe sobrepostas, ou seja, o modelo não consegue distinguir as classes. Nessa situação AUC = 0.5, equivalente à um classificador aleatório (\"um chute\"). À medida que o modelo consegue separar mais as classes, AUC aumenta até a classificação perfeita onde AUC = 1, onde a curva forma um ângulo reto.\n",
        "\n",
        "<img alt='AUC sep' src='https://raw.githubusercontent.com/dariyasydykova/open_projects/master/ROC_animation/animations/ROC.gif'>\n",
        "\n",
        "<center>    \n",
        "    <p style=\"font-size:80%;color:gray\">AUROC e capacidade de distinção de classes do modelo. <a href=\"https://github.com/dariyasydykova/open_projects\">Fonte.</a></p>\n",
        "</center>\n",
        "\n",
        "#### AUPRC\n",
        "\n",
        "A AUROC é uma métrica bastante utilizada, especialmente com a finalidade já citada de selecionar modelos que maximizem a área. No entanto, [trabalhos na literatura](https://journals.plos.org/plosone/article?id=10.1371/journal.pone.0118432) demonstram que há uma métrica melhor para datasets desbalanceados como o que estamos estudando aqui.\n",
        "\n",
        "Já vimos as definições de precisão e de recall e como há um trade-off na busca por melhorar um ou outro. Isto também pode ser representado graficamente gerando uma curva e calculando a área sob esta curva. É a **AUPRC** (area under precision-recall curve). Vejamos como a AUROC e a AUPRC se comportam com a mudança na capacidade de um modelo de identificar bem duas classes na animação a seguir:\n",
        "\n",
        "<img alt='AUC PR' src='https://raw.githubusercontent.com/dariyasydykova/open_projects/master/ROC_animation/animations/PR.gif'>\n",
        "\n",
        "<center>    \n",
        "    <p style=\"font-size:80%;color:gray\">AUROC vs AUPRC e capacidade de distinção de classes do modelo. <a href=\"https://github.com/dariyasydykova/open_projects\">Fonte.</a></p>\n",
        "</center>\n",
        "\n",
        "Veja que as duas curvas respondem significativamente a mudanças na capacidade de classificação.\n",
        "\n",
        "Agora, observe as animações a seguir:\n",
        "\n",
        "<img alt='AUPRC imb1' src='https://raw.githubusercontent.com/dariyasydykova/open_projects/master/ROC_animation/animations/imbalance.gif'>\n",
        "\n",
        "<img alt='AUPRC imb2' src='https://raw.githubusercontent.com/dariyasydykova/open_projects/master/ROC_animation/animations/imbalance2.gif'>\n",
        "\n",
        "<center>    \n",
        "    <p style=\"font-size:80%;color:gray\">AUROC vs AUPRC em bases de dados desbalanceadas. <a href=\"https://github.com/dariyasydykova/open_projects\">Fonte.</a></p>\n",
        "</center>\n",
        "\n",
        "Vemos nas duas animações o efeito de um grande desbalanceamento entre as classes. Veja que a AUROC permanece quase inalterada, pois o formato da curva ROC quase não se altera. Já o formato da PRC muda bastante e, consequentemente, a AUPRC. Não por acaso, a [página do dataset no Kaggle](https://www.kaggle.com/mlg-ulb/creditcardfraud) recomenda o uso da AUPRC.\n",
        "\n",
        "#### Nossos objetivos\n",
        "\n",
        "Portanto, tendo em vista o discutido anteriormente:\n",
        "\n",
        "> Usaremos a AUPRC para selecionar os modelos mais promissores\n",
        "\n",
        "> Após a seleção, faremos um estudo de otimização de hiperparâmetros para tais modelos\n",
        "\n",
        "> Em tal otimização, avaliaremos o resultado de uma busca por maiores AUPRC e faremos a comparação com uma busca por maiores valores de recall"
      ]
    },
    {
      "cell_type": "markdown",
      "id": "30dc1489",
      "metadata": {
        "id": "30dc1489"
      },
      "source": [
        "Precisamos de uma função que possa calcular a AUPRC, já que não há nativamente no Scikit-Learn:"
      ]
    },
    {
      "cell_type": "code",
      "execution_count": null,
      "id": "0200a22e",
      "metadata": {
        "id": "0200a22e"
      },
      "outputs": [],
      "source": [
        "def pr_auc(y_true, y_proba):\n",
        "    precision, recall, thresholds = precision_recall_curve(y_true, y_proba)\n",
        "    return auc(recall, precision)"
      ]
    },
    {
      "cell_type": "markdown",
      "id": "b252c4ac",
      "metadata": {
        "id": "b252c4ac"
      },
      "source": [
        "Vamos criar um dicionário com as métricas discutidas nesta seção. Embora já saibamos quais são relevantes no nosso contexto, vamos comparar os valores para ter uma visão mais completa do nosso problema."
      ]
    },
    {
      "cell_type": "code",
      "execution_count": null,
      "id": "f19712f3",
      "metadata": {
        "id": "f19712f3"
      },
      "outputs": [],
      "source": [
        "scoring = {\n",
        "    'accuracy' : make_scorer(accuracy_score), \n",
        "    'precision' : make_scorer(precision_score),\n",
        "    'recall' : make_scorer(recall_score), \n",
        "    'f1_score' : make_scorer(f1_score),\n",
        "    'auprc': make_scorer(pr_auc, needs_proba=True),\n",
        "    'auroc': make_scorer(roc_auc_score),       \n",
        "           }"
      ]
    },
    {
      "cell_type": "markdown",
      "id": "6a806bdc",
      "metadata": {
        "id": "6a806bdc"
      },
      "source": [
        "### Definindo uma referência de performance"
      ]
    },
    {
      "cell_type": "markdown",
      "id": "4a760c36",
      "metadata": {
        "id": "4a760c36"
      },
      "source": [
        "Vamos criar um *baseline*, uma referência, para nossa avaliação. Assim, sabemos que modelos que têm desempenho menor que nossa referência podem ser descartados.\n",
        "\n",
        "Para criar nossa referência, usaremos a classe `DummyClassifier` do Scikit-Learn com a estratégia `constant`, recomendada como referência para classificadores que buscam ter boa performance em classes minoritárias [segundo a documentação](https://scikit-learn.org/stable/modules/generated/sklearn.dummy.DummyClassifier.html). Já vimos, na parte de preparo de dados de nosso estudo, que devemos usar estratégias estratificadas para que treino e teste tenham a mesma proporção entre as classes. Usamos, então, o `RepeatedStratifiedKFold` para fazer diversos splits (divisões) treino/teste e `cross_validate` para retornar o resultado consolidado de todas os splits por validação cruzada:"
      ]
    },
    {
      "cell_type": "code",
      "execution_count": null,
      "id": "2475c07d",
      "metadata": {
        "id": "2475c07d"
      },
      "outputs": [],
      "source": [
        "dummy_model = DummyClassifier(strategy='constant', constant=1)\n",
        "\n",
        "rskf = RepeatedStratifiedKFold(n_splits=5, n_repeats=3, random_state=RANDOM_STATE)\n",
        "\n",
        "scores = cross_validate(dummy_model, X, y, scoring=scoring, cv=rskf, n_jobs=-2)"
      ]
    },
    {
      "cell_type": "code",
      "execution_count": null,
      "id": "c54515b9",
      "metadata": {
        "id": "c54515b9",
        "outputId": "339555cc-5cd1-4914-eb38-aa1411d56971"
      },
      "outputs": [
        {
          "name": "stdout",
          "output_type": "stream",
          "text": [
            "    Metric      |    Mean    |  Std Dev  \n",
            "----------------------------------------\n",
            "accuracy        |   0.002    |   0.000   \n",
            "precision       |   0.002    |   0.000   \n",
            "recall          |   1.000    |   0.000   \n",
            "f1_score        |   0.003    |   0.000   \n",
            "auprc           |   0.501    |   0.000   \n",
            "auroc           |   0.500    |   0.000   \n"
          ]
        }
      ],
      "source": [
        "print('{0:^15} | {1:^10} | {2:^10}'.format('Metric', 'Mean', 'Std Dev'))\n",
        "print('-' * 40)\n",
        "\n",
        "for key, _ in scoring.items():\n",
        "    metric = ''.join(('test_', key))\n",
        "    mean = np.mean(scores[metric])\n",
        "    std_dev = np.std(scores[metric])\n",
        "    print('{0:<15} | {1:^10.3f} | {2:^10.3f}'.format(key, mean, std_dev))"
      ]
    },
    {
      "cell_type": "markdown",
      "id": "39ffb875",
      "metadata": {
        "id": "39ffb875"
      },
      "source": [
        "Veja que o `auprc`, que representa o AUPRC visto anteriormente, retornou valor 0.5. Ou seja, se comportou como um classificador aleatório. Escolheremos classificadores que se comportem melhor que este baseline."
      ]
    },
    {
      "cell_type": "markdown",
      "id": "8488b7c0",
      "metadata": {
        "id": "8488b7c0"
      },
      "source": [
        "### Aplicando no dataset completo"
      ]
    },
    {
      "cell_type": "markdown",
      "id": "abbe1502",
      "metadata": {
        "id": "abbe1502"
      },
      "source": [
        "Discutimos anteriormente que há potenciais ganhos em adotar estratégias de balanceamento de dataset quando temos casos onde uma das classes é muito menor que outra. Vamos, portanto, treinar alguns modelos no dataset completo, ou seja, desbalanceado, para que os resultados sirvam de base de comparação para os resultados que obteremos mais adiante com estratégias de balanceamento.\n",
        "\n",
        "Para esse estudo, analisaremos seis algoritmos de classificação:\n",
        "\n",
        "- Algoritmos lineares:\n",
        "    - Regressão logística (*Logistic Regression* - LR)\n",
        "    - Análise de discriminante linear (*Linear Discriminat Analysis* - LDA)\n",
        "- Algorimos não lineares:\n",
        "    - k vizinhos mais próximos (*k-Nearest Neighbors* - KNN)\n",
        "    - *Naive Bayes* - NB\n",
        "    - Árvore de decisão (*Classification and Regression Trees* - CART)\n",
        "    - Máquina de vetores de suporte (*Support Vector Machines* - SVM)\n",
        "\n",
        "Para o dataset completo, que possui mais de 280 mil entradas, não utilizaremos o KNN nem o SVM por serem algoritmos que demandam elevada potência computacional em grandes datasets. Os utilizaremos mais adiante, quando adotarmos estratégias de undersampling. Comecemos colocando nossos modelos em uma lista:"
      ]
    },
    {
      "cell_type": "code",
      "execution_count": null,
      "id": "4c1cefff",
      "metadata": {
        "id": "4c1cefff"
      },
      "outputs": [],
      "source": [
        "models = []\n",
        "models.append(('LR', LogisticRegression(max_iter=200)))\n",
        "models.append(('LDA', LinearDiscriminantAnalysis()))\n",
        "models.append(('CART', DecisionTreeClassifier()))\n",
        "models.append(('NB', GaussianNB()))"
      ]
    },
    {
      "cell_type": "markdown",
      "id": "3471e731",
      "metadata": {
        "id": "3471e731"
      },
      "source": [
        "Vamos criar uma função que possa receber as features, a variável alvo e um modelo, e retornar o resultado consolidado para cada métrica:"
      ]
    },
    {
      "cell_type": "code",
      "execution_count": null,
      "id": "7c32c0f5",
      "metadata": {
        "id": "7c32c0f5"
      },
      "outputs": [],
      "source": [
        "def evaluate_model(X, y, model):\n",
        "    rskf = RepeatedStratifiedKFold(n_splits=5, n_repeats=3, random_state=RANDOM_STATE)\n",
        "    scores = cross_validate(model, X, y, scoring=scoring, cv=rskf, n_jobs=-2)\n",
        "    return scores"
      ]
    },
    {
      "cell_type": "markdown",
      "id": "c79cf6db",
      "metadata": {
        "id": "c79cf6db"
      },
      "source": [
        "E, agora, apresentar os resultados:"
      ]
    },
    {
      "cell_type": "code",
      "execution_count": null,
      "id": "be8b76b7",
      "metadata": {
        "id": "be8b76b7",
        "outputId": "e2a1ff90-bf8a-4fe1-aa5c-3f1030fc8d35"
      },
      "outputs": [
        {
          "name": "stdout",
          "output_type": "stream",
          "text": [
            "LR\n",
            "    Metric      |    Mean    |  Std Dev  \n",
            "----------------------------------------\n",
            "accuracy        |   0.999    |   0.000   \n",
            "precision       |   0.875    |   0.034   \n",
            "recall          |   0.624    |   0.044   \n",
            "f1_score        |   0.727    |   0.027   \n",
            "auprc           |   0.758    |   0.024   \n",
            "auroc           |   0.812    |   0.022   \n",
            "\n",
            "LDA\n",
            "    Metric      |    Mean    |  Std Dev  \n",
            "----------------------------------------\n",
            "accuracy        |   0.999    |   0.000   \n",
            "precision       |   0.866    |   0.026   \n",
            "recall          |   0.766    |   0.018   \n",
            "f1_score        |   0.812    |   0.013   \n",
            "auprc           |   0.782    |   0.025   \n",
            "auroc           |   0.883    |   0.009   \n",
            "\n",
            "CART\n",
            "    Metric      |    Mean    |  Std Dev  \n",
            "----------------------------------------\n",
            "accuracy        |   0.999    |   0.000   \n",
            "precision       |   0.753    |   0.029   \n",
            "recall          |   0.759    |   0.030   \n",
            "f1_score        |   0.755    |   0.021   \n",
            "auprc           |   0.756    |   0.020   \n",
            "auroc           |   0.880    |   0.015   \n",
            "\n",
            "NB\n",
            "    Metric      |    Mean    |  Std Dev  \n",
            "----------------------------------------\n",
            "accuracy        |   0.978    |   0.001   \n",
            "precision       |   0.062    |   0.003   \n",
            "recall          |   0.829    |   0.020   \n",
            "f1_score        |   0.115    |   0.005   \n",
            "auprc           |   0.427    |   0.013   \n",
            "auroc           |   0.904    |   0.010   \n",
            "\n"
          ]
        }
      ],
      "source": [
        "results = []\n",
        "names = []\n",
        "\n",
        "for name, model in models:\n",
        "    names.append(name)\n",
        "    scores = evaluate_model(X, y, model)\n",
        "    results.append(scores)\n",
        "    \n",
        "for name, result in zip(names, results):\n",
        "    print(name)\n",
        "    print('{0:^15} | {1:^10} | {2:^10}'.format('Metric', 'Mean', 'Std Dev'))\n",
        "    print('-' * 40)\n",
        "    for key in scoring.keys():\n",
        "        metric = ''.join(('test_', key))\n",
        "        mean = np.mean(result[metric])\n",
        "        std_dev = np.std(result[metric])    \n",
        "        print('{0:<15} | {1:^10.3f} | {2:^10.3f}'.format(key, mean, std_dev))\n",
        "    print()"
      ]
    },
    {
      "cell_type": "markdown",
      "id": "439bb470",
      "metadata": {
        "id": "439bb470"
      },
      "source": [
        "Veja que todos os modelos obtiveram resultados de acurácia muito altos. Isto corrobora o discutido anteriormente sobre o paradoxo da acurácia, mostrando porque tal métrica não é adequada com datasets desbalanceados.\n",
        "\n",
        "Também vemos que os valores de AUROC de todos os modelos são elevados. No entanto, Naive Bayes, modelo com maior AUROC, possui o menor AUPRC. Inclusive, menor que nosso baseline. Vemos, aqui, a importância de utilizar métricas que sejam condizentes com o problema a ser resolvido.\n",
        "\n",
        "É bastante comum representar os resultados de modelos de classificação binária na forma de matrizes de confusão. Como estamos fazendo uma estratégia de repetição, vamos criar uma função que retorne a média dos resultados das repetições:"
      ]
    },
    {
      "cell_type": "code",
      "execution_count": null,
      "id": "4015c215",
      "metadata": {
        "id": "4015c215"
      },
      "outputs": [],
      "source": [
        "def mean_confusion_matrices(X, y, model, normalize=None):\n",
        "    rsk = RepeatedStratifiedKFold(n_splits=5, n_repeats=3, random_state=RANDOM_STATE)\n",
        "    cm_arrays = []\n",
        "    \n",
        "    for train_index, test_index in rsk.split(X, y):\n",
        "        X_train, X_test = X.iloc[train_index], X.iloc[test_index]\n",
        "        y_train, y_test = y.iloc[train_index], y.iloc[test_index]\n",
        "        model.fit(X_train, y_train)\n",
        "        cm = confusion_matrix(y_test, model.predict(X_test), normalize=normalize)\n",
        "        cm_arrays.append(cm)\n",
        "    \n",
        "    return np.mean(cm_arrays, axis=0)"
      ]
    },
    {
      "cell_type": "markdown",
      "id": "e10aa475",
      "metadata": {
        "id": "e10aa475"
      },
      "source": [
        "Agora, criar as matrizes para cada modelo:"
      ]
    },
    {
      "cell_type": "code",
      "execution_count": null,
      "id": "4d41242f",
      "metadata": {
        "id": "4d41242f",
        "outputId": "d882411d-e696-40da-8bcb-2f054c619d67"
      },
      "outputs": [
        {
          "data": {
            "image/png": "[encoded data removed]",
            "text/plain": [
              "<Figure size 864x576 with 8 Axes>"
            ]
          },
          "metadata": {
            "needs_background": "light"
          },
          "output_type": "display_data"
        }
      ],
      "source": [
        "names = []\n",
        "cm_means = []\n",
        "\n",
        "for name, model in models:\n",
        "    names.append(name)    \n",
        "    cm_means.append(mean_confusion_matrices(X, y, model))\n",
        "    \n",
        "fig, axes = plt.subplots(nrows=2, ncols=2, figsize=(12, 8))\n",
        "\n",
        "for ax, name, matrix in zip(axes.flatten(), names, cm_means):\n",
        "    ConfusionMatrixDisplay(matrix).plot(ax=ax)\n",
        "    ax.set_title(name)"
      ]
    },
    {
      "cell_type": "markdown",
      "id": "58fbab80",
      "metadata": {
        "id": "58fbab80"
      },
      "source": [
        "Veja como o modelo Naive Bayes tem um número muito maior de falsos positivos.\n",
        "\n",
        "Vamos gerar as matrizes de confusão normalizadas para visualizar melhor as proporções. Nesse tipo de matriz, a soma de cada linha da matriz é 1:"
      ]
    },
    {
      "cell_type": "code",
      "execution_count": null,
      "id": "4b10abb8",
      "metadata": {
        "id": "4b10abb8",
        "outputId": "7db592dc-62d5-4b0e-ee3b-6ac4f477fcf1"
      },
      "outputs": [
        {
          "data": {
            "image/png": "[encoded data removed]",
            "text/plain": [
              "<Figure size 864x576 with 8 Axes>"
            ]
          },
          "metadata": {
            "needs_background": "light"
          },
          "output_type": "display_data"
        }
      ],
      "source": [
        "names = []\n",
        "cm_means_norm = []\n",
        "\n",
        "for name, model in models:\n",
        "    names.append(name)    \n",
        "    cm_means_norm.append(mean_confusion_matrices(X, y, model, normalize='true'))\n",
        "    \n",
        "fig, axes = plt.subplots(nrows=2, ncols=2, figsize=(12, 8))\n",
        "\n",
        "for ax, name, matrix in zip(axes.flatten(), names, cm_means_norm):\n",
        "    ConfusionMatrixDisplay(matrix).plot(ax=ax)\n",
        "    ax.set_title(name)"
      ]
    },
    {
      "cell_type": "markdown",
      "id": "581dfed6",
      "metadata": {
        "id": "581dfed6"
      },
      "source": [
        "Acredito que essa forma de visualizar permite uma melhor comparação entre os modelos, permitindo compreender a proporção dos resultados. Perceba como o Naive Bayes foi o único que teve uma fração significativa de falsos positivos, o que levou ao seu menor valor de AUPRC comparado aos demais modelos."
      ]
    },
    {
      "cell_type": "markdown",
      "id": "3f365260",
      "metadata": {
        "id": "3f365260"
      },
      "source": [
        "### Aplicando undersampling"
      ]
    },
    {
      "cell_type": "markdown",
      "id": "eca97e98",
      "metadata": {
        "id": "eca97e98"
      },
      "source": [
        "Vimos anteriormente que a estratégia de undersampling para balancear o dataset permitiu descobrir correlações entre variáveis. No entanto, fazer apenas uma divisão de treino/teste e aplicar o undersampling não é o ideal. O ideal, sempre que possível, é fazer várias divisões e avaliar o consolidado. Assim, precisamos aplicar o undersampling em cada divisão realizada. Para isso, usaremos a função a seguir na qual criamos um *pipeline* para utilizar o `RandomUnderSampler` do Imbalanced-Learn em cada divisão antes de se avaliar os modelos:"
      ]
    },
    {
      "cell_type": "code",
      "execution_count": null,
      "id": "556627f2",
      "metadata": {
        "id": "556627f2"
      },
      "outputs": [],
      "source": [
        "def evaluate_model_undersampling(X, y, model):\n",
        "    steps = [('under', RandomUnderSampler(random_state=RANDOM_STATE)), \n",
        "             ('model', model)]\n",
        "    pipeline = Pipeline(steps=steps)\n",
        "    \n",
        "    # apenas 2 splits, pois temos poucas entradas para classe 1\n",
        "    rskf = RepeatedStratifiedKFold(n_splits=2, n_repeats=3, random_state=RANDOM_STATE)\n",
        "    scores = cross_validate(pipeline, X, y, scoring=scoring, cv=rskf, n_jobs=-2)\n",
        "    return scores"
      ]
    },
    {
      "cell_type": "markdown",
      "id": "aeabc8c3",
      "metadata": {
        "id": "aeabc8c3"
      },
      "source": [
        "Agora, incluiremos os modelos KNN e SVM (SVC no Scikit-Learn, onde o \"C\" significa *classifier*) tendo em vista que estaremos com datasets menores:"
      ]
    },
    {
      "cell_type": "code",
      "execution_count": null,
      "id": "f87d529b",
      "metadata": {
        "id": "f87d529b"
      },
      "outputs": [],
      "source": [
        "models = []\n",
        "models.append(('LR', LogisticRegression(max_iter=200)))\n",
        "models.append(('LDA', LinearDiscriminantAnalysis()))\n",
        "models.append(('KNN', KNeighborsClassifier()))\n",
        "models.append(('CART', DecisionTreeClassifier()))\n",
        "models.append(('NB', GaussianNB()))\n",
        "models.append(('SVC', SVC(probability=True)))"
      ]
    },
    {
      "cell_type": "markdown",
      "id": "735df208",
      "metadata": {
        "id": "735df208"
      },
      "source": [
        "Vejamos os resultados:"
      ]
    },
    {
      "cell_type": "code",
      "execution_count": null,
      "id": "0a1db8e7",
      "metadata": {
        "id": "0a1db8e7",
        "outputId": "69c7c326-4c11-41c2-ad02-4558c5d1c91b"
      },
      "outputs": [
        {
          "name": "stdout",
          "output_type": "stream",
          "text": [
            "LR\n",
            "    Metric      |    Mean    |  Std Dev  \n",
            "----------------------------------------\n",
            "accuracy        |   0.961    |   0.006   \n",
            "precision       |   0.040    |   0.007   \n",
            "recall          |   0.912    |   0.015   \n",
            "f1_score        |   0.077    |   0.013   \n",
            "auprc           |   0.578    |   0.100   \n",
            "auroc           |   0.937    |   0.005   \n",
            "\n",
            "LDA\n",
            "    Metric      |    Mean    |  Std Dev  \n",
            "----------------------------------------\n",
            "accuracy        |   0.980    |   0.004   \n",
            "precision       |   0.070    |   0.014   \n",
            "recall          |   0.839    |   0.017   \n",
            "f1_score        |   0.129    |   0.024   \n",
            "auprc           |   0.171    |   0.047   \n",
            "auroc           |   0.910    |   0.007   \n",
            "\n",
            "KNN\n",
            "    Metric      |    Mean    |  Std Dev  \n",
            "----------------------------------------\n",
            "accuracy        |   0.972    |   0.007   \n",
            "precision       |   0.056    |   0.012   \n",
            "recall          |   0.894    |   0.019   \n",
            "f1_score        |   0.105    |   0.021   \n",
            "auprc           |   0.601    |   0.065   \n",
            "auroc           |   0.933    |   0.008   \n",
            "\n",
            "CART\n",
            "    Metric      |    Mean    |  Std Dev  \n",
            "----------------------------------------\n",
            "accuracy        |   0.892    |   0.014   \n",
            "precision       |   0.014    |   0.002   \n",
            "recall          |   0.901    |   0.018   \n",
            "f1_score        |   0.028    |   0.003   \n",
            "auprc           |   0.458    |   0.008   \n",
            "auroc           |   0.897    |   0.007   \n",
            "\n",
            "NB\n",
            "    Metric      |    Mean    |  Std Dev  \n",
            "----------------------------------------\n",
            "accuracy        |   0.966    |   0.005   \n",
            "precision       |   0.044    |   0.008   \n",
            "recall          |   0.863    |   0.007   \n",
            "f1_score        |   0.084    |   0.013   \n",
            "auprc           |   0.434    |   0.009   \n",
            "auroc           |   0.915    |   0.003   \n",
            "\n",
            "SVC\n",
            "    Metric      |    Mean    |  Std Dev  \n",
            "----------------------------------------\n",
            "accuracy        |   0.986    |   0.003   \n",
            "precision       |   0.101    |   0.019   \n",
            "recall          |   0.875    |   0.013   \n",
            "f1_score        |   0.180    |   0.031   \n",
            "auprc           |   0.697    |   0.022   \n",
            "auroc           |   0.931    |   0.006   \n",
            "\n"
          ]
        }
      ],
      "source": [
        "results = []\n",
        "names = []\n",
        "\n",
        "for name, model in models:\n",
        "    names.append(name)\n",
        "    scores = evaluate_model_undersampling(X, y, model)\n",
        "    results.append(scores)\n",
        "    \n",
        "for name, result in zip(names, results):\n",
        "    print(name)\n",
        "    print('{0:^15} | {1:^10} | {2:^10}'.format('Metric', 'Mean', 'Std Dev'))\n",
        "    print('-' * 40)\n",
        "    for key in scoring.keys():\n",
        "        metric = ''.join(('test_', key))\n",
        "        mean = np.mean(result[metric])\n",
        "        std_dev = np.std(result[metric])    \n",
        "        print('{0:<15} | {1:^10.3f} | {2:^10.3f}'.format(key, mean, std_dev))\n",
        "    print()"
      ]
    },
    {
      "cell_type": "markdown",
      "id": "5f66ef7b",
      "metadata": {
        "id": "5f66ef7b"
      },
      "source": [
        "Agora, seguindo nossos objetivos, vamos selecionar os modelos com maior AUPRC:"
      ]
    },
    {
      "cell_type": "code",
      "execution_count": null,
      "id": "a0386f85",
      "metadata": {
        "id": "a0386f85"
      },
      "outputs": [],
      "source": [
        "models = []\n",
        "models.append(('LR', LogisticRegression(max_iter=200)))\n",
        "models.append(('KNN', KNeighborsClassifier()))\n",
        "models.append(('SVC', SVC(probability=True)))"
      ]
    },
    {
      "cell_type": "markdown",
      "id": "78a0622f",
      "metadata": {
        "id": "78a0622f"
      },
      "source": [
        "Vamos modificar nossa função de geração de matrizes de confusão para utilizar *undersampling*:"
      ]
    },
    {
      "cell_type": "code",
      "execution_count": null,
      "id": "32c257bf",
      "metadata": {
        "id": "32c257bf"
      },
      "outputs": [],
      "source": [
        "def mean_confusion_matrices_undersampling(X, y, model, normalize=None):\n",
        "    rus = RandomUnderSampler(random_state=RANDOM_STATE)\n",
        "    \n",
        "    rskf = RepeatedStratifiedKFold(n_splits=2, n_repeats=3, random_state=RANDOM_STATE)\n",
        "    cm_arrays = []\n",
        "    \n",
        "    for train_index, test_index in rskf.split(X, y):\n",
        "        X_train, X_test = X.iloc[train_index], X.iloc[test_index]\n",
        "        y_train, y_test = y.iloc[train_index], y.iloc[test_index]\n",
        "        X_rus, y_rus = rus.fit_resample(X_train, y_train)\n",
        "        model.fit(X_rus, y_rus)\n",
        "        cm = confusion_matrix(y_test, model.predict(X_test), normalize=normalize)\n",
        "        cm_arrays.append(cm)\n",
        "    \n",
        "    return np.mean(cm_arrays, axis=0)"
      ]
    },
    {
      "cell_type": "markdown",
      "id": "f034fb48",
      "metadata": {
        "id": "f034fb48"
      },
      "source": [
        "Agora, podemos gerar as matrizes para os três modelos selecionados:"
      ]
    },
    {
      "cell_type": "code",
      "execution_count": null,
      "id": "457c284d",
      "metadata": {
        "id": "457c284d",
        "outputId": "d214f703-98a7-4388-be40-c4ecac70fdfe"
      },
      "outputs": [
        {
          "data": {
            "image/png": "[encoded data removed]",
            "text/plain": [
              "<Figure size 864x288 with 6 Axes>"
            ]
          },
          "metadata": {
            "needs_background": "light"
          },
          "output_type": "display_data"
        }
      ],
      "source": [
        "names = []\n",
        "cm_means_norm = []\n",
        "\n",
        "for name, model in models:\n",
        "    names.append(name)    \n",
        "    cm_means_norm.append(mean_confusion_matrices_undersampling(X, y, model, normalize='true'))\n",
        "    \n",
        "fig, axes = plt.subplots(nrows=1, ncols=3, figsize=(12, 4))\n",
        "\n",
        "for ax, name, matrix in zip(axes.flatten(), names, cm_means_norm):\n",
        "    ConfusionMatrixDisplay(matrix).plot(ax=ax)\n",
        "    ax.set_title(name)"
      ]
    },
    {
      "cell_type": "markdown",
      "id": "f467ed60",
      "metadata": {
        "id": "f467ed60"
      },
      "source": [
        "Veja que os três modelos escolhidos foram mais eficazes em prever os casos verdadeiros de fraude do que os modelos aplicados ao dataset completo. Ou seja, resultaram em maiores valores de recall. Em especial, a regressão logística, LR, conseguiu detectar mais casos verdadeiros de fraude do que o mesmo modelo aplicado ao dataset completo. No entanto, isto levou a um aumento de falsos positivos quando comparado ao mesmo modelo no dataset completo. Como já descrito anteriormente, este trade-off é uma constante neste tipo de análise."
      ]
    },
    {
      "cell_type": "markdown",
      "id": "e2d9bbeb",
      "metadata": {
        "id": "e2d9bbeb"
      },
      "source": [
        "## Otimizando os hiperparâmetros dos modelos escolhidos\n",
        "\n",
        "<center>\n",
        "    <img alt=\"\" src=\"https://raw.githubusercontent.com/chicolucio/credit-card-fraud-detection/master/img/performance.jpg\">\n",
        "</center>"
      ]
    },
    {
      "cell_type": "markdown",
      "id": "23ca571a",
      "metadata": {
        "id": "23ca571a"
      },
      "source": [
        "Hiperparâmetros são parâmetros de modelos que devem ser definidos antes de treinar o modelo. Utilizaremos o `GridSearchCV` do Scikit-Learn que irá testar todas as combinações possíveis dos hiperparâmetros passados. Em seguida, retornará a combinação de hiperparâmetros que resultou em menor erro para a métrica escolhida.\n",
        "\n",
        "Assim, primeiro precisamos criar uma função que irá performar a busca por esta combinação de hiperparâmetros:"
      ]
    },
    {
      "cell_type": "code",
      "execution_count": null,
      "id": "29d951ba",
      "metadata": {
        "id": "29d951ba"
      },
      "outputs": [],
      "source": [
        "def grid_search_undersampling(X, y, model, params, scoring='roc_auc'):\n",
        "    rus = RandomUnderSampler(random_state=RANDOM_STATE)\n",
        "    \n",
        "    rskf = RepeatedStratifiedKFold(n_splits=2, n_repeats=3, random_state=RANDOM_STATE)   \n",
        "        \n",
        "    for train_index, test_index in rskf.split(X, y):\n",
        "        X_train, X_test = X.iloc[train_index], X.iloc[test_index]\n",
        "        y_train, y_test = y.iloc[train_index], y.iloc[test_index]\n",
        "        X_rus, y_rus = rus.fit_resample(X_train, y_train)\n",
        "        search = GridSearchCV(model, params, scoring=scoring)\n",
        "        search.fit(X_rus, y_rus)\n",
        "        \n",
        "    return search.best_estimator_"
      ]
    },
    {
      "cell_type": "markdown",
      "id": "d0bd4636",
      "metadata": {
        "id": "d0bd4636"
      },
      "source": [
        "Iremos fazer esta otimização com os três modelos escolhidos anteriormente. Para cada um deles, passaremos diversas opções de hiperparâmetros que serão exaustivamente combinadas entre si pelo `GridSearchCV`:"
      ]
    },
    {
      "cell_type": "code",
      "execution_count": null,
      "id": "b794704f",
      "metadata": {
        "id": "b794704f"
      },
      "outputs": [],
      "source": [
        "models = []\n",
        "\n",
        "models.append(('LR', \n",
        "               LogisticRegression(max_iter=700),\n",
        "               [{'C': [0.001, 0.01, 0.1, 1, 10, 100, 1000],\n",
        "                'class_weight': [None, 'balanced'],\n",
        "                'penalty': ['l1'], \n",
        "                'solver': ['liblinear', 'saga']},\n",
        "               {'C': [0.001, 0.01, 0.1, 1, 10, 100, 1000],\n",
        "                'class_weight': [None, 'balanced'],\n",
        "                'penalty': ['l2'], \n",
        "                'solver': ['lbfgs', 'newton-cg', 'sag']}]))\n",
        "\n",
        "models.append(('KNN', \n",
        "               KNeighborsClassifier(),\n",
        "               {'n_neighbors': list(range(2, 6, 1)), \n",
        "                'algorithm': ['auto', 'ball_tree', 'kd_tree', 'brute'],\n",
        "                'weights': ['uniform', 'distance']}))\n",
        "\n",
        "models.append(('SVC', \n",
        "               SVC(probability=True),\n",
        "               {'C': [0.5, 0.7, 0.9, 1], \n",
        "                'kernel': ['rbf', 'poly', 'sigmoid', 'linear'],\n",
        "                'class_weight': [None, 'balanced'],}))"
      ]
    },
    {
      "cell_type": "markdown",
      "id": "7798104e",
      "metadata": {
        "id": "7798104e"
      },
      "source": [
        "### Métrica: AUPRC"
      ]
    },
    {
      "cell_type": "markdown",
      "id": "69d9ca99",
      "metadata": {
        "id": "69d9ca99"
      },
      "source": [
        "O `GridSearchCV` retorna os melhores hiperparâmetros de acordo com alguma métrica. Como estamos discutindo desde o início deste estudo, a AUPRC é uma métrica que tem se mostrado mais adequada ao nosso contexto. Vejamos os melhores hiperparâmetros para cada modelo por essa métrica:"
      ]
    },
    {
      "cell_type": "code",
      "execution_count": null,
      "id": "c8f6d62f",
      "metadata": {
        "id": "c8f6d62f",
        "outputId": "5e2bdec3-3dd4-4653-f18e-27be08957f7e"
      },
      "outputs": [
        {
          "name": "stderr",
          "output_type": "stream",
          "text": [
            "/opt/anaconda/envs/data_science/lib/python3.9/site-packages/sklearn/linear_model/_sag.py:352: ConvergenceWarning: The max_iter was reached which means the coef_ did not converge\n",
            "  warnings.warn(\n",
            "/opt/anaconda/envs/data_science/lib/python3.9/site-packages/sklearn/linear_model/_sag.py:352: ConvergenceWarning: The max_iter was reached which means the coef_ did not converge\n",
            "  warnings.warn(\n",
            "/opt/anaconda/envs/data_science/lib/python3.9/site-packages/sklearn/linear_model/_sag.py:352: ConvergenceWarning: The max_iter was reached which means the coef_ did not converge\n",
            "  warnings.warn(\n",
            "/opt/anaconda/envs/data_science/lib/python3.9/site-packages/sklearn/linear_model/_sag.py:352: ConvergenceWarning: The max_iter was reached which means the coef_ did not converge\n",
            "  warnings.warn(\n",
            "/opt/anaconda/envs/data_science/lib/python3.9/site-packages/sklearn/linear_model/_sag.py:352: ConvergenceWarning: The max_iter was reached which means the coef_ did not converge\n",
            "  warnings.warn(\n",
            "/opt/anaconda/envs/data_science/lib/python3.9/site-packages/sklearn/linear_model/_sag.py:352: ConvergenceWarning: The max_iter was reached which means the coef_ did not converge\n",
            "  warnings.warn(\n",
            "/opt/anaconda/envs/data_science/lib/python3.9/site-packages/sklearn/linear_model/_sag.py:352: ConvergenceWarning: The max_iter was reached which means the coef_ did not converge\n",
            "  warnings.warn(\n",
            "/opt/anaconda/envs/data_science/lib/python3.9/site-packages/sklearn/linear_model/_sag.py:352: ConvergenceWarning: The max_iter was reached which means the coef_ did not converge\n",
            "  warnings.warn(\n",
            "/opt/anaconda/envs/data_science/lib/python3.9/site-packages/sklearn/linear_model/_sag.py:352: ConvergenceWarning: The max_iter was reached which means the coef_ did not converge\n",
            "  warnings.warn(\n",
            "/opt/anaconda/envs/data_science/lib/python3.9/site-packages/sklearn/linear_model/_sag.py:352: ConvergenceWarning: The max_iter was reached which means the coef_ did not converge\n",
            "  warnings.warn(\n",
            "/opt/anaconda/envs/data_science/lib/python3.9/site-packages/sklearn/linear_model/_sag.py:352: ConvergenceWarning: The max_iter was reached which means the coef_ did not converge\n",
            "  warnings.warn(\n",
            "/opt/anaconda/envs/data_science/lib/python3.9/site-packages/sklearn/linear_model/_sag.py:352: ConvergenceWarning: The max_iter was reached which means the coef_ did not converge\n",
            "  warnings.warn(\n",
            "/opt/anaconda/envs/data_science/lib/python3.9/site-packages/sklearn/linear_model/_sag.py:352: ConvergenceWarning: The max_iter was reached which means the coef_ did not converge\n",
            "  warnings.warn(\n",
            "/opt/anaconda/envs/data_science/lib/python3.9/site-packages/sklearn/linear_model/_sag.py:352: ConvergenceWarning: The max_iter was reached which means the coef_ did not converge\n",
            "  warnings.warn(\n",
            "/opt/anaconda/envs/data_science/lib/python3.9/site-packages/sklearn/linear_model/_sag.py:352: ConvergenceWarning: The max_iter was reached which means the coef_ did not converge\n",
            "  warnings.warn(\n",
            "/opt/anaconda/envs/data_science/lib/python3.9/site-packages/sklearn/linear_model/_sag.py:352: ConvergenceWarning: The max_iter was reached which means the coef_ did not converge\n",
            "  warnings.warn(\n",
            "/opt/anaconda/envs/data_science/lib/python3.9/site-packages/sklearn/linear_model/_sag.py:352: ConvergenceWarning: The max_iter was reached which means the coef_ did not converge\n",
            "  warnings.warn(\n",
            "/opt/anaconda/envs/data_science/lib/python3.9/site-packages/sklearn/linear_model/_sag.py:352: ConvergenceWarning: The max_iter was reached which means the coef_ did not converge\n",
            "  warnings.warn(\n",
            "/opt/anaconda/envs/data_science/lib/python3.9/site-packages/sklearn/linear_model/_sag.py:352: ConvergenceWarning: The max_iter was reached which means the coef_ did not converge\n",
            "  warnings.warn(\n",
            "/opt/anaconda/envs/data_science/lib/python3.9/site-packages/sklearn/linear_model/_sag.py:352: ConvergenceWarning: The max_iter was reached which means the coef_ did not converge\n",
            "  warnings.warn(\n",
            "/opt/anaconda/envs/data_science/lib/python3.9/site-packages/sklearn/linear_model/_sag.py:352: ConvergenceWarning: The max_iter was reached which means the coef_ did not converge\n",
            "  warnings.warn(\n",
            "/opt/anaconda/envs/data_science/lib/python3.9/site-packages/sklearn/linear_model/_sag.py:352: ConvergenceWarning: The max_iter was reached which means the coef_ did not converge\n",
            "  warnings.warn(\n",
            "/opt/anaconda/envs/data_science/lib/python3.9/site-packages/sklearn/linear_model/_sag.py:352: ConvergenceWarning: The max_iter was reached which means the coef_ did not converge\n",
            "  warnings.warn(\n",
            "/opt/anaconda/envs/data_science/lib/python3.9/site-packages/sklearn/linear_model/_sag.py:352: ConvergenceWarning: The max_iter was reached which means the coef_ did not converge\n",
            "  warnings.warn(\n",
            "/opt/anaconda/envs/data_science/lib/python3.9/site-packages/sklearn/linear_model/_sag.py:352: ConvergenceWarning: The max_iter was reached which means the coef_ did not converge\n",
            "  warnings.warn(\n",
            "/opt/anaconda/envs/data_science/lib/python3.9/site-packages/sklearn/linear_model/_sag.py:352: ConvergenceWarning: The max_iter was reached which means the coef_ did not converge\n",
            "  warnings.warn(\n",
            "/opt/anaconda/envs/data_science/lib/python3.9/site-packages/sklearn/linear_model/_sag.py:352: ConvergenceWarning: The max_iter was reached which means the coef_ did not converge\n",
            "  warnings.warn(\n",
            "/opt/anaconda/envs/data_science/lib/python3.9/site-packages/sklearn/linear_model/_sag.py:352: ConvergenceWarning: The max_iter was reached which means the coef_ did not converge\n",
            "  warnings.warn(\n",
            "/opt/anaconda/envs/data_science/lib/python3.9/site-packages/sklearn/linear_model/_sag.py:352: ConvergenceWarning: The max_iter was reached which means the coef_ did not converge\n",
            "  warnings.warn(\n",
            "/opt/anaconda/envs/data_science/lib/python3.9/site-packages/sklearn/linear_model/_sag.py:352: ConvergenceWarning: The max_iter was reached which means the coef_ did not converge\n",
            "  warnings.warn(\n",
            "/opt/anaconda/envs/data_science/lib/python3.9/site-packages/sklearn/linear_model/_sag.py:352: ConvergenceWarning: The max_iter was reached which means the coef_ did not converge\n",
            "  warnings.warn(\n",
            "/opt/anaconda/envs/data_science/lib/python3.9/site-packages/sklearn/linear_model/_sag.py:352: ConvergenceWarning: The max_iter was reached which means the coef_ did not converge\n",
            "  warnings.warn(\n",
            "/opt/anaconda/envs/data_science/lib/python3.9/site-packages/sklearn/linear_model/_sag.py:352: ConvergenceWarning: The max_iter was reached which means the coef_ did not converge\n",
            "  warnings.warn(\n",
            "/opt/anaconda/envs/data_science/lib/python3.9/site-packages/sklearn/linear_model/_sag.py:352: ConvergenceWarning: The max_iter was reached which means the coef_ did not converge\n",
            "  warnings.warn(\n",
            "/opt/anaconda/envs/data_science/lib/python3.9/site-packages/sklearn/linear_model/_sag.py:352: ConvergenceWarning: The max_iter was reached which means the coef_ did not converge\n",
            "  warnings.warn(\n",
            "/opt/anaconda/envs/data_science/lib/python3.9/site-packages/sklearn/linear_model/_sag.py:352: ConvergenceWarning: The max_iter was reached which means the coef_ did not converge\n",
            "  warnings.warn(\n",
            "/opt/anaconda/envs/data_science/lib/python3.9/site-packages/sklearn/linear_model/_sag.py:352: ConvergenceWarning: The max_iter was reached which means the coef_ did not converge\n",
            "  warnings.warn(\n",
            "/opt/anaconda/envs/data_science/lib/python3.9/site-packages/sklearn/linear_model/_sag.py:352: ConvergenceWarning: The max_iter was reached which means the coef_ did not converge\n",
            "  warnings.warn(\n",
            "/opt/anaconda/envs/data_science/lib/python3.9/site-packages/sklearn/linear_model/_sag.py:352: ConvergenceWarning: The max_iter was reached which means the coef_ did not converge\n",
            "  warnings.warn(\n",
            "/opt/anaconda/envs/data_science/lib/python3.9/site-packages/sklearn/linear_model/_sag.py:352: ConvergenceWarning: The max_iter was reached which means the coef_ did not converge\n",
            "  warnings.warn(\n",
            "/opt/anaconda/envs/data_science/lib/python3.9/site-packages/sklearn/linear_model/_sag.py:352: ConvergenceWarning: The max_iter was reached which means the coef_ did not converge\n",
            "  warnings.warn(\n",
            "/opt/anaconda/envs/data_science/lib/python3.9/site-packages/sklearn/linear_model/_sag.py:352: ConvergenceWarning: The max_iter was reached which means the coef_ did not converge\n",
            "  warnings.warn(\n",
            "/opt/anaconda/envs/data_science/lib/python3.9/site-packages/sklearn/linear_model/_sag.py:352: ConvergenceWarning: The max_iter was reached which means the coef_ did not converge\n",
            "  warnings.warn(\n"
          ]
        },
        {
          "name": "stderr",
          "output_type": "stream",
          "text": [
            "/opt/anaconda/envs/data_science/lib/python3.9/site-packages/sklearn/linear_model/_sag.py:352: ConvergenceWarning: The max_iter was reached which means the coef_ did not converge\n",
            "  warnings.warn(\n",
            "/opt/anaconda/envs/data_science/lib/python3.9/site-packages/sklearn/linear_model/_sag.py:352: ConvergenceWarning: The max_iter was reached which means the coef_ did not converge\n",
            "  warnings.warn(\n",
            "/opt/anaconda/envs/data_science/lib/python3.9/site-packages/sklearn/linear_model/_sag.py:352: ConvergenceWarning: The max_iter was reached which means the coef_ did not converge\n",
            "  warnings.warn(\n",
            "/opt/anaconda/envs/data_science/lib/python3.9/site-packages/sklearn/linear_model/_sag.py:352: ConvergenceWarning: The max_iter was reached which means the coef_ did not converge\n",
            "  warnings.warn(\n",
            "/opt/anaconda/envs/data_science/lib/python3.9/site-packages/sklearn/linear_model/_sag.py:352: ConvergenceWarning: The max_iter was reached which means the coef_ did not converge\n",
            "  warnings.warn(\n",
            "/opt/anaconda/envs/data_science/lib/python3.9/site-packages/sklearn/linear_model/_sag.py:352: ConvergenceWarning: The max_iter was reached which means the coef_ did not converge\n",
            "  warnings.warn(\n",
            "/opt/anaconda/envs/data_science/lib/python3.9/site-packages/sklearn/linear_model/_sag.py:352: ConvergenceWarning: The max_iter was reached which means the coef_ did not converge\n",
            "  warnings.warn(\n",
            "/opt/anaconda/envs/data_science/lib/python3.9/site-packages/sklearn/linear_model/_sag.py:352: ConvergenceWarning: The max_iter was reached which means the coef_ did not converge\n",
            "  warnings.warn(\n",
            "/opt/anaconda/envs/data_science/lib/python3.9/site-packages/sklearn/linear_model/_sag.py:352: ConvergenceWarning: The max_iter was reached which means the coef_ did not converge\n",
            "  warnings.warn(\n",
            "/opt/anaconda/envs/data_science/lib/python3.9/site-packages/sklearn/linear_model/_sag.py:352: ConvergenceWarning: The max_iter was reached which means the coef_ did not converge\n",
            "  warnings.warn(\n",
            "/opt/anaconda/envs/data_science/lib/python3.9/site-packages/sklearn/linear_model/_sag.py:352: ConvergenceWarning: The max_iter was reached which means the coef_ did not converge\n",
            "  warnings.warn(\n",
            "/opt/anaconda/envs/data_science/lib/python3.9/site-packages/sklearn/linear_model/_sag.py:352: ConvergenceWarning: The max_iter was reached which means the coef_ did not converge\n",
            "  warnings.warn(\n",
            "/opt/anaconda/envs/data_science/lib/python3.9/site-packages/sklearn/linear_model/_sag.py:352: ConvergenceWarning: The max_iter was reached which means the coef_ did not converge\n",
            "  warnings.warn(\n",
            "/opt/anaconda/envs/data_science/lib/python3.9/site-packages/sklearn/linear_model/_sag.py:352: ConvergenceWarning: The max_iter was reached which means the coef_ did not converge\n",
            "  warnings.warn(\n",
            "/opt/anaconda/envs/data_science/lib/python3.9/site-packages/sklearn/linear_model/_sag.py:352: ConvergenceWarning: The max_iter was reached which means the coef_ did not converge\n",
            "  warnings.warn(\n",
            "/opt/anaconda/envs/data_science/lib/python3.9/site-packages/sklearn/linear_model/_sag.py:352: ConvergenceWarning: The max_iter was reached which means the coef_ did not converge\n",
            "  warnings.warn(\n",
            "/opt/anaconda/envs/data_science/lib/python3.9/site-packages/sklearn/linear_model/_sag.py:352: ConvergenceWarning: The max_iter was reached which means the coef_ did not converge\n",
            "  warnings.warn(\n",
            "/opt/anaconda/envs/data_science/lib/python3.9/site-packages/sklearn/linear_model/_sag.py:352: ConvergenceWarning: The max_iter was reached which means the coef_ did not converge\n",
            "  warnings.warn(\n",
            "/opt/anaconda/envs/data_science/lib/python3.9/site-packages/sklearn/linear_model/_sag.py:352: ConvergenceWarning: The max_iter was reached which means the coef_ did not converge\n",
            "  warnings.warn(\n",
            "/opt/anaconda/envs/data_science/lib/python3.9/site-packages/sklearn/linear_model/_sag.py:352: ConvergenceWarning: The max_iter was reached which means the coef_ did not converge\n",
            "  warnings.warn(\n",
            "/opt/anaconda/envs/data_science/lib/python3.9/site-packages/sklearn/linear_model/_sag.py:352: ConvergenceWarning: The max_iter was reached which means the coef_ did not converge\n",
            "  warnings.warn(\n",
            "/opt/anaconda/envs/data_science/lib/python3.9/site-packages/sklearn/linear_model/_sag.py:352: ConvergenceWarning: The max_iter was reached which means the coef_ did not converge\n",
            "  warnings.warn(\n",
            "/opt/anaconda/envs/data_science/lib/python3.9/site-packages/sklearn/linear_model/_sag.py:352: ConvergenceWarning: The max_iter was reached which means the coef_ did not converge\n",
            "  warnings.warn(\n",
            "/opt/anaconda/envs/data_science/lib/python3.9/site-packages/sklearn/linear_model/_sag.py:352: ConvergenceWarning: The max_iter was reached which means the coef_ did not converge\n",
            "  warnings.warn(\n",
            "/opt/anaconda/envs/data_science/lib/python3.9/site-packages/sklearn/linear_model/_sag.py:352: ConvergenceWarning: The max_iter was reached which means the coef_ did not converge\n",
            "  warnings.warn(\n",
            "/opt/anaconda/envs/data_science/lib/python3.9/site-packages/sklearn/linear_model/_sag.py:352: ConvergenceWarning: The max_iter was reached which means the coef_ did not converge\n",
            "  warnings.warn(\n",
            "/opt/anaconda/envs/data_science/lib/python3.9/site-packages/sklearn/linear_model/_sag.py:352: ConvergenceWarning: The max_iter was reached which means the coef_ did not converge\n",
            "  warnings.warn(\n",
            "/opt/anaconda/envs/data_science/lib/python3.9/site-packages/sklearn/linear_model/_sag.py:352: ConvergenceWarning: The max_iter was reached which means the coef_ did not converge\n",
            "  warnings.warn(\n",
            "/opt/anaconda/envs/data_science/lib/python3.9/site-packages/sklearn/linear_model/_sag.py:352: ConvergenceWarning: The max_iter was reached which means the coef_ did not converge\n",
            "  warnings.warn(\n",
            "/opt/anaconda/envs/data_science/lib/python3.9/site-packages/sklearn/linear_model/_sag.py:352: ConvergenceWarning: The max_iter was reached which means the coef_ did not converge\n",
            "  warnings.warn(\n",
            "/opt/anaconda/envs/data_science/lib/python3.9/site-packages/sklearn/linear_model/_sag.py:352: ConvergenceWarning: The max_iter was reached which means the coef_ did not converge\n",
            "  warnings.warn(\n",
            "/opt/anaconda/envs/data_science/lib/python3.9/site-packages/sklearn/linear_model/_sag.py:352: ConvergenceWarning: The max_iter was reached which means the coef_ did not converge\n",
            "  warnings.warn(\n",
            "/opt/anaconda/envs/data_science/lib/python3.9/site-packages/sklearn/linear_model/_sag.py:352: ConvergenceWarning: The max_iter was reached which means the coef_ did not converge\n",
            "  warnings.warn(\n",
            "/opt/anaconda/envs/data_science/lib/python3.9/site-packages/sklearn/linear_model/_sag.py:352: ConvergenceWarning: The max_iter was reached which means the coef_ did not converge\n",
            "  warnings.warn(\n",
            "/opt/anaconda/envs/data_science/lib/python3.9/site-packages/sklearn/linear_model/_sag.py:352: ConvergenceWarning: The max_iter was reached which means the coef_ did not converge\n",
            "  warnings.warn(\n",
            "/opt/anaconda/envs/data_science/lib/python3.9/site-packages/sklearn/linear_model/_sag.py:352: ConvergenceWarning: The max_iter was reached which means the coef_ did not converge\n",
            "  warnings.warn(\n",
            "/opt/anaconda/envs/data_science/lib/python3.9/site-packages/sklearn/linear_model/_sag.py:352: ConvergenceWarning: The max_iter was reached which means the coef_ did not converge\n",
            "  warnings.warn(\n",
            "/opt/anaconda/envs/data_science/lib/python3.9/site-packages/sklearn/linear_model/_sag.py:352: ConvergenceWarning: The max_iter was reached which means the coef_ did not converge\n",
            "  warnings.warn(\n",
            "/opt/anaconda/envs/data_science/lib/python3.9/site-packages/sklearn/linear_model/_sag.py:352: ConvergenceWarning: The max_iter was reached which means the coef_ did not converge\n",
            "  warnings.warn(\n",
            "/opt/anaconda/envs/data_science/lib/python3.9/site-packages/sklearn/linear_model/_sag.py:352: ConvergenceWarning: The max_iter was reached which means the coef_ did not converge\n",
            "  warnings.warn(\n",
            "/opt/anaconda/envs/data_science/lib/python3.9/site-packages/sklearn/linear_model/_sag.py:352: ConvergenceWarning: The max_iter was reached which means the coef_ did not converge\n",
            "  warnings.warn(\n",
            "/opt/anaconda/envs/data_science/lib/python3.9/site-packages/sklearn/linear_model/_sag.py:352: ConvergenceWarning: The max_iter was reached which means the coef_ did not converge\n",
            "  warnings.warn(\n",
            "/opt/anaconda/envs/data_science/lib/python3.9/site-packages/sklearn/linear_model/_sag.py:352: ConvergenceWarning: The max_iter was reached which means the coef_ did not converge\n",
            "  warnings.warn(\n"
          ]
        },
        {
          "name": "stderr",
          "output_type": "stream",
          "text": [
            "/opt/anaconda/envs/data_science/lib/python3.9/site-packages/sklearn/linear_model/_sag.py:352: ConvergenceWarning: The max_iter was reached which means the coef_ did not converge\n",
            "  warnings.warn(\n",
            "/opt/anaconda/envs/data_science/lib/python3.9/site-packages/sklearn/linear_model/_sag.py:352: ConvergenceWarning: The max_iter was reached which means the coef_ did not converge\n",
            "  warnings.warn(\n",
            "/opt/anaconda/envs/data_science/lib/python3.9/site-packages/sklearn/linear_model/_sag.py:352: ConvergenceWarning: The max_iter was reached which means the coef_ did not converge\n",
            "  warnings.warn(\n",
            "/opt/anaconda/envs/data_science/lib/python3.9/site-packages/sklearn/linear_model/_sag.py:352: ConvergenceWarning: The max_iter was reached which means the coef_ did not converge\n",
            "  warnings.warn(\n",
            "/opt/anaconda/envs/data_science/lib/python3.9/site-packages/sklearn/linear_model/_sag.py:352: ConvergenceWarning: The max_iter was reached which means the coef_ did not converge\n",
            "  warnings.warn(\n",
            "/opt/anaconda/envs/data_science/lib/python3.9/site-packages/sklearn/linear_model/_sag.py:352: ConvergenceWarning: The max_iter was reached which means the coef_ did not converge\n",
            "  warnings.warn(\n",
            "/opt/anaconda/envs/data_science/lib/python3.9/site-packages/sklearn/linear_model/_sag.py:352: ConvergenceWarning: The max_iter was reached which means the coef_ did not converge\n",
            "  warnings.warn(\n",
            "/opt/anaconda/envs/data_science/lib/python3.9/site-packages/sklearn/linear_model/_sag.py:352: ConvergenceWarning: The max_iter was reached which means the coef_ did not converge\n",
            "  warnings.warn(\n",
            "/opt/anaconda/envs/data_science/lib/python3.9/site-packages/sklearn/linear_model/_sag.py:352: ConvergenceWarning: The max_iter was reached which means the coef_ did not converge\n",
            "  warnings.warn(\n",
            "/opt/anaconda/envs/data_science/lib/python3.9/site-packages/sklearn/linear_model/_sag.py:352: ConvergenceWarning: The max_iter was reached which means the coef_ did not converge\n",
            "  warnings.warn(\n",
            "/opt/anaconda/envs/data_science/lib/python3.9/site-packages/sklearn/linear_model/_sag.py:352: ConvergenceWarning: The max_iter was reached which means the coef_ did not converge\n",
            "  warnings.warn(\n",
            "/opt/anaconda/envs/data_science/lib/python3.9/site-packages/sklearn/linear_model/_sag.py:352: ConvergenceWarning: The max_iter was reached which means the coef_ did not converge\n",
            "  warnings.warn(\n",
            "/opt/anaconda/envs/data_science/lib/python3.9/site-packages/sklearn/linear_model/_sag.py:352: ConvergenceWarning: The max_iter was reached which means the coef_ did not converge\n",
            "  warnings.warn(\n",
            "/opt/anaconda/envs/data_science/lib/python3.9/site-packages/sklearn/linear_model/_sag.py:352: ConvergenceWarning: The max_iter was reached which means the coef_ did not converge\n",
            "  warnings.warn(\n",
            "/opt/anaconda/envs/data_science/lib/python3.9/site-packages/sklearn/linear_model/_sag.py:352: ConvergenceWarning: The max_iter was reached which means the coef_ did not converge\n",
            "  warnings.warn(\n",
            "/opt/anaconda/envs/data_science/lib/python3.9/site-packages/sklearn/linear_model/_sag.py:352: ConvergenceWarning: The max_iter was reached which means the coef_ did not converge\n",
            "  warnings.warn(\n",
            "/opt/anaconda/envs/data_science/lib/python3.9/site-packages/sklearn/linear_model/_sag.py:352: ConvergenceWarning: The max_iter was reached which means the coef_ did not converge\n",
            "  warnings.warn(\n",
            "/opt/anaconda/envs/data_science/lib/python3.9/site-packages/sklearn/linear_model/_sag.py:352: ConvergenceWarning: The max_iter was reached which means the coef_ did not converge\n",
            "  warnings.warn(\n",
            "/opt/anaconda/envs/data_science/lib/python3.9/site-packages/sklearn/linear_model/_sag.py:352: ConvergenceWarning: The max_iter was reached which means the coef_ did not converge\n",
            "  warnings.warn(\n",
            "/opt/anaconda/envs/data_science/lib/python3.9/site-packages/sklearn/linear_model/_sag.py:352: ConvergenceWarning: The max_iter was reached which means the coef_ did not converge\n",
            "  warnings.warn(\n",
            "/opt/anaconda/envs/data_science/lib/python3.9/site-packages/sklearn/linear_model/_sag.py:352: ConvergenceWarning: The max_iter was reached which means the coef_ did not converge\n",
            "  warnings.warn(\n",
            "/opt/anaconda/envs/data_science/lib/python3.9/site-packages/sklearn/linear_model/_sag.py:352: ConvergenceWarning: The max_iter was reached which means the coef_ did not converge\n",
            "  warnings.warn(\n",
            "/opt/anaconda/envs/data_science/lib/python3.9/site-packages/sklearn/linear_model/_sag.py:352: ConvergenceWarning: The max_iter was reached which means the coef_ did not converge\n",
            "  warnings.warn(\n",
            "/opt/anaconda/envs/data_science/lib/python3.9/site-packages/sklearn/linear_model/_sag.py:352: ConvergenceWarning: The max_iter was reached which means the coef_ did not converge\n",
            "  warnings.warn(\n",
            "/opt/anaconda/envs/data_science/lib/python3.9/site-packages/sklearn/linear_model/_sag.py:352: ConvergenceWarning: The max_iter was reached which means the coef_ did not converge\n",
            "  warnings.warn(\n",
            "/opt/anaconda/envs/data_science/lib/python3.9/site-packages/sklearn/linear_model/_sag.py:352: ConvergenceWarning: The max_iter was reached which means the coef_ did not converge\n",
            "  warnings.warn(\n",
            "/opt/anaconda/envs/data_science/lib/python3.9/site-packages/sklearn/linear_model/_sag.py:352: ConvergenceWarning: The max_iter was reached which means the coef_ did not converge\n",
            "  warnings.warn(\n",
            "/opt/anaconda/envs/data_science/lib/python3.9/site-packages/sklearn/linear_model/_sag.py:352: ConvergenceWarning: The max_iter was reached which means the coef_ did not converge\n",
            "  warnings.warn(\n",
            "/opt/anaconda/envs/data_science/lib/python3.9/site-packages/sklearn/linear_model/_sag.py:352: ConvergenceWarning: The max_iter was reached which means the coef_ did not converge\n",
            "  warnings.warn(\n",
            "/opt/anaconda/envs/data_science/lib/python3.9/site-packages/sklearn/linear_model/_sag.py:352: ConvergenceWarning: The max_iter was reached which means the coef_ did not converge\n",
            "  warnings.warn(\n",
            "/opt/anaconda/envs/data_science/lib/python3.9/site-packages/sklearn/linear_model/_sag.py:352: ConvergenceWarning: The max_iter was reached which means the coef_ did not converge\n",
            "  warnings.warn(\n",
            "/opt/anaconda/envs/data_science/lib/python3.9/site-packages/sklearn/linear_model/_sag.py:352: ConvergenceWarning: The max_iter was reached which means the coef_ did not converge\n",
            "  warnings.warn(\n",
            "/opt/anaconda/envs/data_science/lib/python3.9/site-packages/sklearn/linear_model/_sag.py:352: ConvergenceWarning: The max_iter was reached which means the coef_ did not converge\n",
            "  warnings.warn(\n",
            "/opt/anaconda/envs/data_science/lib/python3.9/site-packages/sklearn/linear_model/_sag.py:352: ConvergenceWarning: The max_iter was reached which means the coef_ did not converge\n",
            "  warnings.warn(\n",
            "/opt/anaconda/envs/data_science/lib/python3.9/site-packages/sklearn/linear_model/_sag.py:352: ConvergenceWarning: The max_iter was reached which means the coef_ did not converge\n",
            "  warnings.warn(\n",
            "/opt/anaconda/envs/data_science/lib/python3.9/site-packages/sklearn/linear_model/_sag.py:352: ConvergenceWarning: The max_iter was reached which means the coef_ did not converge\n",
            "  warnings.warn(\n",
            "/opt/anaconda/envs/data_science/lib/python3.9/site-packages/sklearn/linear_model/_sag.py:352: ConvergenceWarning: The max_iter was reached which means the coef_ did not converge\n",
            "  warnings.warn(\n",
            "/opt/anaconda/envs/data_science/lib/python3.9/site-packages/sklearn/linear_model/_sag.py:352: ConvergenceWarning: The max_iter was reached which means the coef_ did not converge\n",
            "  warnings.warn(\n",
            "/opt/anaconda/envs/data_science/lib/python3.9/site-packages/sklearn/linear_model/_sag.py:352: ConvergenceWarning: The max_iter was reached which means the coef_ did not converge\n",
            "  warnings.warn(\n",
            "/opt/anaconda/envs/data_science/lib/python3.9/site-packages/sklearn/linear_model/_sag.py:352: ConvergenceWarning: The max_iter was reached which means the coef_ did not converge\n",
            "  warnings.warn(\n",
            "/opt/anaconda/envs/data_science/lib/python3.9/site-packages/sklearn/svm/_base.py:1206: ConvergenceWarning: Liblinear failed to converge, increase the number of iterations.\n",
            "  warnings.warn(\n",
            "/opt/anaconda/envs/data_science/lib/python3.9/site-packages/sklearn/linear_model/_sag.py:352: ConvergenceWarning: The max_iter was reached which means the coef_ did not converge\n",
            "  warnings.warn(\n",
            "/opt/anaconda/envs/data_science/lib/python3.9/site-packages/sklearn/linear_model/_sag.py:352: ConvergenceWarning: The max_iter was reached which means the coef_ did not converge\n",
            "  warnings.warn(\n",
            "/opt/anaconda/envs/data_science/lib/python3.9/site-packages/sklearn/linear_model/_sag.py:352: ConvergenceWarning: The max_iter was reached which means the coef_ did not converge\n",
            "  warnings.warn(\n"
          ]
        },
        {
          "name": "stderr",
          "output_type": "stream",
          "text": [
            "/opt/anaconda/envs/data_science/lib/python3.9/site-packages/sklearn/linear_model/_sag.py:352: ConvergenceWarning: The max_iter was reached which means the coef_ did not converge\n",
            "  warnings.warn(\n",
            "/opt/anaconda/envs/data_science/lib/python3.9/site-packages/sklearn/linear_model/_sag.py:352: ConvergenceWarning: The max_iter was reached which means the coef_ did not converge\n",
            "  warnings.warn(\n",
            "/opt/anaconda/envs/data_science/lib/python3.9/site-packages/sklearn/svm/_base.py:1206: ConvergenceWarning: Liblinear failed to converge, increase the number of iterations.\n",
            "  warnings.warn(\n",
            "/opt/anaconda/envs/data_science/lib/python3.9/site-packages/sklearn/linear_model/_sag.py:352: ConvergenceWarning: The max_iter was reached which means the coef_ did not converge\n",
            "  warnings.warn(\n",
            "/opt/anaconda/envs/data_science/lib/python3.9/site-packages/sklearn/linear_model/_sag.py:352: ConvergenceWarning: The max_iter was reached which means the coef_ did not converge\n",
            "  warnings.warn(\n",
            "/opt/anaconda/envs/data_science/lib/python3.9/site-packages/sklearn/linear_model/_sag.py:352: ConvergenceWarning: The max_iter was reached which means the coef_ did not converge\n",
            "  warnings.warn(\n",
            "/opt/anaconda/envs/data_science/lib/python3.9/site-packages/sklearn/linear_model/_sag.py:352: ConvergenceWarning: The max_iter was reached which means the coef_ did not converge\n",
            "  warnings.warn(\n",
            "/opt/anaconda/envs/data_science/lib/python3.9/site-packages/sklearn/linear_model/_sag.py:352: ConvergenceWarning: The max_iter was reached which means the coef_ did not converge\n",
            "  warnings.warn(\n",
            "/opt/anaconda/envs/data_science/lib/python3.9/site-packages/sklearn/linear_model/_sag.py:352: ConvergenceWarning: The max_iter was reached which means the coef_ did not converge\n",
            "  warnings.warn(\n",
            "/opt/anaconda/envs/data_science/lib/python3.9/site-packages/sklearn/linear_model/_sag.py:352: ConvergenceWarning: The max_iter was reached which means the coef_ did not converge\n",
            "  warnings.warn(\n",
            "/opt/anaconda/envs/data_science/lib/python3.9/site-packages/sklearn/linear_model/_sag.py:352: ConvergenceWarning: The max_iter was reached which means the coef_ did not converge\n",
            "  warnings.warn(\n",
            "/opt/anaconda/envs/data_science/lib/python3.9/site-packages/sklearn/linear_model/_sag.py:352: ConvergenceWarning: The max_iter was reached which means the coef_ did not converge\n",
            "  warnings.warn(\n",
            "/opt/anaconda/envs/data_science/lib/python3.9/site-packages/sklearn/linear_model/_sag.py:352: ConvergenceWarning: The max_iter was reached which means the coef_ did not converge\n",
            "  warnings.warn(\n",
            "/opt/anaconda/envs/data_science/lib/python3.9/site-packages/sklearn/linear_model/_sag.py:352: ConvergenceWarning: The max_iter was reached which means the coef_ did not converge\n",
            "  warnings.warn(\n",
            "/opt/anaconda/envs/data_science/lib/python3.9/site-packages/sklearn/linear_model/_sag.py:352: ConvergenceWarning: The max_iter was reached which means the coef_ did not converge\n",
            "  warnings.warn(\n",
            "/opt/anaconda/envs/data_science/lib/python3.9/site-packages/sklearn/linear_model/_sag.py:352: ConvergenceWarning: The max_iter was reached which means the coef_ did not converge\n",
            "  warnings.warn(\n",
            "/opt/anaconda/envs/data_science/lib/python3.9/site-packages/sklearn/linear_model/_sag.py:352: ConvergenceWarning: The max_iter was reached which means the coef_ did not converge\n",
            "  warnings.warn(\n",
            "/opt/anaconda/envs/data_science/lib/python3.9/site-packages/sklearn/linear_model/_sag.py:352: ConvergenceWarning: The max_iter was reached which means the coef_ did not converge\n",
            "  warnings.warn(\n",
            "/opt/anaconda/envs/data_science/lib/python3.9/site-packages/sklearn/linear_model/_sag.py:352: ConvergenceWarning: The max_iter was reached which means the coef_ did not converge\n",
            "  warnings.warn(\n",
            "/opt/anaconda/envs/data_science/lib/python3.9/site-packages/sklearn/linear_model/_sag.py:352: ConvergenceWarning: The max_iter was reached which means the coef_ did not converge\n",
            "  warnings.warn(\n",
            "/opt/anaconda/envs/data_science/lib/python3.9/site-packages/sklearn/linear_model/_sag.py:352: ConvergenceWarning: The max_iter was reached which means the coef_ did not converge\n",
            "  warnings.warn(\n",
            "/opt/anaconda/envs/data_science/lib/python3.9/site-packages/sklearn/linear_model/_sag.py:352: ConvergenceWarning: The max_iter was reached which means the coef_ did not converge\n",
            "  warnings.warn(\n",
            "/opt/anaconda/envs/data_science/lib/python3.9/site-packages/sklearn/linear_model/_sag.py:352: ConvergenceWarning: The max_iter was reached which means the coef_ did not converge\n",
            "  warnings.warn(\n",
            "/opt/anaconda/envs/data_science/lib/python3.9/site-packages/sklearn/linear_model/_sag.py:352: ConvergenceWarning: The max_iter was reached which means the coef_ did not converge\n",
            "  warnings.warn(\n",
            "/opt/anaconda/envs/data_science/lib/python3.9/site-packages/sklearn/linear_model/_sag.py:352: ConvergenceWarning: The max_iter was reached which means the coef_ did not converge\n",
            "  warnings.warn(\n",
            "/opt/anaconda/envs/data_science/lib/python3.9/site-packages/sklearn/linear_model/_sag.py:352: ConvergenceWarning: The max_iter was reached which means the coef_ did not converge\n",
            "  warnings.warn(\n",
            "/opt/anaconda/envs/data_science/lib/python3.9/site-packages/sklearn/linear_model/_sag.py:352: ConvergenceWarning: The max_iter was reached which means the coef_ did not converge\n",
            "  warnings.warn(\n",
            "/opt/anaconda/envs/data_science/lib/python3.9/site-packages/sklearn/linear_model/_sag.py:352: ConvergenceWarning: The max_iter was reached which means the coef_ did not converge\n",
            "  warnings.warn(\n",
            "/opt/anaconda/envs/data_science/lib/python3.9/site-packages/sklearn/linear_model/_sag.py:352: ConvergenceWarning: The max_iter was reached which means the coef_ did not converge\n",
            "  warnings.warn(\n",
            "/opt/anaconda/envs/data_science/lib/python3.9/site-packages/sklearn/linear_model/_sag.py:352: ConvergenceWarning: The max_iter was reached which means the coef_ did not converge\n",
            "  warnings.warn(\n",
            "/opt/anaconda/envs/data_science/lib/python3.9/site-packages/sklearn/linear_model/_sag.py:352: ConvergenceWarning: The max_iter was reached which means the coef_ did not converge\n",
            "  warnings.warn(\n",
            "/opt/anaconda/envs/data_science/lib/python3.9/site-packages/sklearn/linear_model/_sag.py:352: ConvergenceWarning: The max_iter was reached which means the coef_ did not converge\n",
            "  warnings.warn(\n",
            "/opt/anaconda/envs/data_science/lib/python3.9/site-packages/sklearn/linear_model/_sag.py:352: ConvergenceWarning: The max_iter was reached which means the coef_ did not converge\n",
            "  warnings.warn(\n",
            "/opt/anaconda/envs/data_science/lib/python3.9/site-packages/sklearn/linear_model/_sag.py:352: ConvergenceWarning: The max_iter was reached which means the coef_ did not converge\n",
            "  warnings.warn(\n",
            "/opt/anaconda/envs/data_science/lib/python3.9/site-packages/sklearn/linear_model/_sag.py:352: ConvergenceWarning: The max_iter was reached which means the coef_ did not converge\n",
            "  warnings.warn(\n",
            "/opt/anaconda/envs/data_science/lib/python3.9/site-packages/sklearn/linear_model/_sag.py:352: ConvergenceWarning: The max_iter was reached which means the coef_ did not converge\n",
            "  warnings.warn(\n",
            "/opt/anaconda/envs/data_science/lib/python3.9/site-packages/sklearn/linear_model/_sag.py:352: ConvergenceWarning: The max_iter was reached which means the coef_ did not converge\n",
            "  warnings.warn(\n",
            "/opt/anaconda/envs/data_science/lib/python3.9/site-packages/sklearn/linear_model/_sag.py:352: ConvergenceWarning: The max_iter was reached which means the coef_ did not converge\n",
            "  warnings.warn(\n",
            "/opt/anaconda/envs/data_science/lib/python3.9/site-packages/sklearn/linear_model/_sag.py:352: ConvergenceWarning: The max_iter was reached which means the coef_ did not converge\n",
            "  warnings.warn(\n",
            "/opt/anaconda/envs/data_science/lib/python3.9/site-packages/sklearn/linear_model/_sag.py:352: ConvergenceWarning: The max_iter was reached which means the coef_ did not converge\n",
            "  warnings.warn(\n",
            "/opt/anaconda/envs/data_science/lib/python3.9/site-packages/sklearn/linear_model/_sag.py:352: ConvergenceWarning: The max_iter was reached which means the coef_ did not converge\n",
            "  warnings.warn(\n",
            "/opt/anaconda/envs/data_science/lib/python3.9/site-packages/sklearn/linear_model/_sag.py:352: ConvergenceWarning: The max_iter was reached which means the coef_ did not converge\n",
            "  warnings.warn(\n",
            "/opt/anaconda/envs/data_science/lib/python3.9/site-packages/sklearn/linear_model/_sag.py:352: ConvergenceWarning: The max_iter was reached which means the coef_ did not converge\n",
            "  warnings.warn(\n"
          ]
        },
        {
          "name": "stderr",
          "output_type": "stream",
          "text": [
            "/opt/anaconda/envs/data_science/lib/python3.9/site-packages/sklearn/linear_model/_sag.py:352: ConvergenceWarning: The max_iter was reached which means the coef_ did not converge\n",
            "  warnings.warn(\n",
            "/opt/anaconda/envs/data_science/lib/python3.9/site-packages/sklearn/linear_model/_sag.py:352: ConvergenceWarning: The max_iter was reached which means the coef_ did not converge\n",
            "  warnings.warn(\n",
            "/opt/anaconda/envs/data_science/lib/python3.9/site-packages/sklearn/linear_model/_sag.py:352: ConvergenceWarning: The max_iter was reached which means the coef_ did not converge\n",
            "  warnings.warn(\n",
            "/opt/anaconda/envs/data_science/lib/python3.9/site-packages/sklearn/linear_model/_sag.py:352: ConvergenceWarning: The max_iter was reached which means the coef_ did not converge\n",
            "  warnings.warn(\n",
            "/opt/anaconda/envs/data_science/lib/python3.9/site-packages/sklearn/linear_model/_sag.py:352: ConvergenceWarning: The max_iter was reached which means the coef_ did not converge\n",
            "  warnings.warn(\n",
            "/opt/anaconda/envs/data_science/lib/python3.9/site-packages/sklearn/linear_model/_sag.py:352: ConvergenceWarning: The max_iter was reached which means the coef_ did not converge\n",
            "  warnings.warn(\n",
            "/opt/anaconda/envs/data_science/lib/python3.9/site-packages/sklearn/linear_model/_sag.py:352: ConvergenceWarning: The max_iter was reached which means the coef_ did not converge\n",
            "  warnings.warn(\n",
            "/opt/anaconda/envs/data_science/lib/python3.9/site-packages/sklearn/linear_model/_sag.py:352: ConvergenceWarning: The max_iter was reached which means the coef_ did not converge\n",
            "  warnings.warn(\n",
            "/opt/anaconda/envs/data_science/lib/python3.9/site-packages/sklearn/linear_model/_sag.py:352: ConvergenceWarning: The max_iter was reached which means the coef_ did not converge\n",
            "  warnings.warn(\n",
            "/opt/anaconda/envs/data_science/lib/python3.9/site-packages/sklearn/linear_model/_sag.py:352: ConvergenceWarning: The max_iter was reached which means the coef_ did not converge\n",
            "  warnings.warn(\n",
            "/opt/anaconda/envs/data_science/lib/python3.9/site-packages/sklearn/linear_model/_sag.py:352: ConvergenceWarning: The max_iter was reached which means the coef_ did not converge\n",
            "  warnings.warn(\n",
            "/opt/anaconda/envs/data_science/lib/python3.9/site-packages/sklearn/linear_model/_sag.py:352: ConvergenceWarning: The max_iter was reached which means the coef_ did not converge\n",
            "  warnings.warn(\n",
            "/opt/anaconda/envs/data_science/lib/python3.9/site-packages/sklearn/linear_model/_sag.py:352: ConvergenceWarning: The max_iter was reached which means the coef_ did not converge\n",
            "  warnings.warn(\n",
            "/opt/anaconda/envs/data_science/lib/python3.9/site-packages/sklearn/linear_model/_sag.py:352: ConvergenceWarning: The max_iter was reached which means the coef_ did not converge\n",
            "  warnings.warn(\n",
            "/opt/anaconda/envs/data_science/lib/python3.9/site-packages/sklearn/linear_model/_sag.py:352: ConvergenceWarning: The max_iter was reached which means the coef_ did not converge\n",
            "  warnings.warn(\n",
            "/opt/anaconda/envs/data_science/lib/python3.9/site-packages/sklearn/linear_model/_sag.py:352: ConvergenceWarning: The max_iter was reached which means the coef_ did not converge\n",
            "  warnings.warn(\n",
            "/opt/anaconda/envs/data_science/lib/python3.9/site-packages/sklearn/linear_model/_sag.py:352: ConvergenceWarning: The max_iter was reached which means the coef_ did not converge\n",
            "  warnings.warn(\n",
            "/opt/anaconda/envs/data_science/lib/python3.9/site-packages/sklearn/linear_model/_sag.py:352: ConvergenceWarning: The max_iter was reached which means the coef_ did not converge\n",
            "  warnings.warn(\n",
            "/opt/anaconda/envs/data_science/lib/python3.9/site-packages/sklearn/linear_model/_sag.py:352: ConvergenceWarning: The max_iter was reached which means the coef_ did not converge\n",
            "  warnings.warn(\n",
            "/opt/anaconda/envs/data_science/lib/python3.9/site-packages/sklearn/linear_model/_sag.py:352: ConvergenceWarning: The max_iter was reached which means the coef_ did not converge\n",
            "  warnings.warn(\n",
            "/opt/anaconda/envs/data_science/lib/python3.9/site-packages/sklearn/linear_model/_sag.py:352: ConvergenceWarning: The max_iter was reached which means the coef_ did not converge\n",
            "  warnings.warn(\n",
            "/opt/anaconda/envs/data_science/lib/python3.9/site-packages/sklearn/linear_model/_sag.py:352: ConvergenceWarning: The max_iter was reached which means the coef_ did not converge\n",
            "  warnings.warn(\n",
            "/opt/anaconda/envs/data_science/lib/python3.9/site-packages/sklearn/linear_model/_sag.py:352: ConvergenceWarning: The max_iter was reached which means the coef_ did not converge\n",
            "  warnings.warn(\n",
            "/opt/anaconda/envs/data_science/lib/python3.9/site-packages/sklearn/linear_model/_sag.py:352: ConvergenceWarning: The max_iter was reached which means the coef_ did not converge\n",
            "  warnings.warn(\n",
            "/opt/anaconda/envs/data_science/lib/python3.9/site-packages/sklearn/linear_model/_sag.py:352: ConvergenceWarning: The max_iter was reached which means the coef_ did not converge\n",
            "  warnings.warn(\n",
            "/opt/anaconda/envs/data_science/lib/python3.9/site-packages/sklearn/linear_model/_sag.py:352: ConvergenceWarning: The max_iter was reached which means the coef_ did not converge\n",
            "  warnings.warn(\n",
            "/opt/anaconda/envs/data_science/lib/python3.9/site-packages/sklearn/linear_model/_sag.py:352: ConvergenceWarning: The max_iter was reached which means the coef_ did not converge\n",
            "  warnings.warn(\n",
            "/opt/anaconda/envs/data_science/lib/python3.9/site-packages/sklearn/linear_model/_sag.py:352: ConvergenceWarning: The max_iter was reached which means the coef_ did not converge\n",
            "  warnings.warn(\n",
            "/opt/anaconda/envs/data_science/lib/python3.9/site-packages/sklearn/linear_model/_sag.py:352: ConvergenceWarning: The max_iter was reached which means the coef_ did not converge\n",
            "  warnings.warn(\n",
            "/opt/anaconda/envs/data_science/lib/python3.9/site-packages/sklearn/linear_model/_sag.py:352: ConvergenceWarning: The max_iter was reached which means the coef_ did not converge\n",
            "  warnings.warn(\n",
            "/opt/anaconda/envs/data_science/lib/python3.9/site-packages/sklearn/linear_model/_sag.py:352: ConvergenceWarning: The max_iter was reached which means the coef_ did not converge\n",
            "  warnings.warn(\n",
            "/opt/anaconda/envs/data_science/lib/python3.9/site-packages/sklearn/linear_model/_sag.py:352: ConvergenceWarning: The max_iter was reached which means the coef_ did not converge\n",
            "  warnings.warn(\n",
            "/opt/anaconda/envs/data_science/lib/python3.9/site-packages/sklearn/linear_model/_sag.py:352: ConvergenceWarning: The max_iter was reached which means the coef_ did not converge\n",
            "  warnings.warn(\n",
            "/opt/anaconda/envs/data_science/lib/python3.9/site-packages/sklearn/linear_model/_sag.py:352: ConvergenceWarning: The max_iter was reached which means the coef_ did not converge\n",
            "  warnings.warn(\n",
            "/opt/anaconda/envs/data_science/lib/python3.9/site-packages/sklearn/linear_model/_sag.py:352: ConvergenceWarning: The max_iter was reached which means the coef_ did not converge\n",
            "  warnings.warn(\n",
            "/opt/anaconda/envs/data_science/lib/python3.9/site-packages/sklearn/linear_model/_sag.py:352: ConvergenceWarning: The max_iter was reached which means the coef_ did not converge\n",
            "  warnings.warn(\n",
            "/opt/anaconda/envs/data_science/lib/python3.9/site-packages/sklearn/linear_model/_sag.py:352: ConvergenceWarning: The max_iter was reached which means the coef_ did not converge\n",
            "  warnings.warn(\n",
            "/opt/anaconda/envs/data_science/lib/python3.9/site-packages/sklearn/linear_model/_sag.py:352: ConvergenceWarning: The max_iter was reached which means the coef_ did not converge\n",
            "  warnings.warn(\n",
            "/opt/anaconda/envs/data_science/lib/python3.9/site-packages/sklearn/linear_model/_sag.py:352: ConvergenceWarning: The max_iter was reached which means the coef_ did not converge\n",
            "  warnings.warn(\n",
            "/opt/anaconda/envs/data_science/lib/python3.9/site-packages/sklearn/svm/_base.py:1206: ConvergenceWarning: Liblinear failed to converge, increase the number of iterations.\n",
            "  warnings.warn(\n",
            "/opt/anaconda/envs/data_science/lib/python3.9/site-packages/sklearn/linear_model/_sag.py:352: ConvergenceWarning: The max_iter was reached which means the coef_ did not converge\n",
            "  warnings.warn(\n",
            "/opt/anaconda/envs/data_science/lib/python3.9/site-packages/sklearn/linear_model/_sag.py:352: ConvergenceWarning: The max_iter was reached which means the coef_ did not converge\n",
            "  warnings.warn(\n",
            "/opt/anaconda/envs/data_science/lib/python3.9/site-packages/sklearn/linear_model/_sag.py:352: ConvergenceWarning: The max_iter was reached which means the coef_ did not converge\n",
            "  warnings.warn(\n"
          ]
        },
        {
          "name": "stderr",
          "output_type": "stream",
          "text": [
            "/opt/anaconda/envs/data_science/lib/python3.9/site-packages/sklearn/linear_model/_sag.py:352: ConvergenceWarning: The max_iter was reached which means the coef_ did not converge\n",
            "  warnings.warn(\n",
            "/opt/anaconda/envs/data_science/lib/python3.9/site-packages/sklearn/linear_model/_sag.py:352: ConvergenceWarning: The max_iter was reached which means the coef_ did not converge\n",
            "  warnings.warn(\n",
            "/opt/anaconda/envs/data_science/lib/python3.9/site-packages/sklearn/svm/_base.py:1206: ConvergenceWarning: Liblinear failed to converge, increase the number of iterations.\n",
            "  warnings.warn(\n",
            "/opt/anaconda/envs/data_science/lib/python3.9/site-packages/sklearn/linear_model/_sag.py:352: ConvergenceWarning: The max_iter was reached which means the coef_ did not converge\n",
            "  warnings.warn(\n",
            "/opt/anaconda/envs/data_science/lib/python3.9/site-packages/sklearn/linear_model/_sag.py:352: ConvergenceWarning: The max_iter was reached which means the coef_ did not converge\n",
            "  warnings.warn(\n",
            "/opt/anaconda/envs/data_science/lib/python3.9/site-packages/sklearn/linear_model/_sag.py:352: ConvergenceWarning: The max_iter was reached which means the coef_ did not converge\n",
            "  warnings.warn(\n",
            "/opt/anaconda/envs/data_science/lib/python3.9/site-packages/sklearn/linear_model/_sag.py:352: ConvergenceWarning: The max_iter was reached which means the coef_ did not converge\n",
            "  warnings.warn(\n",
            "/opt/anaconda/envs/data_science/lib/python3.9/site-packages/sklearn/linear_model/_sag.py:352: ConvergenceWarning: The max_iter was reached which means the coef_ did not converge\n",
            "  warnings.warn(\n",
            "/opt/anaconda/envs/data_science/lib/python3.9/site-packages/sklearn/linear_model/_sag.py:352: ConvergenceWarning: The max_iter was reached which means the coef_ did not converge\n",
            "  warnings.warn(\n",
            "/opt/anaconda/envs/data_science/lib/python3.9/site-packages/sklearn/linear_model/_sag.py:352: ConvergenceWarning: The max_iter was reached which means the coef_ did not converge\n",
            "  warnings.warn(\n",
            "/opt/anaconda/envs/data_science/lib/python3.9/site-packages/sklearn/linear_model/_sag.py:352: ConvergenceWarning: The max_iter was reached which means the coef_ did not converge\n",
            "  warnings.warn(\n",
            "/opt/anaconda/envs/data_science/lib/python3.9/site-packages/sklearn/linear_model/_sag.py:352: ConvergenceWarning: The max_iter was reached which means the coef_ did not converge\n",
            "  warnings.warn(\n",
            "/opt/anaconda/envs/data_science/lib/python3.9/site-packages/sklearn/linear_model/_sag.py:352: ConvergenceWarning: The max_iter was reached which means the coef_ did not converge\n",
            "  warnings.warn(\n",
            "/opt/anaconda/envs/data_science/lib/python3.9/site-packages/sklearn/linear_model/_sag.py:352: ConvergenceWarning: The max_iter was reached which means the coef_ did not converge\n",
            "  warnings.warn(\n",
            "/opt/anaconda/envs/data_science/lib/python3.9/site-packages/sklearn/linear_model/_sag.py:352: ConvergenceWarning: The max_iter was reached which means the coef_ did not converge\n",
            "  warnings.warn(\n",
            "/opt/anaconda/envs/data_science/lib/python3.9/site-packages/sklearn/linear_model/_sag.py:352: ConvergenceWarning: The max_iter was reached which means the coef_ did not converge\n",
            "  warnings.warn(\n",
            "/opt/anaconda/envs/data_science/lib/python3.9/site-packages/sklearn/linear_model/_sag.py:352: ConvergenceWarning: The max_iter was reached which means the coef_ did not converge\n",
            "  warnings.warn(\n",
            "/opt/anaconda/envs/data_science/lib/python3.9/site-packages/sklearn/linear_model/_sag.py:352: ConvergenceWarning: The max_iter was reached which means the coef_ did not converge\n",
            "  warnings.warn(\n",
            "/opt/anaconda/envs/data_science/lib/python3.9/site-packages/sklearn/linear_model/_sag.py:352: ConvergenceWarning: The max_iter was reached which means the coef_ did not converge\n",
            "  warnings.warn(\n",
            "/opt/anaconda/envs/data_science/lib/python3.9/site-packages/sklearn/linear_model/_sag.py:352: ConvergenceWarning: The max_iter was reached which means the coef_ did not converge\n",
            "  warnings.warn(\n",
            "/opt/anaconda/envs/data_science/lib/python3.9/site-packages/sklearn/linear_model/_sag.py:352: ConvergenceWarning: The max_iter was reached which means the coef_ did not converge\n",
            "  warnings.warn(\n",
            "/opt/anaconda/envs/data_science/lib/python3.9/site-packages/sklearn/linear_model/_sag.py:352: ConvergenceWarning: The max_iter was reached which means the coef_ did not converge\n",
            "  warnings.warn(\n",
            "/opt/anaconda/envs/data_science/lib/python3.9/site-packages/sklearn/linear_model/_sag.py:352: ConvergenceWarning: The max_iter was reached which means the coef_ did not converge\n",
            "  warnings.warn(\n",
            "/opt/anaconda/envs/data_science/lib/python3.9/site-packages/sklearn/linear_model/_sag.py:352: ConvergenceWarning: The max_iter was reached which means the coef_ did not converge\n",
            "  warnings.warn(\n",
            "/opt/anaconda/envs/data_science/lib/python3.9/site-packages/sklearn/linear_model/_sag.py:352: ConvergenceWarning: The max_iter was reached which means the coef_ did not converge\n",
            "  warnings.warn(\n",
            "/opt/anaconda/envs/data_science/lib/python3.9/site-packages/sklearn/linear_model/_sag.py:352: ConvergenceWarning: The max_iter was reached which means the coef_ did not converge\n",
            "  warnings.warn(\n",
            "/opt/anaconda/envs/data_science/lib/python3.9/site-packages/sklearn/linear_model/_sag.py:352: ConvergenceWarning: The max_iter was reached which means the coef_ did not converge\n",
            "  warnings.warn(\n",
            "/opt/anaconda/envs/data_science/lib/python3.9/site-packages/sklearn/linear_model/_sag.py:352: ConvergenceWarning: The max_iter was reached which means the coef_ did not converge\n",
            "  warnings.warn(\n",
            "/opt/anaconda/envs/data_science/lib/python3.9/site-packages/sklearn/linear_model/_sag.py:352: ConvergenceWarning: The max_iter was reached which means the coef_ did not converge\n",
            "  warnings.warn(\n",
            "/opt/anaconda/envs/data_science/lib/python3.9/site-packages/sklearn/linear_model/_sag.py:352: ConvergenceWarning: The max_iter was reached which means the coef_ did not converge\n",
            "  warnings.warn(\n",
            "/opt/anaconda/envs/data_science/lib/python3.9/site-packages/sklearn/linear_model/_sag.py:352: ConvergenceWarning: The max_iter was reached which means the coef_ did not converge\n",
            "  warnings.warn(\n",
            "/opt/anaconda/envs/data_science/lib/python3.9/site-packages/sklearn/linear_model/_sag.py:352: ConvergenceWarning: The max_iter was reached which means the coef_ did not converge\n",
            "  warnings.warn(\n",
            "/opt/anaconda/envs/data_science/lib/python3.9/site-packages/sklearn/linear_model/_sag.py:352: ConvergenceWarning: The max_iter was reached which means the coef_ did not converge\n",
            "  warnings.warn(\n",
            "/opt/anaconda/envs/data_science/lib/python3.9/site-packages/sklearn/linear_model/_sag.py:352: ConvergenceWarning: The max_iter was reached which means the coef_ did not converge\n",
            "  warnings.warn(\n",
            "/opt/anaconda/envs/data_science/lib/python3.9/site-packages/sklearn/linear_model/_sag.py:352: ConvergenceWarning: The max_iter was reached which means the coef_ did not converge\n",
            "  warnings.warn(\n",
            "/opt/anaconda/envs/data_science/lib/python3.9/site-packages/sklearn/linear_model/_sag.py:352: ConvergenceWarning: The max_iter was reached which means the coef_ did not converge\n",
            "  warnings.warn(\n",
            "/opt/anaconda/envs/data_science/lib/python3.9/site-packages/sklearn/linear_model/_sag.py:352: ConvergenceWarning: The max_iter was reached which means the coef_ did not converge\n",
            "  warnings.warn(\n",
            "/opt/anaconda/envs/data_science/lib/python3.9/site-packages/sklearn/linear_model/_sag.py:352: ConvergenceWarning: The max_iter was reached which means the coef_ did not converge\n",
            "  warnings.warn(\n",
            "/opt/anaconda/envs/data_science/lib/python3.9/site-packages/sklearn/linear_model/_sag.py:352: ConvergenceWarning: The max_iter was reached which means the coef_ did not converge\n",
            "  warnings.warn(\n",
            "/opt/anaconda/envs/data_science/lib/python3.9/site-packages/sklearn/linear_model/_sag.py:352: ConvergenceWarning: The max_iter was reached which means the coef_ did not converge\n",
            "  warnings.warn(\n",
            "/opt/anaconda/envs/data_science/lib/python3.9/site-packages/sklearn/linear_model/_sag.py:352: ConvergenceWarning: The max_iter was reached which means the coef_ did not converge\n",
            "  warnings.warn(\n",
            "/opt/anaconda/envs/data_science/lib/python3.9/site-packages/sklearn/linear_model/_sag.py:352: ConvergenceWarning: The max_iter was reached which means the coef_ did not converge\n",
            "  warnings.warn(\n",
            "/opt/anaconda/envs/data_science/lib/python3.9/site-packages/sklearn/linear_model/_sag.py:352: ConvergenceWarning: The max_iter was reached which means the coef_ did not converge\n",
            "  warnings.warn(\n",
            "/opt/anaconda/envs/data_science/lib/python3.9/site-packages/sklearn/linear_model/_sag.py:352: ConvergenceWarning: The max_iter was reached which means the coef_ did not converge\n",
            "  warnings.warn(\n"
          ]
        },
        {
          "name": "stderr",
          "output_type": "stream",
          "text": [
            "/opt/anaconda/envs/data_science/lib/python3.9/site-packages/sklearn/linear_model/_logistic.py:814: ConvergenceWarning: lbfgs failed to converge (status=1):\n",
            "STOP: TOTAL NO. of ITERATIONS REACHED LIMIT.\n",
            "\n",
            "Increase the number of iterations (max_iter) or scale the data as shown in:\n",
            "    https://scikit-learn.org/stable/modules/preprocessing.html\n",
            "Please also refer to the documentation for alternative solver options:\n",
            "    https://scikit-learn.org/stable/modules/linear_model.html#logistic-regression\n",
            "  n_iter_i = _check_optimize_result(\n",
            "/opt/anaconda/envs/data_science/lib/python3.9/site-packages/sklearn/linear_model/_sag.py:352: ConvergenceWarning: The max_iter was reached which means the coef_ did not converge\n",
            "  warnings.warn(\n",
            "/opt/anaconda/envs/data_science/lib/python3.9/site-packages/sklearn/linear_model/_sag.py:352: ConvergenceWarning: The max_iter was reached which means the coef_ did not converge\n",
            "  warnings.warn(\n",
            "/opt/anaconda/envs/data_science/lib/python3.9/site-packages/sklearn/linear_model/_sag.py:352: ConvergenceWarning: The max_iter was reached which means the coef_ did not converge\n",
            "  warnings.warn(\n",
            "/opt/anaconda/envs/data_science/lib/python3.9/site-packages/sklearn/linear_model/_sag.py:352: ConvergenceWarning: The max_iter was reached which means the coef_ did not converge\n",
            "  warnings.warn(\n",
            "/opt/anaconda/envs/data_science/lib/python3.9/site-packages/sklearn/linear_model/_sag.py:352: ConvergenceWarning: The max_iter was reached which means the coef_ did not converge\n",
            "  warnings.warn(\n",
            "/opt/anaconda/envs/data_science/lib/python3.9/site-packages/sklearn/linear_model/_logistic.py:814: ConvergenceWarning: lbfgs failed to converge (status=1):\n",
            "STOP: TOTAL NO. of ITERATIONS REACHED LIMIT.\n",
            "\n",
            "Increase the number of iterations (max_iter) or scale the data as shown in:\n",
            "    https://scikit-learn.org/stable/modules/preprocessing.html\n",
            "Please also refer to the documentation for alternative solver options:\n",
            "    https://scikit-learn.org/stable/modules/linear_model.html#logistic-regression\n",
            "  n_iter_i = _check_optimize_result(\n",
            "/opt/anaconda/envs/data_science/lib/python3.9/site-packages/sklearn/linear_model/_sag.py:352: ConvergenceWarning: The max_iter was reached which means the coef_ did not converge\n",
            "  warnings.warn(\n",
            "/opt/anaconda/envs/data_science/lib/python3.9/site-packages/sklearn/linear_model/_sag.py:352: ConvergenceWarning: The max_iter was reached which means the coef_ did not converge\n",
            "  warnings.warn(\n",
            "/opt/anaconda/envs/data_science/lib/python3.9/site-packages/sklearn/linear_model/_sag.py:352: ConvergenceWarning: The max_iter was reached which means the coef_ did not converge\n",
            "  warnings.warn(\n",
            "/opt/anaconda/envs/data_science/lib/python3.9/site-packages/sklearn/linear_model/_sag.py:352: ConvergenceWarning: The max_iter was reached which means the coef_ did not converge\n",
            "  warnings.warn(\n",
            "/opt/anaconda/envs/data_science/lib/python3.9/site-packages/sklearn/linear_model/_sag.py:352: ConvergenceWarning: The max_iter was reached which means the coef_ did not converge\n",
            "  warnings.warn(\n",
            "/opt/anaconda/envs/data_science/lib/python3.9/site-packages/sklearn/linear_model/_sag.py:352: ConvergenceWarning: The max_iter was reached which means the coef_ did not converge\n",
            "  warnings.warn(\n",
            "/opt/anaconda/envs/data_science/lib/python3.9/site-packages/sklearn/linear_model/_sag.py:352: ConvergenceWarning: The max_iter was reached which means the coef_ did not converge\n",
            "  warnings.warn(\n",
            "/opt/anaconda/envs/data_science/lib/python3.9/site-packages/sklearn/linear_model/_sag.py:352: ConvergenceWarning: The max_iter was reached which means the coef_ did not converge\n",
            "  warnings.warn(\n",
            "/opt/anaconda/envs/data_science/lib/python3.9/site-packages/sklearn/linear_model/_sag.py:352: ConvergenceWarning: The max_iter was reached which means the coef_ did not converge\n",
            "  warnings.warn(\n",
            "/opt/anaconda/envs/data_science/lib/python3.9/site-packages/sklearn/linear_model/_sag.py:352: ConvergenceWarning: The max_iter was reached which means the coef_ did not converge\n",
            "  warnings.warn(\n",
            "/opt/anaconda/envs/data_science/lib/python3.9/site-packages/sklearn/linear_model/_sag.py:352: ConvergenceWarning: The max_iter was reached which means the coef_ did not converge\n",
            "  warnings.warn(\n",
            "/opt/anaconda/envs/data_science/lib/python3.9/site-packages/sklearn/linear_model/_sag.py:352: ConvergenceWarning: The max_iter was reached which means the coef_ did not converge\n",
            "  warnings.warn(\n",
            "/opt/anaconda/envs/data_science/lib/python3.9/site-packages/sklearn/linear_model/_sag.py:352: ConvergenceWarning: The max_iter was reached which means the coef_ did not converge\n",
            "  warnings.warn(\n",
            "/opt/anaconda/envs/data_science/lib/python3.9/site-packages/sklearn/linear_model/_sag.py:352: ConvergenceWarning: The max_iter was reached which means the coef_ did not converge\n",
            "  warnings.warn(\n",
            "/opt/anaconda/envs/data_science/lib/python3.9/site-packages/sklearn/linear_model/_sag.py:352: ConvergenceWarning: The max_iter was reached which means the coef_ did not converge\n",
            "  warnings.warn(\n",
            "/opt/anaconda/envs/data_science/lib/python3.9/site-packages/sklearn/linear_model/_sag.py:352: ConvergenceWarning: The max_iter was reached which means the coef_ did not converge\n",
            "  warnings.warn(\n",
            "/opt/anaconda/envs/data_science/lib/python3.9/site-packages/sklearn/linear_model/_sag.py:352: ConvergenceWarning: The max_iter was reached which means the coef_ did not converge\n",
            "  warnings.warn(\n",
            "/opt/anaconda/envs/data_science/lib/python3.9/site-packages/sklearn/linear_model/_sag.py:352: ConvergenceWarning: The max_iter was reached which means the coef_ did not converge\n",
            "  warnings.warn(\n",
            "/opt/anaconda/envs/data_science/lib/python3.9/site-packages/sklearn/linear_model/_sag.py:352: ConvergenceWarning: The max_iter was reached which means the coef_ did not converge\n",
            "  warnings.warn(\n",
            "/opt/anaconda/envs/data_science/lib/python3.9/site-packages/sklearn/linear_model/_sag.py:352: ConvergenceWarning: The max_iter was reached which means the coef_ did not converge\n",
            "  warnings.warn(\n",
            "/opt/anaconda/envs/data_science/lib/python3.9/site-packages/sklearn/linear_model/_sag.py:352: ConvergenceWarning: The max_iter was reached which means the coef_ did not converge\n",
            "  warnings.warn(\n",
            "/opt/anaconda/envs/data_science/lib/python3.9/site-packages/sklearn/linear_model/_sag.py:352: ConvergenceWarning: The max_iter was reached which means the coef_ did not converge\n",
            "  warnings.warn(\n",
            "/opt/anaconda/envs/data_science/lib/python3.9/site-packages/sklearn/linear_model/_sag.py:352: ConvergenceWarning: The max_iter was reached which means the coef_ did not converge\n",
            "  warnings.warn(\n",
            "/opt/anaconda/envs/data_science/lib/python3.9/site-packages/sklearn/linear_model/_sag.py:352: ConvergenceWarning: The max_iter was reached which means the coef_ did not converge\n",
            "  warnings.warn(\n",
            "/opt/anaconda/envs/data_science/lib/python3.9/site-packages/sklearn/linear_model/_sag.py:352: ConvergenceWarning: The max_iter was reached which means the coef_ did not converge\n",
            "  warnings.warn(\n",
            "/opt/anaconda/envs/data_science/lib/python3.9/site-packages/sklearn/linear_model/_sag.py:352: ConvergenceWarning: The max_iter was reached which means the coef_ did not converge\n",
            "  warnings.warn(\n",
            "/opt/anaconda/envs/data_science/lib/python3.9/site-packages/sklearn/linear_model/_sag.py:352: ConvergenceWarning: The max_iter was reached which means the coef_ did not converge\n",
            "  warnings.warn(\n",
            "/opt/anaconda/envs/data_science/lib/python3.9/site-packages/sklearn/linear_model/_sag.py:352: ConvergenceWarning: The max_iter was reached which means the coef_ did not converge\n",
            "  warnings.warn(\n",
            "/opt/anaconda/envs/data_science/lib/python3.9/site-packages/sklearn/linear_model/_sag.py:352: ConvergenceWarning: The max_iter was reached which means the coef_ did not converge\n",
            "  warnings.warn(\n",
            "/opt/anaconda/envs/data_science/lib/python3.9/site-packages/sklearn/linear_model/_sag.py:352: ConvergenceWarning: The max_iter was reached which means the coef_ did not converge\n",
            "  warnings.warn(\n",
            "/opt/anaconda/envs/data_science/lib/python3.9/site-packages/sklearn/linear_model/_sag.py:352: ConvergenceWarning: The max_iter was reached which means the coef_ did not converge\n",
            "  warnings.warn(\n",
            "/opt/anaconda/envs/data_science/lib/python3.9/site-packages/sklearn/linear_model/_sag.py:352: ConvergenceWarning: The max_iter was reached which means the coef_ did not converge\n",
            "  warnings.warn(\n"
          ]
        },
        {
          "name": "stderr",
          "output_type": "stream",
          "text": [
            "/opt/anaconda/envs/data_science/lib/python3.9/site-packages/sklearn/linear_model/_sag.py:352: ConvergenceWarning: The max_iter was reached which means the coef_ did not converge\n",
            "  warnings.warn(\n",
            "/opt/anaconda/envs/data_science/lib/python3.9/site-packages/sklearn/linear_model/_sag.py:352: ConvergenceWarning: The max_iter was reached which means the coef_ did not converge\n",
            "  warnings.warn(\n",
            "/opt/anaconda/envs/data_science/lib/python3.9/site-packages/sklearn/linear_model/_sag.py:352: ConvergenceWarning: The max_iter was reached which means the coef_ did not converge\n",
            "  warnings.warn(\n",
            "/opt/anaconda/envs/data_science/lib/python3.9/site-packages/sklearn/linear_model/_sag.py:352: ConvergenceWarning: The max_iter was reached which means the coef_ did not converge\n",
            "  warnings.warn(\n",
            "/opt/anaconda/envs/data_science/lib/python3.9/site-packages/sklearn/linear_model/_sag.py:352: ConvergenceWarning: The max_iter was reached which means the coef_ did not converge\n",
            "  warnings.warn(\n",
            "/opt/anaconda/envs/data_science/lib/python3.9/site-packages/sklearn/linear_model/_sag.py:352: ConvergenceWarning: The max_iter was reached which means the coef_ did not converge\n",
            "  warnings.warn(\n",
            "/opt/anaconda/envs/data_science/lib/python3.9/site-packages/sklearn/linear_model/_sag.py:352: ConvergenceWarning: The max_iter was reached which means the coef_ did not converge\n",
            "  warnings.warn(\n",
            "/opt/anaconda/envs/data_science/lib/python3.9/site-packages/sklearn/linear_model/_sag.py:352: ConvergenceWarning: The max_iter was reached which means the coef_ did not converge\n",
            "  warnings.warn(\n",
            "/opt/anaconda/envs/data_science/lib/python3.9/site-packages/sklearn/linear_model/_sag.py:352: ConvergenceWarning: The max_iter was reached which means the coef_ did not converge\n",
            "  warnings.warn(\n",
            "/opt/anaconda/envs/data_science/lib/python3.9/site-packages/sklearn/linear_model/_sag.py:352: ConvergenceWarning: The max_iter was reached which means the coef_ did not converge\n",
            "  warnings.warn(\n",
            "/opt/anaconda/envs/data_science/lib/python3.9/site-packages/sklearn/linear_model/_sag.py:352: ConvergenceWarning: The max_iter was reached which means the coef_ did not converge\n",
            "  warnings.warn(\n",
            "/opt/anaconda/envs/data_science/lib/python3.9/site-packages/sklearn/svm/_base.py:1206: ConvergenceWarning: Liblinear failed to converge, increase the number of iterations.\n",
            "  warnings.warn(\n",
            "/opt/anaconda/envs/data_science/lib/python3.9/site-packages/sklearn/svm/_base.py:1206: ConvergenceWarning: Liblinear failed to converge, increase the number of iterations.\n",
            "  warnings.warn(\n",
            "/opt/anaconda/envs/data_science/lib/python3.9/site-packages/sklearn/linear_model/_sag.py:352: ConvergenceWarning: The max_iter was reached which means the coef_ did not converge\n",
            "  warnings.warn(\n",
            "/opt/anaconda/envs/data_science/lib/python3.9/site-packages/sklearn/linear_model/_sag.py:352: ConvergenceWarning: The max_iter was reached which means the coef_ did not converge\n",
            "  warnings.warn(\n",
            "/opt/anaconda/envs/data_science/lib/python3.9/site-packages/sklearn/linear_model/_sag.py:352: ConvergenceWarning: The max_iter was reached which means the coef_ did not converge\n",
            "  warnings.warn(\n",
            "/opt/anaconda/envs/data_science/lib/python3.9/site-packages/sklearn/linear_model/_sag.py:352: ConvergenceWarning: The max_iter was reached which means the coef_ did not converge\n",
            "  warnings.warn(\n",
            "/opt/anaconda/envs/data_science/lib/python3.9/site-packages/sklearn/linear_model/_sag.py:352: ConvergenceWarning: The max_iter was reached which means the coef_ did not converge\n",
            "  warnings.warn(\n",
            "/opt/anaconda/envs/data_science/lib/python3.9/site-packages/sklearn/svm/_base.py:1206: ConvergenceWarning: Liblinear failed to converge, increase the number of iterations.\n",
            "  warnings.warn(\n",
            "/opt/anaconda/envs/data_science/lib/python3.9/site-packages/sklearn/svm/_base.py:1206: ConvergenceWarning: Liblinear failed to converge, increase the number of iterations.\n",
            "  warnings.warn(\n",
            "/opt/anaconda/envs/data_science/lib/python3.9/site-packages/sklearn/linear_model/_sag.py:352: ConvergenceWarning: The max_iter was reached which means the coef_ did not converge\n",
            "  warnings.warn(\n",
            "/opt/anaconda/envs/data_science/lib/python3.9/site-packages/sklearn/linear_model/_sag.py:352: ConvergenceWarning: The max_iter was reached which means the coef_ did not converge\n",
            "  warnings.warn(\n",
            "/opt/anaconda/envs/data_science/lib/python3.9/site-packages/sklearn/linear_model/_sag.py:352: ConvergenceWarning: The max_iter was reached which means the coef_ did not converge\n",
            "  warnings.warn(\n",
            "/opt/anaconda/envs/data_science/lib/python3.9/site-packages/sklearn/linear_model/_sag.py:352: ConvergenceWarning: The max_iter was reached which means the coef_ did not converge\n",
            "  warnings.warn(\n",
            "/opt/anaconda/envs/data_science/lib/python3.9/site-packages/sklearn/linear_model/_sag.py:352: ConvergenceWarning: The max_iter was reached which means the coef_ did not converge\n",
            "  warnings.warn(\n",
            "/opt/anaconda/envs/data_science/lib/python3.9/site-packages/sklearn/linear_model/_sag.py:352: ConvergenceWarning: The max_iter was reached which means the coef_ did not converge\n",
            "  warnings.warn(\n",
            "/opt/anaconda/envs/data_science/lib/python3.9/site-packages/sklearn/linear_model/_sag.py:352: ConvergenceWarning: The max_iter was reached which means the coef_ did not converge\n",
            "  warnings.warn(\n",
            "/opt/anaconda/envs/data_science/lib/python3.9/site-packages/sklearn/linear_model/_sag.py:352: ConvergenceWarning: The max_iter was reached which means the coef_ did not converge\n",
            "  warnings.warn(\n",
            "/opt/anaconda/envs/data_science/lib/python3.9/site-packages/sklearn/linear_model/_sag.py:352: ConvergenceWarning: The max_iter was reached which means the coef_ did not converge\n",
            "  warnings.warn(\n",
            "/opt/anaconda/envs/data_science/lib/python3.9/site-packages/sklearn/linear_model/_sag.py:352: ConvergenceWarning: The max_iter was reached which means the coef_ did not converge\n",
            "  warnings.warn(\n",
            "/opt/anaconda/envs/data_science/lib/python3.9/site-packages/sklearn/linear_model/_sag.py:352: ConvergenceWarning: The max_iter was reached which means the coef_ did not converge\n",
            "  warnings.warn(\n",
            "/opt/anaconda/envs/data_science/lib/python3.9/site-packages/sklearn/linear_model/_sag.py:352: ConvergenceWarning: The max_iter was reached which means the coef_ did not converge\n",
            "  warnings.warn(\n",
            "/opt/anaconda/envs/data_science/lib/python3.9/site-packages/sklearn/linear_model/_sag.py:352: ConvergenceWarning: The max_iter was reached which means the coef_ did not converge\n",
            "  warnings.warn(\n",
            "/opt/anaconda/envs/data_science/lib/python3.9/site-packages/sklearn/linear_model/_sag.py:352: ConvergenceWarning: The max_iter was reached which means the coef_ did not converge\n",
            "  warnings.warn(\n",
            "/opt/anaconda/envs/data_science/lib/python3.9/site-packages/sklearn/linear_model/_sag.py:352: ConvergenceWarning: The max_iter was reached which means the coef_ did not converge\n",
            "  warnings.warn(\n",
            "/opt/anaconda/envs/data_science/lib/python3.9/site-packages/sklearn/linear_model/_sag.py:352: ConvergenceWarning: The max_iter was reached which means the coef_ did not converge\n",
            "  warnings.warn(\n",
            "/opt/anaconda/envs/data_science/lib/python3.9/site-packages/sklearn/linear_model/_sag.py:352: ConvergenceWarning: The max_iter was reached which means the coef_ did not converge\n",
            "  warnings.warn(\n",
            "/opt/anaconda/envs/data_science/lib/python3.9/site-packages/sklearn/linear_model/_sag.py:352: ConvergenceWarning: The max_iter was reached which means the coef_ did not converge\n",
            "  warnings.warn(\n",
            "/opt/anaconda/envs/data_science/lib/python3.9/site-packages/sklearn/linear_model/_sag.py:352: ConvergenceWarning: The max_iter was reached which means the coef_ did not converge\n",
            "  warnings.warn(\n",
            "/opt/anaconda/envs/data_science/lib/python3.9/site-packages/sklearn/linear_model/_sag.py:352: ConvergenceWarning: The max_iter was reached which means the coef_ did not converge\n",
            "  warnings.warn(\n",
            "/opt/anaconda/envs/data_science/lib/python3.9/site-packages/sklearn/linear_model/_sag.py:352: ConvergenceWarning: The max_iter was reached which means the coef_ did not converge\n",
            "  warnings.warn(\n",
            "/opt/anaconda/envs/data_science/lib/python3.9/site-packages/sklearn/linear_model/_sag.py:352: ConvergenceWarning: The max_iter was reached which means the coef_ did not converge\n",
            "  warnings.warn(\n",
            "/opt/anaconda/envs/data_science/lib/python3.9/site-packages/sklearn/linear_model/_sag.py:352: ConvergenceWarning: The max_iter was reached which means the coef_ did not converge\n",
            "  warnings.warn(\n"
          ]
        },
        {
          "name": "stderr",
          "output_type": "stream",
          "text": [
            "/opt/anaconda/envs/data_science/lib/python3.9/site-packages/sklearn/linear_model/_sag.py:352: ConvergenceWarning: The max_iter was reached which means the coef_ did not converge\n",
            "  warnings.warn(\n",
            "/opt/anaconda/envs/data_science/lib/python3.9/site-packages/sklearn/linear_model/_sag.py:352: ConvergenceWarning: The max_iter was reached which means the coef_ did not converge\n",
            "  warnings.warn(\n",
            "/opt/anaconda/envs/data_science/lib/python3.9/site-packages/sklearn/linear_model/_sag.py:352: ConvergenceWarning: The max_iter was reached which means the coef_ did not converge\n",
            "  warnings.warn(\n",
            "/opt/anaconda/envs/data_science/lib/python3.9/site-packages/sklearn/linear_model/_sag.py:352: ConvergenceWarning: The max_iter was reached which means the coef_ did not converge\n",
            "  warnings.warn(\n",
            "/opt/anaconda/envs/data_science/lib/python3.9/site-packages/sklearn/linear_model/_sag.py:352: ConvergenceWarning: The max_iter was reached which means the coef_ did not converge\n",
            "  warnings.warn(\n",
            "/opt/anaconda/envs/data_science/lib/python3.9/site-packages/sklearn/linear_model/_sag.py:352: ConvergenceWarning: The max_iter was reached which means the coef_ did not converge\n",
            "  warnings.warn(\n",
            "/opt/anaconda/envs/data_science/lib/python3.9/site-packages/sklearn/linear_model/_sag.py:352: ConvergenceWarning: The max_iter was reached which means the coef_ did not converge\n",
            "  warnings.warn(\n",
            "/opt/anaconda/envs/data_science/lib/python3.9/site-packages/sklearn/linear_model/_sag.py:352: ConvergenceWarning: The max_iter was reached which means the coef_ did not converge\n",
            "  warnings.warn(\n",
            "/opt/anaconda/envs/data_science/lib/python3.9/site-packages/sklearn/linear_model/_sag.py:352: ConvergenceWarning: The max_iter was reached which means the coef_ did not converge\n",
            "  warnings.warn(\n",
            "/opt/anaconda/envs/data_science/lib/python3.9/site-packages/sklearn/linear_model/_sag.py:352: ConvergenceWarning: The max_iter was reached which means the coef_ did not converge\n",
            "  warnings.warn(\n",
            "/opt/anaconda/envs/data_science/lib/python3.9/site-packages/sklearn/linear_model/_sag.py:352: ConvergenceWarning: The max_iter was reached which means the coef_ did not converge\n",
            "  warnings.warn(\n",
            "/opt/anaconda/envs/data_science/lib/python3.9/site-packages/sklearn/linear_model/_sag.py:352: ConvergenceWarning: The max_iter was reached which means the coef_ did not converge\n",
            "  warnings.warn(\n",
            "/opt/anaconda/envs/data_science/lib/python3.9/site-packages/sklearn/linear_model/_sag.py:352: ConvergenceWarning: The max_iter was reached which means the coef_ did not converge\n",
            "  warnings.warn(\n",
            "/opt/anaconda/envs/data_science/lib/python3.9/site-packages/sklearn/linear_model/_sag.py:352: ConvergenceWarning: The max_iter was reached which means the coef_ did not converge\n",
            "  warnings.warn(\n",
            "/opt/anaconda/envs/data_science/lib/python3.9/site-packages/sklearn/linear_model/_sag.py:352: ConvergenceWarning: The max_iter was reached which means the coef_ did not converge\n",
            "  warnings.warn(\n",
            "/opt/anaconda/envs/data_science/lib/python3.9/site-packages/sklearn/linear_model/_sag.py:352: ConvergenceWarning: The max_iter was reached which means the coef_ did not converge\n",
            "  warnings.warn(\n",
            "/opt/anaconda/envs/data_science/lib/python3.9/site-packages/sklearn/linear_model/_sag.py:352: ConvergenceWarning: The max_iter was reached which means the coef_ did not converge\n",
            "  warnings.warn(\n",
            "/opt/anaconda/envs/data_science/lib/python3.9/site-packages/sklearn/linear_model/_sag.py:352: ConvergenceWarning: The max_iter was reached which means the coef_ did not converge\n",
            "  warnings.warn(\n",
            "/opt/anaconda/envs/data_science/lib/python3.9/site-packages/sklearn/linear_model/_sag.py:352: ConvergenceWarning: The max_iter was reached which means the coef_ did not converge\n",
            "  warnings.warn(\n",
            "/opt/anaconda/envs/data_science/lib/python3.9/site-packages/sklearn/linear_model/_sag.py:352: ConvergenceWarning: The max_iter was reached which means the coef_ did not converge\n",
            "  warnings.warn(\n",
            "/opt/anaconda/envs/data_science/lib/python3.9/site-packages/sklearn/linear_model/_logistic.py:814: ConvergenceWarning: lbfgs failed to converge (status=1):\n",
            "STOP: TOTAL NO. of ITERATIONS REACHED LIMIT.\n",
            "\n",
            "Increase the number of iterations (max_iter) or scale the data as shown in:\n",
            "    https://scikit-learn.org/stable/modules/preprocessing.html\n",
            "Please also refer to the documentation for alternative solver options:\n",
            "    https://scikit-learn.org/stable/modules/linear_model.html#logistic-regression\n",
            "  n_iter_i = _check_optimize_result(\n",
            "/opt/anaconda/envs/data_science/lib/python3.9/site-packages/sklearn/linear_model/_logistic.py:814: ConvergenceWarning: lbfgs failed to converge (status=1):\n",
            "STOP: TOTAL NO. of ITERATIONS REACHED LIMIT.\n",
            "\n",
            "Increase the number of iterations (max_iter) or scale the data as shown in:\n",
            "    https://scikit-learn.org/stable/modules/preprocessing.html\n",
            "Please also refer to the documentation for alternative solver options:\n",
            "    https://scikit-learn.org/stable/modules/linear_model.html#logistic-regression\n",
            "  n_iter_i = _check_optimize_result(\n",
            "/opt/anaconda/envs/data_science/lib/python3.9/site-packages/sklearn/linear_model/_sag.py:352: ConvergenceWarning: The max_iter was reached which means the coef_ did not converge\n",
            "  warnings.warn(\n",
            "/opt/anaconda/envs/data_science/lib/python3.9/site-packages/sklearn/linear_model/_sag.py:352: ConvergenceWarning: The max_iter was reached which means the coef_ did not converge\n",
            "  warnings.warn(\n",
            "/opt/anaconda/envs/data_science/lib/python3.9/site-packages/sklearn/linear_model/_sag.py:352: ConvergenceWarning: The max_iter was reached which means the coef_ did not converge\n",
            "  warnings.warn(\n",
            "/opt/anaconda/envs/data_science/lib/python3.9/site-packages/sklearn/linear_model/_sag.py:352: ConvergenceWarning: The max_iter was reached which means the coef_ did not converge\n",
            "  warnings.warn(\n",
            "/opt/anaconda/envs/data_science/lib/python3.9/site-packages/sklearn/linear_model/_sag.py:352: ConvergenceWarning: The max_iter was reached which means the coef_ did not converge\n",
            "  warnings.warn(\n",
            "/opt/anaconda/envs/data_science/lib/python3.9/site-packages/sklearn/linear_model/_logistic.py:814: ConvergenceWarning: lbfgs failed to converge (status=1):\n",
            "STOP: TOTAL NO. of ITERATIONS REACHED LIMIT.\n",
            "\n",
            "Increase the number of iterations (max_iter) or scale the data as shown in:\n",
            "    https://scikit-learn.org/stable/modules/preprocessing.html\n",
            "Please also refer to the documentation for alternative solver options:\n",
            "    https://scikit-learn.org/stable/modules/linear_model.html#logistic-regression\n",
            "  n_iter_i = _check_optimize_result(\n",
            "/opt/anaconda/envs/data_science/lib/python3.9/site-packages/sklearn/linear_model/_logistic.py:814: ConvergenceWarning: lbfgs failed to converge (status=1):\n",
            "STOP: TOTAL NO. of ITERATIONS REACHED LIMIT.\n",
            "\n",
            "Increase the number of iterations (max_iter) or scale the data as shown in:\n",
            "    https://scikit-learn.org/stable/modules/preprocessing.html\n",
            "Please also refer to the documentation for alternative solver options:\n",
            "    https://scikit-learn.org/stable/modules/linear_model.html#logistic-regression\n",
            "  n_iter_i = _check_optimize_result(\n",
            "/opt/anaconda/envs/data_science/lib/python3.9/site-packages/sklearn/linear_model/_sag.py:352: ConvergenceWarning: The max_iter was reached which means the coef_ did not converge\n",
            "  warnings.warn(\n",
            "/opt/anaconda/envs/data_science/lib/python3.9/site-packages/sklearn/linear_model/_sag.py:352: ConvergenceWarning: The max_iter was reached which means the coef_ did not converge\n",
            "  warnings.warn(\n",
            "/opt/anaconda/envs/data_science/lib/python3.9/site-packages/sklearn/linear_model/_sag.py:352: ConvergenceWarning: The max_iter was reached which means the coef_ did not converge\n",
            "  warnings.warn(\n",
            "/opt/anaconda/envs/data_science/lib/python3.9/site-packages/sklearn/linear_model/_sag.py:352: ConvergenceWarning: The max_iter was reached which means the coef_ did not converge\n",
            "  warnings.warn(\n",
            "/opt/anaconda/envs/data_science/lib/python3.9/site-packages/sklearn/linear_model/_sag.py:352: ConvergenceWarning: The max_iter was reached which means the coef_ did not converge\n",
            "  warnings.warn(\n",
            "/opt/anaconda/envs/data_science/lib/python3.9/site-packages/sklearn/linear_model/_sag.py:352: ConvergenceWarning: The max_iter was reached which means the coef_ did not converge\n",
            "  warnings.warn(\n",
            "/opt/anaconda/envs/data_science/lib/python3.9/site-packages/sklearn/linear_model/_sag.py:352: ConvergenceWarning: The max_iter was reached which means the coef_ did not converge\n",
            "  warnings.warn(\n",
            "/opt/anaconda/envs/data_science/lib/python3.9/site-packages/sklearn/linear_model/_sag.py:352: ConvergenceWarning: The max_iter was reached which means the coef_ did not converge\n",
            "  warnings.warn(\n"
          ]
        },
        {
          "name": "stderr",
          "output_type": "stream",
          "text": [
            "/opt/anaconda/envs/data_science/lib/python3.9/site-packages/sklearn/linear_model/_sag.py:352: ConvergenceWarning: The max_iter was reached which means the coef_ did not converge\n",
            "  warnings.warn(\n",
            "/opt/anaconda/envs/data_science/lib/python3.9/site-packages/sklearn/linear_model/_sag.py:352: ConvergenceWarning: The max_iter was reached which means the coef_ did not converge\n",
            "  warnings.warn(\n",
            "/opt/anaconda/envs/data_science/lib/python3.9/site-packages/sklearn/linear_model/_sag.py:352: ConvergenceWarning: The max_iter was reached which means the coef_ did not converge\n",
            "  warnings.warn(\n",
            "/opt/anaconda/envs/data_science/lib/python3.9/site-packages/sklearn/linear_model/_sag.py:352: ConvergenceWarning: The max_iter was reached which means the coef_ did not converge\n",
            "  warnings.warn(\n",
            "/opt/anaconda/envs/data_science/lib/python3.9/site-packages/sklearn/linear_model/_sag.py:352: ConvergenceWarning: The max_iter was reached which means the coef_ did not converge\n",
            "  warnings.warn(\n",
            "/opt/anaconda/envs/data_science/lib/python3.9/site-packages/sklearn/linear_model/_sag.py:352: ConvergenceWarning: The max_iter was reached which means the coef_ did not converge\n",
            "  warnings.warn(\n",
            "/opt/anaconda/envs/data_science/lib/python3.9/site-packages/sklearn/linear_model/_sag.py:352: ConvergenceWarning: The max_iter was reached which means the coef_ did not converge\n",
            "  warnings.warn(\n",
            "/opt/anaconda/envs/data_science/lib/python3.9/site-packages/sklearn/linear_model/_sag.py:352: ConvergenceWarning: The max_iter was reached which means the coef_ did not converge\n",
            "  warnings.warn(\n",
            "/opt/anaconda/envs/data_science/lib/python3.9/site-packages/sklearn/linear_model/_sag.py:352: ConvergenceWarning: The max_iter was reached which means the coef_ did not converge\n",
            "  warnings.warn(\n",
            "/opt/anaconda/envs/data_science/lib/python3.9/site-packages/sklearn/linear_model/_sag.py:352: ConvergenceWarning: The max_iter was reached which means the coef_ did not converge\n",
            "  warnings.warn(\n",
            "/opt/anaconda/envs/data_science/lib/python3.9/site-packages/sklearn/linear_model/_sag.py:352: ConvergenceWarning: The max_iter was reached which means the coef_ did not converge\n",
            "  warnings.warn(\n",
            "/opt/anaconda/envs/data_science/lib/python3.9/site-packages/sklearn/linear_model/_sag.py:352: ConvergenceWarning: The max_iter was reached which means the coef_ did not converge\n",
            "  warnings.warn(\n",
            "/opt/anaconda/envs/data_science/lib/python3.9/site-packages/sklearn/linear_model/_sag.py:352: ConvergenceWarning: The max_iter was reached which means the coef_ did not converge\n",
            "  warnings.warn(\n",
            "/opt/anaconda/envs/data_science/lib/python3.9/site-packages/sklearn/linear_model/_sag.py:352: ConvergenceWarning: The max_iter was reached which means the coef_ did not converge\n",
            "  warnings.warn(\n",
            "/opt/anaconda/envs/data_science/lib/python3.9/site-packages/sklearn/linear_model/_sag.py:352: ConvergenceWarning: The max_iter was reached which means the coef_ did not converge\n",
            "  warnings.warn(\n",
            "/opt/anaconda/envs/data_science/lib/python3.9/site-packages/sklearn/linear_model/_sag.py:352: ConvergenceWarning: The max_iter was reached which means the coef_ did not converge\n",
            "  warnings.warn(\n",
            "/opt/anaconda/envs/data_science/lib/python3.9/site-packages/sklearn/linear_model/_sag.py:352: ConvergenceWarning: The max_iter was reached which means the coef_ did not converge\n",
            "  warnings.warn(\n",
            "/opt/anaconda/envs/data_science/lib/python3.9/site-packages/sklearn/linear_model/_sag.py:352: ConvergenceWarning: The max_iter was reached which means the coef_ did not converge\n",
            "  warnings.warn(\n",
            "/opt/anaconda/envs/data_science/lib/python3.9/site-packages/sklearn/linear_model/_sag.py:352: ConvergenceWarning: The max_iter was reached which means the coef_ did not converge\n",
            "  warnings.warn(\n",
            "/opt/anaconda/envs/data_science/lib/python3.9/site-packages/sklearn/linear_model/_sag.py:352: ConvergenceWarning: The max_iter was reached which means the coef_ did not converge\n",
            "  warnings.warn(\n",
            "/opt/anaconda/envs/data_science/lib/python3.9/site-packages/sklearn/linear_model/_sag.py:352: ConvergenceWarning: The max_iter was reached which means the coef_ did not converge\n",
            "  warnings.warn(\n",
            "/opt/anaconda/envs/data_science/lib/python3.9/site-packages/sklearn/linear_model/_sag.py:352: ConvergenceWarning: The max_iter was reached which means the coef_ did not converge\n",
            "  warnings.warn(\n",
            "/opt/anaconda/envs/data_science/lib/python3.9/site-packages/sklearn/linear_model/_sag.py:352: ConvergenceWarning: The max_iter was reached which means the coef_ did not converge\n",
            "  warnings.warn(\n",
            "/opt/anaconda/envs/data_science/lib/python3.9/site-packages/sklearn/linear_model/_sag.py:352: ConvergenceWarning: The max_iter was reached which means the coef_ did not converge\n",
            "  warnings.warn(\n",
            "/opt/anaconda/envs/data_science/lib/python3.9/site-packages/sklearn/linear_model/_sag.py:352: ConvergenceWarning: The max_iter was reached which means the coef_ did not converge\n",
            "  warnings.warn(\n",
            "/opt/anaconda/envs/data_science/lib/python3.9/site-packages/sklearn/linear_model/_sag.py:352: ConvergenceWarning: The max_iter was reached which means the coef_ did not converge\n",
            "  warnings.warn(\n",
            "/opt/anaconda/envs/data_science/lib/python3.9/site-packages/sklearn/linear_model/_sag.py:352: ConvergenceWarning: The max_iter was reached which means the coef_ did not converge\n",
            "  warnings.warn(\n",
            "/opt/anaconda/envs/data_science/lib/python3.9/site-packages/sklearn/linear_model/_sag.py:352: ConvergenceWarning: The max_iter was reached which means the coef_ did not converge\n",
            "  warnings.warn(\n",
            "/opt/anaconda/envs/data_science/lib/python3.9/site-packages/sklearn/linear_model/_sag.py:352: ConvergenceWarning: The max_iter was reached which means the coef_ did not converge\n",
            "  warnings.warn(\n",
            "/opt/anaconda/envs/data_science/lib/python3.9/site-packages/sklearn/linear_model/_sag.py:352: ConvergenceWarning: The max_iter was reached which means the coef_ did not converge\n",
            "  warnings.warn(\n",
            "/opt/anaconda/envs/data_science/lib/python3.9/site-packages/sklearn/linear_model/_sag.py:352: ConvergenceWarning: The max_iter was reached which means the coef_ did not converge\n",
            "  warnings.warn(\n",
            "/opt/anaconda/envs/data_science/lib/python3.9/site-packages/sklearn/linear_model/_sag.py:352: ConvergenceWarning: The max_iter was reached which means the coef_ did not converge\n",
            "  warnings.warn(\n",
            "/opt/anaconda/envs/data_science/lib/python3.9/site-packages/sklearn/linear_model/_sag.py:352: ConvergenceWarning: The max_iter was reached which means the coef_ did not converge\n",
            "  warnings.warn(\n",
            "/opt/anaconda/envs/data_science/lib/python3.9/site-packages/sklearn/linear_model/_sag.py:352: ConvergenceWarning: The max_iter was reached which means the coef_ did not converge\n",
            "  warnings.warn(\n",
            "/opt/anaconda/envs/data_science/lib/python3.9/site-packages/sklearn/linear_model/_sag.py:352: ConvergenceWarning: The max_iter was reached which means the coef_ did not converge\n",
            "  warnings.warn(\n",
            "/opt/anaconda/envs/data_science/lib/python3.9/site-packages/sklearn/svm/_base.py:1206: ConvergenceWarning: Liblinear failed to converge, increase the number of iterations.\n",
            "  warnings.warn(\n",
            "/opt/anaconda/envs/data_science/lib/python3.9/site-packages/sklearn/linear_model/_sag.py:352: ConvergenceWarning: The max_iter was reached which means the coef_ did not converge\n",
            "  warnings.warn(\n",
            "/opt/anaconda/envs/data_science/lib/python3.9/site-packages/sklearn/linear_model/_sag.py:352: ConvergenceWarning: The max_iter was reached which means the coef_ did not converge\n",
            "  warnings.warn(\n",
            "/opt/anaconda/envs/data_science/lib/python3.9/site-packages/sklearn/linear_model/_sag.py:352: ConvergenceWarning: The max_iter was reached which means the coef_ did not converge\n",
            "  warnings.warn(\n",
            "/opt/anaconda/envs/data_science/lib/python3.9/site-packages/sklearn/linear_model/_sag.py:352: ConvergenceWarning: The max_iter was reached which means the coef_ did not converge\n",
            "  warnings.warn(\n",
            "/opt/anaconda/envs/data_science/lib/python3.9/site-packages/sklearn/linear_model/_sag.py:352: ConvergenceWarning: The max_iter was reached which means the coef_ did not converge\n",
            "  warnings.warn(\n",
            "/opt/anaconda/envs/data_science/lib/python3.9/site-packages/sklearn/svm/_base.py:1206: ConvergenceWarning: Liblinear failed to converge, increase the number of iterations.\n",
            "  warnings.warn(\n",
            "/opt/anaconda/envs/data_science/lib/python3.9/site-packages/sklearn/linear_model/_sag.py:352: ConvergenceWarning: The max_iter was reached which means the coef_ did not converge\n",
            "  warnings.warn(\n"
          ]
        },
        {
          "name": "stderr",
          "output_type": "stream",
          "text": [
            "/opt/anaconda/envs/data_science/lib/python3.9/site-packages/sklearn/linear_model/_sag.py:352: ConvergenceWarning: The max_iter was reached which means the coef_ did not converge\n",
            "  warnings.warn(\n",
            "/opt/anaconda/envs/data_science/lib/python3.9/site-packages/sklearn/linear_model/_sag.py:352: ConvergenceWarning: The max_iter was reached which means the coef_ did not converge\n",
            "  warnings.warn(\n",
            "/opt/anaconda/envs/data_science/lib/python3.9/site-packages/sklearn/linear_model/_sag.py:352: ConvergenceWarning: The max_iter was reached which means the coef_ did not converge\n",
            "  warnings.warn(\n",
            "/opt/anaconda/envs/data_science/lib/python3.9/site-packages/sklearn/linear_model/_sag.py:352: ConvergenceWarning: The max_iter was reached which means the coef_ did not converge\n",
            "  warnings.warn(\n",
            "/opt/anaconda/envs/data_science/lib/python3.9/site-packages/sklearn/linear_model/_sag.py:352: ConvergenceWarning: The max_iter was reached which means the coef_ did not converge\n",
            "  warnings.warn(\n",
            "/opt/anaconda/envs/data_science/lib/python3.9/site-packages/sklearn/linear_model/_sag.py:352: ConvergenceWarning: The max_iter was reached which means the coef_ did not converge\n",
            "  warnings.warn(\n",
            "/opt/anaconda/envs/data_science/lib/python3.9/site-packages/sklearn/linear_model/_sag.py:352: ConvergenceWarning: The max_iter was reached which means the coef_ did not converge\n",
            "  warnings.warn(\n",
            "/opt/anaconda/envs/data_science/lib/python3.9/site-packages/sklearn/linear_model/_sag.py:352: ConvergenceWarning: The max_iter was reached which means the coef_ did not converge\n",
            "  warnings.warn(\n",
            "/opt/anaconda/envs/data_science/lib/python3.9/site-packages/sklearn/linear_model/_sag.py:352: ConvergenceWarning: The max_iter was reached which means the coef_ did not converge\n",
            "  warnings.warn(\n",
            "/opt/anaconda/envs/data_science/lib/python3.9/site-packages/sklearn/linear_model/_sag.py:352: ConvergenceWarning: The max_iter was reached which means the coef_ did not converge\n",
            "  warnings.warn(\n",
            "/opt/anaconda/envs/data_science/lib/python3.9/site-packages/sklearn/linear_model/_sag.py:352: ConvergenceWarning: The max_iter was reached which means the coef_ did not converge\n",
            "  warnings.warn(\n",
            "/opt/anaconda/envs/data_science/lib/python3.9/site-packages/sklearn/linear_model/_sag.py:352: ConvergenceWarning: The max_iter was reached which means the coef_ did not converge\n",
            "  warnings.warn(\n",
            "/opt/anaconda/envs/data_science/lib/python3.9/site-packages/sklearn/linear_model/_sag.py:352: ConvergenceWarning: The max_iter was reached which means the coef_ did not converge\n",
            "  warnings.warn(\n",
            "/opt/anaconda/envs/data_science/lib/python3.9/site-packages/sklearn/linear_model/_sag.py:352: ConvergenceWarning: The max_iter was reached which means the coef_ did not converge\n",
            "  warnings.warn(\n",
            "/opt/anaconda/envs/data_science/lib/python3.9/site-packages/sklearn/linear_model/_sag.py:352: ConvergenceWarning: The max_iter was reached which means the coef_ did not converge\n",
            "  warnings.warn(\n",
            "/opt/anaconda/envs/data_science/lib/python3.9/site-packages/sklearn/linear_model/_sag.py:352: ConvergenceWarning: The max_iter was reached which means the coef_ did not converge\n",
            "  warnings.warn(\n",
            "/opt/anaconda/envs/data_science/lib/python3.9/site-packages/sklearn/linear_model/_sag.py:352: ConvergenceWarning: The max_iter was reached which means the coef_ did not converge\n",
            "  warnings.warn(\n",
            "/opt/anaconda/envs/data_science/lib/python3.9/site-packages/sklearn/linear_model/_sag.py:352: ConvergenceWarning: The max_iter was reached which means the coef_ did not converge\n",
            "  warnings.warn(\n",
            "/opt/anaconda/envs/data_science/lib/python3.9/site-packages/sklearn/linear_model/_sag.py:352: ConvergenceWarning: The max_iter was reached which means the coef_ did not converge\n",
            "  warnings.warn(\n",
            "/opt/anaconda/envs/data_science/lib/python3.9/site-packages/sklearn/linear_model/_sag.py:352: ConvergenceWarning: The max_iter was reached which means the coef_ did not converge\n",
            "  warnings.warn(\n",
            "/opt/anaconda/envs/data_science/lib/python3.9/site-packages/sklearn/linear_model/_sag.py:352: ConvergenceWarning: The max_iter was reached which means the coef_ did not converge\n",
            "  warnings.warn(\n",
            "/opt/anaconda/envs/data_science/lib/python3.9/site-packages/sklearn/linear_model/_sag.py:352: ConvergenceWarning: The max_iter was reached which means the coef_ did not converge\n",
            "  warnings.warn(\n",
            "/opt/anaconda/envs/data_science/lib/python3.9/site-packages/sklearn/linear_model/_sag.py:352: ConvergenceWarning: The max_iter was reached which means the coef_ did not converge\n",
            "  warnings.warn(\n",
            "/opt/anaconda/envs/data_science/lib/python3.9/site-packages/sklearn/linear_model/_sag.py:352: ConvergenceWarning: The max_iter was reached which means the coef_ did not converge\n",
            "  warnings.warn(\n",
            "/opt/anaconda/envs/data_science/lib/python3.9/site-packages/sklearn/linear_model/_sag.py:352: ConvergenceWarning: The max_iter was reached which means the coef_ did not converge\n",
            "  warnings.warn(\n",
            "/opt/anaconda/envs/data_science/lib/python3.9/site-packages/sklearn/linear_model/_sag.py:352: ConvergenceWarning: The max_iter was reached which means the coef_ did not converge\n",
            "  warnings.warn(\n",
            "/opt/anaconda/envs/data_science/lib/python3.9/site-packages/sklearn/linear_model/_sag.py:352: ConvergenceWarning: The max_iter was reached which means the coef_ did not converge\n",
            "  warnings.warn(\n",
            "/opt/anaconda/envs/data_science/lib/python3.9/site-packages/sklearn/linear_model/_sag.py:352: ConvergenceWarning: The max_iter was reached which means the coef_ did not converge\n",
            "  warnings.warn(\n",
            "/opt/anaconda/envs/data_science/lib/python3.9/site-packages/sklearn/linear_model/_sag.py:352: ConvergenceWarning: The max_iter was reached which means the coef_ did not converge\n",
            "  warnings.warn(\n",
            "/opt/anaconda/envs/data_science/lib/python3.9/site-packages/sklearn/linear_model/_sag.py:352: ConvergenceWarning: The max_iter was reached which means the coef_ did not converge\n",
            "  warnings.warn(\n",
            "/opt/anaconda/envs/data_science/lib/python3.9/site-packages/sklearn/linear_model/_sag.py:352: ConvergenceWarning: The max_iter was reached which means the coef_ did not converge\n",
            "  warnings.warn(\n",
            "/opt/anaconda/envs/data_science/lib/python3.9/site-packages/sklearn/linear_model/_sag.py:352: ConvergenceWarning: The max_iter was reached which means the coef_ did not converge\n",
            "  warnings.warn(\n",
            "/opt/anaconda/envs/data_science/lib/python3.9/site-packages/sklearn/linear_model/_sag.py:352: ConvergenceWarning: The max_iter was reached which means the coef_ did not converge\n",
            "  warnings.warn(\n",
            "/opt/anaconda/envs/data_science/lib/python3.9/site-packages/sklearn/linear_model/_sag.py:352: ConvergenceWarning: The max_iter was reached which means the coef_ did not converge\n",
            "  warnings.warn(\n",
            "/opt/anaconda/envs/data_science/lib/python3.9/site-packages/sklearn/linear_model/_sag.py:352: ConvergenceWarning: The max_iter was reached which means the coef_ did not converge\n",
            "  warnings.warn(\n",
            "/opt/anaconda/envs/data_science/lib/python3.9/site-packages/sklearn/linear_model/_sag.py:352: ConvergenceWarning: The max_iter was reached which means the coef_ did not converge\n",
            "  warnings.warn(\n",
            "/opt/anaconda/envs/data_science/lib/python3.9/site-packages/sklearn/linear_model/_sag.py:352: ConvergenceWarning: The max_iter was reached which means the coef_ did not converge\n",
            "  warnings.warn(\n",
            "/opt/anaconda/envs/data_science/lib/python3.9/site-packages/sklearn/linear_model/_sag.py:352: ConvergenceWarning: The max_iter was reached which means the coef_ did not converge\n",
            "  warnings.warn(\n",
            "/opt/anaconda/envs/data_science/lib/python3.9/site-packages/sklearn/linear_model/_sag.py:352: ConvergenceWarning: The max_iter was reached which means the coef_ did not converge\n",
            "  warnings.warn(\n",
            "/opt/anaconda/envs/data_science/lib/python3.9/site-packages/sklearn/linear_model/_sag.py:352: ConvergenceWarning: The max_iter was reached which means the coef_ did not converge\n",
            "  warnings.warn(\n",
            "/opt/anaconda/envs/data_science/lib/python3.9/site-packages/sklearn/linear_model/_sag.py:352: ConvergenceWarning: The max_iter was reached which means the coef_ did not converge\n",
            "  warnings.warn(\n",
            "/opt/anaconda/envs/data_science/lib/python3.9/site-packages/sklearn/linear_model/_sag.py:352: ConvergenceWarning: The max_iter was reached which means the coef_ did not converge\n",
            "  warnings.warn(\n",
            "/opt/anaconda/envs/data_science/lib/python3.9/site-packages/sklearn/linear_model/_logistic.py:814: ConvergenceWarning: lbfgs failed to converge (status=1):\n",
            "STOP: TOTAL NO. of ITERATIONS REACHED LIMIT.\n",
            "\n",
            "Increase the number of iterations (max_iter) or scale the data as shown in:\n",
            "    https://scikit-learn.org/stable/modules/preprocessing.html\n",
            "Please also refer to the documentation for alternative solver options:\n",
            "    https://scikit-learn.org/stable/modules/linear_model.html#logistic-regression\n",
            "  n_iter_i = _check_optimize_result(\n"
          ]
        },
        {
          "name": "stderr",
          "output_type": "stream",
          "text": [
            "/opt/anaconda/envs/data_science/lib/python3.9/site-packages/sklearn/linear_model/_sag.py:352: ConvergenceWarning: The max_iter was reached which means the coef_ did not converge\n",
            "  warnings.warn(\n",
            "/opt/anaconda/envs/data_science/lib/python3.9/site-packages/sklearn/linear_model/_sag.py:352: ConvergenceWarning: The max_iter was reached which means the coef_ did not converge\n",
            "  warnings.warn(\n",
            "/opt/anaconda/envs/data_science/lib/python3.9/site-packages/sklearn/linear_model/_sag.py:352: ConvergenceWarning: The max_iter was reached which means the coef_ did not converge\n",
            "  warnings.warn(\n",
            "/opt/anaconda/envs/data_science/lib/python3.9/site-packages/sklearn/linear_model/_sag.py:352: ConvergenceWarning: The max_iter was reached which means the coef_ did not converge\n",
            "  warnings.warn(\n",
            "/opt/anaconda/envs/data_science/lib/python3.9/site-packages/sklearn/linear_model/_sag.py:352: ConvergenceWarning: The max_iter was reached which means the coef_ did not converge\n",
            "  warnings.warn(\n",
            "/opt/anaconda/envs/data_science/lib/python3.9/site-packages/sklearn/linear_model/_logistic.py:814: ConvergenceWarning: lbfgs failed to converge (status=1):\n",
            "STOP: TOTAL NO. of ITERATIONS REACHED LIMIT.\n",
            "\n",
            "Increase the number of iterations (max_iter) or scale the data as shown in:\n",
            "    https://scikit-learn.org/stable/modules/preprocessing.html\n",
            "Please also refer to the documentation for alternative solver options:\n",
            "    https://scikit-learn.org/stable/modules/linear_model.html#logistic-regression\n",
            "  n_iter_i = _check_optimize_result(\n",
            "/opt/anaconda/envs/data_science/lib/python3.9/site-packages/sklearn/linear_model/_sag.py:352: ConvergenceWarning: The max_iter was reached which means the coef_ did not converge\n",
            "  warnings.warn(\n",
            "/opt/anaconda/envs/data_science/lib/python3.9/site-packages/sklearn/linear_model/_sag.py:352: ConvergenceWarning: The max_iter was reached which means the coef_ did not converge\n",
            "  warnings.warn(\n",
            "/opt/anaconda/envs/data_science/lib/python3.9/site-packages/sklearn/linear_model/_sag.py:352: ConvergenceWarning: The max_iter was reached which means the coef_ did not converge\n",
            "  warnings.warn(\n",
            "/opt/anaconda/envs/data_science/lib/python3.9/site-packages/sklearn/linear_model/_sag.py:352: ConvergenceWarning: The max_iter was reached which means the coef_ did not converge\n",
            "  warnings.warn(\n",
            "/opt/anaconda/envs/data_science/lib/python3.9/site-packages/sklearn/linear_model/_sag.py:352: ConvergenceWarning: The max_iter was reached which means the coef_ did not converge\n",
            "  warnings.warn(\n",
            "/opt/anaconda/envs/data_science/lib/python3.9/site-packages/sklearn/linear_model/_sag.py:352: ConvergenceWarning: The max_iter was reached which means the coef_ did not converge\n",
            "  warnings.warn(\n",
            "/opt/anaconda/envs/data_science/lib/python3.9/site-packages/sklearn/linear_model/_sag.py:352: ConvergenceWarning: The max_iter was reached which means the coef_ did not converge\n",
            "  warnings.warn(\n",
            "/opt/anaconda/envs/data_science/lib/python3.9/site-packages/sklearn/linear_model/_sag.py:352: ConvergenceWarning: The max_iter was reached which means the coef_ did not converge\n",
            "  warnings.warn(\n",
            "/opt/anaconda/envs/data_science/lib/python3.9/site-packages/sklearn/linear_model/_sag.py:352: ConvergenceWarning: The max_iter was reached which means the coef_ did not converge\n",
            "  warnings.warn(\n",
            "/opt/anaconda/envs/data_science/lib/python3.9/site-packages/sklearn/linear_model/_sag.py:352: ConvergenceWarning: The max_iter was reached which means the coef_ did not converge\n",
            "  warnings.warn(\n",
            "/opt/anaconda/envs/data_science/lib/python3.9/site-packages/sklearn/linear_model/_sag.py:352: ConvergenceWarning: The max_iter was reached which means the coef_ did not converge\n",
            "  warnings.warn(\n",
            "/opt/anaconda/envs/data_science/lib/python3.9/site-packages/sklearn/linear_model/_sag.py:352: ConvergenceWarning: The max_iter was reached which means the coef_ did not converge\n",
            "  warnings.warn(\n",
            "/opt/anaconda/envs/data_science/lib/python3.9/site-packages/sklearn/linear_model/_sag.py:352: ConvergenceWarning: The max_iter was reached which means the coef_ did not converge\n",
            "  warnings.warn(\n",
            "/opt/anaconda/envs/data_science/lib/python3.9/site-packages/sklearn/linear_model/_sag.py:352: ConvergenceWarning: The max_iter was reached which means the coef_ did not converge\n",
            "  warnings.warn(\n",
            "/opt/anaconda/envs/data_science/lib/python3.9/site-packages/sklearn/linear_model/_sag.py:352: ConvergenceWarning: The max_iter was reached which means the coef_ did not converge\n",
            "  warnings.warn(\n",
            "/opt/anaconda/envs/data_science/lib/python3.9/site-packages/sklearn/linear_model/_sag.py:352: ConvergenceWarning: The max_iter was reached which means the coef_ did not converge\n",
            "  warnings.warn(\n",
            "/opt/anaconda/envs/data_science/lib/python3.9/site-packages/sklearn/linear_model/_sag.py:352: ConvergenceWarning: The max_iter was reached which means the coef_ did not converge\n",
            "  warnings.warn(\n",
            "/opt/anaconda/envs/data_science/lib/python3.9/site-packages/sklearn/linear_model/_sag.py:352: ConvergenceWarning: The max_iter was reached which means the coef_ did not converge\n",
            "  warnings.warn(\n",
            "/opt/anaconda/envs/data_science/lib/python3.9/site-packages/sklearn/linear_model/_sag.py:352: ConvergenceWarning: The max_iter was reached which means the coef_ did not converge\n",
            "  warnings.warn(\n",
            "/opt/anaconda/envs/data_science/lib/python3.9/site-packages/sklearn/linear_model/_sag.py:352: ConvergenceWarning: The max_iter was reached which means the coef_ did not converge\n",
            "  warnings.warn(\n",
            "/opt/anaconda/envs/data_science/lib/python3.9/site-packages/sklearn/linear_model/_sag.py:352: ConvergenceWarning: The max_iter was reached which means the coef_ did not converge\n",
            "  warnings.warn(\n",
            "/opt/anaconda/envs/data_science/lib/python3.9/site-packages/sklearn/linear_model/_sag.py:352: ConvergenceWarning: The max_iter was reached which means the coef_ did not converge\n",
            "  warnings.warn(\n",
            "/opt/anaconda/envs/data_science/lib/python3.9/site-packages/sklearn/linear_model/_sag.py:352: ConvergenceWarning: The max_iter was reached which means the coef_ did not converge\n",
            "  warnings.warn(\n",
            "/opt/anaconda/envs/data_science/lib/python3.9/site-packages/sklearn/linear_model/_sag.py:352: ConvergenceWarning: The max_iter was reached which means the coef_ did not converge\n",
            "  warnings.warn(\n",
            "/opt/anaconda/envs/data_science/lib/python3.9/site-packages/sklearn/linear_model/_sag.py:352: ConvergenceWarning: The max_iter was reached which means the coef_ did not converge\n",
            "  warnings.warn(\n",
            "/opt/anaconda/envs/data_science/lib/python3.9/site-packages/sklearn/linear_model/_sag.py:352: ConvergenceWarning: The max_iter was reached which means the coef_ did not converge\n",
            "  warnings.warn(\n",
            "/opt/anaconda/envs/data_science/lib/python3.9/site-packages/sklearn/linear_model/_sag.py:352: ConvergenceWarning: The max_iter was reached which means the coef_ did not converge\n",
            "  warnings.warn(\n",
            "/opt/anaconda/envs/data_science/lib/python3.9/site-packages/sklearn/linear_model/_sag.py:352: ConvergenceWarning: The max_iter was reached which means the coef_ did not converge\n",
            "  warnings.warn(\n",
            "/opt/anaconda/envs/data_science/lib/python3.9/site-packages/sklearn/linear_model/_sag.py:352: ConvergenceWarning: The max_iter was reached which means the coef_ did not converge\n",
            "  warnings.warn(\n",
            "/opt/anaconda/envs/data_science/lib/python3.9/site-packages/sklearn/linear_model/_sag.py:352: ConvergenceWarning: The max_iter was reached which means the coef_ did not converge\n",
            "  warnings.warn(\n",
            "/opt/anaconda/envs/data_science/lib/python3.9/site-packages/sklearn/linear_model/_sag.py:352: ConvergenceWarning: The max_iter was reached which means the coef_ did not converge\n",
            "  warnings.warn(\n",
            "/opt/anaconda/envs/data_science/lib/python3.9/site-packages/sklearn/linear_model/_sag.py:352: ConvergenceWarning: The max_iter was reached which means the coef_ did not converge\n",
            "  warnings.warn(\n",
            "/opt/anaconda/envs/data_science/lib/python3.9/site-packages/sklearn/linear_model/_sag.py:352: ConvergenceWarning: The max_iter was reached which means the coef_ did not converge\n",
            "  warnings.warn(\n",
            "/opt/anaconda/envs/data_science/lib/python3.9/site-packages/sklearn/linear_model/_sag.py:352: ConvergenceWarning: The max_iter was reached which means the coef_ did not converge\n",
            "  warnings.warn(\n",
            "/opt/anaconda/envs/data_science/lib/python3.9/site-packages/sklearn/linear_model/_sag.py:352: ConvergenceWarning: The max_iter was reached which means the coef_ did not converge\n",
            "  warnings.warn(\n"
          ]
        },
        {
          "name": "stderr",
          "output_type": "stream",
          "text": [
            "/opt/anaconda/envs/data_science/lib/python3.9/site-packages/sklearn/linear_model/_sag.py:352: ConvergenceWarning: The max_iter was reached which means the coef_ did not converge\n",
            "  warnings.warn(\n",
            "/opt/anaconda/envs/data_science/lib/python3.9/site-packages/sklearn/linear_model/_sag.py:352: ConvergenceWarning: The max_iter was reached which means the coef_ did not converge\n",
            "  warnings.warn(\n",
            "/opt/anaconda/envs/data_science/lib/python3.9/site-packages/sklearn/linear_model/_sag.py:352: ConvergenceWarning: The max_iter was reached which means the coef_ did not converge\n",
            "  warnings.warn(\n",
            "/opt/anaconda/envs/data_science/lib/python3.9/site-packages/sklearn/linear_model/_sag.py:352: ConvergenceWarning: The max_iter was reached which means the coef_ did not converge\n",
            "  warnings.warn(\n",
            "/opt/anaconda/envs/data_science/lib/python3.9/site-packages/sklearn/linear_model/_sag.py:352: ConvergenceWarning: The max_iter was reached which means the coef_ did not converge\n",
            "  warnings.warn(\n",
            "/opt/anaconda/envs/data_science/lib/python3.9/site-packages/sklearn/linear_model/_sag.py:352: ConvergenceWarning: The max_iter was reached which means the coef_ did not converge\n",
            "  warnings.warn(\n",
            "/opt/anaconda/envs/data_science/lib/python3.9/site-packages/sklearn/svm/_base.py:1206: ConvergenceWarning: Liblinear failed to converge, increase the number of iterations.\n",
            "  warnings.warn(\n",
            "/opt/anaconda/envs/data_science/lib/python3.9/site-packages/sklearn/linear_model/_sag.py:352: ConvergenceWarning: The max_iter was reached which means the coef_ did not converge\n",
            "  warnings.warn(\n",
            "/opt/anaconda/envs/data_science/lib/python3.9/site-packages/sklearn/linear_model/_sag.py:352: ConvergenceWarning: The max_iter was reached which means the coef_ did not converge\n",
            "  warnings.warn(\n",
            "/opt/anaconda/envs/data_science/lib/python3.9/site-packages/sklearn/linear_model/_sag.py:352: ConvergenceWarning: The max_iter was reached which means the coef_ did not converge\n",
            "  warnings.warn(\n",
            "/opt/anaconda/envs/data_science/lib/python3.9/site-packages/sklearn/linear_model/_sag.py:352: ConvergenceWarning: The max_iter was reached which means the coef_ did not converge\n",
            "  warnings.warn(\n",
            "/opt/anaconda/envs/data_science/lib/python3.9/site-packages/sklearn/linear_model/_sag.py:352: ConvergenceWarning: The max_iter was reached which means the coef_ did not converge\n",
            "  warnings.warn(\n",
            "/opt/anaconda/envs/data_science/lib/python3.9/site-packages/sklearn/svm/_base.py:1206: ConvergenceWarning: Liblinear failed to converge, increase the number of iterations.\n",
            "  warnings.warn(\n",
            "/opt/anaconda/envs/data_science/lib/python3.9/site-packages/sklearn/svm/_base.py:1206: ConvergenceWarning: Liblinear failed to converge, increase the number of iterations.\n",
            "  warnings.warn(\n",
            "/opt/anaconda/envs/data_science/lib/python3.9/site-packages/sklearn/linear_model/_sag.py:352: ConvergenceWarning: The max_iter was reached which means the coef_ did not converge\n",
            "  warnings.warn(\n",
            "/opt/anaconda/envs/data_science/lib/python3.9/site-packages/sklearn/linear_model/_sag.py:352: ConvergenceWarning: The max_iter was reached which means the coef_ did not converge\n",
            "  warnings.warn(\n",
            "/opt/anaconda/envs/data_science/lib/python3.9/site-packages/sklearn/linear_model/_sag.py:352: ConvergenceWarning: The max_iter was reached which means the coef_ did not converge\n",
            "  warnings.warn(\n",
            "/opt/anaconda/envs/data_science/lib/python3.9/site-packages/sklearn/linear_model/_sag.py:352: ConvergenceWarning: The max_iter was reached which means the coef_ did not converge\n",
            "  warnings.warn(\n",
            "/opt/anaconda/envs/data_science/lib/python3.9/site-packages/sklearn/linear_model/_sag.py:352: ConvergenceWarning: The max_iter was reached which means the coef_ did not converge\n",
            "  warnings.warn(\n",
            "/opt/anaconda/envs/data_science/lib/python3.9/site-packages/sklearn/linear_model/_sag.py:352: ConvergenceWarning: The max_iter was reached which means the coef_ did not converge\n",
            "  warnings.warn(\n",
            "/opt/anaconda/envs/data_science/lib/python3.9/site-packages/sklearn/linear_model/_sag.py:352: ConvergenceWarning: The max_iter was reached which means the coef_ did not converge\n",
            "  warnings.warn(\n",
            "/opt/anaconda/envs/data_science/lib/python3.9/site-packages/sklearn/linear_model/_sag.py:352: ConvergenceWarning: The max_iter was reached which means the coef_ did not converge\n",
            "  warnings.warn(\n",
            "/opt/anaconda/envs/data_science/lib/python3.9/site-packages/sklearn/linear_model/_sag.py:352: ConvergenceWarning: The max_iter was reached which means the coef_ did not converge\n",
            "  warnings.warn(\n",
            "/opt/anaconda/envs/data_science/lib/python3.9/site-packages/sklearn/linear_model/_sag.py:352: ConvergenceWarning: The max_iter was reached which means the coef_ did not converge\n",
            "  warnings.warn(\n",
            "/opt/anaconda/envs/data_science/lib/python3.9/site-packages/sklearn/linear_model/_sag.py:352: ConvergenceWarning: The max_iter was reached which means the coef_ did not converge\n",
            "  warnings.warn(\n",
            "/opt/anaconda/envs/data_science/lib/python3.9/site-packages/sklearn/linear_model/_sag.py:352: ConvergenceWarning: The max_iter was reached which means the coef_ did not converge\n",
            "  warnings.warn(\n",
            "/opt/anaconda/envs/data_science/lib/python3.9/site-packages/sklearn/linear_model/_sag.py:352: ConvergenceWarning: The max_iter was reached which means the coef_ did not converge\n",
            "  warnings.warn(\n",
            "/opt/anaconda/envs/data_science/lib/python3.9/site-packages/sklearn/linear_model/_sag.py:352: ConvergenceWarning: The max_iter was reached which means the coef_ did not converge\n",
            "  warnings.warn(\n",
            "/opt/anaconda/envs/data_science/lib/python3.9/site-packages/sklearn/linear_model/_sag.py:352: ConvergenceWarning: The max_iter was reached which means the coef_ did not converge\n",
            "  warnings.warn(\n",
            "/opt/anaconda/envs/data_science/lib/python3.9/site-packages/sklearn/linear_model/_sag.py:352: ConvergenceWarning: The max_iter was reached which means the coef_ did not converge\n",
            "  warnings.warn(\n",
            "/opt/anaconda/envs/data_science/lib/python3.9/site-packages/sklearn/linear_model/_sag.py:352: ConvergenceWarning: The max_iter was reached which means the coef_ did not converge\n",
            "  warnings.warn(\n",
            "/opt/anaconda/envs/data_science/lib/python3.9/site-packages/sklearn/linear_model/_sag.py:352: ConvergenceWarning: The max_iter was reached which means the coef_ did not converge\n",
            "  warnings.warn(\n",
            "/opt/anaconda/envs/data_science/lib/python3.9/site-packages/sklearn/linear_model/_sag.py:352: ConvergenceWarning: The max_iter was reached which means the coef_ did not converge\n",
            "  warnings.warn(\n",
            "/opt/anaconda/envs/data_science/lib/python3.9/site-packages/sklearn/linear_model/_sag.py:352: ConvergenceWarning: The max_iter was reached which means the coef_ did not converge\n",
            "  warnings.warn(\n",
            "/opt/anaconda/envs/data_science/lib/python3.9/site-packages/sklearn/linear_model/_sag.py:352: ConvergenceWarning: The max_iter was reached which means the coef_ did not converge\n",
            "  warnings.warn(\n",
            "/opt/anaconda/envs/data_science/lib/python3.9/site-packages/sklearn/linear_model/_sag.py:352: ConvergenceWarning: The max_iter was reached which means the coef_ did not converge\n",
            "  warnings.warn(\n",
            "/opt/anaconda/envs/data_science/lib/python3.9/site-packages/sklearn/linear_model/_sag.py:352: ConvergenceWarning: The max_iter was reached which means the coef_ did not converge\n",
            "  warnings.warn(\n",
            "/opt/anaconda/envs/data_science/lib/python3.9/site-packages/sklearn/linear_model/_sag.py:352: ConvergenceWarning: The max_iter was reached which means the coef_ did not converge\n",
            "  warnings.warn(\n",
            "/opt/anaconda/envs/data_science/lib/python3.9/site-packages/sklearn/linear_model/_sag.py:352: ConvergenceWarning: The max_iter was reached which means the coef_ did not converge\n",
            "  warnings.warn(\n",
            "/opt/anaconda/envs/data_science/lib/python3.9/site-packages/sklearn/linear_model/_sag.py:352: ConvergenceWarning: The max_iter was reached which means the coef_ did not converge\n",
            "  warnings.warn(\n",
            "/opt/anaconda/envs/data_science/lib/python3.9/site-packages/sklearn/linear_model/_sag.py:352: ConvergenceWarning: The max_iter was reached which means the coef_ did not converge\n",
            "  warnings.warn(\n",
            "/opt/anaconda/envs/data_science/lib/python3.9/site-packages/sklearn/linear_model/_sag.py:352: ConvergenceWarning: The max_iter was reached which means the coef_ did not converge\n",
            "  warnings.warn(\n",
            "/opt/anaconda/envs/data_science/lib/python3.9/site-packages/sklearn/linear_model/_sag.py:352: ConvergenceWarning: The max_iter was reached which means the coef_ did not converge\n",
            "  warnings.warn(\n"
          ]
        },
        {
          "name": "stderr",
          "output_type": "stream",
          "text": [
            "/opt/anaconda/envs/data_science/lib/python3.9/site-packages/sklearn/linear_model/_sag.py:352: ConvergenceWarning: The max_iter was reached which means the coef_ did not converge\n",
            "  warnings.warn(\n",
            "/opt/anaconda/envs/data_science/lib/python3.9/site-packages/sklearn/linear_model/_sag.py:352: ConvergenceWarning: The max_iter was reached which means the coef_ did not converge\n",
            "  warnings.warn(\n",
            "/opt/anaconda/envs/data_science/lib/python3.9/site-packages/sklearn/linear_model/_sag.py:352: ConvergenceWarning: The max_iter was reached which means the coef_ did not converge\n",
            "  warnings.warn(\n",
            "/opt/anaconda/envs/data_science/lib/python3.9/site-packages/sklearn/linear_model/_sag.py:352: ConvergenceWarning: The max_iter was reached which means the coef_ did not converge\n",
            "  warnings.warn(\n",
            "/opt/anaconda/envs/data_science/lib/python3.9/site-packages/sklearn/linear_model/_sag.py:352: ConvergenceWarning: The max_iter was reached which means the coef_ did not converge\n",
            "  warnings.warn(\n",
            "/opt/anaconda/envs/data_science/lib/python3.9/site-packages/sklearn/linear_model/_sag.py:352: ConvergenceWarning: The max_iter was reached which means the coef_ did not converge\n",
            "  warnings.warn(\n",
            "/opt/anaconda/envs/data_science/lib/python3.9/site-packages/sklearn/linear_model/_sag.py:352: ConvergenceWarning: The max_iter was reached which means the coef_ did not converge\n",
            "  warnings.warn(\n",
            "/opt/anaconda/envs/data_science/lib/python3.9/site-packages/sklearn/linear_model/_sag.py:352: ConvergenceWarning: The max_iter was reached which means the coef_ did not converge\n",
            "  warnings.warn(\n",
            "/opt/anaconda/envs/data_science/lib/python3.9/site-packages/sklearn/linear_model/_sag.py:352: ConvergenceWarning: The max_iter was reached which means the coef_ did not converge\n",
            "  warnings.warn(\n",
            "/opt/anaconda/envs/data_science/lib/python3.9/site-packages/sklearn/linear_model/_sag.py:352: ConvergenceWarning: The max_iter was reached which means the coef_ did not converge\n",
            "  warnings.warn(\n",
            "/opt/anaconda/envs/data_science/lib/python3.9/site-packages/sklearn/linear_model/_sag.py:352: ConvergenceWarning: The max_iter was reached which means the coef_ did not converge\n",
            "  warnings.warn(\n",
            "/opt/anaconda/envs/data_science/lib/python3.9/site-packages/sklearn/linear_model/_sag.py:352: ConvergenceWarning: The max_iter was reached which means the coef_ did not converge\n",
            "  warnings.warn(\n",
            "/opt/anaconda/envs/data_science/lib/python3.9/site-packages/sklearn/linear_model/_sag.py:352: ConvergenceWarning: The max_iter was reached which means the coef_ did not converge\n",
            "  warnings.warn(\n",
            "/opt/anaconda/envs/data_science/lib/python3.9/site-packages/sklearn/linear_model/_sag.py:352: ConvergenceWarning: The max_iter was reached which means the coef_ did not converge\n",
            "  warnings.warn(\n",
            "/opt/anaconda/envs/data_science/lib/python3.9/site-packages/sklearn/linear_model/_sag.py:352: ConvergenceWarning: The max_iter was reached which means the coef_ did not converge\n",
            "  warnings.warn(\n",
            "/opt/anaconda/envs/data_science/lib/python3.9/site-packages/sklearn/linear_model/_sag.py:352: ConvergenceWarning: The max_iter was reached which means the coef_ did not converge\n",
            "  warnings.warn(\n",
            "/opt/anaconda/envs/data_science/lib/python3.9/site-packages/sklearn/linear_model/_sag.py:352: ConvergenceWarning: The max_iter was reached which means the coef_ did not converge\n",
            "  warnings.warn(\n",
            "/opt/anaconda/envs/data_science/lib/python3.9/site-packages/sklearn/linear_model/_sag.py:352: ConvergenceWarning: The max_iter was reached which means the coef_ did not converge\n",
            "  warnings.warn(\n",
            "/opt/anaconda/envs/data_science/lib/python3.9/site-packages/sklearn/linear_model/_sag.py:352: ConvergenceWarning: The max_iter was reached which means the coef_ did not converge\n",
            "  warnings.warn(\n",
            "/opt/anaconda/envs/data_science/lib/python3.9/site-packages/sklearn/linear_model/_sag.py:352: ConvergenceWarning: The max_iter was reached which means the coef_ did not converge\n",
            "  warnings.warn(\n"
          ]
        }
      ],
      "source": [
        "# Algumas combinações geram warnings que podem ser ignorados\n",
        "\n",
        "results = []\n",
        "names = []\n",
        "\n",
        "for name, model, params in models:\n",
        "    names.append(name)\n",
        "    scores = grid_search_undersampling(X, y, model, params,\n",
        "                                       scoring=make_scorer(pr_auc, needs_proba=True))\n",
        "    results.append(scores)"
      ]
    },
    {
      "cell_type": "markdown",
      "id": "27617112",
      "metadata": {
        "id": "27617112"
      },
      "source": [
        "Esses são os resultados:"
      ]
    },
    {
      "cell_type": "code",
      "execution_count": null,
      "id": "33d11ad8",
      "metadata": {
        "id": "33d11ad8",
        "outputId": "8936adc7-74a3-4cdd-9315-882d55ccefbb"
      },
      "outputs": [
        {
          "data": {
            "text/plain": [
              "[LogisticRegression(C=0.001, max_iter=700),\n",
              " KNeighborsClassifier(),\n",
              " SVC(C=0.5, probability=True)]"
            ]
          },
          "execution_count": 54,
          "metadata": {},
          "output_type": "execute_result"
        }
      ],
      "source": [
        "results"
      ]
    },
    {
      "cell_type": "markdown",
      "id": "a357cbd9",
      "metadata": {
        "id": "a357cbd9"
      },
      "source": [
        "Vamos, então, criar uma lista com nossos modelos configurados com estes hiperparâmetros otimizados:"
      ]
    },
    {
      "cell_type": "code",
      "execution_count": null,
      "id": "48a138d6",
      "metadata": {
        "id": "48a138d6"
      },
      "outputs": [],
      "source": [
        "models = []\n",
        "models.append(('LR', LogisticRegression(max_iter=700, C=0.001)))\n",
        "models.append(('KNN', KNeighborsClassifier()))\n",
        "models.append(('SVC', SVC(probability=True, C=0.5)))"
      ]
    },
    {
      "cell_type": "markdown",
      "id": "348a016d",
      "metadata": {
        "id": "348a016d"
      },
      "source": [
        "Vejamos como tal otimização reflete em nossas métricas:"
      ]
    },
    {
      "cell_type": "code",
      "execution_count": null,
      "id": "6d56b1b7",
      "metadata": {
        "id": "6d56b1b7",
        "outputId": "7296dc1e-b827-4b04-b2c3-17cd7e5931b0"
      },
      "outputs": [
        {
          "name": "stdout",
          "output_type": "stream",
          "text": [
            "LR\n",
            "    Metric      |    Mean    |  Std Dev  \n",
            "----------------------------------------\n",
            "accuracy        |   0.998    |   0.000   \n",
            "precision       |   0.479    |   0.067   \n",
            "recall          |   0.825    |   0.004   \n",
            "f1_score        |   0.603    |   0.053   \n",
            "auprc           |   0.702    |   0.027   \n",
            "auroc           |   0.911    |   0.002   \n",
            "\n",
            "KNN\n",
            "    Metric      |    Mean    |  Std Dev  \n",
            "----------------------------------------\n",
            "accuracy        |   0.972    |   0.007   \n",
            "precision       |   0.056    |   0.012   \n",
            "recall          |   0.894    |   0.019   \n",
            "f1_score        |   0.105    |   0.021   \n",
            "auprc           |   0.601    |   0.065   \n",
            "auroc           |   0.933    |   0.008   \n",
            "\n",
            "SVC\n",
            "    Metric      |    Mean    |  Std Dev  \n",
            "----------------------------------------\n",
            "accuracy        |   0.989    |   0.002   \n",
            "precision       |   0.124    |   0.018   \n",
            "recall          |   0.859    |   0.009   \n",
            "f1_score        |   0.217    |   0.027   \n",
            "auprc           |   0.707    |   0.015   \n",
            "auroc           |   0.924    |   0.004   \n",
            "\n"
          ]
        }
      ],
      "source": [
        "results = []\n",
        "names = []\n",
        "\n",
        "for name, model in models:\n",
        "    names.append(name)\n",
        "    scores = evaluate_model_undersampling(X, y, model)\n",
        "    results.append(scores)\n",
        "\n",
        "for name, result in zip(names, results):\n",
        "    print(name)\n",
        "    print('{0:^15} | {1:^10} | {2:^10}'.format('Metric', 'Mean', 'Std Dev'))\n",
        "    print('-' * 40)\n",
        "    for key in scoring.keys():\n",
        "        metric = ''.join(('test_', key))\n",
        "        mean = np.mean(result[metric])\n",
        "        std_dev = np.std(result[metric])    \n",
        "        print('{0:<15} | {1:^10.3f} | {2:^10.3f}'.format(key, mean, std_dev))\n",
        "    print()"
      ]
    },
    {
      "cell_type": "markdown",
      "id": "4c261cd5",
      "metadata": {
        "id": "4c261cd5"
      },
      "source": [
        "Vemos que, efetivamente, os valores AUPRC para LR e SVC estão maiores do que antes da otimização. O KNN permanece inalterado pois a otimização resultou nos hiperparâmetros que já são utilizados por padrão no modelo. Vejamos isto em matrizes de confusão normalizadas:"
      ]
    },
    {
      "cell_type": "code",
      "execution_count": null,
      "id": "9428a615",
      "metadata": {
        "id": "9428a615",
        "outputId": "106dbe7b-128a-454b-bb87-b15ad4bfebb0"
      },
      "outputs": [
        {
          "data": {
            "image/png": "[encoded data removed]",
            "text/plain": [
              "<Figure size 864x288 with 6 Axes>"
            ]
          },
          "metadata": {
            "needs_background": "light"
          },
          "output_type": "display_data"
        }
      ],
      "source": [
        "names = []\n",
        "cm_means_norm = []\n",
        "\n",
        "for name, model in models:\n",
        "    names.append(name)    \n",
        "    cm_means_norm.append(mean_confusion_matrices_undersampling(X, y, model, normalize='true'))\n",
        "    \n",
        "fig, axes = plt.subplots(nrows=1, ncols=3, figsize=(12, 4))\n",
        "\n",
        "for ax, name, matrix in zip(axes.flatten(), names, cm_means_norm):\n",
        "    ConfusionMatrixDisplay(matrix).plot(ax=ax)\n",
        "    ax.set_title(name)"
      ]
    },
    {
      "cell_type": "markdown",
      "id": "96df4861",
      "metadata": {
        "id": "96df4861"
      },
      "source": [
        "Conforme estamos discutindo durante todo o estudo, há um trade-off entre precisão e recall. Assim, para os modelos LR e SVC, o resultado foi um aumento da precisão e diminuição do recall, com a consequente diminuição dos falsos positivos e aumento dos falsos negativos."
      ]
    },
    {
      "cell_type": "markdown",
      "id": "5f333ebd",
      "metadata": {
        "id": "5f333ebd"
      },
      "source": [
        "Mas, e se escolhêssemos maximizar a detecção de casos de fraude?"
      ]
    },
    {
      "cell_type": "markdown",
      "id": "5a516572",
      "metadata": {
        "id": "5a516572"
      },
      "source": [
        "### Métrica: recall"
      ]
    },
    {
      "cell_type": "markdown",
      "id": "a0773586",
      "metadata": {
        "id": "a0773586"
      },
      "source": [
        "Muitos podem pensar que uma determinada instituição financeira iria buscar maximizar a detecção de fraude, ou seja, aumentar o recall minimizando os falsos negativos. Vejamos as consequências desta estratégia. Vamos, novamente, listar os hiperparâmetros que serão analisados pelo grid search:"
      ]
    },
    {
      "cell_type": "code",
      "execution_count": null,
      "id": "9f3a00cd",
      "metadata": {
        "id": "9f3a00cd"
      },
      "outputs": [],
      "source": [
        "models = []\n",
        "\n",
        "models.append(('LR', \n",
        "               LogisticRegression(max_iter=700),\n",
        "               [{'C': [0.001, 0.01, 0.1, 1, 10, 100, 1000],\n",
        "                'class_weight': [None, 'balanced'],\n",
        "                'penalty': ['l1'], \n",
        "                'solver': ['liblinear', 'saga']},\n",
        "               {'C': [0.001, 0.01, 0.1, 1, 10, 100, 1000],\n",
        "                'class_weight': [None, 'balanced'],\n",
        "                'penalty': ['l2'], \n",
        "                'solver': ['lbfgs', 'newton-cg', 'sag']}]))\n",
        "\n",
        "models.append(('KNN', \n",
        "               KNeighborsClassifier(),\n",
        "               {'n_neighbors': list(range(2, 6, 1)), \n",
        "                'algorithm': ['auto', 'ball_tree', 'kd_tree', 'brute'],\n",
        "                'weights': ['uniform', 'distance']}))\n",
        "\n",
        "models.append(('SVC', \n",
        "               SVC(probability=True),\n",
        "               {'C': [0.5, 0.7, 0.9, 1], \n",
        "                'kernel': ['rbf', 'poly', 'sigmoid', 'linear'],\n",
        "                'class_weight': [None, 'balanced'],}))"
      ]
    },
    {
      "cell_type": "markdown",
      "id": "09662722",
      "metadata": {
        "id": "09662722"
      },
      "source": [
        "Passemos tais modelos para nossa função, alterando o parâmetro `scoring` para `recall`:"
      ]
    },
    {
      "cell_type": "code",
      "execution_count": null,
      "id": "c1966125",
      "metadata": {
        "id": "c1966125",
        "outputId": "fce4bc6c-c0a2-4126-e3ba-a7945a7a5acc"
      },
      "outputs": [
        {
          "name": "stderr",
          "output_type": "stream",
          "text": [
            "/opt/anaconda/envs/data_science/lib/python3.9/site-packages/sklearn/linear_model/_sag.py:352: ConvergenceWarning: The max_iter was reached which means the coef_ did not converge\n",
            "  warnings.warn(\n",
            "/opt/anaconda/envs/data_science/lib/python3.9/site-packages/sklearn/linear_model/_sag.py:352: ConvergenceWarning: The max_iter was reached which means the coef_ did not converge\n",
            "  warnings.warn(\n",
            "/opt/anaconda/envs/data_science/lib/python3.9/site-packages/sklearn/linear_model/_sag.py:352: ConvergenceWarning: The max_iter was reached which means the coef_ did not converge\n",
            "  warnings.warn(\n",
            "/opt/anaconda/envs/data_science/lib/python3.9/site-packages/sklearn/linear_model/_sag.py:352: ConvergenceWarning: The max_iter was reached which means the coef_ did not converge\n",
            "  warnings.warn(\n",
            "/opt/anaconda/envs/data_science/lib/python3.9/site-packages/sklearn/linear_model/_sag.py:352: ConvergenceWarning: The max_iter was reached which means the coef_ did not converge\n",
            "  warnings.warn(\n",
            "/opt/anaconda/envs/data_science/lib/python3.9/site-packages/sklearn/linear_model/_sag.py:352: ConvergenceWarning: The max_iter was reached which means the coef_ did not converge\n",
            "  warnings.warn(\n",
            "/opt/anaconda/envs/data_science/lib/python3.9/site-packages/sklearn/linear_model/_sag.py:352: ConvergenceWarning: The max_iter was reached which means the coef_ did not converge\n",
            "  warnings.warn(\n",
            "/opt/anaconda/envs/data_science/lib/python3.9/site-packages/sklearn/linear_model/_sag.py:352: ConvergenceWarning: The max_iter was reached which means the coef_ did not converge\n",
            "  warnings.warn(\n",
            "/opt/anaconda/envs/data_science/lib/python3.9/site-packages/sklearn/linear_model/_sag.py:352: ConvergenceWarning: The max_iter was reached which means the coef_ did not converge\n",
            "  warnings.warn(\n",
            "/opt/anaconda/envs/data_science/lib/python3.9/site-packages/sklearn/linear_model/_sag.py:352: ConvergenceWarning: The max_iter was reached which means the coef_ did not converge\n",
            "  warnings.warn(\n",
            "/opt/anaconda/envs/data_science/lib/python3.9/site-packages/sklearn/linear_model/_sag.py:352: ConvergenceWarning: The max_iter was reached which means the coef_ did not converge\n",
            "  warnings.warn(\n",
            "/opt/anaconda/envs/data_science/lib/python3.9/site-packages/sklearn/linear_model/_sag.py:352: ConvergenceWarning: The max_iter was reached which means the coef_ did not converge\n",
            "  warnings.warn(\n",
            "/opt/anaconda/envs/data_science/lib/python3.9/site-packages/sklearn/linear_model/_sag.py:352: ConvergenceWarning: The max_iter was reached which means the coef_ did not converge\n",
            "  warnings.warn(\n",
            "/opt/anaconda/envs/data_science/lib/python3.9/site-packages/sklearn/linear_model/_sag.py:352: ConvergenceWarning: The max_iter was reached which means the coef_ did not converge\n",
            "  warnings.warn(\n",
            "/opt/anaconda/envs/data_science/lib/python3.9/site-packages/sklearn/linear_model/_sag.py:352: ConvergenceWarning: The max_iter was reached which means the coef_ did not converge\n",
            "  warnings.warn(\n",
            "/opt/anaconda/envs/data_science/lib/python3.9/site-packages/sklearn/linear_model/_sag.py:352: ConvergenceWarning: The max_iter was reached which means the coef_ did not converge\n",
            "  warnings.warn(\n",
            "/opt/anaconda/envs/data_science/lib/python3.9/site-packages/sklearn/linear_model/_sag.py:352: ConvergenceWarning: The max_iter was reached which means the coef_ did not converge\n",
            "  warnings.warn(\n",
            "/opt/anaconda/envs/data_science/lib/python3.9/site-packages/sklearn/linear_model/_sag.py:352: ConvergenceWarning: The max_iter was reached which means the coef_ did not converge\n",
            "  warnings.warn(\n",
            "/opt/anaconda/envs/data_science/lib/python3.9/site-packages/sklearn/linear_model/_sag.py:352: ConvergenceWarning: The max_iter was reached which means the coef_ did not converge\n",
            "  warnings.warn(\n",
            "/opt/anaconda/envs/data_science/lib/python3.9/site-packages/sklearn/linear_model/_sag.py:352: ConvergenceWarning: The max_iter was reached which means the coef_ did not converge\n",
            "  warnings.warn(\n",
            "/opt/anaconda/envs/data_science/lib/python3.9/site-packages/sklearn/linear_model/_sag.py:352: ConvergenceWarning: The max_iter was reached which means the coef_ did not converge\n",
            "  warnings.warn(\n",
            "/opt/anaconda/envs/data_science/lib/python3.9/site-packages/sklearn/linear_model/_sag.py:352: ConvergenceWarning: The max_iter was reached which means the coef_ did not converge\n",
            "  warnings.warn(\n",
            "/opt/anaconda/envs/data_science/lib/python3.9/site-packages/sklearn/linear_model/_sag.py:352: ConvergenceWarning: The max_iter was reached which means the coef_ did not converge\n",
            "  warnings.warn(\n",
            "/opt/anaconda/envs/data_science/lib/python3.9/site-packages/sklearn/linear_model/_sag.py:352: ConvergenceWarning: The max_iter was reached which means the coef_ did not converge\n",
            "  warnings.warn(\n",
            "/opt/anaconda/envs/data_science/lib/python3.9/site-packages/sklearn/linear_model/_sag.py:352: ConvergenceWarning: The max_iter was reached which means the coef_ did not converge\n",
            "  warnings.warn(\n",
            "/opt/anaconda/envs/data_science/lib/python3.9/site-packages/sklearn/linear_model/_sag.py:352: ConvergenceWarning: The max_iter was reached which means the coef_ did not converge\n",
            "  warnings.warn(\n",
            "/opt/anaconda/envs/data_science/lib/python3.9/site-packages/sklearn/linear_model/_sag.py:352: ConvergenceWarning: The max_iter was reached which means the coef_ did not converge\n",
            "  warnings.warn(\n",
            "/opt/anaconda/envs/data_science/lib/python3.9/site-packages/sklearn/linear_model/_sag.py:352: ConvergenceWarning: The max_iter was reached which means the coef_ did not converge\n",
            "  warnings.warn(\n",
            "/opt/anaconda/envs/data_science/lib/python3.9/site-packages/sklearn/linear_model/_sag.py:352: ConvergenceWarning: The max_iter was reached which means the coef_ did not converge\n",
            "  warnings.warn(\n",
            "/opt/anaconda/envs/data_science/lib/python3.9/site-packages/sklearn/linear_model/_sag.py:352: ConvergenceWarning: The max_iter was reached which means the coef_ did not converge\n",
            "  warnings.warn(\n",
            "/opt/anaconda/envs/data_science/lib/python3.9/site-packages/sklearn/linear_model/_sag.py:352: ConvergenceWarning: The max_iter was reached which means the coef_ did not converge\n",
            "  warnings.warn(\n",
            "/opt/anaconda/envs/data_science/lib/python3.9/site-packages/sklearn/linear_model/_sag.py:352: ConvergenceWarning: The max_iter was reached which means the coef_ did not converge\n",
            "  warnings.warn(\n",
            "/opt/anaconda/envs/data_science/lib/python3.9/site-packages/sklearn/linear_model/_sag.py:352: ConvergenceWarning: The max_iter was reached which means the coef_ did not converge\n",
            "  warnings.warn(\n",
            "/opt/anaconda/envs/data_science/lib/python3.9/site-packages/sklearn/linear_model/_sag.py:352: ConvergenceWarning: The max_iter was reached which means the coef_ did not converge\n",
            "  warnings.warn(\n",
            "/opt/anaconda/envs/data_science/lib/python3.9/site-packages/sklearn/linear_model/_sag.py:352: ConvergenceWarning: The max_iter was reached which means the coef_ did not converge\n",
            "  warnings.warn(\n",
            "/opt/anaconda/envs/data_science/lib/python3.9/site-packages/sklearn/linear_model/_sag.py:352: ConvergenceWarning: The max_iter was reached which means the coef_ did not converge\n",
            "  warnings.warn(\n",
            "/opt/anaconda/envs/data_science/lib/python3.9/site-packages/sklearn/linear_model/_sag.py:352: ConvergenceWarning: The max_iter was reached which means the coef_ did not converge\n",
            "  warnings.warn(\n",
            "/opt/anaconda/envs/data_science/lib/python3.9/site-packages/sklearn/linear_model/_sag.py:352: ConvergenceWarning: The max_iter was reached which means the coef_ did not converge\n",
            "  warnings.warn(\n",
            "/opt/anaconda/envs/data_science/lib/python3.9/site-packages/sklearn/svm/_base.py:1206: ConvergenceWarning: Liblinear failed to converge, increase the number of iterations.\n",
            "  warnings.warn(\n",
            "/opt/anaconda/envs/data_science/lib/python3.9/site-packages/sklearn/linear_model/_sag.py:352: ConvergenceWarning: The max_iter was reached which means the coef_ did not converge\n",
            "  warnings.warn(\n",
            "/opt/anaconda/envs/data_science/lib/python3.9/site-packages/sklearn/linear_model/_sag.py:352: ConvergenceWarning: The max_iter was reached which means the coef_ did not converge\n",
            "  warnings.warn(\n",
            "/opt/anaconda/envs/data_science/lib/python3.9/site-packages/sklearn/linear_model/_sag.py:352: ConvergenceWarning: The max_iter was reached which means the coef_ did not converge\n",
            "  warnings.warn(\n",
            "/opt/anaconda/envs/data_science/lib/python3.9/site-packages/sklearn/linear_model/_sag.py:352: ConvergenceWarning: The max_iter was reached which means the coef_ did not converge\n",
            "  warnings.warn(\n"
          ]
        },
        {
          "name": "stderr",
          "output_type": "stream",
          "text": [
            "/opt/anaconda/envs/data_science/lib/python3.9/site-packages/sklearn/linear_model/_sag.py:352: ConvergenceWarning: The max_iter was reached which means the coef_ did not converge\n",
            "  warnings.warn(\n",
            "/opt/anaconda/envs/data_science/lib/python3.9/site-packages/sklearn/linear_model/_sag.py:352: ConvergenceWarning: The max_iter was reached which means the coef_ did not converge\n",
            "  warnings.warn(\n",
            "/opt/anaconda/envs/data_science/lib/python3.9/site-packages/sklearn/linear_model/_sag.py:352: ConvergenceWarning: The max_iter was reached which means the coef_ did not converge\n",
            "  warnings.warn(\n",
            "/opt/anaconda/envs/data_science/lib/python3.9/site-packages/sklearn/linear_model/_sag.py:352: ConvergenceWarning: The max_iter was reached which means the coef_ did not converge\n",
            "  warnings.warn(\n",
            "/opt/anaconda/envs/data_science/lib/python3.9/site-packages/sklearn/linear_model/_sag.py:352: ConvergenceWarning: The max_iter was reached which means the coef_ did not converge\n",
            "  warnings.warn(\n",
            "/opt/anaconda/envs/data_science/lib/python3.9/site-packages/sklearn/linear_model/_sag.py:352: ConvergenceWarning: The max_iter was reached which means the coef_ did not converge\n",
            "  warnings.warn(\n",
            "/opt/anaconda/envs/data_science/lib/python3.9/site-packages/sklearn/linear_model/_sag.py:352: ConvergenceWarning: The max_iter was reached which means the coef_ did not converge\n",
            "  warnings.warn(\n",
            "/opt/anaconda/envs/data_science/lib/python3.9/site-packages/sklearn/linear_model/_sag.py:352: ConvergenceWarning: The max_iter was reached which means the coef_ did not converge\n",
            "  warnings.warn(\n",
            "/opt/anaconda/envs/data_science/lib/python3.9/site-packages/sklearn/linear_model/_sag.py:352: ConvergenceWarning: The max_iter was reached which means the coef_ did not converge\n",
            "  warnings.warn(\n",
            "/opt/anaconda/envs/data_science/lib/python3.9/site-packages/sklearn/linear_model/_sag.py:352: ConvergenceWarning: The max_iter was reached which means the coef_ did not converge\n",
            "  warnings.warn(\n",
            "/opt/anaconda/envs/data_science/lib/python3.9/site-packages/sklearn/linear_model/_sag.py:352: ConvergenceWarning: The max_iter was reached which means the coef_ did not converge\n",
            "  warnings.warn(\n",
            "/opt/anaconda/envs/data_science/lib/python3.9/site-packages/sklearn/linear_model/_sag.py:352: ConvergenceWarning: The max_iter was reached which means the coef_ did not converge\n",
            "  warnings.warn(\n",
            "/opt/anaconda/envs/data_science/lib/python3.9/site-packages/sklearn/linear_model/_sag.py:352: ConvergenceWarning: The max_iter was reached which means the coef_ did not converge\n",
            "  warnings.warn(\n",
            "/opt/anaconda/envs/data_science/lib/python3.9/site-packages/sklearn/linear_model/_sag.py:352: ConvergenceWarning: The max_iter was reached which means the coef_ did not converge\n",
            "  warnings.warn(\n",
            "/opt/anaconda/envs/data_science/lib/python3.9/site-packages/sklearn/linear_model/_sag.py:352: ConvergenceWarning: The max_iter was reached which means the coef_ did not converge\n",
            "  warnings.warn(\n",
            "/opt/anaconda/envs/data_science/lib/python3.9/site-packages/sklearn/linear_model/_sag.py:352: ConvergenceWarning: The max_iter was reached which means the coef_ did not converge\n",
            "  warnings.warn(\n",
            "/opt/anaconda/envs/data_science/lib/python3.9/site-packages/sklearn/linear_model/_sag.py:352: ConvergenceWarning: The max_iter was reached which means the coef_ did not converge\n",
            "  warnings.warn(\n",
            "/opt/anaconda/envs/data_science/lib/python3.9/site-packages/sklearn/linear_model/_sag.py:352: ConvergenceWarning: The max_iter was reached which means the coef_ did not converge\n",
            "  warnings.warn(\n",
            "/opt/anaconda/envs/data_science/lib/python3.9/site-packages/sklearn/linear_model/_sag.py:352: ConvergenceWarning: The max_iter was reached which means the coef_ did not converge\n",
            "  warnings.warn(\n",
            "/opt/anaconda/envs/data_science/lib/python3.9/site-packages/sklearn/linear_model/_sag.py:352: ConvergenceWarning: The max_iter was reached which means the coef_ did not converge\n",
            "  warnings.warn(\n",
            "/opt/anaconda/envs/data_science/lib/python3.9/site-packages/sklearn/linear_model/_sag.py:352: ConvergenceWarning: The max_iter was reached which means the coef_ did not converge\n",
            "  warnings.warn(\n",
            "/opt/anaconda/envs/data_science/lib/python3.9/site-packages/sklearn/linear_model/_sag.py:352: ConvergenceWarning: The max_iter was reached which means the coef_ did not converge\n",
            "  warnings.warn(\n",
            "/opt/anaconda/envs/data_science/lib/python3.9/site-packages/sklearn/linear_model/_sag.py:352: ConvergenceWarning: The max_iter was reached which means the coef_ did not converge\n",
            "  warnings.warn(\n",
            "/opt/anaconda/envs/data_science/lib/python3.9/site-packages/sklearn/linear_model/_sag.py:352: ConvergenceWarning: The max_iter was reached which means the coef_ did not converge\n",
            "  warnings.warn(\n",
            "/opt/anaconda/envs/data_science/lib/python3.9/site-packages/sklearn/linear_model/_sag.py:352: ConvergenceWarning: The max_iter was reached which means the coef_ did not converge\n",
            "  warnings.warn(\n",
            "/opt/anaconda/envs/data_science/lib/python3.9/site-packages/sklearn/linear_model/_sag.py:352: ConvergenceWarning: The max_iter was reached which means the coef_ did not converge\n",
            "  warnings.warn(\n",
            "/opt/anaconda/envs/data_science/lib/python3.9/site-packages/sklearn/linear_model/_sag.py:352: ConvergenceWarning: The max_iter was reached which means the coef_ did not converge\n",
            "  warnings.warn(\n",
            "/opt/anaconda/envs/data_science/lib/python3.9/site-packages/sklearn/linear_model/_sag.py:352: ConvergenceWarning: The max_iter was reached which means the coef_ did not converge\n",
            "  warnings.warn(\n",
            "/opt/anaconda/envs/data_science/lib/python3.9/site-packages/sklearn/linear_model/_sag.py:352: ConvergenceWarning: The max_iter was reached which means the coef_ did not converge\n",
            "  warnings.warn(\n",
            "/opt/anaconda/envs/data_science/lib/python3.9/site-packages/sklearn/linear_model/_sag.py:352: ConvergenceWarning: The max_iter was reached which means the coef_ did not converge\n",
            "  warnings.warn(\n",
            "/opt/anaconda/envs/data_science/lib/python3.9/site-packages/sklearn/linear_model/_sag.py:352: ConvergenceWarning: The max_iter was reached which means the coef_ did not converge\n",
            "  warnings.warn(\n",
            "/opt/anaconda/envs/data_science/lib/python3.9/site-packages/sklearn/linear_model/_sag.py:352: ConvergenceWarning: The max_iter was reached which means the coef_ did not converge\n",
            "  warnings.warn(\n",
            "/opt/anaconda/envs/data_science/lib/python3.9/site-packages/sklearn/linear_model/_sag.py:352: ConvergenceWarning: The max_iter was reached which means the coef_ did not converge\n",
            "  warnings.warn(\n",
            "/opt/anaconda/envs/data_science/lib/python3.9/site-packages/sklearn/linear_model/_sag.py:352: ConvergenceWarning: The max_iter was reached which means the coef_ did not converge\n",
            "  warnings.warn(\n",
            "/opt/anaconda/envs/data_science/lib/python3.9/site-packages/sklearn/linear_model/_sag.py:352: ConvergenceWarning: The max_iter was reached which means the coef_ did not converge\n",
            "  warnings.warn(\n",
            "/opt/anaconda/envs/data_science/lib/python3.9/site-packages/sklearn/linear_model/_sag.py:352: ConvergenceWarning: The max_iter was reached which means the coef_ did not converge\n",
            "  warnings.warn(\n",
            "/opt/anaconda/envs/data_science/lib/python3.9/site-packages/sklearn/linear_model/_sag.py:352: ConvergenceWarning: The max_iter was reached which means the coef_ did not converge\n",
            "  warnings.warn(\n",
            "/opt/anaconda/envs/data_science/lib/python3.9/site-packages/sklearn/linear_model/_sag.py:352: ConvergenceWarning: The max_iter was reached which means the coef_ did not converge\n",
            "  warnings.warn(\n",
            "/opt/anaconda/envs/data_science/lib/python3.9/site-packages/sklearn/linear_model/_sag.py:352: ConvergenceWarning: The max_iter was reached which means the coef_ did not converge\n",
            "  warnings.warn(\n",
            "/opt/anaconda/envs/data_science/lib/python3.9/site-packages/sklearn/linear_model/_sag.py:352: ConvergenceWarning: The max_iter was reached which means the coef_ did not converge\n",
            "  warnings.warn(\n",
            "/opt/anaconda/envs/data_science/lib/python3.9/site-packages/sklearn/linear_model/_sag.py:352: ConvergenceWarning: The max_iter was reached which means the coef_ did not converge\n",
            "  warnings.warn(\n",
            "/opt/anaconda/envs/data_science/lib/python3.9/site-packages/sklearn/linear_model/_sag.py:352: ConvergenceWarning: The max_iter was reached which means the coef_ did not converge\n",
            "  warnings.warn(\n",
            "/opt/anaconda/envs/data_science/lib/python3.9/site-packages/sklearn/linear_model/_sag.py:352: ConvergenceWarning: The max_iter was reached which means the coef_ did not converge\n",
            "  warnings.warn(\n",
            "/opt/anaconda/envs/data_science/lib/python3.9/site-packages/sklearn/linear_model/_sag.py:352: ConvergenceWarning: The max_iter was reached which means the coef_ did not converge\n",
            "  warnings.warn(\n"
          ]
        },
        {
          "name": "stderr",
          "output_type": "stream",
          "text": [
            "/opt/anaconda/envs/data_science/lib/python3.9/site-packages/sklearn/linear_model/_sag.py:352: ConvergenceWarning: The max_iter was reached which means the coef_ did not converge\n",
            "  warnings.warn(\n",
            "/opt/anaconda/envs/data_science/lib/python3.9/site-packages/sklearn/linear_model/_sag.py:352: ConvergenceWarning: The max_iter was reached which means the coef_ did not converge\n",
            "  warnings.warn(\n",
            "/opt/anaconda/envs/data_science/lib/python3.9/site-packages/sklearn/linear_model/_sag.py:352: ConvergenceWarning: The max_iter was reached which means the coef_ did not converge\n",
            "  warnings.warn(\n",
            "/opt/anaconda/envs/data_science/lib/python3.9/site-packages/sklearn/linear_model/_sag.py:352: ConvergenceWarning: The max_iter was reached which means the coef_ did not converge\n",
            "  warnings.warn(\n",
            "/opt/anaconda/envs/data_science/lib/python3.9/site-packages/sklearn/linear_model/_sag.py:352: ConvergenceWarning: The max_iter was reached which means the coef_ did not converge\n",
            "  warnings.warn(\n",
            "/opt/anaconda/envs/data_science/lib/python3.9/site-packages/sklearn/linear_model/_sag.py:352: ConvergenceWarning: The max_iter was reached which means the coef_ did not converge\n",
            "  warnings.warn(\n",
            "/opt/anaconda/envs/data_science/lib/python3.9/site-packages/sklearn/linear_model/_sag.py:352: ConvergenceWarning: The max_iter was reached which means the coef_ did not converge\n",
            "  warnings.warn(\n",
            "/opt/anaconda/envs/data_science/lib/python3.9/site-packages/sklearn/linear_model/_sag.py:352: ConvergenceWarning: The max_iter was reached which means the coef_ did not converge\n",
            "  warnings.warn(\n",
            "/opt/anaconda/envs/data_science/lib/python3.9/site-packages/sklearn/linear_model/_sag.py:352: ConvergenceWarning: The max_iter was reached which means the coef_ did not converge\n",
            "  warnings.warn(\n",
            "/opt/anaconda/envs/data_science/lib/python3.9/site-packages/sklearn/linear_model/_sag.py:352: ConvergenceWarning: The max_iter was reached which means the coef_ did not converge\n",
            "  warnings.warn(\n",
            "/opt/anaconda/envs/data_science/lib/python3.9/site-packages/sklearn/linear_model/_sag.py:352: ConvergenceWarning: The max_iter was reached which means the coef_ did not converge\n",
            "  warnings.warn(\n",
            "/opt/anaconda/envs/data_science/lib/python3.9/site-packages/sklearn/linear_model/_sag.py:352: ConvergenceWarning: The max_iter was reached which means the coef_ did not converge\n",
            "  warnings.warn(\n",
            "/opt/anaconda/envs/data_science/lib/python3.9/site-packages/sklearn/linear_model/_sag.py:352: ConvergenceWarning: The max_iter was reached which means the coef_ did not converge\n",
            "  warnings.warn(\n",
            "/opt/anaconda/envs/data_science/lib/python3.9/site-packages/sklearn/linear_model/_sag.py:352: ConvergenceWarning: The max_iter was reached which means the coef_ did not converge\n",
            "  warnings.warn(\n",
            "/opt/anaconda/envs/data_science/lib/python3.9/site-packages/sklearn/linear_model/_sag.py:352: ConvergenceWarning: The max_iter was reached which means the coef_ did not converge\n",
            "  warnings.warn(\n",
            "/opt/anaconda/envs/data_science/lib/python3.9/site-packages/sklearn/linear_model/_sag.py:352: ConvergenceWarning: The max_iter was reached which means the coef_ did not converge\n",
            "  warnings.warn(\n",
            "/opt/anaconda/envs/data_science/lib/python3.9/site-packages/sklearn/linear_model/_sag.py:352: ConvergenceWarning: The max_iter was reached which means the coef_ did not converge\n",
            "  warnings.warn(\n",
            "/opt/anaconda/envs/data_science/lib/python3.9/site-packages/sklearn/linear_model/_sag.py:352: ConvergenceWarning: The max_iter was reached which means the coef_ did not converge\n",
            "  warnings.warn(\n",
            "/opt/anaconda/envs/data_science/lib/python3.9/site-packages/sklearn/linear_model/_sag.py:352: ConvergenceWarning: The max_iter was reached which means the coef_ did not converge\n",
            "  warnings.warn(\n",
            "/opt/anaconda/envs/data_science/lib/python3.9/site-packages/sklearn/linear_model/_sag.py:352: ConvergenceWarning: The max_iter was reached which means the coef_ did not converge\n",
            "  warnings.warn(\n",
            "/opt/anaconda/envs/data_science/lib/python3.9/site-packages/sklearn/linear_model/_sag.py:352: ConvergenceWarning: The max_iter was reached which means the coef_ did not converge\n",
            "  warnings.warn(\n",
            "/opt/anaconda/envs/data_science/lib/python3.9/site-packages/sklearn/linear_model/_sag.py:352: ConvergenceWarning: The max_iter was reached which means the coef_ did not converge\n",
            "  warnings.warn(\n",
            "/opt/anaconda/envs/data_science/lib/python3.9/site-packages/sklearn/linear_model/_sag.py:352: ConvergenceWarning: The max_iter was reached which means the coef_ did not converge\n",
            "  warnings.warn(\n",
            "/opt/anaconda/envs/data_science/lib/python3.9/site-packages/sklearn/linear_model/_sag.py:352: ConvergenceWarning: The max_iter was reached which means the coef_ did not converge\n",
            "  warnings.warn(\n",
            "/opt/anaconda/envs/data_science/lib/python3.9/site-packages/sklearn/linear_model/_sag.py:352: ConvergenceWarning: The max_iter was reached which means the coef_ did not converge\n",
            "  warnings.warn(\n",
            "/opt/anaconda/envs/data_science/lib/python3.9/site-packages/sklearn/linear_model/_sag.py:352: ConvergenceWarning: The max_iter was reached which means the coef_ did not converge\n",
            "  warnings.warn(\n",
            "/opt/anaconda/envs/data_science/lib/python3.9/site-packages/sklearn/linear_model/_sag.py:352: ConvergenceWarning: The max_iter was reached which means the coef_ did not converge\n",
            "  warnings.warn(\n",
            "/opt/anaconda/envs/data_science/lib/python3.9/site-packages/sklearn/linear_model/_sag.py:352: ConvergenceWarning: The max_iter was reached which means the coef_ did not converge\n",
            "  warnings.warn(\n",
            "/opt/anaconda/envs/data_science/lib/python3.9/site-packages/sklearn/linear_model/_sag.py:352: ConvergenceWarning: The max_iter was reached which means the coef_ did not converge\n",
            "  warnings.warn(\n",
            "/opt/anaconda/envs/data_science/lib/python3.9/site-packages/sklearn/linear_model/_sag.py:352: ConvergenceWarning: The max_iter was reached which means the coef_ did not converge\n",
            "  warnings.warn(\n",
            "/opt/anaconda/envs/data_science/lib/python3.9/site-packages/sklearn/linear_model/_sag.py:352: ConvergenceWarning: The max_iter was reached which means the coef_ did not converge\n",
            "  warnings.warn(\n",
            "/opt/anaconda/envs/data_science/lib/python3.9/site-packages/sklearn/linear_model/_sag.py:352: ConvergenceWarning: The max_iter was reached which means the coef_ did not converge\n",
            "  warnings.warn(\n",
            "/opt/anaconda/envs/data_science/lib/python3.9/site-packages/sklearn/linear_model/_sag.py:352: ConvergenceWarning: The max_iter was reached which means the coef_ did not converge\n",
            "  warnings.warn(\n",
            "/opt/anaconda/envs/data_science/lib/python3.9/site-packages/sklearn/linear_model/_sag.py:352: ConvergenceWarning: The max_iter was reached which means the coef_ did not converge\n",
            "  warnings.warn(\n",
            "/opt/anaconda/envs/data_science/lib/python3.9/site-packages/sklearn/linear_model/_sag.py:352: ConvergenceWarning: The max_iter was reached which means the coef_ did not converge\n",
            "  warnings.warn(\n",
            "/opt/anaconda/envs/data_science/lib/python3.9/site-packages/sklearn/linear_model/_sag.py:352: ConvergenceWarning: The max_iter was reached which means the coef_ did not converge\n",
            "  warnings.warn(\n",
            "/opt/anaconda/envs/data_science/lib/python3.9/site-packages/sklearn/linear_model/_sag.py:352: ConvergenceWarning: The max_iter was reached which means the coef_ did not converge\n",
            "  warnings.warn(\n",
            "/opt/anaconda/envs/data_science/lib/python3.9/site-packages/sklearn/linear_model/_sag.py:352: ConvergenceWarning: The max_iter was reached which means the coef_ did not converge\n",
            "  warnings.warn(\n",
            "/opt/anaconda/envs/data_science/lib/python3.9/site-packages/sklearn/linear_model/_sag.py:352: ConvergenceWarning: The max_iter was reached which means the coef_ did not converge\n",
            "  warnings.warn(\n",
            "/opt/anaconda/envs/data_science/lib/python3.9/site-packages/sklearn/linear_model/_sag.py:352: ConvergenceWarning: The max_iter was reached which means the coef_ did not converge\n",
            "  warnings.warn(\n",
            "/opt/anaconda/envs/data_science/lib/python3.9/site-packages/sklearn/svm/_base.py:1206: ConvergenceWarning: Liblinear failed to converge, increase the number of iterations.\n",
            "  warnings.warn(\n",
            "/opt/anaconda/envs/data_science/lib/python3.9/site-packages/sklearn/linear_model/_sag.py:352: ConvergenceWarning: The max_iter was reached which means the coef_ did not converge\n",
            "  warnings.warn(\n",
            "/opt/anaconda/envs/data_science/lib/python3.9/site-packages/sklearn/linear_model/_sag.py:352: ConvergenceWarning: The max_iter was reached which means the coef_ did not converge\n",
            "  warnings.warn(\n",
            "/opt/anaconda/envs/data_science/lib/python3.9/site-packages/sklearn/linear_model/_sag.py:352: ConvergenceWarning: The max_iter was reached which means the coef_ did not converge\n",
            "  warnings.warn(\n"
          ]
        },
        {
          "name": "stderr",
          "output_type": "stream",
          "text": [
            "/opt/anaconda/envs/data_science/lib/python3.9/site-packages/sklearn/linear_model/_sag.py:352: ConvergenceWarning: The max_iter was reached which means the coef_ did not converge\n",
            "  warnings.warn(\n",
            "/opt/anaconda/envs/data_science/lib/python3.9/site-packages/sklearn/linear_model/_sag.py:352: ConvergenceWarning: The max_iter was reached which means the coef_ did not converge\n",
            "  warnings.warn(\n",
            "/opt/anaconda/envs/data_science/lib/python3.9/site-packages/sklearn/linear_model/_sag.py:352: ConvergenceWarning: The max_iter was reached which means the coef_ did not converge\n",
            "  warnings.warn(\n",
            "/opt/anaconda/envs/data_science/lib/python3.9/site-packages/sklearn/linear_model/_sag.py:352: ConvergenceWarning: The max_iter was reached which means the coef_ did not converge\n",
            "  warnings.warn(\n",
            "/opt/anaconda/envs/data_science/lib/python3.9/site-packages/sklearn/linear_model/_sag.py:352: ConvergenceWarning: The max_iter was reached which means the coef_ did not converge\n",
            "  warnings.warn(\n",
            "/opt/anaconda/envs/data_science/lib/python3.9/site-packages/sklearn/linear_model/_sag.py:352: ConvergenceWarning: The max_iter was reached which means the coef_ did not converge\n",
            "  warnings.warn(\n",
            "/opt/anaconda/envs/data_science/lib/python3.9/site-packages/sklearn/linear_model/_sag.py:352: ConvergenceWarning: The max_iter was reached which means the coef_ did not converge\n",
            "  warnings.warn(\n",
            "/opt/anaconda/envs/data_science/lib/python3.9/site-packages/sklearn/linear_model/_sag.py:352: ConvergenceWarning: The max_iter was reached which means the coef_ did not converge\n",
            "  warnings.warn(\n",
            "/opt/anaconda/envs/data_science/lib/python3.9/site-packages/sklearn/linear_model/_sag.py:352: ConvergenceWarning: The max_iter was reached which means the coef_ did not converge\n",
            "  warnings.warn(\n",
            "/opt/anaconda/envs/data_science/lib/python3.9/site-packages/sklearn/linear_model/_sag.py:352: ConvergenceWarning: The max_iter was reached which means the coef_ did not converge\n",
            "  warnings.warn(\n",
            "/opt/anaconda/envs/data_science/lib/python3.9/site-packages/sklearn/linear_model/_sag.py:352: ConvergenceWarning: The max_iter was reached which means the coef_ did not converge\n",
            "  warnings.warn(\n",
            "/opt/anaconda/envs/data_science/lib/python3.9/site-packages/sklearn/linear_model/_sag.py:352: ConvergenceWarning: The max_iter was reached which means the coef_ did not converge\n",
            "  warnings.warn(\n",
            "/opt/anaconda/envs/data_science/lib/python3.9/site-packages/sklearn/linear_model/_sag.py:352: ConvergenceWarning: The max_iter was reached which means the coef_ did not converge\n",
            "  warnings.warn(\n",
            "/opt/anaconda/envs/data_science/lib/python3.9/site-packages/sklearn/linear_model/_sag.py:352: ConvergenceWarning: The max_iter was reached which means the coef_ did not converge\n",
            "  warnings.warn(\n",
            "/opt/anaconda/envs/data_science/lib/python3.9/site-packages/sklearn/linear_model/_sag.py:352: ConvergenceWarning: The max_iter was reached which means the coef_ did not converge\n",
            "  warnings.warn(\n",
            "/opt/anaconda/envs/data_science/lib/python3.9/site-packages/sklearn/linear_model/_sag.py:352: ConvergenceWarning: The max_iter was reached which means the coef_ did not converge\n",
            "  warnings.warn(\n",
            "/opt/anaconda/envs/data_science/lib/python3.9/site-packages/sklearn/linear_model/_sag.py:352: ConvergenceWarning: The max_iter was reached which means the coef_ did not converge\n",
            "  warnings.warn(\n",
            "/opt/anaconda/envs/data_science/lib/python3.9/site-packages/sklearn/linear_model/_sag.py:352: ConvergenceWarning: The max_iter was reached which means the coef_ did not converge\n",
            "  warnings.warn(\n",
            "/opt/anaconda/envs/data_science/lib/python3.9/site-packages/sklearn/linear_model/_sag.py:352: ConvergenceWarning: The max_iter was reached which means the coef_ did not converge\n",
            "  warnings.warn(\n",
            "/opt/anaconda/envs/data_science/lib/python3.9/site-packages/sklearn/linear_model/_sag.py:352: ConvergenceWarning: The max_iter was reached which means the coef_ did not converge\n",
            "  warnings.warn(\n",
            "/opt/anaconda/envs/data_science/lib/python3.9/site-packages/sklearn/linear_model/_sag.py:352: ConvergenceWarning: The max_iter was reached which means the coef_ did not converge\n",
            "  warnings.warn(\n",
            "/opt/anaconda/envs/data_science/lib/python3.9/site-packages/sklearn/linear_model/_sag.py:352: ConvergenceWarning: The max_iter was reached which means the coef_ did not converge\n",
            "  warnings.warn(\n",
            "/opt/anaconda/envs/data_science/lib/python3.9/site-packages/sklearn/linear_model/_sag.py:352: ConvergenceWarning: The max_iter was reached which means the coef_ did not converge\n",
            "  warnings.warn(\n",
            "/opt/anaconda/envs/data_science/lib/python3.9/site-packages/sklearn/linear_model/_sag.py:352: ConvergenceWarning: The max_iter was reached which means the coef_ did not converge\n",
            "  warnings.warn(\n",
            "/opt/anaconda/envs/data_science/lib/python3.9/site-packages/sklearn/linear_model/_sag.py:352: ConvergenceWarning: The max_iter was reached which means the coef_ did not converge\n",
            "  warnings.warn(\n",
            "/opt/anaconda/envs/data_science/lib/python3.9/site-packages/sklearn/linear_model/_sag.py:352: ConvergenceWarning: The max_iter was reached which means the coef_ did not converge\n",
            "  warnings.warn(\n",
            "/opt/anaconda/envs/data_science/lib/python3.9/site-packages/sklearn/linear_model/_sag.py:352: ConvergenceWarning: The max_iter was reached which means the coef_ did not converge\n",
            "  warnings.warn(\n",
            "/opt/anaconda/envs/data_science/lib/python3.9/site-packages/sklearn/linear_model/_sag.py:352: ConvergenceWarning: The max_iter was reached which means the coef_ did not converge\n",
            "  warnings.warn(\n",
            "/opt/anaconda/envs/data_science/lib/python3.9/site-packages/sklearn/linear_model/_sag.py:352: ConvergenceWarning: The max_iter was reached which means the coef_ did not converge\n",
            "  warnings.warn(\n",
            "/opt/anaconda/envs/data_science/lib/python3.9/site-packages/sklearn/linear_model/_sag.py:352: ConvergenceWarning: The max_iter was reached which means the coef_ did not converge\n",
            "  warnings.warn(\n",
            "/opt/anaconda/envs/data_science/lib/python3.9/site-packages/sklearn/linear_model/_sag.py:352: ConvergenceWarning: The max_iter was reached which means the coef_ did not converge\n",
            "  warnings.warn(\n",
            "/opt/anaconda/envs/data_science/lib/python3.9/site-packages/sklearn/linear_model/_sag.py:352: ConvergenceWarning: The max_iter was reached which means the coef_ did not converge\n",
            "  warnings.warn(\n",
            "/opt/anaconda/envs/data_science/lib/python3.9/site-packages/sklearn/linear_model/_sag.py:352: ConvergenceWarning: The max_iter was reached which means the coef_ did not converge\n",
            "  warnings.warn(\n",
            "/opt/anaconda/envs/data_science/lib/python3.9/site-packages/sklearn/linear_model/_sag.py:352: ConvergenceWarning: The max_iter was reached which means the coef_ did not converge\n",
            "  warnings.warn(\n",
            "/opt/anaconda/envs/data_science/lib/python3.9/site-packages/sklearn/linear_model/_sag.py:352: ConvergenceWarning: The max_iter was reached which means the coef_ did not converge\n",
            "  warnings.warn(\n",
            "/opt/anaconda/envs/data_science/lib/python3.9/site-packages/sklearn/linear_model/_sag.py:352: ConvergenceWarning: The max_iter was reached which means the coef_ did not converge\n",
            "  warnings.warn(\n",
            "/opt/anaconda/envs/data_science/lib/python3.9/site-packages/sklearn/linear_model/_sag.py:352: ConvergenceWarning: The max_iter was reached which means the coef_ did not converge\n",
            "  warnings.warn(\n",
            "/opt/anaconda/envs/data_science/lib/python3.9/site-packages/sklearn/linear_model/_sag.py:352: ConvergenceWarning: The max_iter was reached which means the coef_ did not converge\n",
            "  warnings.warn(\n",
            "/opt/anaconda/envs/data_science/lib/python3.9/site-packages/sklearn/linear_model/_sag.py:352: ConvergenceWarning: The max_iter was reached which means the coef_ did not converge\n",
            "  warnings.warn(\n",
            "/opt/anaconda/envs/data_science/lib/python3.9/site-packages/sklearn/linear_model/_sag.py:352: ConvergenceWarning: The max_iter was reached which means the coef_ did not converge\n",
            "  warnings.warn(\n",
            "/opt/anaconda/envs/data_science/lib/python3.9/site-packages/sklearn/linear_model/_sag.py:352: ConvergenceWarning: The max_iter was reached which means the coef_ did not converge\n",
            "  warnings.warn(\n",
            "/opt/anaconda/envs/data_science/lib/python3.9/site-packages/sklearn/linear_model/_sag.py:352: ConvergenceWarning: The max_iter was reached which means the coef_ did not converge\n",
            "  warnings.warn(\n",
            "/opt/anaconda/envs/data_science/lib/python3.9/site-packages/sklearn/linear_model/_sag.py:352: ConvergenceWarning: The max_iter was reached which means the coef_ did not converge\n",
            "  warnings.warn(\n",
            "/opt/anaconda/envs/data_science/lib/python3.9/site-packages/sklearn/linear_model/_sag.py:352: ConvergenceWarning: The max_iter was reached which means the coef_ did not converge\n",
            "  warnings.warn(\n",
            "/opt/anaconda/envs/data_science/lib/python3.9/site-packages/sklearn/linear_model/_sag.py:352: ConvergenceWarning: The max_iter was reached which means the coef_ did not converge\n",
            "  warnings.warn(\n"
          ]
        },
        {
          "name": "stderr",
          "output_type": "stream",
          "text": [
            "/opt/anaconda/envs/data_science/lib/python3.9/site-packages/sklearn/linear_model/_sag.py:352: ConvergenceWarning: The max_iter was reached which means the coef_ did not converge\n",
            "  warnings.warn(\n",
            "/opt/anaconda/envs/data_science/lib/python3.9/site-packages/sklearn/linear_model/_sag.py:352: ConvergenceWarning: The max_iter was reached which means the coef_ did not converge\n",
            "  warnings.warn(\n",
            "/opt/anaconda/envs/data_science/lib/python3.9/site-packages/sklearn/linear_model/_sag.py:352: ConvergenceWarning: The max_iter was reached which means the coef_ did not converge\n",
            "  warnings.warn(\n",
            "/opt/anaconda/envs/data_science/lib/python3.9/site-packages/sklearn/linear_model/_sag.py:352: ConvergenceWarning: The max_iter was reached which means the coef_ did not converge\n",
            "  warnings.warn(\n",
            "/opt/anaconda/envs/data_science/lib/python3.9/site-packages/sklearn/linear_model/_sag.py:352: ConvergenceWarning: The max_iter was reached which means the coef_ did not converge\n",
            "  warnings.warn(\n",
            "/opt/anaconda/envs/data_science/lib/python3.9/site-packages/sklearn/linear_model/_sag.py:352: ConvergenceWarning: The max_iter was reached which means the coef_ did not converge\n",
            "  warnings.warn(\n",
            "/opt/anaconda/envs/data_science/lib/python3.9/site-packages/sklearn/linear_model/_sag.py:352: ConvergenceWarning: The max_iter was reached which means the coef_ did not converge\n",
            "  warnings.warn(\n",
            "/opt/anaconda/envs/data_science/lib/python3.9/site-packages/sklearn/linear_model/_sag.py:352: ConvergenceWarning: The max_iter was reached which means the coef_ did not converge\n",
            "  warnings.warn(\n",
            "/opt/anaconda/envs/data_science/lib/python3.9/site-packages/sklearn/linear_model/_sag.py:352: ConvergenceWarning: The max_iter was reached which means the coef_ did not converge\n",
            "  warnings.warn(\n",
            "/opt/anaconda/envs/data_science/lib/python3.9/site-packages/sklearn/linear_model/_sag.py:352: ConvergenceWarning: The max_iter was reached which means the coef_ did not converge\n",
            "  warnings.warn(\n",
            "/opt/anaconda/envs/data_science/lib/python3.9/site-packages/sklearn/linear_model/_sag.py:352: ConvergenceWarning: The max_iter was reached which means the coef_ did not converge\n",
            "  warnings.warn(\n",
            "/opt/anaconda/envs/data_science/lib/python3.9/site-packages/sklearn/linear_model/_sag.py:352: ConvergenceWarning: The max_iter was reached which means the coef_ did not converge\n",
            "  warnings.warn(\n",
            "/opt/anaconda/envs/data_science/lib/python3.9/site-packages/sklearn/linear_model/_sag.py:352: ConvergenceWarning: The max_iter was reached which means the coef_ did not converge\n",
            "  warnings.warn(\n",
            "/opt/anaconda/envs/data_science/lib/python3.9/site-packages/sklearn/linear_model/_sag.py:352: ConvergenceWarning: The max_iter was reached which means the coef_ did not converge\n",
            "  warnings.warn(\n",
            "/opt/anaconda/envs/data_science/lib/python3.9/site-packages/sklearn/linear_model/_sag.py:352: ConvergenceWarning: The max_iter was reached which means the coef_ did not converge\n",
            "  warnings.warn(\n",
            "/opt/anaconda/envs/data_science/lib/python3.9/site-packages/sklearn/linear_model/_sag.py:352: ConvergenceWarning: The max_iter was reached which means the coef_ did not converge\n",
            "  warnings.warn(\n",
            "/opt/anaconda/envs/data_science/lib/python3.9/site-packages/sklearn/linear_model/_sag.py:352: ConvergenceWarning: The max_iter was reached which means the coef_ did not converge\n",
            "  warnings.warn(\n",
            "/opt/anaconda/envs/data_science/lib/python3.9/site-packages/sklearn/linear_model/_sag.py:352: ConvergenceWarning: The max_iter was reached which means the coef_ did not converge\n",
            "  warnings.warn(\n",
            "/opt/anaconda/envs/data_science/lib/python3.9/site-packages/sklearn/linear_model/_sag.py:352: ConvergenceWarning: The max_iter was reached which means the coef_ did not converge\n",
            "  warnings.warn(\n",
            "/opt/anaconda/envs/data_science/lib/python3.9/site-packages/sklearn/linear_model/_sag.py:352: ConvergenceWarning: The max_iter was reached which means the coef_ did not converge\n",
            "  warnings.warn(\n",
            "/opt/anaconda/envs/data_science/lib/python3.9/site-packages/sklearn/linear_model/_sag.py:352: ConvergenceWarning: The max_iter was reached which means the coef_ did not converge\n",
            "  warnings.warn(\n",
            "/opt/anaconda/envs/data_science/lib/python3.9/site-packages/sklearn/linear_model/_sag.py:352: ConvergenceWarning: The max_iter was reached which means the coef_ did not converge\n",
            "  warnings.warn(\n",
            "/opt/anaconda/envs/data_science/lib/python3.9/site-packages/sklearn/linear_model/_sag.py:352: ConvergenceWarning: The max_iter was reached which means the coef_ did not converge\n",
            "  warnings.warn(\n",
            "/opt/anaconda/envs/data_science/lib/python3.9/site-packages/sklearn/linear_model/_sag.py:352: ConvergenceWarning: The max_iter was reached which means the coef_ did not converge\n",
            "  warnings.warn(\n",
            "/opt/anaconda/envs/data_science/lib/python3.9/site-packages/sklearn/linear_model/_sag.py:352: ConvergenceWarning: The max_iter was reached which means the coef_ did not converge\n",
            "  warnings.warn(\n",
            "/opt/anaconda/envs/data_science/lib/python3.9/site-packages/sklearn/linear_model/_sag.py:352: ConvergenceWarning: The max_iter was reached which means the coef_ did not converge\n",
            "  warnings.warn(\n",
            "/opt/anaconda/envs/data_science/lib/python3.9/site-packages/sklearn/linear_model/_sag.py:352: ConvergenceWarning: The max_iter was reached which means the coef_ did not converge\n",
            "  warnings.warn(\n",
            "/opt/anaconda/envs/data_science/lib/python3.9/site-packages/sklearn/linear_model/_sag.py:352: ConvergenceWarning: The max_iter was reached which means the coef_ did not converge\n",
            "  warnings.warn(\n",
            "/opt/anaconda/envs/data_science/lib/python3.9/site-packages/sklearn/linear_model/_sag.py:352: ConvergenceWarning: The max_iter was reached which means the coef_ did not converge\n",
            "  warnings.warn(\n",
            "/opt/anaconda/envs/data_science/lib/python3.9/site-packages/sklearn/linear_model/_sag.py:352: ConvergenceWarning: The max_iter was reached which means the coef_ did not converge\n",
            "  warnings.warn(\n",
            "/opt/anaconda/envs/data_science/lib/python3.9/site-packages/sklearn/linear_model/_sag.py:352: ConvergenceWarning: The max_iter was reached which means the coef_ did not converge\n",
            "  warnings.warn(\n",
            "/opt/anaconda/envs/data_science/lib/python3.9/site-packages/sklearn/linear_model/_sag.py:352: ConvergenceWarning: The max_iter was reached which means the coef_ did not converge\n",
            "  warnings.warn(\n",
            "/opt/anaconda/envs/data_science/lib/python3.9/site-packages/sklearn/linear_model/_sag.py:352: ConvergenceWarning: The max_iter was reached which means the coef_ did not converge\n",
            "  warnings.warn(\n",
            "/opt/anaconda/envs/data_science/lib/python3.9/site-packages/sklearn/linear_model/_sag.py:352: ConvergenceWarning: The max_iter was reached which means the coef_ did not converge\n",
            "  warnings.warn(\n",
            "/opt/anaconda/envs/data_science/lib/python3.9/site-packages/sklearn/linear_model/_sag.py:352: ConvergenceWarning: The max_iter was reached which means the coef_ did not converge\n",
            "  warnings.warn(\n",
            "/opt/anaconda/envs/data_science/lib/python3.9/site-packages/sklearn/linear_model/_sag.py:352: ConvergenceWarning: The max_iter was reached which means the coef_ did not converge\n",
            "  warnings.warn(\n",
            "/opt/anaconda/envs/data_science/lib/python3.9/site-packages/sklearn/svm/_base.py:1206: ConvergenceWarning: Liblinear failed to converge, increase the number of iterations.\n",
            "  warnings.warn(\n",
            "/opt/anaconda/envs/data_science/lib/python3.9/site-packages/sklearn/linear_model/_sag.py:352: ConvergenceWarning: The max_iter was reached which means the coef_ did not converge\n",
            "  warnings.warn(\n",
            "/opt/anaconda/envs/data_science/lib/python3.9/site-packages/sklearn/linear_model/_sag.py:352: ConvergenceWarning: The max_iter was reached which means the coef_ did not converge\n",
            "  warnings.warn(\n",
            "/opt/anaconda/envs/data_science/lib/python3.9/site-packages/sklearn/linear_model/_sag.py:352: ConvergenceWarning: The max_iter was reached which means the coef_ did not converge\n",
            "  warnings.warn(\n",
            "/opt/anaconda/envs/data_science/lib/python3.9/site-packages/sklearn/linear_model/_sag.py:352: ConvergenceWarning: The max_iter was reached which means the coef_ did not converge\n",
            "  warnings.warn(\n",
            "/opt/anaconda/envs/data_science/lib/python3.9/site-packages/sklearn/linear_model/_sag.py:352: ConvergenceWarning: The max_iter was reached which means the coef_ did not converge\n",
            "  warnings.warn(\n",
            "/opt/anaconda/envs/data_science/lib/python3.9/site-packages/sklearn/svm/_base.py:1206: ConvergenceWarning: Liblinear failed to converge, increase the number of iterations.\n",
            "  warnings.warn(\n",
            "/opt/anaconda/envs/data_science/lib/python3.9/site-packages/sklearn/linear_model/_sag.py:352: ConvergenceWarning: The max_iter was reached which means the coef_ did not converge\n",
            "  warnings.warn(\n"
          ]
        },
        {
          "name": "stderr",
          "output_type": "stream",
          "text": [
            "/opt/anaconda/envs/data_science/lib/python3.9/site-packages/sklearn/linear_model/_sag.py:352: ConvergenceWarning: The max_iter was reached which means the coef_ did not converge\n",
            "  warnings.warn(\n",
            "/opt/anaconda/envs/data_science/lib/python3.9/site-packages/sklearn/linear_model/_sag.py:352: ConvergenceWarning: The max_iter was reached which means the coef_ did not converge\n",
            "  warnings.warn(\n",
            "/opt/anaconda/envs/data_science/lib/python3.9/site-packages/sklearn/linear_model/_sag.py:352: ConvergenceWarning: The max_iter was reached which means the coef_ did not converge\n",
            "  warnings.warn(\n",
            "/opt/anaconda/envs/data_science/lib/python3.9/site-packages/sklearn/linear_model/_sag.py:352: ConvergenceWarning: The max_iter was reached which means the coef_ did not converge\n",
            "  warnings.warn(\n",
            "/opt/anaconda/envs/data_science/lib/python3.9/site-packages/sklearn/linear_model/_sag.py:352: ConvergenceWarning: The max_iter was reached which means the coef_ did not converge\n",
            "  warnings.warn(\n",
            "/opt/anaconda/envs/data_science/lib/python3.9/site-packages/sklearn/linear_model/_sag.py:352: ConvergenceWarning: The max_iter was reached which means the coef_ did not converge\n",
            "  warnings.warn(\n",
            "/opt/anaconda/envs/data_science/lib/python3.9/site-packages/sklearn/linear_model/_sag.py:352: ConvergenceWarning: The max_iter was reached which means the coef_ did not converge\n",
            "  warnings.warn(\n",
            "/opt/anaconda/envs/data_science/lib/python3.9/site-packages/sklearn/linear_model/_sag.py:352: ConvergenceWarning: The max_iter was reached which means the coef_ did not converge\n",
            "  warnings.warn(\n",
            "/opt/anaconda/envs/data_science/lib/python3.9/site-packages/sklearn/linear_model/_sag.py:352: ConvergenceWarning: The max_iter was reached which means the coef_ did not converge\n",
            "  warnings.warn(\n",
            "/opt/anaconda/envs/data_science/lib/python3.9/site-packages/sklearn/linear_model/_sag.py:352: ConvergenceWarning: The max_iter was reached which means the coef_ did not converge\n",
            "  warnings.warn(\n",
            "/opt/anaconda/envs/data_science/lib/python3.9/site-packages/sklearn/linear_model/_sag.py:352: ConvergenceWarning: The max_iter was reached which means the coef_ did not converge\n",
            "  warnings.warn(\n",
            "/opt/anaconda/envs/data_science/lib/python3.9/site-packages/sklearn/linear_model/_sag.py:352: ConvergenceWarning: The max_iter was reached which means the coef_ did not converge\n",
            "  warnings.warn(\n",
            "/opt/anaconda/envs/data_science/lib/python3.9/site-packages/sklearn/linear_model/_sag.py:352: ConvergenceWarning: The max_iter was reached which means the coef_ did not converge\n",
            "  warnings.warn(\n",
            "/opt/anaconda/envs/data_science/lib/python3.9/site-packages/sklearn/linear_model/_sag.py:352: ConvergenceWarning: The max_iter was reached which means the coef_ did not converge\n",
            "  warnings.warn(\n",
            "/opt/anaconda/envs/data_science/lib/python3.9/site-packages/sklearn/linear_model/_sag.py:352: ConvergenceWarning: The max_iter was reached which means the coef_ did not converge\n",
            "  warnings.warn(\n",
            "/opt/anaconda/envs/data_science/lib/python3.9/site-packages/sklearn/linear_model/_sag.py:352: ConvergenceWarning: The max_iter was reached which means the coef_ did not converge\n",
            "  warnings.warn(\n",
            "/opt/anaconda/envs/data_science/lib/python3.9/site-packages/sklearn/linear_model/_sag.py:352: ConvergenceWarning: The max_iter was reached which means the coef_ did not converge\n",
            "  warnings.warn(\n",
            "/opt/anaconda/envs/data_science/lib/python3.9/site-packages/sklearn/linear_model/_sag.py:352: ConvergenceWarning: The max_iter was reached which means the coef_ did not converge\n",
            "  warnings.warn(\n",
            "/opt/anaconda/envs/data_science/lib/python3.9/site-packages/sklearn/linear_model/_sag.py:352: ConvergenceWarning: The max_iter was reached which means the coef_ did not converge\n",
            "  warnings.warn(\n",
            "/opt/anaconda/envs/data_science/lib/python3.9/site-packages/sklearn/linear_model/_sag.py:352: ConvergenceWarning: The max_iter was reached which means the coef_ did not converge\n",
            "  warnings.warn(\n",
            "/opt/anaconda/envs/data_science/lib/python3.9/site-packages/sklearn/linear_model/_sag.py:352: ConvergenceWarning: The max_iter was reached which means the coef_ did not converge\n",
            "  warnings.warn(\n",
            "/opt/anaconda/envs/data_science/lib/python3.9/site-packages/sklearn/linear_model/_sag.py:352: ConvergenceWarning: The max_iter was reached which means the coef_ did not converge\n",
            "  warnings.warn(\n",
            "/opt/anaconda/envs/data_science/lib/python3.9/site-packages/sklearn/linear_model/_sag.py:352: ConvergenceWarning: The max_iter was reached which means the coef_ did not converge\n",
            "  warnings.warn(\n",
            "/opt/anaconda/envs/data_science/lib/python3.9/site-packages/sklearn/linear_model/_sag.py:352: ConvergenceWarning: The max_iter was reached which means the coef_ did not converge\n",
            "  warnings.warn(\n",
            "/opt/anaconda/envs/data_science/lib/python3.9/site-packages/sklearn/linear_model/_sag.py:352: ConvergenceWarning: The max_iter was reached which means the coef_ did not converge\n",
            "  warnings.warn(\n",
            "/opt/anaconda/envs/data_science/lib/python3.9/site-packages/sklearn/linear_model/_sag.py:352: ConvergenceWarning: The max_iter was reached which means the coef_ did not converge\n",
            "  warnings.warn(\n",
            "/opt/anaconda/envs/data_science/lib/python3.9/site-packages/sklearn/linear_model/_sag.py:352: ConvergenceWarning: The max_iter was reached which means the coef_ did not converge\n",
            "  warnings.warn(\n",
            "/opt/anaconda/envs/data_science/lib/python3.9/site-packages/sklearn/linear_model/_sag.py:352: ConvergenceWarning: The max_iter was reached which means the coef_ did not converge\n",
            "  warnings.warn(\n",
            "/opt/anaconda/envs/data_science/lib/python3.9/site-packages/sklearn/linear_model/_sag.py:352: ConvergenceWarning: The max_iter was reached which means the coef_ did not converge\n",
            "  warnings.warn(\n",
            "/opt/anaconda/envs/data_science/lib/python3.9/site-packages/sklearn/linear_model/_sag.py:352: ConvergenceWarning: The max_iter was reached which means the coef_ did not converge\n",
            "  warnings.warn(\n",
            "/opt/anaconda/envs/data_science/lib/python3.9/site-packages/sklearn/linear_model/_sag.py:352: ConvergenceWarning: The max_iter was reached which means the coef_ did not converge\n",
            "  warnings.warn(\n",
            "/opt/anaconda/envs/data_science/lib/python3.9/site-packages/sklearn/linear_model/_sag.py:352: ConvergenceWarning: The max_iter was reached which means the coef_ did not converge\n",
            "  warnings.warn(\n",
            "/opt/anaconda/envs/data_science/lib/python3.9/site-packages/sklearn/linear_model/_sag.py:352: ConvergenceWarning: The max_iter was reached which means the coef_ did not converge\n",
            "  warnings.warn(\n",
            "/opt/anaconda/envs/data_science/lib/python3.9/site-packages/sklearn/linear_model/_sag.py:352: ConvergenceWarning: The max_iter was reached which means the coef_ did not converge\n",
            "  warnings.warn(\n",
            "/opt/anaconda/envs/data_science/lib/python3.9/site-packages/sklearn/linear_model/_sag.py:352: ConvergenceWarning: The max_iter was reached which means the coef_ did not converge\n",
            "  warnings.warn(\n",
            "/opt/anaconda/envs/data_science/lib/python3.9/site-packages/sklearn/linear_model/_sag.py:352: ConvergenceWarning: The max_iter was reached which means the coef_ did not converge\n",
            "  warnings.warn(\n",
            "/opt/anaconda/envs/data_science/lib/python3.9/site-packages/sklearn/linear_model/_sag.py:352: ConvergenceWarning: The max_iter was reached which means the coef_ did not converge\n",
            "  warnings.warn(\n",
            "/opt/anaconda/envs/data_science/lib/python3.9/site-packages/sklearn/linear_model/_sag.py:352: ConvergenceWarning: The max_iter was reached which means the coef_ did not converge\n",
            "  warnings.warn(\n",
            "/opt/anaconda/envs/data_science/lib/python3.9/site-packages/sklearn/linear_model/_sag.py:352: ConvergenceWarning: The max_iter was reached which means the coef_ did not converge\n",
            "  warnings.warn(\n",
            "/opt/anaconda/envs/data_science/lib/python3.9/site-packages/sklearn/linear_model/_sag.py:352: ConvergenceWarning: The max_iter was reached which means the coef_ did not converge\n",
            "  warnings.warn(\n",
            "/opt/anaconda/envs/data_science/lib/python3.9/site-packages/sklearn/linear_model/_logistic.py:814: ConvergenceWarning: lbfgs failed to converge (status=1):\n",
            "STOP: TOTAL NO. of ITERATIONS REACHED LIMIT.\n",
            "\n",
            "Increase the number of iterations (max_iter) or scale the data as shown in:\n",
            "    https://scikit-learn.org/stable/modules/preprocessing.html\n",
            "Please also refer to the documentation for alternative solver options:\n",
            "    https://scikit-learn.org/stable/modules/linear_model.html#logistic-regression\n",
            "  n_iter_i = _check_optimize_result(\n"
          ]
        },
        {
          "name": "stderr",
          "output_type": "stream",
          "text": [
            "/opt/anaconda/envs/data_science/lib/python3.9/site-packages/sklearn/linear_model/_sag.py:352: ConvergenceWarning: The max_iter was reached which means the coef_ did not converge\n",
            "  warnings.warn(\n",
            "/opt/anaconda/envs/data_science/lib/python3.9/site-packages/sklearn/linear_model/_sag.py:352: ConvergenceWarning: The max_iter was reached which means the coef_ did not converge\n",
            "  warnings.warn(\n",
            "/opt/anaconda/envs/data_science/lib/python3.9/site-packages/sklearn/linear_model/_sag.py:352: ConvergenceWarning: The max_iter was reached which means the coef_ did not converge\n",
            "  warnings.warn(\n",
            "/opt/anaconda/envs/data_science/lib/python3.9/site-packages/sklearn/linear_model/_sag.py:352: ConvergenceWarning: The max_iter was reached which means the coef_ did not converge\n",
            "  warnings.warn(\n",
            "/opt/anaconda/envs/data_science/lib/python3.9/site-packages/sklearn/linear_model/_sag.py:352: ConvergenceWarning: The max_iter was reached which means the coef_ did not converge\n",
            "  warnings.warn(\n",
            "/opt/anaconda/envs/data_science/lib/python3.9/site-packages/sklearn/linear_model/_logistic.py:814: ConvergenceWarning: lbfgs failed to converge (status=1):\n",
            "STOP: TOTAL NO. of ITERATIONS REACHED LIMIT.\n",
            "\n",
            "Increase the number of iterations (max_iter) or scale the data as shown in:\n",
            "    https://scikit-learn.org/stable/modules/preprocessing.html\n",
            "Please also refer to the documentation for alternative solver options:\n",
            "    https://scikit-learn.org/stable/modules/linear_model.html#logistic-regression\n",
            "  n_iter_i = _check_optimize_result(\n",
            "/opt/anaconda/envs/data_science/lib/python3.9/site-packages/sklearn/linear_model/_sag.py:352: ConvergenceWarning: The max_iter was reached which means the coef_ did not converge\n",
            "  warnings.warn(\n",
            "/opt/anaconda/envs/data_science/lib/python3.9/site-packages/sklearn/linear_model/_sag.py:352: ConvergenceWarning: The max_iter was reached which means the coef_ did not converge\n",
            "  warnings.warn(\n",
            "/opt/anaconda/envs/data_science/lib/python3.9/site-packages/sklearn/linear_model/_sag.py:352: ConvergenceWarning: The max_iter was reached which means the coef_ did not converge\n",
            "  warnings.warn(\n",
            "/opt/anaconda/envs/data_science/lib/python3.9/site-packages/sklearn/linear_model/_sag.py:352: ConvergenceWarning: The max_iter was reached which means the coef_ did not converge\n",
            "  warnings.warn(\n",
            "/opt/anaconda/envs/data_science/lib/python3.9/site-packages/sklearn/linear_model/_sag.py:352: ConvergenceWarning: The max_iter was reached which means the coef_ did not converge\n",
            "  warnings.warn(\n",
            "/opt/anaconda/envs/data_science/lib/python3.9/site-packages/sklearn/linear_model/_sag.py:352: ConvergenceWarning: The max_iter was reached which means the coef_ did not converge\n",
            "  warnings.warn(\n",
            "/opt/anaconda/envs/data_science/lib/python3.9/site-packages/sklearn/linear_model/_sag.py:352: ConvergenceWarning: The max_iter was reached which means the coef_ did not converge\n",
            "  warnings.warn(\n",
            "/opt/anaconda/envs/data_science/lib/python3.9/site-packages/sklearn/linear_model/_sag.py:352: ConvergenceWarning: The max_iter was reached which means the coef_ did not converge\n",
            "  warnings.warn(\n",
            "/opt/anaconda/envs/data_science/lib/python3.9/site-packages/sklearn/linear_model/_sag.py:352: ConvergenceWarning: The max_iter was reached which means the coef_ did not converge\n",
            "  warnings.warn(\n",
            "/opt/anaconda/envs/data_science/lib/python3.9/site-packages/sklearn/linear_model/_sag.py:352: ConvergenceWarning: The max_iter was reached which means the coef_ did not converge\n",
            "  warnings.warn(\n",
            "/opt/anaconda/envs/data_science/lib/python3.9/site-packages/sklearn/linear_model/_sag.py:352: ConvergenceWarning: The max_iter was reached which means the coef_ did not converge\n",
            "  warnings.warn(\n",
            "/opt/anaconda/envs/data_science/lib/python3.9/site-packages/sklearn/linear_model/_sag.py:352: ConvergenceWarning: The max_iter was reached which means the coef_ did not converge\n",
            "  warnings.warn(\n",
            "/opt/anaconda/envs/data_science/lib/python3.9/site-packages/sklearn/linear_model/_sag.py:352: ConvergenceWarning: The max_iter was reached which means the coef_ did not converge\n",
            "  warnings.warn(\n",
            "/opt/anaconda/envs/data_science/lib/python3.9/site-packages/sklearn/linear_model/_sag.py:352: ConvergenceWarning: The max_iter was reached which means the coef_ did not converge\n",
            "  warnings.warn(\n",
            "/opt/anaconda/envs/data_science/lib/python3.9/site-packages/sklearn/linear_model/_sag.py:352: ConvergenceWarning: The max_iter was reached which means the coef_ did not converge\n",
            "  warnings.warn(\n",
            "/opt/anaconda/envs/data_science/lib/python3.9/site-packages/sklearn/linear_model/_sag.py:352: ConvergenceWarning: The max_iter was reached which means the coef_ did not converge\n",
            "  warnings.warn(\n",
            "/opt/anaconda/envs/data_science/lib/python3.9/site-packages/sklearn/linear_model/_sag.py:352: ConvergenceWarning: The max_iter was reached which means the coef_ did not converge\n",
            "  warnings.warn(\n",
            "/opt/anaconda/envs/data_science/lib/python3.9/site-packages/sklearn/linear_model/_sag.py:352: ConvergenceWarning: The max_iter was reached which means the coef_ did not converge\n",
            "  warnings.warn(\n",
            "/opt/anaconda/envs/data_science/lib/python3.9/site-packages/sklearn/linear_model/_sag.py:352: ConvergenceWarning: The max_iter was reached which means the coef_ did not converge\n",
            "  warnings.warn(\n",
            "/opt/anaconda/envs/data_science/lib/python3.9/site-packages/sklearn/linear_model/_sag.py:352: ConvergenceWarning: The max_iter was reached which means the coef_ did not converge\n",
            "  warnings.warn(\n",
            "/opt/anaconda/envs/data_science/lib/python3.9/site-packages/sklearn/linear_model/_sag.py:352: ConvergenceWarning: The max_iter was reached which means the coef_ did not converge\n",
            "  warnings.warn(\n",
            "/opt/anaconda/envs/data_science/lib/python3.9/site-packages/sklearn/linear_model/_sag.py:352: ConvergenceWarning: The max_iter was reached which means the coef_ did not converge\n",
            "  warnings.warn(\n",
            "/opt/anaconda/envs/data_science/lib/python3.9/site-packages/sklearn/linear_model/_sag.py:352: ConvergenceWarning: The max_iter was reached which means the coef_ did not converge\n",
            "  warnings.warn(\n",
            "/opt/anaconda/envs/data_science/lib/python3.9/site-packages/sklearn/linear_model/_sag.py:352: ConvergenceWarning: The max_iter was reached which means the coef_ did not converge\n",
            "  warnings.warn(\n",
            "/opt/anaconda/envs/data_science/lib/python3.9/site-packages/sklearn/linear_model/_sag.py:352: ConvergenceWarning: The max_iter was reached which means the coef_ did not converge\n",
            "  warnings.warn(\n",
            "/opt/anaconda/envs/data_science/lib/python3.9/site-packages/sklearn/linear_model/_sag.py:352: ConvergenceWarning: The max_iter was reached which means the coef_ did not converge\n",
            "  warnings.warn(\n",
            "/opt/anaconda/envs/data_science/lib/python3.9/site-packages/sklearn/linear_model/_sag.py:352: ConvergenceWarning: The max_iter was reached which means the coef_ did not converge\n",
            "  warnings.warn(\n",
            "/opt/anaconda/envs/data_science/lib/python3.9/site-packages/sklearn/linear_model/_sag.py:352: ConvergenceWarning: The max_iter was reached which means the coef_ did not converge\n",
            "  warnings.warn(\n",
            "/opt/anaconda/envs/data_science/lib/python3.9/site-packages/sklearn/linear_model/_sag.py:352: ConvergenceWarning: The max_iter was reached which means the coef_ did not converge\n",
            "  warnings.warn(\n",
            "/opt/anaconda/envs/data_science/lib/python3.9/site-packages/sklearn/linear_model/_sag.py:352: ConvergenceWarning: The max_iter was reached which means the coef_ did not converge\n",
            "  warnings.warn(\n",
            "/opt/anaconda/envs/data_science/lib/python3.9/site-packages/sklearn/linear_model/_sag.py:352: ConvergenceWarning: The max_iter was reached which means the coef_ did not converge\n",
            "  warnings.warn(\n",
            "/opt/anaconda/envs/data_science/lib/python3.9/site-packages/sklearn/linear_model/_sag.py:352: ConvergenceWarning: The max_iter was reached which means the coef_ did not converge\n",
            "  warnings.warn(\n",
            "/opt/anaconda/envs/data_science/lib/python3.9/site-packages/sklearn/linear_model/_sag.py:352: ConvergenceWarning: The max_iter was reached which means the coef_ did not converge\n",
            "  warnings.warn(\n",
            "/opt/anaconda/envs/data_science/lib/python3.9/site-packages/sklearn/linear_model/_sag.py:352: ConvergenceWarning: The max_iter was reached which means the coef_ did not converge\n",
            "  warnings.warn(\n",
            "/opt/anaconda/envs/data_science/lib/python3.9/site-packages/sklearn/linear_model/_sag.py:352: ConvergenceWarning: The max_iter was reached which means the coef_ did not converge\n",
            "  warnings.warn(\n"
          ]
        },
        {
          "name": "stderr",
          "output_type": "stream",
          "text": [
            "/opt/anaconda/envs/data_science/lib/python3.9/site-packages/sklearn/linear_model/_sag.py:352: ConvergenceWarning: The max_iter was reached which means the coef_ did not converge\n",
            "  warnings.warn(\n",
            "/opt/anaconda/envs/data_science/lib/python3.9/site-packages/sklearn/linear_model/_sag.py:352: ConvergenceWarning: The max_iter was reached which means the coef_ did not converge\n",
            "  warnings.warn(\n",
            "/opt/anaconda/envs/data_science/lib/python3.9/site-packages/sklearn/linear_model/_sag.py:352: ConvergenceWarning: The max_iter was reached which means the coef_ did not converge\n",
            "  warnings.warn(\n",
            "/opt/anaconda/envs/data_science/lib/python3.9/site-packages/sklearn/linear_model/_sag.py:352: ConvergenceWarning: The max_iter was reached which means the coef_ did not converge\n",
            "  warnings.warn(\n",
            "/opt/anaconda/envs/data_science/lib/python3.9/site-packages/sklearn/linear_model/_sag.py:352: ConvergenceWarning: The max_iter was reached which means the coef_ did not converge\n",
            "  warnings.warn(\n",
            "/opt/anaconda/envs/data_science/lib/python3.9/site-packages/sklearn/linear_model/_sag.py:352: ConvergenceWarning: The max_iter was reached which means the coef_ did not converge\n",
            "  warnings.warn(\n",
            "/opt/anaconda/envs/data_science/lib/python3.9/site-packages/sklearn/linear_model/_sag.py:352: ConvergenceWarning: The max_iter was reached which means the coef_ did not converge\n",
            "  warnings.warn(\n",
            "/opt/anaconda/envs/data_science/lib/python3.9/site-packages/sklearn/linear_model/_sag.py:352: ConvergenceWarning: The max_iter was reached which means the coef_ did not converge\n",
            "  warnings.warn(\n",
            "/opt/anaconda/envs/data_science/lib/python3.9/site-packages/sklearn/svm/_base.py:1206: ConvergenceWarning: Liblinear failed to converge, increase the number of iterations.\n",
            "  warnings.warn(\n",
            "/opt/anaconda/envs/data_science/lib/python3.9/site-packages/sklearn/svm/_base.py:1206: ConvergenceWarning: Liblinear failed to converge, increase the number of iterations.\n",
            "  warnings.warn(\n",
            "/opt/anaconda/envs/data_science/lib/python3.9/site-packages/sklearn/linear_model/_sag.py:352: ConvergenceWarning: The max_iter was reached which means the coef_ did not converge\n",
            "  warnings.warn(\n",
            "/opt/anaconda/envs/data_science/lib/python3.9/site-packages/sklearn/linear_model/_sag.py:352: ConvergenceWarning: The max_iter was reached which means the coef_ did not converge\n",
            "  warnings.warn(\n",
            "/opt/anaconda/envs/data_science/lib/python3.9/site-packages/sklearn/linear_model/_sag.py:352: ConvergenceWarning: The max_iter was reached which means the coef_ did not converge\n",
            "  warnings.warn(\n",
            "/opt/anaconda/envs/data_science/lib/python3.9/site-packages/sklearn/linear_model/_sag.py:352: ConvergenceWarning: The max_iter was reached which means the coef_ did not converge\n",
            "  warnings.warn(\n",
            "/opt/anaconda/envs/data_science/lib/python3.9/site-packages/sklearn/linear_model/_sag.py:352: ConvergenceWarning: The max_iter was reached which means the coef_ did not converge\n",
            "  warnings.warn(\n",
            "/opt/anaconda/envs/data_science/lib/python3.9/site-packages/sklearn/svm/_base.py:1206: ConvergenceWarning: Liblinear failed to converge, increase the number of iterations.\n",
            "  warnings.warn(\n",
            "/opt/anaconda/envs/data_science/lib/python3.9/site-packages/sklearn/svm/_base.py:1206: ConvergenceWarning: Liblinear failed to converge, increase the number of iterations.\n",
            "  warnings.warn(\n",
            "/opt/anaconda/envs/data_science/lib/python3.9/site-packages/sklearn/linear_model/_sag.py:352: ConvergenceWarning: The max_iter was reached which means the coef_ did not converge\n",
            "  warnings.warn(\n",
            "/opt/anaconda/envs/data_science/lib/python3.9/site-packages/sklearn/linear_model/_sag.py:352: ConvergenceWarning: The max_iter was reached which means the coef_ did not converge\n",
            "  warnings.warn(\n",
            "/opt/anaconda/envs/data_science/lib/python3.9/site-packages/sklearn/linear_model/_sag.py:352: ConvergenceWarning: The max_iter was reached which means the coef_ did not converge\n",
            "  warnings.warn(\n",
            "/opt/anaconda/envs/data_science/lib/python3.9/site-packages/sklearn/linear_model/_sag.py:352: ConvergenceWarning: The max_iter was reached which means the coef_ did not converge\n",
            "  warnings.warn(\n",
            "/opt/anaconda/envs/data_science/lib/python3.9/site-packages/sklearn/linear_model/_sag.py:352: ConvergenceWarning: The max_iter was reached which means the coef_ did not converge\n",
            "  warnings.warn(\n",
            "/opt/anaconda/envs/data_science/lib/python3.9/site-packages/sklearn/linear_model/_sag.py:352: ConvergenceWarning: The max_iter was reached which means the coef_ did not converge\n",
            "  warnings.warn(\n",
            "/opt/anaconda/envs/data_science/lib/python3.9/site-packages/sklearn/linear_model/_sag.py:352: ConvergenceWarning: The max_iter was reached which means the coef_ did not converge\n",
            "  warnings.warn(\n",
            "/opt/anaconda/envs/data_science/lib/python3.9/site-packages/sklearn/linear_model/_sag.py:352: ConvergenceWarning: The max_iter was reached which means the coef_ did not converge\n",
            "  warnings.warn(\n",
            "/opt/anaconda/envs/data_science/lib/python3.9/site-packages/sklearn/linear_model/_sag.py:352: ConvergenceWarning: The max_iter was reached which means the coef_ did not converge\n",
            "  warnings.warn(\n",
            "/opt/anaconda/envs/data_science/lib/python3.9/site-packages/sklearn/linear_model/_sag.py:352: ConvergenceWarning: The max_iter was reached which means the coef_ did not converge\n",
            "  warnings.warn(\n",
            "/opt/anaconda/envs/data_science/lib/python3.9/site-packages/sklearn/linear_model/_sag.py:352: ConvergenceWarning: The max_iter was reached which means the coef_ did not converge\n",
            "  warnings.warn(\n",
            "/opt/anaconda/envs/data_science/lib/python3.9/site-packages/sklearn/linear_model/_sag.py:352: ConvergenceWarning: The max_iter was reached which means the coef_ did not converge\n",
            "  warnings.warn(\n",
            "/opt/anaconda/envs/data_science/lib/python3.9/site-packages/sklearn/linear_model/_sag.py:352: ConvergenceWarning: The max_iter was reached which means the coef_ did not converge\n",
            "  warnings.warn(\n",
            "/opt/anaconda/envs/data_science/lib/python3.9/site-packages/sklearn/linear_model/_sag.py:352: ConvergenceWarning: The max_iter was reached which means the coef_ did not converge\n",
            "  warnings.warn(\n",
            "/opt/anaconda/envs/data_science/lib/python3.9/site-packages/sklearn/linear_model/_sag.py:352: ConvergenceWarning: The max_iter was reached which means the coef_ did not converge\n",
            "  warnings.warn(\n",
            "/opt/anaconda/envs/data_science/lib/python3.9/site-packages/sklearn/linear_model/_sag.py:352: ConvergenceWarning: The max_iter was reached which means the coef_ did not converge\n",
            "  warnings.warn(\n",
            "/opt/anaconda/envs/data_science/lib/python3.9/site-packages/sklearn/linear_model/_sag.py:352: ConvergenceWarning: The max_iter was reached which means the coef_ did not converge\n",
            "  warnings.warn(\n",
            "/opt/anaconda/envs/data_science/lib/python3.9/site-packages/sklearn/linear_model/_sag.py:352: ConvergenceWarning: The max_iter was reached which means the coef_ did not converge\n",
            "  warnings.warn(\n",
            "/opt/anaconda/envs/data_science/lib/python3.9/site-packages/sklearn/linear_model/_sag.py:352: ConvergenceWarning: The max_iter was reached which means the coef_ did not converge\n",
            "  warnings.warn(\n",
            "/opt/anaconda/envs/data_science/lib/python3.9/site-packages/sklearn/linear_model/_sag.py:352: ConvergenceWarning: The max_iter was reached which means the coef_ did not converge\n",
            "  warnings.warn(\n",
            "/opt/anaconda/envs/data_science/lib/python3.9/site-packages/sklearn/linear_model/_sag.py:352: ConvergenceWarning: The max_iter was reached which means the coef_ did not converge\n",
            "  warnings.warn(\n",
            "/opt/anaconda/envs/data_science/lib/python3.9/site-packages/sklearn/linear_model/_sag.py:352: ConvergenceWarning: The max_iter was reached which means the coef_ did not converge\n",
            "  warnings.warn(\n",
            "/opt/anaconda/envs/data_science/lib/python3.9/site-packages/sklearn/linear_model/_sag.py:352: ConvergenceWarning: The max_iter was reached which means the coef_ did not converge\n",
            "  warnings.warn(\n",
            "/opt/anaconda/envs/data_science/lib/python3.9/site-packages/sklearn/linear_model/_sag.py:352: ConvergenceWarning: The max_iter was reached which means the coef_ did not converge\n",
            "  warnings.warn(\n",
            "/opt/anaconda/envs/data_science/lib/python3.9/site-packages/sklearn/linear_model/_sag.py:352: ConvergenceWarning: The max_iter was reached which means the coef_ did not converge\n",
            "  warnings.warn(\n",
            "/opt/anaconda/envs/data_science/lib/python3.9/site-packages/sklearn/linear_model/_sag.py:352: ConvergenceWarning: The max_iter was reached which means the coef_ did not converge\n",
            "  warnings.warn(\n"
          ]
        },
        {
          "name": "stderr",
          "output_type": "stream",
          "text": [
            "/opt/anaconda/envs/data_science/lib/python3.9/site-packages/sklearn/linear_model/_sag.py:352: ConvergenceWarning: The max_iter was reached which means the coef_ did not converge\n",
            "  warnings.warn(\n",
            "/opt/anaconda/envs/data_science/lib/python3.9/site-packages/sklearn/linear_model/_sag.py:352: ConvergenceWarning: The max_iter was reached which means the coef_ did not converge\n",
            "  warnings.warn(\n",
            "/opt/anaconda/envs/data_science/lib/python3.9/site-packages/sklearn/linear_model/_sag.py:352: ConvergenceWarning: The max_iter was reached which means the coef_ did not converge\n",
            "  warnings.warn(\n",
            "/opt/anaconda/envs/data_science/lib/python3.9/site-packages/sklearn/linear_model/_sag.py:352: ConvergenceWarning: The max_iter was reached which means the coef_ did not converge\n",
            "  warnings.warn(\n",
            "/opt/anaconda/envs/data_science/lib/python3.9/site-packages/sklearn/linear_model/_sag.py:352: ConvergenceWarning: The max_iter was reached which means the coef_ did not converge\n",
            "  warnings.warn(\n",
            "/opt/anaconda/envs/data_science/lib/python3.9/site-packages/sklearn/linear_model/_sag.py:352: ConvergenceWarning: The max_iter was reached which means the coef_ did not converge\n",
            "  warnings.warn(\n",
            "/opt/anaconda/envs/data_science/lib/python3.9/site-packages/sklearn/linear_model/_sag.py:352: ConvergenceWarning: The max_iter was reached which means the coef_ did not converge\n",
            "  warnings.warn(\n",
            "/opt/anaconda/envs/data_science/lib/python3.9/site-packages/sklearn/linear_model/_sag.py:352: ConvergenceWarning: The max_iter was reached which means the coef_ did not converge\n",
            "  warnings.warn(\n",
            "/opt/anaconda/envs/data_science/lib/python3.9/site-packages/sklearn/linear_model/_sag.py:352: ConvergenceWarning: The max_iter was reached which means the coef_ did not converge\n",
            "  warnings.warn(\n",
            "/opt/anaconda/envs/data_science/lib/python3.9/site-packages/sklearn/linear_model/_sag.py:352: ConvergenceWarning: The max_iter was reached which means the coef_ did not converge\n",
            "  warnings.warn(\n",
            "/opt/anaconda/envs/data_science/lib/python3.9/site-packages/sklearn/linear_model/_sag.py:352: ConvergenceWarning: The max_iter was reached which means the coef_ did not converge\n",
            "  warnings.warn(\n",
            "/opt/anaconda/envs/data_science/lib/python3.9/site-packages/sklearn/linear_model/_sag.py:352: ConvergenceWarning: The max_iter was reached which means the coef_ did not converge\n",
            "  warnings.warn(\n",
            "/opt/anaconda/envs/data_science/lib/python3.9/site-packages/sklearn/linear_model/_sag.py:352: ConvergenceWarning: The max_iter was reached which means the coef_ did not converge\n",
            "  warnings.warn(\n",
            "/opt/anaconda/envs/data_science/lib/python3.9/site-packages/sklearn/linear_model/_sag.py:352: ConvergenceWarning: The max_iter was reached which means the coef_ did not converge\n",
            "  warnings.warn(\n",
            "/opt/anaconda/envs/data_science/lib/python3.9/site-packages/sklearn/linear_model/_sag.py:352: ConvergenceWarning: The max_iter was reached which means the coef_ did not converge\n",
            "  warnings.warn(\n",
            "/opt/anaconda/envs/data_science/lib/python3.9/site-packages/sklearn/linear_model/_sag.py:352: ConvergenceWarning: The max_iter was reached which means the coef_ did not converge\n",
            "  warnings.warn(\n",
            "/opt/anaconda/envs/data_science/lib/python3.9/site-packages/sklearn/linear_model/_sag.py:352: ConvergenceWarning: The max_iter was reached which means the coef_ did not converge\n",
            "  warnings.warn(\n",
            "/opt/anaconda/envs/data_science/lib/python3.9/site-packages/sklearn/linear_model/_logistic.py:814: ConvergenceWarning: lbfgs failed to converge (status=1):\n",
            "STOP: TOTAL NO. of ITERATIONS REACHED LIMIT.\n",
            "\n",
            "Increase the number of iterations (max_iter) or scale the data as shown in:\n",
            "    https://scikit-learn.org/stable/modules/preprocessing.html\n",
            "Please also refer to the documentation for alternative solver options:\n",
            "    https://scikit-learn.org/stable/modules/linear_model.html#logistic-regression\n",
            "  n_iter_i = _check_optimize_result(\n",
            "/opt/anaconda/envs/data_science/lib/python3.9/site-packages/sklearn/linear_model/_logistic.py:814: ConvergenceWarning: lbfgs failed to converge (status=1):\n",
            "STOP: TOTAL NO. of ITERATIONS REACHED LIMIT.\n",
            "\n",
            "Increase the number of iterations (max_iter) or scale the data as shown in:\n",
            "    https://scikit-learn.org/stable/modules/preprocessing.html\n",
            "Please also refer to the documentation for alternative solver options:\n",
            "    https://scikit-learn.org/stable/modules/linear_model.html#logistic-regression\n",
            "  n_iter_i = _check_optimize_result(\n",
            "/opt/anaconda/envs/data_science/lib/python3.9/site-packages/sklearn/linear_model/_sag.py:352: ConvergenceWarning: The max_iter was reached which means the coef_ did not converge\n",
            "  warnings.warn(\n",
            "/opt/anaconda/envs/data_science/lib/python3.9/site-packages/sklearn/linear_model/_sag.py:352: ConvergenceWarning: The max_iter was reached which means the coef_ did not converge\n",
            "  warnings.warn(\n",
            "/opt/anaconda/envs/data_science/lib/python3.9/site-packages/sklearn/linear_model/_sag.py:352: ConvergenceWarning: The max_iter was reached which means the coef_ did not converge\n",
            "  warnings.warn(\n",
            "/opt/anaconda/envs/data_science/lib/python3.9/site-packages/sklearn/linear_model/_sag.py:352: ConvergenceWarning: The max_iter was reached which means the coef_ did not converge\n",
            "  warnings.warn(\n",
            "/opt/anaconda/envs/data_science/lib/python3.9/site-packages/sklearn/linear_model/_sag.py:352: ConvergenceWarning: The max_iter was reached which means the coef_ did not converge\n",
            "  warnings.warn(\n",
            "/opt/anaconda/envs/data_science/lib/python3.9/site-packages/sklearn/linear_model/_logistic.py:814: ConvergenceWarning: lbfgs failed to converge (status=1):\n",
            "STOP: TOTAL NO. of ITERATIONS REACHED LIMIT.\n",
            "\n",
            "Increase the number of iterations (max_iter) or scale the data as shown in:\n",
            "    https://scikit-learn.org/stable/modules/preprocessing.html\n",
            "Please also refer to the documentation for alternative solver options:\n",
            "    https://scikit-learn.org/stable/modules/linear_model.html#logistic-regression\n",
            "  n_iter_i = _check_optimize_result(\n",
            "/opt/anaconda/envs/data_science/lib/python3.9/site-packages/sklearn/linear_model/_logistic.py:814: ConvergenceWarning: lbfgs failed to converge (status=1):\n",
            "STOP: TOTAL NO. of ITERATIONS REACHED LIMIT.\n",
            "\n",
            "Increase the number of iterations (max_iter) or scale the data as shown in:\n",
            "    https://scikit-learn.org/stable/modules/preprocessing.html\n",
            "Please also refer to the documentation for alternative solver options:\n",
            "    https://scikit-learn.org/stable/modules/linear_model.html#logistic-regression\n",
            "  n_iter_i = _check_optimize_result(\n",
            "/opt/anaconda/envs/data_science/lib/python3.9/site-packages/sklearn/linear_model/_sag.py:352: ConvergenceWarning: The max_iter was reached which means the coef_ did not converge\n",
            "  warnings.warn(\n",
            "/opt/anaconda/envs/data_science/lib/python3.9/site-packages/sklearn/linear_model/_sag.py:352: ConvergenceWarning: The max_iter was reached which means the coef_ did not converge\n",
            "  warnings.warn(\n",
            "/opt/anaconda/envs/data_science/lib/python3.9/site-packages/sklearn/linear_model/_sag.py:352: ConvergenceWarning: The max_iter was reached which means the coef_ did not converge\n",
            "  warnings.warn(\n",
            "/opt/anaconda/envs/data_science/lib/python3.9/site-packages/sklearn/linear_model/_sag.py:352: ConvergenceWarning: The max_iter was reached which means the coef_ did not converge\n",
            "  warnings.warn(\n",
            "/opt/anaconda/envs/data_science/lib/python3.9/site-packages/sklearn/linear_model/_sag.py:352: ConvergenceWarning: The max_iter was reached which means the coef_ did not converge\n",
            "  warnings.warn(\n",
            "/opt/anaconda/envs/data_science/lib/python3.9/site-packages/sklearn/linear_model/_sag.py:352: ConvergenceWarning: The max_iter was reached which means the coef_ did not converge\n",
            "  warnings.warn(\n",
            "/opt/anaconda/envs/data_science/lib/python3.9/site-packages/sklearn/linear_model/_sag.py:352: ConvergenceWarning: The max_iter was reached which means the coef_ did not converge\n",
            "  warnings.warn(\n",
            "/opt/anaconda/envs/data_science/lib/python3.9/site-packages/sklearn/linear_model/_sag.py:352: ConvergenceWarning: The max_iter was reached which means the coef_ did not converge\n",
            "  warnings.warn(\n",
            "/opt/anaconda/envs/data_science/lib/python3.9/site-packages/sklearn/linear_model/_sag.py:352: ConvergenceWarning: The max_iter was reached which means the coef_ did not converge\n",
            "  warnings.warn(\n",
            "/opt/anaconda/envs/data_science/lib/python3.9/site-packages/sklearn/linear_model/_sag.py:352: ConvergenceWarning: The max_iter was reached which means the coef_ did not converge\n",
            "  warnings.warn(\n"
          ]
        },
        {
          "name": "stderr",
          "output_type": "stream",
          "text": [
            "/opt/anaconda/envs/data_science/lib/python3.9/site-packages/sklearn/linear_model/_sag.py:352: ConvergenceWarning: The max_iter was reached which means the coef_ did not converge\n",
            "  warnings.warn(\n",
            "/opt/anaconda/envs/data_science/lib/python3.9/site-packages/sklearn/linear_model/_sag.py:352: ConvergenceWarning: The max_iter was reached which means the coef_ did not converge\n",
            "  warnings.warn(\n",
            "/opt/anaconda/envs/data_science/lib/python3.9/site-packages/sklearn/linear_model/_sag.py:352: ConvergenceWarning: The max_iter was reached which means the coef_ did not converge\n",
            "  warnings.warn(\n",
            "/opt/anaconda/envs/data_science/lib/python3.9/site-packages/sklearn/linear_model/_sag.py:352: ConvergenceWarning: The max_iter was reached which means the coef_ did not converge\n",
            "  warnings.warn(\n",
            "/opt/anaconda/envs/data_science/lib/python3.9/site-packages/sklearn/linear_model/_sag.py:352: ConvergenceWarning: The max_iter was reached which means the coef_ did not converge\n",
            "  warnings.warn(\n",
            "/opt/anaconda/envs/data_science/lib/python3.9/site-packages/sklearn/linear_model/_sag.py:352: ConvergenceWarning: The max_iter was reached which means the coef_ did not converge\n",
            "  warnings.warn(\n",
            "/opt/anaconda/envs/data_science/lib/python3.9/site-packages/sklearn/linear_model/_sag.py:352: ConvergenceWarning: The max_iter was reached which means the coef_ did not converge\n",
            "  warnings.warn(\n",
            "/opt/anaconda/envs/data_science/lib/python3.9/site-packages/sklearn/linear_model/_sag.py:352: ConvergenceWarning: The max_iter was reached which means the coef_ did not converge\n",
            "  warnings.warn(\n",
            "/opt/anaconda/envs/data_science/lib/python3.9/site-packages/sklearn/linear_model/_sag.py:352: ConvergenceWarning: The max_iter was reached which means the coef_ did not converge\n",
            "  warnings.warn(\n",
            "/opt/anaconda/envs/data_science/lib/python3.9/site-packages/sklearn/linear_model/_sag.py:352: ConvergenceWarning: The max_iter was reached which means the coef_ did not converge\n",
            "  warnings.warn(\n",
            "/opt/anaconda/envs/data_science/lib/python3.9/site-packages/sklearn/linear_model/_sag.py:352: ConvergenceWarning: The max_iter was reached which means the coef_ did not converge\n",
            "  warnings.warn(\n",
            "/opt/anaconda/envs/data_science/lib/python3.9/site-packages/sklearn/linear_model/_sag.py:352: ConvergenceWarning: The max_iter was reached which means the coef_ did not converge\n",
            "  warnings.warn(\n",
            "/opt/anaconda/envs/data_science/lib/python3.9/site-packages/sklearn/linear_model/_sag.py:352: ConvergenceWarning: The max_iter was reached which means the coef_ did not converge\n",
            "  warnings.warn(\n",
            "/opt/anaconda/envs/data_science/lib/python3.9/site-packages/sklearn/linear_model/_sag.py:352: ConvergenceWarning: The max_iter was reached which means the coef_ did not converge\n",
            "  warnings.warn(\n",
            "/opt/anaconda/envs/data_science/lib/python3.9/site-packages/sklearn/linear_model/_sag.py:352: ConvergenceWarning: The max_iter was reached which means the coef_ did not converge\n",
            "  warnings.warn(\n",
            "/opt/anaconda/envs/data_science/lib/python3.9/site-packages/sklearn/linear_model/_sag.py:352: ConvergenceWarning: The max_iter was reached which means the coef_ did not converge\n",
            "  warnings.warn(\n",
            "/opt/anaconda/envs/data_science/lib/python3.9/site-packages/sklearn/linear_model/_sag.py:352: ConvergenceWarning: The max_iter was reached which means the coef_ did not converge\n",
            "  warnings.warn(\n",
            "/opt/anaconda/envs/data_science/lib/python3.9/site-packages/sklearn/linear_model/_sag.py:352: ConvergenceWarning: The max_iter was reached which means the coef_ did not converge\n",
            "  warnings.warn(\n",
            "/opt/anaconda/envs/data_science/lib/python3.9/site-packages/sklearn/linear_model/_sag.py:352: ConvergenceWarning: The max_iter was reached which means the coef_ did not converge\n",
            "  warnings.warn(\n",
            "/opt/anaconda/envs/data_science/lib/python3.9/site-packages/sklearn/linear_model/_sag.py:352: ConvergenceWarning: The max_iter was reached which means the coef_ did not converge\n",
            "  warnings.warn(\n",
            "/opt/anaconda/envs/data_science/lib/python3.9/site-packages/sklearn/linear_model/_sag.py:352: ConvergenceWarning: The max_iter was reached which means the coef_ did not converge\n",
            "  warnings.warn(\n",
            "/opt/anaconda/envs/data_science/lib/python3.9/site-packages/sklearn/linear_model/_sag.py:352: ConvergenceWarning: The max_iter was reached which means the coef_ did not converge\n",
            "  warnings.warn(\n",
            "/opt/anaconda/envs/data_science/lib/python3.9/site-packages/sklearn/linear_model/_sag.py:352: ConvergenceWarning: The max_iter was reached which means the coef_ did not converge\n",
            "  warnings.warn(\n",
            "/opt/anaconda/envs/data_science/lib/python3.9/site-packages/sklearn/linear_model/_sag.py:352: ConvergenceWarning: The max_iter was reached which means the coef_ did not converge\n",
            "  warnings.warn(\n",
            "/opt/anaconda/envs/data_science/lib/python3.9/site-packages/sklearn/linear_model/_sag.py:352: ConvergenceWarning: The max_iter was reached which means the coef_ did not converge\n",
            "  warnings.warn(\n",
            "/opt/anaconda/envs/data_science/lib/python3.9/site-packages/sklearn/linear_model/_sag.py:352: ConvergenceWarning: The max_iter was reached which means the coef_ did not converge\n",
            "  warnings.warn(\n",
            "/opt/anaconda/envs/data_science/lib/python3.9/site-packages/sklearn/linear_model/_sag.py:352: ConvergenceWarning: The max_iter was reached which means the coef_ did not converge\n",
            "  warnings.warn(\n",
            "/opt/anaconda/envs/data_science/lib/python3.9/site-packages/sklearn/linear_model/_sag.py:352: ConvergenceWarning: The max_iter was reached which means the coef_ did not converge\n",
            "  warnings.warn(\n",
            "/opt/anaconda/envs/data_science/lib/python3.9/site-packages/sklearn/linear_model/_sag.py:352: ConvergenceWarning: The max_iter was reached which means the coef_ did not converge\n",
            "  warnings.warn(\n",
            "/opt/anaconda/envs/data_science/lib/python3.9/site-packages/sklearn/linear_model/_sag.py:352: ConvergenceWarning: The max_iter was reached which means the coef_ did not converge\n",
            "  warnings.warn(\n",
            "/opt/anaconda/envs/data_science/lib/python3.9/site-packages/sklearn/linear_model/_sag.py:352: ConvergenceWarning: The max_iter was reached which means the coef_ did not converge\n",
            "  warnings.warn(\n",
            "/opt/anaconda/envs/data_science/lib/python3.9/site-packages/sklearn/linear_model/_sag.py:352: ConvergenceWarning: The max_iter was reached which means the coef_ did not converge\n",
            "  warnings.warn(\n",
            "/opt/anaconda/envs/data_science/lib/python3.9/site-packages/sklearn/linear_model/_sag.py:352: ConvergenceWarning: The max_iter was reached which means the coef_ did not converge\n",
            "  warnings.warn(\n",
            "/opt/anaconda/envs/data_science/lib/python3.9/site-packages/sklearn/linear_model/_sag.py:352: ConvergenceWarning: The max_iter was reached which means the coef_ did not converge\n",
            "  warnings.warn(\n",
            "/opt/anaconda/envs/data_science/lib/python3.9/site-packages/sklearn/linear_model/_sag.py:352: ConvergenceWarning: The max_iter was reached which means the coef_ did not converge\n",
            "  warnings.warn(\n",
            "/opt/anaconda/envs/data_science/lib/python3.9/site-packages/sklearn/linear_model/_sag.py:352: ConvergenceWarning: The max_iter was reached which means the coef_ did not converge\n",
            "  warnings.warn(\n",
            "/opt/anaconda/envs/data_science/lib/python3.9/site-packages/sklearn/linear_model/_sag.py:352: ConvergenceWarning: The max_iter was reached which means the coef_ did not converge\n",
            "  warnings.warn(\n",
            "/opt/anaconda/envs/data_science/lib/python3.9/site-packages/sklearn/linear_model/_sag.py:352: ConvergenceWarning: The max_iter was reached which means the coef_ did not converge\n",
            "  warnings.warn(\n",
            "/opt/anaconda/envs/data_science/lib/python3.9/site-packages/sklearn/svm/_base.py:1206: ConvergenceWarning: Liblinear failed to converge, increase the number of iterations.\n",
            "  warnings.warn(\n",
            "/opt/anaconda/envs/data_science/lib/python3.9/site-packages/sklearn/linear_model/_sag.py:352: ConvergenceWarning: The max_iter was reached which means the coef_ did not converge\n",
            "  warnings.warn(\n",
            "/opt/anaconda/envs/data_science/lib/python3.9/site-packages/sklearn/linear_model/_sag.py:352: ConvergenceWarning: The max_iter was reached which means the coef_ did not converge\n",
            "  warnings.warn(\n",
            "/opt/anaconda/envs/data_science/lib/python3.9/site-packages/sklearn/linear_model/_sag.py:352: ConvergenceWarning: The max_iter was reached which means the coef_ did not converge\n",
            "  warnings.warn(\n",
            "/opt/anaconda/envs/data_science/lib/python3.9/site-packages/sklearn/linear_model/_sag.py:352: ConvergenceWarning: The max_iter was reached which means the coef_ did not converge\n",
            "  warnings.warn(\n",
            "/opt/anaconda/envs/data_science/lib/python3.9/site-packages/sklearn/linear_model/_sag.py:352: ConvergenceWarning: The max_iter was reached which means the coef_ did not converge\n",
            "  warnings.warn(\n"
          ]
        },
        {
          "name": "stderr",
          "output_type": "stream",
          "text": [
            "/opt/anaconda/envs/data_science/lib/python3.9/site-packages/sklearn/linear_model/_sag.py:352: ConvergenceWarning: The max_iter was reached which means the coef_ did not converge\n",
            "  warnings.warn(\n",
            "/opt/anaconda/envs/data_science/lib/python3.9/site-packages/sklearn/linear_model/_sag.py:352: ConvergenceWarning: The max_iter was reached which means the coef_ did not converge\n",
            "  warnings.warn(\n",
            "/opt/anaconda/envs/data_science/lib/python3.9/site-packages/sklearn/linear_model/_sag.py:352: ConvergenceWarning: The max_iter was reached which means the coef_ did not converge\n",
            "  warnings.warn(\n",
            "/opt/anaconda/envs/data_science/lib/python3.9/site-packages/sklearn/linear_model/_sag.py:352: ConvergenceWarning: The max_iter was reached which means the coef_ did not converge\n",
            "  warnings.warn(\n",
            "/opt/anaconda/envs/data_science/lib/python3.9/site-packages/sklearn/linear_model/_sag.py:352: ConvergenceWarning: The max_iter was reached which means the coef_ did not converge\n",
            "  warnings.warn(\n",
            "/opt/anaconda/envs/data_science/lib/python3.9/site-packages/sklearn/linear_model/_sag.py:352: ConvergenceWarning: The max_iter was reached which means the coef_ did not converge\n",
            "  warnings.warn(\n",
            "/opt/anaconda/envs/data_science/lib/python3.9/site-packages/sklearn/linear_model/_sag.py:352: ConvergenceWarning: The max_iter was reached which means the coef_ did not converge\n",
            "  warnings.warn(\n",
            "/opt/anaconda/envs/data_science/lib/python3.9/site-packages/sklearn/linear_model/_sag.py:352: ConvergenceWarning: The max_iter was reached which means the coef_ did not converge\n",
            "  warnings.warn(\n",
            "/opt/anaconda/envs/data_science/lib/python3.9/site-packages/sklearn/linear_model/_sag.py:352: ConvergenceWarning: The max_iter was reached which means the coef_ did not converge\n",
            "  warnings.warn(\n",
            "/opt/anaconda/envs/data_science/lib/python3.9/site-packages/sklearn/linear_model/_sag.py:352: ConvergenceWarning: The max_iter was reached which means the coef_ did not converge\n",
            "  warnings.warn(\n",
            "/opt/anaconda/envs/data_science/lib/python3.9/site-packages/sklearn/linear_model/_sag.py:352: ConvergenceWarning: The max_iter was reached which means the coef_ did not converge\n",
            "  warnings.warn(\n",
            "/opt/anaconda/envs/data_science/lib/python3.9/site-packages/sklearn/linear_model/_sag.py:352: ConvergenceWarning: The max_iter was reached which means the coef_ did not converge\n",
            "  warnings.warn(\n",
            "/opt/anaconda/envs/data_science/lib/python3.9/site-packages/sklearn/linear_model/_sag.py:352: ConvergenceWarning: The max_iter was reached which means the coef_ did not converge\n",
            "  warnings.warn(\n",
            "/opt/anaconda/envs/data_science/lib/python3.9/site-packages/sklearn/linear_model/_sag.py:352: ConvergenceWarning: The max_iter was reached which means the coef_ did not converge\n",
            "  warnings.warn(\n",
            "/opt/anaconda/envs/data_science/lib/python3.9/site-packages/sklearn/linear_model/_sag.py:352: ConvergenceWarning: The max_iter was reached which means the coef_ did not converge\n",
            "  warnings.warn(\n",
            "/opt/anaconda/envs/data_science/lib/python3.9/site-packages/sklearn/linear_model/_sag.py:352: ConvergenceWarning: The max_iter was reached which means the coef_ did not converge\n",
            "  warnings.warn(\n",
            "/opt/anaconda/envs/data_science/lib/python3.9/site-packages/sklearn/linear_model/_sag.py:352: ConvergenceWarning: The max_iter was reached which means the coef_ did not converge\n",
            "  warnings.warn(\n",
            "/opt/anaconda/envs/data_science/lib/python3.9/site-packages/sklearn/linear_model/_sag.py:352: ConvergenceWarning: The max_iter was reached which means the coef_ did not converge\n",
            "  warnings.warn(\n",
            "/opt/anaconda/envs/data_science/lib/python3.9/site-packages/sklearn/linear_model/_sag.py:352: ConvergenceWarning: The max_iter was reached which means the coef_ did not converge\n",
            "  warnings.warn(\n",
            "/opt/anaconda/envs/data_science/lib/python3.9/site-packages/sklearn/linear_model/_sag.py:352: ConvergenceWarning: The max_iter was reached which means the coef_ did not converge\n",
            "  warnings.warn(\n",
            "/opt/anaconda/envs/data_science/lib/python3.9/site-packages/sklearn/linear_model/_sag.py:352: ConvergenceWarning: The max_iter was reached which means the coef_ did not converge\n",
            "  warnings.warn(\n",
            "/opt/anaconda/envs/data_science/lib/python3.9/site-packages/sklearn/linear_model/_sag.py:352: ConvergenceWarning: The max_iter was reached which means the coef_ did not converge\n",
            "  warnings.warn(\n",
            "/opt/anaconda/envs/data_science/lib/python3.9/site-packages/sklearn/linear_model/_sag.py:352: ConvergenceWarning: The max_iter was reached which means the coef_ did not converge\n",
            "  warnings.warn(\n",
            "/opt/anaconda/envs/data_science/lib/python3.9/site-packages/sklearn/linear_model/_sag.py:352: ConvergenceWarning: The max_iter was reached which means the coef_ did not converge\n",
            "  warnings.warn(\n",
            "/opt/anaconda/envs/data_science/lib/python3.9/site-packages/sklearn/linear_model/_sag.py:352: ConvergenceWarning: The max_iter was reached which means the coef_ did not converge\n",
            "  warnings.warn(\n",
            "/opt/anaconda/envs/data_science/lib/python3.9/site-packages/sklearn/linear_model/_sag.py:352: ConvergenceWarning: The max_iter was reached which means the coef_ did not converge\n",
            "  warnings.warn(\n",
            "/opt/anaconda/envs/data_science/lib/python3.9/site-packages/sklearn/linear_model/_sag.py:352: ConvergenceWarning: The max_iter was reached which means the coef_ did not converge\n",
            "  warnings.warn(\n",
            "/opt/anaconda/envs/data_science/lib/python3.9/site-packages/sklearn/linear_model/_sag.py:352: ConvergenceWarning: The max_iter was reached which means the coef_ did not converge\n",
            "  warnings.warn(\n",
            "/opt/anaconda/envs/data_science/lib/python3.9/site-packages/sklearn/linear_model/_sag.py:352: ConvergenceWarning: The max_iter was reached which means the coef_ did not converge\n",
            "  warnings.warn(\n",
            "/opt/anaconda/envs/data_science/lib/python3.9/site-packages/sklearn/linear_model/_sag.py:352: ConvergenceWarning: The max_iter was reached which means the coef_ did not converge\n",
            "  warnings.warn(\n",
            "/opt/anaconda/envs/data_science/lib/python3.9/site-packages/sklearn/linear_model/_sag.py:352: ConvergenceWarning: The max_iter was reached which means the coef_ did not converge\n",
            "  warnings.warn(\n",
            "/opt/anaconda/envs/data_science/lib/python3.9/site-packages/sklearn/linear_model/_sag.py:352: ConvergenceWarning: The max_iter was reached which means the coef_ did not converge\n",
            "  warnings.warn(\n",
            "/opt/anaconda/envs/data_science/lib/python3.9/site-packages/sklearn/linear_model/_sag.py:352: ConvergenceWarning: The max_iter was reached which means the coef_ did not converge\n",
            "  warnings.warn(\n",
            "/opt/anaconda/envs/data_science/lib/python3.9/site-packages/sklearn/linear_model/_sag.py:352: ConvergenceWarning: The max_iter was reached which means the coef_ did not converge\n",
            "  warnings.warn(\n",
            "/opt/anaconda/envs/data_science/lib/python3.9/site-packages/sklearn/linear_model/_sag.py:352: ConvergenceWarning: The max_iter was reached which means the coef_ did not converge\n",
            "  warnings.warn(\n",
            "/opt/anaconda/envs/data_science/lib/python3.9/site-packages/sklearn/linear_model/_sag.py:352: ConvergenceWarning: The max_iter was reached which means the coef_ did not converge\n",
            "  warnings.warn(\n",
            "/opt/anaconda/envs/data_science/lib/python3.9/site-packages/sklearn/linear_model/_sag.py:352: ConvergenceWarning: The max_iter was reached which means the coef_ did not converge\n",
            "  warnings.warn(\n",
            "/opt/anaconda/envs/data_science/lib/python3.9/site-packages/sklearn/linear_model/_sag.py:352: ConvergenceWarning: The max_iter was reached which means the coef_ did not converge\n",
            "  warnings.warn(\n",
            "/opt/anaconda/envs/data_science/lib/python3.9/site-packages/sklearn/linear_model/_logistic.py:814: ConvergenceWarning: lbfgs failed to converge (status=1):\n",
            "STOP: TOTAL NO. of ITERATIONS REACHED LIMIT.\n",
            "\n",
            "Increase the number of iterations (max_iter) or scale the data as shown in:\n",
            "    https://scikit-learn.org/stable/modules/preprocessing.html\n",
            "Please also refer to the documentation for alternative solver options:\n",
            "    https://scikit-learn.org/stable/modules/linear_model.html#logistic-regression\n",
            "  n_iter_i = _check_optimize_result(\n",
            "/opt/anaconda/envs/data_science/lib/python3.9/site-packages/sklearn/linear_model/_sag.py:352: ConvergenceWarning: The max_iter was reached which means the coef_ did not converge\n",
            "  warnings.warn(\n",
            "/opt/anaconda/envs/data_science/lib/python3.9/site-packages/sklearn/linear_model/_sag.py:352: ConvergenceWarning: The max_iter was reached which means the coef_ did not converge\n",
            "  warnings.warn(\n",
            "/opt/anaconda/envs/data_science/lib/python3.9/site-packages/sklearn/linear_model/_sag.py:352: ConvergenceWarning: The max_iter was reached which means the coef_ did not converge\n",
            "  warnings.warn(\n"
          ]
        },
        {
          "name": "stderr",
          "output_type": "stream",
          "text": [
            "/opt/anaconda/envs/data_science/lib/python3.9/site-packages/sklearn/linear_model/_sag.py:352: ConvergenceWarning: The max_iter was reached which means the coef_ did not converge\n",
            "  warnings.warn(\n",
            "/opt/anaconda/envs/data_science/lib/python3.9/site-packages/sklearn/linear_model/_sag.py:352: ConvergenceWarning: The max_iter was reached which means the coef_ did not converge\n",
            "  warnings.warn(\n",
            "/opt/anaconda/envs/data_science/lib/python3.9/site-packages/sklearn/linear_model/_logistic.py:814: ConvergenceWarning: lbfgs failed to converge (status=1):\n",
            "STOP: TOTAL NO. of ITERATIONS REACHED LIMIT.\n",
            "\n",
            "Increase the number of iterations (max_iter) or scale the data as shown in:\n",
            "    https://scikit-learn.org/stable/modules/preprocessing.html\n",
            "Please also refer to the documentation for alternative solver options:\n",
            "    https://scikit-learn.org/stable/modules/linear_model.html#logistic-regression\n",
            "  n_iter_i = _check_optimize_result(\n",
            "/opt/anaconda/envs/data_science/lib/python3.9/site-packages/sklearn/linear_model/_sag.py:352: ConvergenceWarning: The max_iter was reached which means the coef_ did not converge\n",
            "  warnings.warn(\n",
            "/opt/anaconda/envs/data_science/lib/python3.9/site-packages/sklearn/linear_model/_sag.py:352: ConvergenceWarning: The max_iter was reached which means the coef_ did not converge\n",
            "  warnings.warn(\n",
            "/opt/anaconda/envs/data_science/lib/python3.9/site-packages/sklearn/linear_model/_sag.py:352: ConvergenceWarning: The max_iter was reached which means the coef_ did not converge\n",
            "  warnings.warn(\n",
            "/opt/anaconda/envs/data_science/lib/python3.9/site-packages/sklearn/linear_model/_sag.py:352: ConvergenceWarning: The max_iter was reached which means the coef_ did not converge\n",
            "  warnings.warn(\n",
            "/opt/anaconda/envs/data_science/lib/python3.9/site-packages/sklearn/linear_model/_sag.py:352: ConvergenceWarning: The max_iter was reached which means the coef_ did not converge\n",
            "  warnings.warn(\n",
            "/opt/anaconda/envs/data_science/lib/python3.9/site-packages/sklearn/linear_model/_sag.py:352: ConvergenceWarning: The max_iter was reached which means the coef_ did not converge\n",
            "  warnings.warn(\n",
            "/opt/anaconda/envs/data_science/lib/python3.9/site-packages/sklearn/linear_model/_sag.py:352: ConvergenceWarning: The max_iter was reached which means the coef_ did not converge\n",
            "  warnings.warn(\n",
            "/opt/anaconda/envs/data_science/lib/python3.9/site-packages/sklearn/linear_model/_sag.py:352: ConvergenceWarning: The max_iter was reached which means the coef_ did not converge\n",
            "  warnings.warn(\n",
            "/opt/anaconda/envs/data_science/lib/python3.9/site-packages/sklearn/linear_model/_sag.py:352: ConvergenceWarning: The max_iter was reached which means the coef_ did not converge\n",
            "  warnings.warn(\n",
            "/opt/anaconda/envs/data_science/lib/python3.9/site-packages/sklearn/linear_model/_sag.py:352: ConvergenceWarning: The max_iter was reached which means the coef_ did not converge\n",
            "  warnings.warn(\n",
            "/opt/anaconda/envs/data_science/lib/python3.9/site-packages/sklearn/linear_model/_sag.py:352: ConvergenceWarning: The max_iter was reached which means the coef_ did not converge\n",
            "  warnings.warn(\n",
            "/opt/anaconda/envs/data_science/lib/python3.9/site-packages/sklearn/linear_model/_sag.py:352: ConvergenceWarning: The max_iter was reached which means the coef_ did not converge\n",
            "  warnings.warn(\n",
            "/opt/anaconda/envs/data_science/lib/python3.9/site-packages/sklearn/linear_model/_sag.py:352: ConvergenceWarning: The max_iter was reached which means the coef_ did not converge\n",
            "  warnings.warn(\n",
            "/opt/anaconda/envs/data_science/lib/python3.9/site-packages/sklearn/linear_model/_sag.py:352: ConvergenceWarning: The max_iter was reached which means the coef_ did not converge\n",
            "  warnings.warn(\n",
            "/opt/anaconda/envs/data_science/lib/python3.9/site-packages/sklearn/linear_model/_sag.py:352: ConvergenceWarning: The max_iter was reached which means the coef_ did not converge\n",
            "  warnings.warn(\n",
            "/opt/anaconda/envs/data_science/lib/python3.9/site-packages/sklearn/linear_model/_sag.py:352: ConvergenceWarning: The max_iter was reached which means the coef_ did not converge\n",
            "  warnings.warn(\n",
            "/opt/anaconda/envs/data_science/lib/python3.9/site-packages/sklearn/linear_model/_sag.py:352: ConvergenceWarning: The max_iter was reached which means the coef_ did not converge\n",
            "  warnings.warn(\n",
            "/opt/anaconda/envs/data_science/lib/python3.9/site-packages/sklearn/linear_model/_sag.py:352: ConvergenceWarning: The max_iter was reached which means the coef_ did not converge\n",
            "  warnings.warn(\n",
            "/opt/anaconda/envs/data_science/lib/python3.9/site-packages/sklearn/linear_model/_sag.py:352: ConvergenceWarning: The max_iter was reached which means the coef_ did not converge\n",
            "  warnings.warn(\n",
            "/opt/anaconda/envs/data_science/lib/python3.9/site-packages/sklearn/linear_model/_sag.py:352: ConvergenceWarning: The max_iter was reached which means the coef_ did not converge\n",
            "  warnings.warn(\n",
            "/opt/anaconda/envs/data_science/lib/python3.9/site-packages/sklearn/linear_model/_sag.py:352: ConvergenceWarning: The max_iter was reached which means the coef_ did not converge\n",
            "  warnings.warn(\n",
            "/opt/anaconda/envs/data_science/lib/python3.9/site-packages/sklearn/linear_model/_sag.py:352: ConvergenceWarning: The max_iter was reached which means the coef_ did not converge\n",
            "  warnings.warn(\n",
            "/opt/anaconda/envs/data_science/lib/python3.9/site-packages/sklearn/linear_model/_sag.py:352: ConvergenceWarning: The max_iter was reached which means the coef_ did not converge\n",
            "  warnings.warn(\n",
            "/opt/anaconda/envs/data_science/lib/python3.9/site-packages/sklearn/linear_model/_sag.py:352: ConvergenceWarning: The max_iter was reached which means the coef_ did not converge\n",
            "  warnings.warn(\n",
            "/opt/anaconda/envs/data_science/lib/python3.9/site-packages/sklearn/linear_model/_sag.py:352: ConvergenceWarning: The max_iter was reached which means the coef_ did not converge\n",
            "  warnings.warn(\n",
            "/opt/anaconda/envs/data_science/lib/python3.9/site-packages/sklearn/linear_model/_sag.py:352: ConvergenceWarning: The max_iter was reached which means the coef_ did not converge\n",
            "  warnings.warn(\n",
            "/opt/anaconda/envs/data_science/lib/python3.9/site-packages/sklearn/linear_model/_sag.py:352: ConvergenceWarning: The max_iter was reached which means the coef_ did not converge\n",
            "  warnings.warn(\n",
            "/opt/anaconda/envs/data_science/lib/python3.9/site-packages/sklearn/linear_model/_sag.py:352: ConvergenceWarning: The max_iter was reached which means the coef_ did not converge\n",
            "  warnings.warn(\n",
            "/opt/anaconda/envs/data_science/lib/python3.9/site-packages/sklearn/linear_model/_sag.py:352: ConvergenceWarning: The max_iter was reached which means the coef_ did not converge\n",
            "  warnings.warn(\n",
            "/opt/anaconda/envs/data_science/lib/python3.9/site-packages/sklearn/linear_model/_sag.py:352: ConvergenceWarning: The max_iter was reached which means the coef_ did not converge\n",
            "  warnings.warn(\n",
            "/opt/anaconda/envs/data_science/lib/python3.9/site-packages/sklearn/linear_model/_sag.py:352: ConvergenceWarning: The max_iter was reached which means the coef_ did not converge\n",
            "  warnings.warn(\n",
            "/opt/anaconda/envs/data_science/lib/python3.9/site-packages/sklearn/linear_model/_sag.py:352: ConvergenceWarning: The max_iter was reached which means the coef_ did not converge\n",
            "  warnings.warn(\n",
            "/opt/anaconda/envs/data_science/lib/python3.9/site-packages/sklearn/linear_model/_sag.py:352: ConvergenceWarning: The max_iter was reached which means the coef_ did not converge\n",
            "  warnings.warn(\n",
            "/opt/anaconda/envs/data_science/lib/python3.9/site-packages/sklearn/linear_model/_sag.py:352: ConvergenceWarning: The max_iter was reached which means the coef_ did not converge\n",
            "  warnings.warn(\n",
            "/opt/anaconda/envs/data_science/lib/python3.9/site-packages/sklearn/linear_model/_sag.py:352: ConvergenceWarning: The max_iter was reached which means the coef_ did not converge\n",
            "  warnings.warn(\n",
            "/opt/anaconda/envs/data_science/lib/python3.9/site-packages/sklearn/linear_model/_sag.py:352: ConvergenceWarning: The max_iter was reached which means the coef_ did not converge\n",
            "  warnings.warn(\n",
            "/opt/anaconda/envs/data_science/lib/python3.9/site-packages/sklearn/linear_model/_sag.py:352: ConvergenceWarning: The max_iter was reached which means the coef_ did not converge\n",
            "  warnings.warn(\n",
            "/opt/anaconda/envs/data_science/lib/python3.9/site-packages/sklearn/linear_model/_sag.py:352: ConvergenceWarning: The max_iter was reached which means the coef_ did not converge\n",
            "  warnings.warn(\n"
          ]
        },
        {
          "name": "stderr",
          "output_type": "stream",
          "text": [
            "/opt/anaconda/envs/data_science/lib/python3.9/site-packages/sklearn/linear_model/_sag.py:352: ConvergenceWarning: The max_iter was reached which means the coef_ did not converge\n",
            "  warnings.warn(\n",
            "/opt/anaconda/envs/data_science/lib/python3.9/site-packages/sklearn/linear_model/_sag.py:352: ConvergenceWarning: The max_iter was reached which means the coef_ did not converge\n",
            "  warnings.warn(\n",
            "/opt/anaconda/envs/data_science/lib/python3.9/site-packages/sklearn/linear_model/_sag.py:352: ConvergenceWarning: The max_iter was reached which means the coef_ did not converge\n",
            "  warnings.warn(\n",
            "/opt/anaconda/envs/data_science/lib/python3.9/site-packages/sklearn/linear_model/_sag.py:352: ConvergenceWarning: The max_iter was reached which means the coef_ did not converge\n",
            "  warnings.warn(\n",
            "/opt/anaconda/envs/data_science/lib/python3.9/site-packages/sklearn/linear_model/_sag.py:352: ConvergenceWarning: The max_iter was reached which means the coef_ did not converge\n",
            "  warnings.warn(\n",
            "/opt/anaconda/envs/data_science/lib/python3.9/site-packages/sklearn/linear_model/_sag.py:352: ConvergenceWarning: The max_iter was reached which means the coef_ did not converge\n",
            "  warnings.warn(\n",
            "/opt/anaconda/envs/data_science/lib/python3.9/site-packages/sklearn/linear_model/_sag.py:352: ConvergenceWarning: The max_iter was reached which means the coef_ did not converge\n",
            "  warnings.warn(\n",
            "/opt/anaconda/envs/data_science/lib/python3.9/site-packages/sklearn/linear_model/_sag.py:352: ConvergenceWarning: The max_iter was reached which means the coef_ did not converge\n",
            "  warnings.warn(\n",
            "/opt/anaconda/envs/data_science/lib/python3.9/site-packages/sklearn/svm/_base.py:1206: ConvergenceWarning: Liblinear failed to converge, increase the number of iterations.\n",
            "  warnings.warn(\n",
            "/opt/anaconda/envs/data_science/lib/python3.9/site-packages/sklearn/linear_model/_sag.py:352: ConvergenceWarning: The max_iter was reached which means the coef_ did not converge\n",
            "  warnings.warn(\n",
            "/opt/anaconda/envs/data_science/lib/python3.9/site-packages/sklearn/linear_model/_sag.py:352: ConvergenceWarning: The max_iter was reached which means the coef_ did not converge\n",
            "  warnings.warn(\n",
            "/opt/anaconda/envs/data_science/lib/python3.9/site-packages/sklearn/linear_model/_sag.py:352: ConvergenceWarning: The max_iter was reached which means the coef_ did not converge\n",
            "  warnings.warn(\n",
            "/opt/anaconda/envs/data_science/lib/python3.9/site-packages/sklearn/linear_model/_sag.py:352: ConvergenceWarning: The max_iter was reached which means the coef_ did not converge\n",
            "  warnings.warn(\n",
            "/opt/anaconda/envs/data_science/lib/python3.9/site-packages/sklearn/linear_model/_sag.py:352: ConvergenceWarning: The max_iter was reached which means the coef_ did not converge\n",
            "  warnings.warn(\n",
            "/opt/anaconda/envs/data_science/lib/python3.9/site-packages/sklearn/linear_model/_sag.py:352: ConvergenceWarning: The max_iter was reached which means the coef_ did not converge\n",
            "  warnings.warn(\n",
            "/opt/anaconda/envs/data_science/lib/python3.9/site-packages/sklearn/linear_model/_sag.py:352: ConvergenceWarning: The max_iter was reached which means the coef_ did not converge\n",
            "  warnings.warn(\n",
            "/opt/anaconda/envs/data_science/lib/python3.9/site-packages/sklearn/linear_model/_sag.py:352: ConvergenceWarning: The max_iter was reached which means the coef_ did not converge\n",
            "  warnings.warn(\n",
            "/opt/anaconda/envs/data_science/lib/python3.9/site-packages/sklearn/linear_model/_sag.py:352: ConvergenceWarning: The max_iter was reached which means the coef_ did not converge\n",
            "  warnings.warn(\n",
            "/opt/anaconda/envs/data_science/lib/python3.9/site-packages/sklearn/linear_model/_sag.py:352: ConvergenceWarning: The max_iter was reached which means the coef_ did not converge\n",
            "  warnings.warn(\n",
            "/opt/anaconda/envs/data_science/lib/python3.9/site-packages/sklearn/linear_model/_sag.py:352: ConvergenceWarning: The max_iter was reached which means the coef_ did not converge\n",
            "  warnings.warn(\n",
            "/opt/anaconda/envs/data_science/lib/python3.9/site-packages/sklearn/linear_model/_sag.py:352: ConvergenceWarning: The max_iter was reached which means the coef_ did not converge\n",
            "  warnings.warn(\n",
            "/opt/anaconda/envs/data_science/lib/python3.9/site-packages/sklearn/linear_model/_sag.py:352: ConvergenceWarning: The max_iter was reached which means the coef_ did not converge\n",
            "  warnings.warn(\n",
            "/opt/anaconda/envs/data_science/lib/python3.9/site-packages/sklearn/linear_model/_sag.py:352: ConvergenceWarning: The max_iter was reached which means the coef_ did not converge\n",
            "  warnings.warn(\n",
            "/opt/anaconda/envs/data_science/lib/python3.9/site-packages/sklearn/linear_model/_sag.py:352: ConvergenceWarning: The max_iter was reached which means the coef_ did not converge\n",
            "  warnings.warn(\n",
            "/opt/anaconda/envs/data_science/lib/python3.9/site-packages/sklearn/linear_model/_sag.py:352: ConvergenceWarning: The max_iter was reached which means the coef_ did not converge\n",
            "  warnings.warn(\n",
            "/opt/anaconda/envs/data_science/lib/python3.9/site-packages/sklearn/linear_model/_sag.py:352: ConvergenceWarning: The max_iter was reached which means the coef_ did not converge\n",
            "  warnings.warn(\n",
            "/opt/anaconda/envs/data_science/lib/python3.9/site-packages/sklearn/linear_model/_sag.py:352: ConvergenceWarning: The max_iter was reached which means the coef_ did not converge\n",
            "  warnings.warn(\n",
            "/opt/anaconda/envs/data_science/lib/python3.9/site-packages/sklearn/linear_model/_sag.py:352: ConvergenceWarning: The max_iter was reached which means the coef_ did not converge\n",
            "  warnings.warn(\n",
            "/opt/anaconda/envs/data_science/lib/python3.9/site-packages/sklearn/linear_model/_sag.py:352: ConvergenceWarning: The max_iter was reached which means the coef_ did not converge\n",
            "  warnings.warn(\n",
            "/opt/anaconda/envs/data_science/lib/python3.9/site-packages/sklearn/linear_model/_sag.py:352: ConvergenceWarning: The max_iter was reached which means the coef_ did not converge\n",
            "  warnings.warn(\n",
            "/opt/anaconda/envs/data_science/lib/python3.9/site-packages/sklearn/linear_model/_sag.py:352: ConvergenceWarning: The max_iter was reached which means the coef_ did not converge\n",
            "  warnings.warn(\n",
            "/opt/anaconda/envs/data_science/lib/python3.9/site-packages/sklearn/linear_model/_sag.py:352: ConvergenceWarning: The max_iter was reached which means the coef_ did not converge\n",
            "  warnings.warn(\n",
            "/opt/anaconda/envs/data_science/lib/python3.9/site-packages/sklearn/linear_model/_sag.py:352: ConvergenceWarning: The max_iter was reached which means the coef_ did not converge\n",
            "  warnings.warn(\n",
            "/opt/anaconda/envs/data_science/lib/python3.9/site-packages/sklearn/linear_model/_sag.py:352: ConvergenceWarning: The max_iter was reached which means the coef_ did not converge\n",
            "  warnings.warn(\n",
            "/opt/anaconda/envs/data_science/lib/python3.9/site-packages/sklearn/linear_model/_sag.py:352: ConvergenceWarning: The max_iter was reached which means the coef_ did not converge\n",
            "  warnings.warn(\n",
            "/opt/anaconda/envs/data_science/lib/python3.9/site-packages/sklearn/linear_model/_sag.py:352: ConvergenceWarning: The max_iter was reached which means the coef_ did not converge\n",
            "  warnings.warn(\n",
            "/opt/anaconda/envs/data_science/lib/python3.9/site-packages/sklearn/linear_model/_sag.py:352: ConvergenceWarning: The max_iter was reached which means the coef_ did not converge\n",
            "  warnings.warn(\n",
            "/opt/anaconda/envs/data_science/lib/python3.9/site-packages/sklearn/linear_model/_sag.py:352: ConvergenceWarning: The max_iter was reached which means the coef_ did not converge\n",
            "  warnings.warn(\n",
            "/opt/anaconda/envs/data_science/lib/python3.9/site-packages/sklearn/linear_model/_sag.py:352: ConvergenceWarning: The max_iter was reached which means the coef_ did not converge\n",
            "  warnings.warn(\n",
            "/opt/anaconda/envs/data_science/lib/python3.9/site-packages/sklearn/linear_model/_sag.py:352: ConvergenceWarning: The max_iter was reached which means the coef_ did not converge\n",
            "  warnings.warn(\n",
            "/opt/anaconda/envs/data_science/lib/python3.9/site-packages/sklearn/linear_model/_sag.py:352: ConvergenceWarning: The max_iter was reached which means the coef_ did not converge\n",
            "  warnings.warn(\n",
            "/opt/anaconda/envs/data_science/lib/python3.9/site-packages/sklearn/linear_model/_sag.py:352: ConvergenceWarning: The max_iter was reached which means the coef_ did not converge\n",
            "  warnings.warn(\n",
            "/opt/anaconda/envs/data_science/lib/python3.9/site-packages/sklearn/linear_model/_sag.py:352: ConvergenceWarning: The max_iter was reached which means the coef_ did not converge\n",
            "  warnings.warn(\n"
          ]
        },
        {
          "name": "stderr",
          "output_type": "stream",
          "text": [
            "/opt/anaconda/envs/data_science/lib/python3.9/site-packages/sklearn/linear_model/_sag.py:352: ConvergenceWarning: The max_iter was reached which means the coef_ did not converge\n",
            "  warnings.warn(\n",
            "/opt/anaconda/envs/data_science/lib/python3.9/site-packages/sklearn/linear_model/_sag.py:352: ConvergenceWarning: The max_iter was reached which means the coef_ did not converge\n",
            "  warnings.warn(\n",
            "/opt/anaconda/envs/data_science/lib/python3.9/site-packages/sklearn/linear_model/_sag.py:352: ConvergenceWarning: The max_iter was reached which means the coef_ did not converge\n",
            "  warnings.warn(\n",
            "/opt/anaconda/envs/data_science/lib/python3.9/site-packages/sklearn/linear_model/_sag.py:352: ConvergenceWarning: The max_iter was reached which means the coef_ did not converge\n",
            "  warnings.warn(\n",
            "/opt/anaconda/envs/data_science/lib/python3.9/site-packages/sklearn/linear_model/_sag.py:352: ConvergenceWarning: The max_iter was reached which means the coef_ did not converge\n",
            "  warnings.warn(\n",
            "/opt/anaconda/envs/data_science/lib/python3.9/site-packages/sklearn/linear_model/_sag.py:352: ConvergenceWarning: The max_iter was reached which means the coef_ did not converge\n",
            "  warnings.warn(\n",
            "/opt/anaconda/envs/data_science/lib/python3.9/site-packages/sklearn/linear_model/_sag.py:352: ConvergenceWarning: The max_iter was reached which means the coef_ did not converge\n",
            "  warnings.warn(\n",
            "/opt/anaconda/envs/data_science/lib/python3.9/site-packages/sklearn/linear_model/_sag.py:352: ConvergenceWarning: The max_iter was reached which means the coef_ did not converge\n",
            "  warnings.warn(\n",
            "/opt/anaconda/envs/data_science/lib/python3.9/site-packages/sklearn/linear_model/_sag.py:352: ConvergenceWarning: The max_iter was reached which means the coef_ did not converge\n",
            "  warnings.warn(\n",
            "/opt/anaconda/envs/data_science/lib/python3.9/site-packages/sklearn/linear_model/_sag.py:352: ConvergenceWarning: The max_iter was reached which means the coef_ did not converge\n",
            "  warnings.warn(\n",
            "/opt/anaconda/envs/data_science/lib/python3.9/site-packages/sklearn/linear_model/_sag.py:352: ConvergenceWarning: The max_iter was reached which means the coef_ did not converge\n",
            "  warnings.warn(\n",
            "/opt/anaconda/envs/data_science/lib/python3.9/site-packages/sklearn/linear_model/_sag.py:352: ConvergenceWarning: The max_iter was reached which means the coef_ did not converge\n",
            "  warnings.warn(\n",
            "/opt/anaconda/envs/data_science/lib/python3.9/site-packages/sklearn/linear_model/_sag.py:352: ConvergenceWarning: The max_iter was reached which means the coef_ did not converge\n",
            "  warnings.warn(\n",
            "/opt/anaconda/envs/data_science/lib/python3.9/site-packages/sklearn/linear_model/_sag.py:352: ConvergenceWarning: The max_iter was reached which means the coef_ did not converge\n",
            "  warnings.warn(\n",
            "/opt/anaconda/envs/data_science/lib/python3.9/site-packages/sklearn/linear_model/_sag.py:352: ConvergenceWarning: The max_iter was reached which means the coef_ did not converge\n",
            "  warnings.warn(\n"
          ]
        }
      ],
      "source": [
        "results = []\n",
        "names = []\n",
        "\n",
        "for name, model, params in models:\n",
        "    names.append(name)\n",
        "    scores = grid_search_undersampling(X, y, model, params, scoring='recall')\n",
        "    results.append(scores)"
      ]
    },
    {
      "cell_type": "markdown",
      "id": "41e376aa",
      "metadata": {
        "id": "41e376aa"
      },
      "source": [
        "Eis nossos resultados:"
      ]
    },
    {
      "cell_type": "code",
      "execution_count": null,
      "id": "30d0196c",
      "metadata": {
        "id": "30d0196c",
        "outputId": "fb193607-c60d-44d1-aa1b-f736e2180c19"
      },
      "outputs": [
        {
          "data": {
            "text/plain": [
              "[LogisticRegression(C=0.01, max_iter=700, penalty='l1', solver='liblinear'),\n",
              " KNeighborsClassifier(n_neighbors=2, weights='distance'),\n",
              " SVC(C=0.5, kernel='linear', probability=True)]"
            ]
          },
          "execution_count": 60,
          "metadata": {},
          "output_type": "execute_result"
        }
      ],
      "source": [
        "results"
      ]
    },
    {
      "cell_type": "markdown",
      "id": "a0ae6291",
      "metadata": {
        "id": "a0ae6291"
      },
      "source": [
        "Vamos recriar nossos modelos com os hiperparâmetros otimizados e verificar as métricas obtidas:"
      ]
    },
    {
      "cell_type": "code",
      "execution_count": null,
      "id": "7d2a7cdb",
      "metadata": {
        "id": "7d2a7cdb"
      },
      "outputs": [],
      "source": [
        "models = []\n",
        "models.append(('LR', LogisticRegression(max_iter=700, C=0.01, penalty='l1', solver='liblinear')))\n",
        "models.append(('KNN', KNeighborsClassifier(n_neighbors=2, weights='distance')))\n",
        "models.append(('SVC', SVC(probability=True, C=0.5, kernel='linear',)))"
      ]
    },
    {
      "cell_type": "code",
      "execution_count": null,
      "id": "ae505dda",
      "metadata": {
        "id": "ae505dda",
        "outputId": "2a74cd6e-e90e-43b6-bf24-68600e2c658c"
      },
      "outputs": [
        {
          "name": "stdout",
          "output_type": "stream",
          "text": [
            "LR\n",
            "    Metric      |    Mean    |  Std Dev  \n",
            "----------------------------------------\n",
            "accuracy        |   0.563    |   0.007   \n",
            "precision       |   0.004    |   0.000   \n",
            "recall          |   0.967    |   0.012   \n",
            "f1_score        |   0.008    |   0.000   \n",
            "auprc           |   0.681    |   0.020   \n",
            "auroc           |   0.765    |   0.007   \n",
            "\n",
            "KNN\n",
            "    Metric      |    Mean    |  Std Dev  \n",
            "----------------------------------------\n",
            "accuracy        |   0.932    |   0.007   \n",
            "precision       |   0.023    |   0.002   \n",
            "recall          |   0.919    |   0.014   \n",
            "f1_score        |   0.045    |   0.004   \n",
            "auprc           |   0.482    |   0.010   \n",
            "auroc           |   0.926    |   0.004   \n",
            "\n",
            "SVC\n",
            "    Metric      |    Mean    |  Std Dev  \n",
            "----------------------------------------\n",
            "accuracy        |   0.963    |   0.008   \n",
            "precision       |   0.043    |   0.008   \n",
            "recall          |   0.914    |   0.014   \n",
            "f1_score        |   0.081    |   0.014   \n",
            "auprc           |   0.532    |   0.131   \n",
            "auroc           |   0.939    |   0.005   \n",
            "\n"
          ]
        }
      ],
      "source": [
        "results = []\n",
        "names = []\n",
        "\n",
        "for name, model in models:\n",
        "    names.append(name)\n",
        "    scores = evaluate_model_undersampling(X, y, model)\n",
        "    results.append(scores)\n",
        "    \n",
        "for name, result in zip(names, results):\n",
        "    print(name)\n",
        "    print('{0:^15} | {1:^10} | {2:^10}'.format('Metric', 'Mean', 'Std Dev'))\n",
        "    print('-' * 40)\n",
        "    for key in scoring.keys():\n",
        "        metric = ''.join(('test_', key))\n",
        "        mean = np.mean(result[metric])\n",
        "        std_dev = np.std(result[metric])    \n",
        "        print('{0:<15} | {1:^10.3f} | {2:^10.3f}'.format(key, mean, std_dev))\n",
        "    print()"
      ]
    },
    {
      "cell_type": "markdown",
      "id": "a2ff1e6f",
      "metadata": {
        "id": "a2ff1e6f"
      },
      "source": [
        "Vemos que, efetivamente, os valores de recall aumentaram às custas de diminuição de precisão e de AUPRC. Vejamos as matrizes de confusão:"
      ]
    },
    {
      "cell_type": "code",
      "execution_count": null,
      "id": "c0beada3",
      "metadata": {
        "id": "c0beada3",
        "outputId": "f7982a22-fca0-4947-cced-9d20a54b8c2c"
      },
      "outputs": [
        {
          "data": {
            "image/png": "[encoded data removed]",
            "text/plain": [
              "<Figure size 864x288 with 6 Axes>"
            ]
          },
          "metadata": {
            "needs_background": "light"
          },
          "output_type": "display_data"
        }
      ],
      "source": [
        "names = []\n",
        "cm_means_norm = []\n",
        "\n",
        "for name, model in models:\n",
        "    names.append(name)    \n",
        "    cm_means_norm.append(mean_confusion_matrices_undersampling(X, y, model, normalize='true'))\n",
        "    \n",
        "fig, axes = plt.subplots(nrows=1, ncols=3, figsize=(12, 4))\n",
        "\n",
        "for ax, name, matrix in zip(axes.flatten(), names, cm_means_norm):\n",
        "    ConfusionMatrixDisplay(matrix).plot(ax=ax)\n",
        "    ax.set_title(name)"
      ]
    },
    {
      "cell_type": "markdown",
      "id": "ccbeecaf",
      "metadata": {
        "id": "ccbeecaf"
      },
      "source": [
        "Observe que a regressão logística teve o maior valor de recall, mas o custo foi ter uma proporção significativa de falsos positivos. Seria este o cenário ideal? Os demais modelos também tiveram um aumento nos falsos positivos comparado ao cenário anterior onde maximizamos o AUPRC, mas em menor escala. O SVC possui a melhor precisão."
      ]
    },
    {
      "cell_type": "markdown",
      "id": "552d5d4a",
      "metadata": {
        "id": "552d5d4a"
      },
      "source": [
        "### Devemos maximizar o recall?"
      ]
    },
    {
      "cell_type": "markdown",
      "id": "1d64ce9e",
      "metadata": {
        "id": "1d64ce9e"
      },
      "source": [
        "Ao classificar erroneamente uma transação fraudulenta como legítima, um usuário teve seu dinheiro roubado via, por exemplo, clonagem do cartão. A compania do cartão terá que reembolsar o usuário. Por outro lado, uma transação legítima ser considerada fraudulenta significa que o usuário terá seu cartão bloqueado indevidamente, causando conflito, constrangimento e desconforto no cliente.\n",
        "\n",
        "Os dois cenários possuem custos distintos e o ideal seria fazer uma análise de valor esperado para cada modelo considerando tais custos. Não temos tais dados para o dataset em estudo, mas o aprendizado vale para qualquer contexto. Não há uma métrica que é a resposta para todos os contextos, cada caso deve ser analisado separadamente."
      ]
    },
    {
      "cell_type": "markdown",
      "id": "2bf541e6",
      "metadata": {
        "id": "2bf541e6"
      },
      "source": [
        "## Conclusão\n",
        "\n",
        "<center>\n",
        "    <img alt=\"\" src=\"https://raw.githubusercontent.com/chicolucio/credit-card-fraud-detection/master/img/conclusion.jpg\">\n",
        "</center>"
      ]
    },
    {
      "cell_type": "markdown",
      "id": "5e90654e",
      "metadata": {
        "id": "5e90654e"
      },
      "source": [
        "Neste estudo pudemos fazer diversas discussões que são recorrentes em datasets desbalanceados, dentre elas:\n",
        "\n",
        "- como balancear o dataset?\n",
        "- como identificar correlação entre as variáveis?\n",
        "- qual métrica escolher para identificar o melhor modelo?\n",
        "- como lidar com o trade-off entre precisão e recall?\n",
        "\n",
        "Os modelos mais promissores foram o KNN e o SVC. Outros estudos podem ser feitos buscando avaliar:\n",
        "\n",
        "- outros modelos não utilizados aqui\n",
        "- limpeza de outliers de features relevantes\n",
        "\n",
        "Como de costume em problemas de ciência de dados, não há uma única resposta e sempre há espaço para melhorias. \n",
        "\n",
        "Caso tenha dúvidas, comentários e/ou críticas construtivas me procure:\n",
        "\n",
        "<center>\n",
        "<a href=\"https://www.linkedin.com/in/flsbustamante\" target=\"_blank\"><img src=\"https://img.shields.io/badge/-LinkedIn-%230077B5?style=for-the-badge&logo=linkedin&logoColor=white\" target=\"_blank\"></a> \n",
        "<br>\n",
        "<a href=\"https://franciscobustamante.com.br\" target=\"_blank\"><img src=\"https://img.shields.io/badge/portfolio-000000?style=for-the-badge&logo=About.me&logoColor=white\" target=\"_blank\"></a>\n",
        "<br>\n",
        "<a href=\"https://github.com/chicolucio\" target=\"_blank\"><img src=\"https://github.githubassets.com/images/modules/logos_page/GitHub-Logo.png\" width=\"10%\" target=\"_blank\"></a>\n",
        "</center>\n"
      ]
    }
  ],
  "metadata": {
    "kernelspec": {
      "display_name": "Python 3",
      "name": "python3"
    },
    "language_info": {
      "name": "python"
    },
    "toc": {
      "base_numbering": 1,
      "nav_menu": {},
      "number_sections": false,
      "sideBar": true,
      "skip_h1_title": false,
      "title_cell": "Table of Contents",
      "title_sidebar": "Contents",
      "toc_cell": false,
      "toc_position": {},
      "toc_section_display": true,
      "toc_window_display": true
    },
    "colab": {
      "name": "projeto_fraude_cartao_credito.ipynb",
      "provenance": [],
      "collapsed_sections": [],
      "toc_visible": true,
      "include_colab_link": true
    }
  },
  "nbformat": 4,
  "nbformat_minor": 5
}